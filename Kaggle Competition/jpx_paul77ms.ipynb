{
 "cells": [
  {
   "cell_type": "code",
   "execution_count": 1,
   "id": "777bbc99",
   "metadata": {
    "_cell_guid": "b1076dfc-b9ad-4769-8c92-a6c4dae69d19",
    "_uuid": "8f2839f25d086af736a60e9eeb907d3b93b6e0e5",
    "execution": {
     "iopub.execute_input": "2022-06-28T07:06:59.851668Z",
     "iopub.status.busy": "2022-06-28T07:06:59.851226Z",
     "iopub.status.idle": "2022-06-28T07:07:08.392642Z",
     "shell.execute_reply": "2022-06-28T07:07:08.391602Z"
    },
    "papermill": {
     "duration": 8.556373,
     "end_time": "2022-06-28T07:07:08.395273",
     "exception": false,
     "start_time": "2022-06-28T07:06:59.838900",
     "status": "completed"
    },
    "tags": []
   },
   "outputs": [],
   "source": [
    "%matplotlib inline\n",
    "import os\n",
    "from tqdm import tqdm\n",
    "import pandas as pd\n",
    "import numpy as np\n",
    "import matplotlib.pyplot as plt\n",
    "import matplotlib.ticker as ticker\n",
    "import seaborn as sns\n",
    "from datetime import datetime\n",
    "from collections import defaultdict\n",
    "from scipy.stats import skew, kurtosis\n",
    "import time\n",
    "\n",
    "# sklearn\n",
    "from sklearn. metrics import mean_absolute_error, mean_squared_error\n",
    "from sklearn.model_selection import train_test_split, KFold, StratifiedKFold\n",
    "from sklearn.preprocessing import LabelEncoder, OneHotEncoder\n",
    "from sklearn.preprocessing import StandardScaler,MinMaxScaler,MaxAbsScaler,Normalizer,QuantileTransformer,PowerTransformer\n",
    "\n",
    "\n",
    "from tensorflow.keras.layers import Input, Dense, LSTM, Dropout, TimeDistributed, RepeatVector\n",
    "from tensorflow.keras.models import Model, Sequential\n",
    "from tensorflow.keras.callbacks import EarlyStopping\n",
    "from tensorflow.keras.optimizers import Adam\n",
    "\n",
    "# mpl_finance\n",
    "#from mpl_finance import candlestick2_ohlc\n",
    "\n",
    "# decimal\n",
    "from decimal import ROUND_HALF_UP, Decimal\n",
    "\n",
    "# warnings\n",
    "import warnings\n",
    "warnings.filterwarnings('ignore')"
   ]
  },
  {
   "cell_type": "code",
   "execution_count": 2,
   "id": "88e9b534",
   "metadata": {
    "execution": {
     "iopub.execute_input": "2022-06-28T07:07:08.416905Z",
     "iopub.status.busy": "2022-06-28T07:07:08.415986Z",
     "iopub.status.idle": "2022-06-28T07:07:08.425735Z",
     "shell.execute_reply": "2022-06-28T07:07:08.424782Z"
    },
    "papermill": {
     "duration": 0.023146,
     "end_time": "2022-06-28T07:07:08.428188",
     "exception": false,
     "start_time": "2022-06-28T07:07:08.405042",
     "status": "completed"
    },
    "tags": []
   },
   "outputs": [
    {
     "name": "stdout",
     "output_type": "stream",
     "text": [
      "0:example_test_files\n",
      "1:stock_list.csv\n",
      "2:jpx_tokyo_market_prediction\n",
      "3:data_specifications\n",
      "4:train_files\n",
      "5:supplemental_files\n"
     ]
    }
   ],
   "source": [
    "# load data\n",
    "\n",
    "folder_list = os.listdir('../input/jpx-tokyo-stock-exchange-prediction/')\n",
    "for idx,ls in enumerate(folder_list):\n",
    "    print(str(idx) + ':' + ls)\n",
    "    \n",
    "def load_file(folder):\n",
    "    folder_dir = '../input/jpx-tokyo-stock-exchange-prediction/'\n",
    "    \n",
    "    if folder == 'stock_list.csv':\n",
    "        globals()['{}'.format(folder[:-4])] = pd.read_csv(folder_dir+'/'+folder)\n",
    "        return folder\n",
    "        \n",
    "    files = os.listdir(folder_dir+folder)\n",
    "    \n",
    "    for f in tqdm(files):\n",
    "        if 'csv' in f:\n",
    "            f_ = f[:-4]\n",
    "        globals()['{}_{}'.format(folder,f_)] = pd.read_csv(folder_dir+'/'+folder+'/'+f)\n",
    "        print('{}_{}'.format(folder,f_))"
   ]
  },
  {
   "cell_type": "code",
   "execution_count": 3,
   "id": "0f918bc4",
   "metadata": {
    "execution": {
     "iopub.execute_input": "2022-06-28T07:07:08.448729Z",
     "iopub.status.busy": "2022-06-28T07:07:08.448368Z",
     "iopub.status.idle": "2022-06-28T07:07:50.010708Z",
     "shell.execute_reply": "2022-06-28T07:07:50.009793Z"
    },
    "papermill": {
     "duration": 41.575896,
     "end_time": "2022-06-28T07:07:50.013596",
     "exception": false,
     "start_time": "2022-06-28T07:07:08.437700",
     "status": "completed"
    },
    "tags": []
   },
   "outputs": [
    {
     "name": "stderr",
     "output_type": "stream",
     "text": [
      " 20%|██        | 1/5 [00:23<01:32, 23.07s/it]"
     ]
    },
    {
     "name": "stdout",
     "output_type": "stream",
     "text": [
      "train_files_options\n"
     ]
    },
    {
     "name": "stderr",
     "output_type": "stream",
     "text": [
      " 40%|████      | 2/5 [00:24<00:30, 10.33s/it]"
     ]
    },
    {
     "name": "stdout",
     "output_type": "stream",
     "text": [
      "train_files_financials\n"
     ]
    },
    {
     "name": "stderr",
     "output_type": "stream",
     "text": [
      " 60%|██████    | 3/5 [00:30<00:16,  8.47s/it]"
     ]
    },
    {
     "name": "stdout",
     "output_type": "stream",
     "text": [
      "train_files_secondary_stock_prices\n",
      "train_files_trades\n"
     ]
    },
    {
     "name": "stderr",
     "output_type": "stream",
     "text": [
      "100%|██████████| 5/5 [00:37<00:00,  7.40s/it]\n"
     ]
    },
    {
     "name": "stdout",
     "output_type": "stream",
     "text": [
      "train_files_stock_prices\n"
     ]
    },
    {
     "name": "stderr",
     "output_type": "stream",
     "text": [
      "100%|██████████| 6/6 [00:00<00:00, 37.75it/s]\n"
     ]
    },
    {
     "name": "stdout",
     "output_type": "stream",
     "text": [
      "example_test_files_sample_submission\n",
      "example_test_files_options\n",
      "example_test_files_financials\n",
      "example_test_files_secondary_stock_prices\n",
      "example_test_files_trades\n",
      "example_test_files_stock_prices\n"
     ]
    },
    {
     "name": "stderr",
     "output_type": "stream",
     "text": [
      " 40%|████      | 2/5 [00:03<00:03,  1.30s/it]"
     ]
    },
    {
     "name": "stdout",
     "output_type": "stream",
     "text": [
      "supplemental_files_options\n",
      "supplemental_files_financials\n"
     ]
    },
    {
     "name": "stderr",
     "output_type": "stream",
     "text": [
      " 60%|██████    | 3/5 [00:03<00:01,  1.01it/s]"
     ]
    },
    {
     "name": "stdout",
     "output_type": "stream",
     "text": [
      "supplemental_files_secondary_stock_prices\n",
      "supplemental_files_trades\n"
     ]
    },
    {
     "name": "stderr",
     "output_type": "stream",
     "text": [
      "100%|██████████| 5/5 [00:04<00:00,  1.15it/s]"
     ]
    },
    {
     "name": "stdout",
     "output_type": "stream",
     "text": [
      "supplemental_files_stock_prices\n"
     ]
    },
    {
     "name": "stderr",
     "output_type": "stream",
     "text": [
      "\n"
     ]
    }
   ],
   "source": [
    "# train_files - train set\n",
    "load_file(folder_list[4])\n",
    "# example_test_files - test set\n",
    "load_file(folder_list[0])\n",
    "# stock_list - merge data set\n",
    "load_file(folder_list[1])\n",
    "# supplemental - validation set\n",
    "load_file(folder_list[5])"
   ]
  },
  {
   "cell_type": "code",
   "execution_count": 4,
   "id": "9266b6c9",
   "metadata": {
    "execution": {
     "iopub.execute_input": "2022-06-28T07:07:50.038103Z",
     "iopub.status.busy": "2022-06-28T07:07:50.037586Z",
     "iopub.status.idle": "2022-06-28T07:07:50.157312Z",
     "shell.execute_reply": "2022-06-28T07:07:50.156581Z"
    },
    "papermill": {
     "duration": 0.134646,
     "end_time": "2022-06-28T07:07:50.159423",
     "exception": false,
     "start_time": "2022-06-28T07:07:50.024777",
     "status": "completed"
    },
    "tags": []
   },
   "outputs": [],
   "source": [
    "train_df_copy = train_files_stock_prices.copy()\n",
    "test_df_copy = example_test_files_stock_prices.copy()\n",
    "supplemental_df_copy = supplemental_files_stock_prices.copy()"
   ]
  },
  {
   "cell_type": "markdown",
   "id": "ccc3bfb6",
   "metadata": {
    "papermill": {
     "duration": 0.011372,
     "end_time": "2022-06-28T07:07:50.182111",
     "exception": false,
     "start_time": "2022-06-28T07:07:50.170739",
     "status": "completed"
    },
    "tags": []
   },
   "source": [
    "Adjusted Close\n",
    "\n",
    "https://psystat.tistory.com/158\n",
    "\n",
    "https://joshschertz.com/2016/08/27/Vectorizing-Adjusted-Close-with-Python/"
   ]
  },
  {
   "cell_type": "markdown",
   "id": "0cdedb4b",
   "metadata": {
    "papermill": {
     "duration": 0.011409,
     "end_time": "2022-06-28T07:07:50.205149",
     "exception": false,
     "start_time": "2022-06-28T07:07:50.193740",
     "status": "completed"
    },
    "tags": []
   },
   "source": [
    "AutoEncoder\n",
    "\n",
    "https://www.analyticsvidhya.com/blog/2020/10/multivariate-multi-step-time-series-forecasting-using-stacked-lstm-sequence-to-sequence-autoencoder-in-tensorflow-2-0-keras/"
   ]
  },
  {
   "cell_type": "markdown",
   "id": "1202621b",
   "metadata": {
    "papermill": {
     "duration": 0.010924,
     "end_time": "2022-06-28T07:07:50.227471",
     "exception": false,
     "start_time": "2022-06-28T07:07:50.216547",
     "status": "completed"
    },
    "tags": []
   },
   "source": [
    "Sliding Window LSTM\n",
    "\n",
    "https://www.kaggle.com/code/hechtjp/jpx-keras-stacking-lstm-beginner"
   ]
  },
  {
   "cell_type": "markdown",
   "id": "704e5ccc",
   "metadata": {
    "papermill": {
     "duration": 0.01088,
     "end_time": "2022-06-28T07:07:50.249633",
     "exception": false,
     "start_time": "2022-06-28T07:07:50.238753",
     "status": "completed"
    },
    "tags": []
   },
   "source": [
    "https://www.tradewithscience.com/stock-split-adjusting-with-python/\n",
    "https://www.kaggle.com/code/onurkoc83/calc-of-adjusted-close\n",
    "https://www.kaggle.com/code/vweimer/jpx-adjusted-close-and-volume-and-features\n",
    "https://www.kaggle.com/code/kotaromiura/jpx-lgbm-demo"
   ]
  },
  {
   "cell_type": "markdown",
   "id": "4a7ad0a7",
   "metadata": {
    "papermill": {
     "duration": 0.01089,
     "end_time": "2022-06-28T07:07:50.271747",
     "exception": false,
     "start_time": "2022-06-28T07:07:50.260857",
     "status": "completed"
    },
    "tags": []
   },
   "source": [
    "# Adjust_Price"
   ]
  },
  {
   "cell_type": "code",
   "execution_count": 5,
   "id": "79304aba",
   "metadata": {
    "execution": {
     "iopub.execute_input": "2022-06-28T07:07:50.296297Z",
     "iopub.status.busy": "2022-06-28T07:07:50.295797Z",
     "iopub.status.idle": "2022-06-28T07:07:50.299163Z",
     "shell.execute_reply": "2022-06-28T07:07:50.298589Z"
    },
    "papermill": {
     "duration": 0.018037,
     "end_time": "2022-06-28T07:07:50.301078",
     "exception": false,
     "start_time": "2022-06-28T07:07:50.283041",
     "status": "completed"
    },
    "tags": []
   },
   "outputs": [],
   "source": [
    "#train_df_copy.ExpectedDividend = train_df_copy.ExpectedDividend.fillna(0.0)"
   ]
  },
  {
   "cell_type": "code",
   "execution_count": 6,
   "id": "37803ab0",
   "metadata": {
    "execution": {
     "iopub.execute_input": "2022-06-28T07:07:50.325307Z",
     "iopub.status.busy": "2022-06-28T07:07:50.324787Z",
     "iopub.status.idle": "2022-06-28T07:07:50.347205Z",
     "shell.execute_reply": "2022-06-28T07:07:50.346351Z"
    },
    "papermill": {
     "duration": 0.037168,
     "end_time": "2022-06-28T07:07:50.349596",
     "exception": false,
     "start_time": "2022-06-28T07:07:50.312428",
     "status": "completed"
    },
    "tags": []
   },
   "outputs": [],
   "source": [
    "def calculate_adjusted_prices_iterative(df:pd.DataFrame(), column:str = 'Close'):\n",
    "    adj_column = 'Adj_' + column\n",
    "\n",
    "    df.sort_values(by = 'Date', ascending = False, inplace = True)\n",
    "\n",
    "    price_col = df[column].values\n",
    "    split_col = df['AdjustmentFactor'].values\n",
    "    dividend_col = df['ExpectedDividend'].values\n",
    "    adj_price_col = np.zeros(len(df.index))\n",
    "    adj_price_col[0] = price_col[0]\n",
    "    \n",
    "    for i in range(1, len(price_col)):\n",
    "        adj_price_col[i] = round((adj_price_col[i - 1] + adj_price_col[i - 1] * (((price_col[i] * split_col[i - 1]) - price_col[i - 1] - dividend_col[i - 1]) / price_col[i - 1])), 4)\n",
    "\n",
    "    df[adj_column] = adj_price_col\n",
    "    df.sort_values(by = 'Date', ascending = True, inplace = True)\n",
    "\n",
    "    return df\n",
    "    \n",
    "def generate_adjusted_close(df:pd.DataFrame()):\n",
    "    df = df.sort_values(\"Date\", ascending=False)\n",
    "    df.loc[:, \"CumulativeAdjustmentFactor\"] = df[\"AdjustmentFactor\"].cumprod()\n",
    "    df.loc[:, \"Adj_Close\"] = (df[\"CumulativeAdjustmentFactor\"] * df[\"Close\"]).map(lambda x: float(Decimal(str(x)).quantize(Decimal('0.1'), rounding=ROUND_HALF_UP)))\n",
    "    df = df.sort_values(\"Date\")\n",
    "    df.loc[df[\"Adj_Close\"] == 0, \"Adj_Close\"] = np.nan\n",
    "    df.loc[:, \"Adj_Close\"] = df.loc[:, \"Adj_Close\"].ffill()\n",
    "    return df\n",
    "\n",
    "def generated_adjusted_price(df:pd.DataFrame()):\n",
    "    df = df.sort_values('Date', ascending = False)\n",
    "    df.loc[:, \"CumulativeAdjustmentFactor\"] = df[\"AdjustmentFactor\"].cumprod()\n",
    "    adjusted_df = df.copy()\n",
    "    for price in ['Open', 'High', 'Low', 'Close']:\n",
    "        adjusted_df[price] *= adjusted_df['CumulativeAdjustmentFactor']\n",
    "    adjusted_df['Volume'] /= adjusted_df['CumulativeAdjustmentFactor']\n",
    "    return df\n",
    "\n",
    "def generate_adjusted_closevol(df:pd.DataFrame()):\n",
    "    df = df.sort_values('Date', ascending=False)\n",
    "    df.loc[:, 'CumAdjustmentFactor'] = df['AdjustmentFactor'].cumprod()\n",
    "    df.loc[:, 'Adj_Close'] = (df['Close'] * df['CumAdjustmentFactor']).map(lambda x: float(Decimal(str(x)).quantize(Decimal('0.1'), rounding=ROUND_HALF_UP)))\n",
    "    df = df.sort_values('Date')\n",
    "    df.loc[:, 'CumAdjustmentFactorVol'] = df['AdjustmentFactor'].cumprod()\n",
    "    df['Adj_Volume'] = df['Volume'].where(df['AdjustmentFactor'] != 1, (df['Volume'] * df['CumAdjustmentFactorVol']).astype('int64'))\n",
    "    return df\n",
    "\n",
    "def calculate_adjusted(df:pd.DataFrame(), dividends=False):\n",
    "        \n",
    "    df.sort_values(by = 'Date', ascending=False, inplace = True)\n",
    "\n",
    "    split_coef = df['AdjustmentFactor'].shift(1).fillna(1).cumprod()\n",
    "\n",
    "    for col in ['Open', 'High', 'Low', 'Close']:\n",
    "        df['Adj_' + col] = df[col] / split_coef\n",
    "    df['Adj_Volume'] = split_coef * df['Volume']\n",
    "\n",
    "    if dividends:\n",
    "        df['adj_dividends'] = df['dividend amount'] / split_coef\n",
    "\n",
    "    df.sort_values(by = 'Date', ascending=True, inplace = True)\n",
    "        \n",
    "    return df"
   ]
  },
  {
   "cell_type": "markdown",
   "id": "8364ef59",
   "metadata": {
    "papermill": {
     "duration": 0.011068,
     "end_time": "2022-06-28T07:07:50.372119",
     "exception": false,
     "start_time": "2022-06-28T07:07:50.361051",
     "status": "completed"
    },
    "tags": []
   },
   "source": [
    "# Get_Indicator"
   ]
  },
  {
   "cell_type": "code",
   "execution_count": 7,
   "id": "745b2202",
   "metadata": {
    "execution": {
     "iopub.execute_input": "2022-06-28T07:07:50.396641Z",
     "iopub.status.busy": "2022-06-28T07:07:50.396267Z",
     "iopub.status.idle": "2022-06-28T07:07:50.404003Z",
     "shell.execute_reply": "2022-06-28T07:07:50.403205Z"
    },
    "papermill": {
     "duration": 0.022429,
     "end_time": "2022-06-28T07:07:50.405946",
     "exception": false,
     "start_time": "2022-06-28T07:07:50.383517",
     "status": "completed"
    },
    "tags": []
   },
   "outputs": [],
   "source": [
    "def get_Indicator(df:pd.DataFrame(), indicator):\n",
    "    \n",
    "    df.loc[: ,\"Date\"] = pd.to_datetime(df.loc[: ,\"Date\"], format=\"%Y-%m-%d\")\n",
    "    df.sort_values(by = ['SecuritiesCode', 'Date'], inplace = True)\n",
    "    df = df.groupby(['SecuritiesCode']).apply(indicator).reset_index(drop = True)\n",
    "    \n",
    "    df.set_index('Date', inplace = True)\n",
    "    return df"
   ]
  },
  {
   "cell_type": "markdown",
   "id": "4aa4dee8",
   "metadata": {
    "papermill": {
     "duration": 0.010761,
     "end_time": "2022-06-28T07:07:50.428240",
     "exception": false,
     "start_time": "2022-06-28T07:07:50.417479",
     "status": "completed"
    },
    "tags": []
   },
   "source": [
    "# Sharpe Ratio"
   ]
  },
  {
   "cell_type": "code",
   "execution_count": 8,
   "id": "793ea03a",
   "metadata": {
    "execution": {
     "iopub.execute_input": "2022-06-28T07:07:50.452533Z",
     "iopub.status.busy": "2022-06-28T07:07:50.451823Z",
     "iopub.status.idle": "2022-06-28T07:07:50.465931Z",
     "shell.execute_reply": "2022-06-28T07:07:50.465183Z"
    },
    "papermill": {
     "duration": 0.028573,
     "end_time": "2022-06-28T07:07:50.468037",
     "exception": false,
     "start_time": "2022-06-28T07:07:50.439464",
     "status": "completed"
    },
    "tags": []
   },
   "outputs": [],
   "source": [
    "def calc_spread_return_sharpe(df: pd.DataFrame, portfolio_size: int = 200, toprank_weight_ratio: float = 2) -> float:\n",
    "    \"\"\"\n",
    "    Args:\n",
    "        df (pd.DataFrame): predicted results\n",
    "        portfolio_size (int): # of equities to buy/sell\n",
    "        toprank_weight_ratio (float): the relative weight of the most highly ranked stock compared to the least.\n",
    "    Returns:\n",
    "        (float): sharpe ratio\n",
    "    \"\"\"\n",
    "    def _calc_spread_return_per_day(df, portfolio_size, toprank_weight_ratio):\n",
    "        \"\"\"\n",
    "        Args:\n",
    "            df (pd.DataFrame): predicted results\n",
    "            portfolio_size (int): # of equities to buy/sell\n",
    "            toprank_weight_ratio (float): the relative weight of the most highly ranked stock compared to the least.\n",
    "        Returns:\n",
    "            (float): spread return\n",
    "        \"\"\"\n",
    "        assert df['Rank'].min() == 0\n",
    "        assert df['Rank'].max() == len(df['Rank']) - 1\n",
    "        weights = np.linspace(start=toprank_weight_ratio, stop=1, num=portfolio_size)\n",
    "        purchase = (df.sort_values(by='Rank')['Prediction'][:portfolio_size] * weights).sum() / weights.mean()\n",
    "        short = (df.sort_values(by='Rank', ascending=False)['Prediction'][:portfolio_size] * weights).sum() / weights.mean()\n",
    "        return purchase - short\n",
    "\n",
    "    buf = df.groupby('Date').apply(_calc_spread_return_per_day, portfolio_size, toprank_weight_ratio)\n",
    "    sharpe_ratio = buf.mean() / buf.std()\n",
    "    return sharpe_ratio\n",
    "\n",
    "def cal_sharpe_ratio(df):\n",
    "    \n",
    "    def first200(df):\n",
    "          return pd.DataFrame(-np.sort(-df[\"Prediction\"])[:200-1]).T\n",
    "    first200 = df.groupby('Date').apply(first200)\n",
    "\n",
    "    def last200(df):\n",
    "          return pd.DataFrame(np.sort(df[\"Prediction\"])[0:200-1]).T\n",
    "    last200 = df.groupby('Date').apply(last200)\n",
    "\n",
    "    weights = np.linspace(start=2, stop=1, num=200)\n",
    "\n",
    "    Sup=((first200 * weights).sum(axis = 1))/np.mean(weights)\n",
    "    Sdown=((last200 * weights).sum(axis = 1))/np.mean(weights)\n",
    "    \n",
    "    daily_spread_returns = (Sup - Sdown)\n",
    "    sharpe_ratio = (Sup - Sdown).mean()/(Sup - Sdown).std()\n",
    "    \n",
    "    return sharpe_ratio"
   ]
  },
  {
   "cell_type": "code",
   "execution_count": 9,
   "id": "ed60d6d9",
   "metadata": {
    "execution": {
     "iopub.execute_input": "2022-06-28T07:07:50.493191Z",
     "iopub.status.busy": "2022-06-28T07:07:50.492585Z",
     "iopub.status.idle": "2022-06-28T07:07:51.207149Z",
     "shell.execute_reply": "2022-06-28T07:07:51.206371Z"
    },
    "papermill": {
     "duration": 0.729439,
     "end_time": "2022-06-28T07:07:51.209478",
     "exception": false,
     "start_time": "2022-06-28T07:07:50.480039",
     "status": "completed"
    },
    "tags": []
   },
   "outputs": [],
   "source": [
    "train_df_copy['Date'] = pd.to_datetime(train_df_copy['Date'])\n",
    "supplemental_df_copy['Date'] = pd.to_datetime(supplemental_df_copy['Date'])\n",
    "\n",
    "train_df_copy = pd.concat([train_df_copy, supplemental_df_copy], axis = 0)#.reset_index(drop = True)"
   ]
  },
  {
   "cell_type": "code",
   "execution_count": 10,
   "id": "d3957245",
   "metadata": {
    "execution": {
     "iopub.execute_input": "2022-06-28T07:07:51.233884Z",
     "iopub.status.busy": "2022-06-28T07:07:51.233159Z",
     "iopub.status.idle": "2022-06-28T07:08:06.863783Z",
     "shell.execute_reply": "2022-06-28T07:08:06.862921Z"
    },
    "papermill": {
     "duration": 15.645287,
     "end_time": "2022-06-28T07:08:06.866287",
     "exception": false,
     "start_time": "2022-06-28T07:07:51.221000",
     "status": "completed"
    },
    "tags": []
   },
   "outputs": [],
   "source": [
    "#train_df_copy = get_Indicator(train_df_copy, calculate_adjusted_prices_iterative)\n",
    "#train_df_copy = get_Indicator(train_df_copy, generate_adjusted_close)\n",
    "#train_df_copy = get_Indicator(train_df_copy, generate_adjusted_closevol)\n",
    "train_df_copy = get_Indicator(train_df_copy, calculate_adjusted)\n",
    "#train_df_copy = get_Indicator(train_df_copy, generated_adjusted_price)"
   ]
  },
  {
   "cell_type": "code",
   "execution_count": 11,
   "id": "a5c687df",
   "metadata": {
    "execution": {
     "iopub.execute_input": "2022-06-28T07:08:06.891642Z",
     "iopub.status.busy": "2022-06-28T07:08:06.890863Z",
     "iopub.status.idle": "2022-06-28T07:08:06.921022Z",
     "shell.execute_reply": "2022-06-28T07:08:06.920079Z"
    },
    "papermill": {
     "duration": 0.044936,
     "end_time": "2022-06-28T07:08:06.923239",
     "exception": false,
     "start_time": "2022-06-28T07:08:06.878303",
     "status": "completed"
    },
    "tags": []
   },
   "outputs": [
    {
     "data": {
      "text/html": [
       "<div>\n",
       "<style scoped>\n",
       "    .dataframe tbody tr th:only-of-type {\n",
       "        vertical-align: middle;\n",
       "    }\n",
       "\n",
       "    .dataframe tbody tr th {\n",
       "        vertical-align: top;\n",
       "    }\n",
       "\n",
       "    .dataframe thead th {\n",
       "        text-align: right;\n",
       "    }\n",
       "</style>\n",
       "<table border=\"1\" class=\"dataframe\">\n",
       "  <thead>\n",
       "    <tr style=\"text-align: right;\">\n",
       "      <th></th>\n",
       "      <th>RowId</th>\n",
       "      <th>SecuritiesCode</th>\n",
       "      <th>Open</th>\n",
       "      <th>High</th>\n",
       "      <th>Low</th>\n",
       "      <th>Close</th>\n",
       "      <th>Volume</th>\n",
       "      <th>AdjustmentFactor</th>\n",
       "      <th>ExpectedDividend</th>\n",
       "      <th>SupervisionFlag</th>\n",
       "      <th>Target</th>\n",
       "      <th>Adj_Open</th>\n",
       "      <th>Adj_High</th>\n",
       "      <th>Adj_Low</th>\n",
       "      <th>Adj_Close</th>\n",
       "      <th>Adj_Volume</th>\n",
       "    </tr>\n",
       "    <tr>\n",
       "      <th>Date</th>\n",
       "      <th></th>\n",
       "      <th></th>\n",
       "      <th></th>\n",
       "      <th></th>\n",
       "      <th></th>\n",
       "      <th></th>\n",
       "      <th></th>\n",
       "      <th></th>\n",
       "      <th></th>\n",
       "      <th></th>\n",
       "      <th></th>\n",
       "      <th></th>\n",
       "      <th></th>\n",
       "      <th></th>\n",
       "      <th></th>\n",
       "      <th></th>\n",
       "    </tr>\n",
       "  </thead>\n",
       "  <tbody>\n",
       "    <tr>\n",
       "      <th>2017-01-04</th>\n",
       "      <td>20170104_1301</td>\n",
       "      <td>1301</td>\n",
       "      <td>2734.0</td>\n",
       "      <td>2755.0</td>\n",
       "      <td>2730.0</td>\n",
       "      <td>2742.0</td>\n",
       "      <td>31400</td>\n",
       "      <td>1.0</td>\n",
       "      <td>NaN</td>\n",
       "      <td>False</td>\n",
       "      <td>0.000730</td>\n",
       "      <td>2734.0</td>\n",
       "      <td>2755.0</td>\n",
       "      <td>2730.0</td>\n",
       "      <td>2742.0</td>\n",
       "      <td>31400.0</td>\n",
       "    </tr>\n",
       "    <tr>\n",
       "      <th>2017-01-05</th>\n",
       "      <td>20170105_1301</td>\n",
       "      <td>1301</td>\n",
       "      <td>2743.0</td>\n",
       "      <td>2747.0</td>\n",
       "      <td>2735.0</td>\n",
       "      <td>2738.0</td>\n",
       "      <td>17900</td>\n",
       "      <td>1.0</td>\n",
       "      <td>NaN</td>\n",
       "      <td>False</td>\n",
       "      <td>0.002920</td>\n",
       "      <td>2743.0</td>\n",
       "      <td>2747.0</td>\n",
       "      <td>2735.0</td>\n",
       "      <td>2738.0</td>\n",
       "      <td>17900.0</td>\n",
       "    </tr>\n",
       "    <tr>\n",
       "      <th>2017-01-06</th>\n",
       "      <td>20170106_1301</td>\n",
       "      <td>1301</td>\n",
       "      <td>2734.0</td>\n",
       "      <td>2744.0</td>\n",
       "      <td>2720.0</td>\n",
       "      <td>2740.0</td>\n",
       "      <td>19900</td>\n",
       "      <td>1.0</td>\n",
       "      <td>NaN</td>\n",
       "      <td>False</td>\n",
       "      <td>-0.001092</td>\n",
       "      <td>2734.0</td>\n",
       "      <td>2744.0</td>\n",
       "      <td>2720.0</td>\n",
       "      <td>2740.0</td>\n",
       "      <td>19900.0</td>\n",
       "    </tr>\n",
       "    <tr>\n",
       "      <th>2017-01-10</th>\n",
       "      <td>20170110_1301</td>\n",
       "      <td>1301</td>\n",
       "      <td>2745.0</td>\n",
       "      <td>2754.0</td>\n",
       "      <td>2735.0</td>\n",
       "      <td>2748.0</td>\n",
       "      <td>24200</td>\n",
       "      <td>1.0</td>\n",
       "      <td>NaN</td>\n",
       "      <td>False</td>\n",
       "      <td>-0.005100</td>\n",
       "      <td>2745.0</td>\n",
       "      <td>2754.0</td>\n",
       "      <td>2735.0</td>\n",
       "      <td>2748.0</td>\n",
       "      <td>24200.0</td>\n",
       "    </tr>\n",
       "    <tr>\n",
       "      <th>2017-01-11</th>\n",
       "      <td>20170111_1301</td>\n",
       "      <td>1301</td>\n",
       "      <td>2748.0</td>\n",
       "      <td>2752.0</td>\n",
       "      <td>2737.0</td>\n",
       "      <td>2745.0</td>\n",
       "      <td>9300</td>\n",
       "      <td>1.0</td>\n",
       "      <td>NaN</td>\n",
       "      <td>False</td>\n",
       "      <td>-0.003295</td>\n",
       "      <td>2748.0</td>\n",
       "      <td>2752.0</td>\n",
       "      <td>2737.0</td>\n",
       "      <td>2745.0</td>\n",
       "      <td>9300.0</td>\n",
       "    </tr>\n",
       "  </tbody>\n",
       "</table>\n",
       "</div>"
      ],
      "text/plain": [
       "                    RowId  SecuritiesCode    Open    High     Low   Close  \\\n",
       "Date                                                                        \n",
       "2017-01-04  20170104_1301            1301  2734.0  2755.0  2730.0  2742.0   \n",
       "2017-01-05  20170105_1301            1301  2743.0  2747.0  2735.0  2738.0   \n",
       "2017-01-06  20170106_1301            1301  2734.0  2744.0  2720.0  2740.0   \n",
       "2017-01-10  20170110_1301            1301  2745.0  2754.0  2735.0  2748.0   \n",
       "2017-01-11  20170111_1301            1301  2748.0  2752.0  2737.0  2745.0   \n",
       "\n",
       "            Volume  AdjustmentFactor  ExpectedDividend  SupervisionFlag  \\\n",
       "Date                                                                      \n",
       "2017-01-04   31400               1.0               NaN            False   \n",
       "2017-01-05   17900               1.0               NaN            False   \n",
       "2017-01-06   19900               1.0               NaN            False   \n",
       "2017-01-10   24200               1.0               NaN            False   \n",
       "2017-01-11    9300               1.0               NaN            False   \n",
       "\n",
       "              Target  Adj_Open  Adj_High  Adj_Low  Adj_Close  Adj_Volume  \n",
       "Date                                                                      \n",
       "2017-01-04  0.000730    2734.0    2755.0   2730.0     2742.0     31400.0  \n",
       "2017-01-05  0.002920    2743.0    2747.0   2735.0     2738.0     17900.0  \n",
       "2017-01-06 -0.001092    2734.0    2744.0   2720.0     2740.0     19900.0  \n",
       "2017-01-10 -0.005100    2745.0    2754.0   2735.0     2748.0     24200.0  \n",
       "2017-01-11 -0.003295    2748.0    2752.0   2737.0     2745.0      9300.0  "
      ]
     },
     "execution_count": 11,
     "metadata": {},
     "output_type": "execute_result"
    }
   ],
   "source": [
    "train_df_copy.head()"
   ]
  },
  {
   "cell_type": "code",
   "execution_count": 12,
   "id": "e68cc2cd",
   "metadata": {
    "execution": {
     "iopub.execute_input": "2022-06-28T07:08:06.948315Z",
     "iopub.status.busy": "2022-06-28T07:08:06.947942Z",
     "iopub.status.idle": "2022-06-28T07:08:07.550603Z",
     "shell.execute_reply": "2022-06-28T07:08:07.549675Z"
    },
    "papermill": {
     "duration": 0.618056,
     "end_time": "2022-06-28T07:08:07.553062",
     "exception": false,
     "start_time": "2022-06-28T07:08:06.935006",
     "status": "completed"
    },
    "tags": []
   },
   "outputs": [],
   "source": [
    "#listfeatures = ['Open', 'High', 'Low', 'Close','Volume']\n",
    "#listfeatures = ['Adj_Close', 'Open', 'High', 'Low', 'Close','Volume']\n",
    "#listfeatures = ['Adj_Close', 'Adj_Volume', 'Open', 'High', 'Low', 'Close','Volume']\n",
    "#listfeatures = ['Adj_Close', 'Adj_Open', 'Adj_High', 'Adj_Low', 'Open', 'High', 'Low', 'Close', 'Volume']\n",
    "#listfeatures = ['Adj_Close', 'Adj_Open', 'Adj_High', 'Adj_Low', 'Adj_Volume', 'Open', 'High', 'Low', 'Close', 'Volume']\n",
    "#listfeatures = ['Adj_Close', 'Adj_Open', 'Adj_High', 'Adj_Low', 'Adj_Volume']\n",
    "listfeatures = ['Adj_Close', 'Adj_Open', 'Adj_High', 'Adj_Low']\n",
    "#listfeatures = ['Adj_Close']\n",
    "#listfeatures = ['Adj_Close', 'Adj_Volume']\n",
    "\n",
    "# transform log1p\n",
    "train_df_copy[listfeatures] = train_df_copy[listfeatures].apply(np.log1p)\n",
    "\n",
    "# transform MinMaxScale\n",
    "scaler = MinMaxScaler()\n",
    "train_df_copy[listfeatures] = scaler.fit_transform(train_df_copy[listfeatures])"
   ]
  },
  {
   "cell_type": "code",
   "execution_count": 13,
   "id": "c4325b37",
   "metadata": {
    "execution": {
     "iopub.execute_input": "2022-06-28T07:08:07.578105Z",
     "iopub.status.busy": "2022-06-28T07:08:07.577745Z",
     "iopub.status.idle": "2022-06-28T07:08:07.601022Z",
     "shell.execute_reply": "2022-06-28T07:08:07.600022Z"
    },
    "papermill": {
     "duration": 0.038078,
     "end_time": "2022-06-28T07:08:07.603045",
     "exception": false,
     "start_time": "2022-06-28T07:08:07.564967",
     "status": "completed"
    },
    "tags": []
   },
   "outputs": [
    {
     "data": {
      "text/html": [
       "<div>\n",
       "<style scoped>\n",
       "    .dataframe tbody tr th:only-of-type {\n",
       "        vertical-align: middle;\n",
       "    }\n",
       "\n",
       "    .dataframe tbody tr th {\n",
       "        vertical-align: top;\n",
       "    }\n",
       "\n",
       "    .dataframe thead th {\n",
       "        text-align: right;\n",
       "    }\n",
       "</style>\n",
       "<table border=\"1\" class=\"dataframe\">\n",
       "  <thead>\n",
       "    <tr style=\"text-align: right;\">\n",
       "      <th></th>\n",
       "      <th>RowId</th>\n",
       "      <th>SecuritiesCode</th>\n",
       "      <th>Open</th>\n",
       "      <th>High</th>\n",
       "      <th>Low</th>\n",
       "      <th>Close</th>\n",
       "      <th>Volume</th>\n",
       "      <th>AdjustmentFactor</th>\n",
       "      <th>ExpectedDividend</th>\n",
       "      <th>SupervisionFlag</th>\n",
       "      <th>Target</th>\n",
       "      <th>Adj_Open</th>\n",
       "      <th>Adj_High</th>\n",
       "      <th>Adj_Low</th>\n",
       "      <th>Adj_Close</th>\n",
       "      <th>Adj_Volume</th>\n",
       "    </tr>\n",
       "    <tr>\n",
       "      <th>Date</th>\n",
       "      <th></th>\n",
       "      <th></th>\n",
       "      <th></th>\n",
       "      <th></th>\n",
       "      <th></th>\n",
       "      <th></th>\n",
       "      <th></th>\n",
       "      <th></th>\n",
       "      <th></th>\n",
       "      <th></th>\n",
       "      <th></th>\n",
       "      <th></th>\n",
       "      <th></th>\n",
       "      <th></th>\n",
       "      <th></th>\n",
       "      <th></th>\n",
       "    </tr>\n",
       "  </thead>\n",
       "  <tbody>\n",
       "    <tr>\n",
       "      <th>2017-01-04</th>\n",
       "      <td>20170104_1301</td>\n",
       "      <td>1301</td>\n",
       "      <td>2734.0</td>\n",
       "      <td>2755.0</td>\n",
       "      <td>2730.0</td>\n",
       "      <td>2742.0</td>\n",
       "      <td>31400</td>\n",
       "      <td>1.0</td>\n",
       "      <td>NaN</td>\n",
       "      <td>False</td>\n",
       "      <td>0.000730</td>\n",
       "      <td>0.590493</td>\n",
       "      <td>0.589127</td>\n",
       "      <td>0.593621</td>\n",
       "      <td>0.591342</td>\n",
       "      <td>31400.0</td>\n",
       "    </tr>\n",
       "    <tr>\n",
       "      <th>2017-01-05</th>\n",
       "      <td>20170105_1301</td>\n",
       "      <td>1301</td>\n",
       "      <td>2743.0</td>\n",
       "      <td>2747.0</td>\n",
       "      <td>2735.0</td>\n",
       "      <td>2738.0</td>\n",
       "      <td>17900</td>\n",
       "      <td>1.0</td>\n",
       "      <td>NaN</td>\n",
       "      <td>False</td>\n",
       "      <td>0.002920</td>\n",
       "      <td>0.590762</td>\n",
       "      <td>0.588888</td>\n",
       "      <td>0.593770</td>\n",
       "      <td>0.591223</td>\n",
       "      <td>17900.0</td>\n",
       "    </tr>\n",
       "    <tr>\n",
       "      <th>2017-01-06</th>\n",
       "      <td>20170106_1301</td>\n",
       "      <td>1301</td>\n",
       "      <td>2734.0</td>\n",
       "      <td>2744.0</td>\n",
       "      <td>2720.0</td>\n",
       "      <td>2740.0</td>\n",
       "      <td>19900</td>\n",
       "      <td>1.0</td>\n",
       "      <td>NaN</td>\n",
       "      <td>False</td>\n",
       "      <td>-0.001092</td>\n",
       "      <td>0.590493</td>\n",
       "      <td>0.588799</td>\n",
       "      <td>0.593323</td>\n",
       "      <td>0.591282</td>\n",
       "      <td>19900.0</td>\n",
       "    </tr>\n",
       "    <tr>\n",
       "      <th>2017-01-10</th>\n",
       "      <td>20170110_1301</td>\n",
       "      <td>1301</td>\n",
       "      <td>2745.0</td>\n",
       "      <td>2754.0</td>\n",
       "      <td>2735.0</td>\n",
       "      <td>2748.0</td>\n",
       "      <td>24200</td>\n",
       "      <td>1.0</td>\n",
       "      <td>NaN</td>\n",
       "      <td>False</td>\n",
       "      <td>-0.005100</td>\n",
       "      <td>0.590821</td>\n",
       "      <td>0.589097</td>\n",
       "      <td>0.593770</td>\n",
       "      <td>0.591520</td>\n",
       "      <td>24200.0</td>\n",
       "    </tr>\n",
       "    <tr>\n",
       "      <th>2017-01-11</th>\n",
       "      <td>20170111_1301</td>\n",
       "      <td>1301</td>\n",
       "      <td>2748.0</td>\n",
       "      <td>2752.0</td>\n",
       "      <td>2737.0</td>\n",
       "      <td>2745.0</td>\n",
       "      <td>9300</td>\n",
       "      <td>1.0</td>\n",
       "      <td>NaN</td>\n",
       "      <td>False</td>\n",
       "      <td>-0.003295</td>\n",
       "      <td>0.590910</td>\n",
       "      <td>0.589038</td>\n",
       "      <td>0.593830</td>\n",
       "      <td>0.591431</td>\n",
       "      <td>9300.0</td>\n",
       "    </tr>\n",
       "  </tbody>\n",
       "</table>\n",
       "</div>"
      ],
      "text/plain": [
       "                    RowId  SecuritiesCode    Open    High     Low   Close  \\\n",
       "Date                                                                        \n",
       "2017-01-04  20170104_1301            1301  2734.0  2755.0  2730.0  2742.0   \n",
       "2017-01-05  20170105_1301            1301  2743.0  2747.0  2735.0  2738.0   \n",
       "2017-01-06  20170106_1301            1301  2734.0  2744.0  2720.0  2740.0   \n",
       "2017-01-10  20170110_1301            1301  2745.0  2754.0  2735.0  2748.0   \n",
       "2017-01-11  20170111_1301            1301  2748.0  2752.0  2737.0  2745.0   \n",
       "\n",
       "            Volume  AdjustmentFactor  ExpectedDividend  SupervisionFlag  \\\n",
       "Date                                                                      \n",
       "2017-01-04   31400               1.0               NaN            False   \n",
       "2017-01-05   17900               1.0               NaN            False   \n",
       "2017-01-06   19900               1.0               NaN            False   \n",
       "2017-01-10   24200               1.0               NaN            False   \n",
       "2017-01-11    9300               1.0               NaN            False   \n",
       "\n",
       "              Target  Adj_Open  Adj_High   Adj_Low  Adj_Close  Adj_Volume  \n",
       "Date                                                                       \n",
       "2017-01-04  0.000730  0.590493  0.589127  0.593621   0.591342     31400.0  \n",
       "2017-01-05  0.002920  0.590762  0.588888  0.593770   0.591223     17900.0  \n",
       "2017-01-06 -0.001092  0.590493  0.588799  0.593323   0.591282     19900.0  \n",
       "2017-01-10 -0.005100  0.590821  0.589097  0.593770   0.591520     24200.0  \n",
       "2017-01-11 -0.003295  0.590910  0.589038  0.593830   0.591431      9300.0  "
      ]
     },
     "execution_count": 13,
     "metadata": {},
     "output_type": "execute_result"
    }
   ],
   "source": [
    "train_df_copy.head()"
   ]
  },
  {
   "cell_type": "code",
   "execution_count": 14,
   "id": "a198bc35",
   "metadata": {
    "execution": {
     "iopub.execute_input": "2022-06-28T07:08:07.629288Z",
     "iopub.status.busy": "2022-06-28T07:08:07.628178Z",
     "iopub.status.idle": "2022-06-28T07:08:07.639647Z",
     "shell.execute_reply": "2022-06-28T07:08:07.638847Z"
    },
    "papermill": {
     "duration": 0.026505,
     "end_time": "2022-06-28T07:08:07.641565",
     "exception": false,
     "start_time": "2022-06-28T07:08:07.615060",
     "status": "completed"
    },
    "tags": []
   },
   "outputs": [],
   "source": [
    "def window_sequences(df:pd.DataFrame(), window:int, window_type:'basic', target_size:int=1):\n",
    "    listsc = df.SecuritiesCode.unique().tolist()\n",
    "    X = []\n",
    "    Y = []\n",
    "    start_idx = 0\n",
    "    \n",
    "    for sc in tqdm(listsc):\n",
    "        dfTemp = df[df.SecuritiesCode == sc]\n",
    "        \n",
    "        dfTemp = dfTemp.interpolate()\n",
    "        #dfTemp = dfTemp.dropna(how = 'any')\n",
    "        dfTemp = dfTemp.bfill().ffill()\n",
    "        #dfTemp = dfTemp.fillna(0)\n",
    "        \n",
    "        iterN = (dfTemp.shape[0] - window + target_size)\n",
    "    \n",
    "        if window_type == 'expansion':\n",
    "            \n",
    "            for i in range(iterN):\n",
    "                x = dfTemp[listfeatures].iloc[start_idx:(i + window)].to_numpy()\n",
    "                y = dfTemp.Target.iat[(i + window - target_size)].reshape([1, 1])\n",
    "            \n",
    "        else:\n",
    "            \n",
    "            for i in range(iterN):\n",
    "                x = dfTemp[listfeatures].iloc[start_idx + i:(i + window)].to_numpy()\n",
    "                y = dfTemp.Target.iat[(i + window - target_size)].reshape([1, 1])\n",
    "            \n",
    "        X.append(x)\n",
    "        Y.append(y)\n",
    "    \n",
    "    X = np.array(X)\n",
    "    Y = np.array(Y)\n",
    "    \n",
    "    return X, Y"
   ]
  },
  {
   "cell_type": "code",
   "execution_count": 15,
   "id": "366a8ec2",
   "metadata": {
    "execution": {
     "iopub.execute_input": "2022-06-28T07:08:07.667484Z",
     "iopub.status.busy": "2022-06-28T07:08:07.666800Z",
     "iopub.status.idle": "2022-06-28T07:30:54.626696Z",
     "shell.execute_reply": "2022-06-28T07:30:54.624607Z"
    },
    "papermill": {
     "duration": 1366.975458,
     "end_time": "2022-06-28T07:30:54.629102",
     "exception": false,
     "start_time": "2022-06-28T07:08:07.653644",
     "status": "completed"
    },
    "tags": []
   },
   "outputs": [
    {
     "name": "stderr",
     "output_type": "stream",
     "text": [
      "100%|██████████| 2000/2000 [22:46<00:00,  1.46it/s]\n"
     ]
    }
   ],
   "source": [
    "# 8Days Sliding\n",
    "#X_8, y_8 = window_sequences(train_df_copy, 8, window_type = 'basic')\n",
    "\n",
    "# 16Days Sliding\n",
    "#X_16, y_16 = window_sequences(train_df_copy, 16, window_type = 'basic')\n",
    "\n",
    "# 32Days Sliding\n",
    "#X_32, y_32 = window_sequences(train_df_copy, 32, window_type = 'basic')\n",
    "\n",
    "# 64Days Sliding\n",
    "#X_64, y_64 = window_sequences(train_df_copy, 64, window_type = 'basic')\n",
    "\n",
    "# 50Days Sliding\n",
    "X_50, y_50 = window_sequences(train_df_copy, 50, window_type = 'basic')"
   ]
  },
  {
   "cell_type": "code",
   "execution_count": 16,
   "id": "4b8c53b1",
   "metadata": {
    "execution": {
     "iopub.execute_input": "2022-06-28T07:30:54.929508Z",
     "iopub.status.busy": "2022-06-28T07:30:54.928931Z",
     "iopub.status.idle": "2022-06-28T07:30:54.950842Z",
     "shell.execute_reply": "2022-06-28T07:30:54.949825Z"
    },
    "papermill": {
     "duration": 0.175921,
     "end_time": "2022-06-28T07:30:54.953114",
     "exception": false,
     "start_time": "2022-06-28T07:30:54.777193",
     "status": "completed"
    },
    "tags": []
   },
   "outputs": [],
   "source": [
    "listSC = train_df_copy['SecuritiesCode'].unique().tolist()"
   ]
  },
  {
   "cell_type": "code",
   "execution_count": 17,
   "id": "5e18938c",
   "metadata": {
    "execution": {
     "iopub.execute_input": "2022-06-28T07:30:55.259286Z",
     "iopub.status.busy": "2022-06-28T07:30:55.258867Z",
     "iopub.status.idle": "2022-06-28T07:30:55.267278Z",
     "shell.execute_reply": "2022-06-28T07:30:55.266536Z"
    },
    "papermill": {
     "duration": 0.160527,
     "end_time": "2022-06-28T07:30:55.269105",
     "exception": false,
     "start_time": "2022-06-28T07:30:55.108578",
     "status": "completed"
    },
    "tags": []
   },
   "outputs": [],
   "source": [
    "\"\"\"def define_model(X, y, drop_rate:int=0.2):\n",
    "    \n",
    "    model = Sequential()\n",
    "    model.add(LSTM(units = 64, return_sequences = True, input_shape = (X.shape[1], X.shape[2])))\n",
    "    model.add(Dropout(drop_rate))\n",
    "    model.add(LSTM(units = 32, return_sequences = False))\n",
    "    model.add(Dropout(drop_rate))\n",
    "    model.add(Dense(units = 1))\n",
    "    \n",
    "    opt = Adam(lr = 0.01, clipnorm = 1)\n",
    "    model.compile(loss = 'mean_squared_error', optimizer = opt, metrics = ['mae'])\n",
    "    model.summary()\n",
    "    \n",
    "    return model\"\"\"\n",
    "\n",
    "def define_model(X, y):\n",
    "    model = Sequential()\n",
    "    model.add(LSTM(units = 50, return_sequences = True, input_shape = (X.shape[1], X.shape[2])))\n",
    "    model.add(LSTM(units = 50, return_sequences = False))\n",
    "    model.add(Dense(units = 5))\n",
    "    model.add(Dense(units = 1))\n",
    "    \n",
    "    opt = Adam(lr = 0.01, clipnorm = 1)\n",
    "    model.compile(loss = 'mean_squared_error', optimizer = opt, metrics = ['mae'])\n",
    "    model.summary()\n",
    "    \n",
    "    return model"
   ]
  },
  {
   "cell_type": "code",
   "execution_count": 18,
   "id": "02bc3f0c",
   "metadata": {
    "execution": {
     "iopub.execute_input": "2022-06-28T07:30:55.566523Z",
     "iopub.status.busy": "2022-06-28T07:30:55.565907Z",
     "iopub.status.idle": "2022-06-28T07:30:55.574668Z",
     "shell.execute_reply": "2022-06-28T07:30:55.573927Z"
    },
    "papermill": {
     "duration": 0.159701,
     "end_time": "2022-06-28T07:30:55.576693",
     "exception": false,
     "start_time": "2022-06-28T07:30:55.416992",
     "status": "completed"
    },
    "tags": []
   },
   "outputs": [],
   "source": [
    "def train_model(X, y, model, epochs:int=100, batch_size = 50):\n",
    "    \n",
    "    es = EarlyStopping(monitor = 'val_loss', mode = 'min', patience=50)\n",
    "    history = model.fit(X, y, validation_split = 0.2, epochs = epochs, verbose = 1, callbacks = [es], batch_size = batch_size)\n",
    "    train_mae = history.history['mae']\n",
    "    val_mae = history.history['val_mae']\n",
    "    \n",
    "    return model, train_mae, val_mae\n",
    "\n",
    "def plot_mae(train_mae, valid_mae):\n",
    "    \n",
    "    plt.plot(train_mae, label='train mae'),\n",
    "    plt.plot(valid_mae, label='validation mae')\n",
    "    plt.ylabel('mae')\n",
    "    plt.xlabel('epoch')\n",
    "    plt.title('train vs. validation accuracy (mae)')\n",
    "    plt.legend(loc='upper center', bbox_to_anchor=(0.5, -0.15), fancybox=True, shadow=False, ncol=\n",
    "    2)\n",
    "    plt.show()"
   ]
  },
  {
   "cell_type": "code",
   "execution_count": 19,
   "id": "b64bb289",
   "metadata": {
    "execution": {
     "iopub.execute_input": "2022-06-28T07:30:55.875239Z",
     "iopub.status.busy": "2022-06-28T07:30:55.874834Z",
     "iopub.status.idle": "2022-06-28T07:35:21.544484Z",
     "shell.execute_reply": "2022-06-28T07:35:21.543391Z"
    },
    "papermill": {
     "duration": 266.189653,
     "end_time": "2022-06-28T07:35:21.914015",
     "exception": false,
     "start_time": "2022-06-28T07:30:55.724362",
     "status": "completed"
    },
    "tags": []
   },
   "outputs": [
    {
     "name": "stderr",
     "output_type": "stream",
     "text": [
      "2022-06-28 07:30:55.957072: I tensorflow/core/common_runtime/process_util.cc:146] Creating new thread pool with default inter op setting: 2. Tune using inter_op_parallelism_threads for best performance.\n"
     ]
    },
    {
     "name": "stdout",
     "output_type": "stream",
     "text": [
      "Model: \"sequential\"\n",
      "_________________________________________________________________\n",
      "Layer (type)                 Output Shape              Param #   \n",
      "=================================================================\n",
      "lstm (LSTM)                  (None, 50, 50)            11000     \n",
      "_________________________________________________________________\n",
      "lstm_1 (LSTM)                (None, 50)                20200     \n",
      "_________________________________________________________________\n",
      "dense (Dense)                (None, 5)                 255       \n",
      "_________________________________________________________________\n",
      "dense_1 (Dense)              (None, 1)                 6         \n",
      "=================================================================\n",
      "Total params: 31,461\n",
      "Trainable params: 31,461\n",
      "Non-trainable params: 0\n",
      "_________________________________________________________________\n",
      "Epoch 1/100\n"
     ]
    },
    {
     "name": "stderr",
     "output_type": "stream",
     "text": [
      "2022-06-28 07:30:56.710447: I tensorflow/compiler/mlir/mlir_graph_optimization_pass.cc:185] None of the MLIR Optimization Passes are enabled (registered 2)\n"
     ]
    },
    {
     "name": "stdout",
     "output_type": "stream",
     "text": [
      "32/32 [==============================] - 7s 97ms/step - loss: 0.0861 - mae: 0.1052 - val_loss: 5.5948e-04 - val_mae: 0.0183\n",
      "Epoch 2/100\n",
      "32/32 [==============================] - 2s 69ms/step - loss: 4.3779e-04 - mae: 0.0154 - val_loss: 2.6256e-04 - val_mae: 0.0116\n",
      "Epoch 3/100\n",
      "32/32 [==============================] - 2s 69ms/step - loss: 3.7977e-04 - mae: 0.0141 - val_loss: 2.5995e-04 - val_mae: 0.0115\n",
      "Epoch 4/100\n",
      "32/32 [==============================] - 2s 68ms/step - loss: 3.6071e-04 - mae: 0.0136 - val_loss: 2.9507e-04 - val_mae: 0.0132\n",
      "Epoch 5/100\n",
      "32/32 [==============================] - 2s 70ms/step - loss: 3.4118e-04 - mae: 0.0131 - val_loss: 2.8827e-04 - val_mae: 0.0130\n",
      "Epoch 6/100\n",
      "32/32 [==============================] - 2s 68ms/step - loss: 3.4199e-04 - mae: 0.0131 - val_loss: 2.8220e-04 - val_mae: 0.0127\n",
      "Epoch 7/100\n",
      "32/32 [==============================] - 2s 69ms/step - loss: 3.3900e-04 - mae: 0.0130 - val_loss: 3.5356e-04 - val_mae: 0.0150\n",
      "Epoch 8/100\n",
      "32/32 [==============================] - 2s 69ms/step - loss: 3.4398e-04 - mae: 0.0131 - val_loss: 3.1261e-04 - val_mae: 0.0137\n",
      "Epoch 9/100\n",
      "32/32 [==============================] - 2s 69ms/step - loss: 3.4325e-04 - mae: 0.0131 - val_loss: 2.5629e-04 - val_mae: 0.0112\n",
      "Epoch 10/100\n",
      "32/32 [==============================] - 3s 90ms/step - loss: 3.4781e-04 - mae: 0.0133 - val_loss: 3.2017e-04 - val_mae: 0.0139\n",
      "Epoch 11/100\n",
      "32/32 [==============================] - 2s 69ms/step - loss: 3.6351e-04 - mae: 0.0136 - val_loss: 3.1380e-04 - val_mae: 0.0137\n",
      "Epoch 12/100\n",
      "32/32 [==============================] - 2s 69ms/step - loss: 3.5219e-04 - mae: 0.0134 - val_loss: 2.8932e-04 - val_mae: 0.0129\n",
      "Epoch 13/100\n",
      "32/32 [==============================] - 2s 67ms/step - loss: 3.4056e-04 - mae: 0.0131 - val_loss: 2.6032e-04 - val_mae: 0.0118\n",
      "Epoch 14/100\n",
      "32/32 [==============================] - 2s 68ms/step - loss: 3.4334e-04 - mae: 0.0132 - val_loss: 3.1496e-04 - val_mae: 0.0137\n",
      "Epoch 15/100\n",
      "32/32 [==============================] - 2s 69ms/step - loss: 3.5511e-04 - mae: 0.0135 - val_loss: 2.5770e-04 - val_mae: 0.0116\n",
      "Epoch 16/100\n",
      "32/32 [==============================] - 2s 70ms/step - loss: 3.3863e-04 - mae: 0.0130 - val_loss: 2.6516e-04 - val_mae: 0.0120\n",
      "Epoch 17/100\n",
      "32/32 [==============================] - 2s 68ms/step - loss: 3.4311e-04 - mae: 0.0131 - val_loss: 2.5700e-04 - val_mae: 0.0112\n",
      "Epoch 18/100\n",
      "32/32 [==============================] - 2s 69ms/step - loss: 3.5441e-04 - mae: 0.0134 - val_loss: 4.0149e-04 - val_mae: 0.0164\n",
      "Epoch 19/100\n",
      "32/32 [==============================] - 2s 73ms/step - loss: 3.5067e-04 - mae: 0.0133 - val_loss: 2.9657e-04 - val_mae: 0.0131\n",
      "Epoch 20/100\n",
      "32/32 [==============================] - 2s 69ms/step - loss: 3.4444e-04 - mae: 0.0132 - val_loss: 2.6077e-04 - val_mae: 0.0118\n",
      "Epoch 21/100\n",
      "32/32 [==============================] - 2s 68ms/step - loss: 3.5087e-04 - mae: 0.0134 - val_loss: 2.9023e-04 - val_mae: 0.0129\n",
      "Epoch 22/100\n",
      "32/32 [==============================] - 2s 68ms/step - loss: 3.4696e-04 - mae: 0.0133 - val_loss: 2.7984e-04 - val_mae: 0.0126\n",
      "Epoch 23/100\n",
      "32/32 [==============================] - 2s 67ms/step - loss: 3.6333e-04 - mae: 0.0138 - val_loss: 2.5796e-04 - val_mae: 0.0116\n",
      "Epoch 24/100\n",
      "32/32 [==============================] - 2s 68ms/step - loss: 3.5025e-04 - mae: 0.0134 - val_loss: 2.9524e-04 - val_mae: 0.0131\n",
      "Epoch 25/100\n",
      "32/32 [==============================] - 3s 92ms/step - loss: 3.4275e-04 - mae: 0.0132 - val_loss: 2.5699e-04 - val_mae: 0.0115\n",
      "Epoch 26/100\n",
      "32/32 [==============================] - 2s 68ms/step - loss: 3.5678e-04 - mae: 0.0135 - val_loss: 2.9133e-04 - val_mae: 0.0130\n",
      "Epoch 27/100\n",
      "32/32 [==============================] - 2s 68ms/step - loss: 3.3956e-04 - mae: 0.0131 - val_loss: 2.9737e-04 - val_mae: 0.0132\n",
      "Epoch 28/100\n",
      "32/32 [==============================] - 2s 68ms/step - loss: 3.4686e-04 - mae: 0.0132 - val_loss: 2.5796e-04 - val_mae: 0.0116\n",
      "Epoch 29/100\n",
      "32/32 [==============================] - 2s 71ms/step - loss: 3.4126e-04 - mae: 0.0131 - val_loss: 3.3009e-04 - val_mae: 0.0142\n",
      "Epoch 30/100\n",
      "32/32 [==============================] - 2s 69ms/step - loss: 3.5778e-04 - mae: 0.0136 - val_loss: 2.8681e-04 - val_mae: 0.0128\n",
      "Epoch 31/100\n",
      "32/32 [==============================] - 2s 68ms/step - loss: 3.4765e-04 - mae: 0.0133 - val_loss: 2.6948e-04 - val_mae: 0.0122\n",
      "Epoch 32/100\n",
      "32/32 [==============================] - 2s 68ms/step - loss: 3.4967e-04 - mae: 0.0133 - val_loss: 3.5502e-04 - val_mae: 0.0150\n",
      "Epoch 33/100\n",
      "32/32 [==============================] - 2s 67ms/step - loss: 3.5891e-04 - mae: 0.0136 - val_loss: 2.8482e-04 - val_mae: 0.0127\n",
      "Epoch 34/100\n",
      "32/32 [==============================] - 2s 73ms/step - loss: 3.4710e-04 - mae: 0.0132 - val_loss: 2.5469e-04 - val_mae: 0.0113\n",
      "Epoch 35/100\n",
      "32/32 [==============================] - 2s 73ms/step - loss: 3.4226e-04 - mae: 0.0131 - val_loss: 2.8171e-04 - val_mae: 0.0126\n",
      "Epoch 36/100\n",
      "32/32 [==============================] - 2s 72ms/step - loss: 3.5835e-04 - mae: 0.0135 - val_loss: 2.5672e-04 - val_mae: 0.0115\n",
      "Epoch 37/100\n",
      "32/32 [==============================] - 2s 68ms/step - loss: 3.5745e-04 - mae: 0.0136 - val_loss: 2.8235e-04 - val_mae: 0.0127\n",
      "Epoch 38/100\n",
      "32/32 [==============================] - 2s 68ms/step - loss: 3.6643e-04 - mae: 0.0138 - val_loss: 3.0632e-04 - val_mae: 0.0134\n",
      "Epoch 39/100\n",
      "32/32 [==============================] - 2s 73ms/step - loss: 3.4990e-04 - mae: 0.0133 - val_loss: 2.8247e-04 - val_mae: 0.0127\n",
      "Epoch 40/100\n",
      "32/32 [==============================] - 2s 68ms/step - loss: 3.4684e-04 - mae: 0.0132 - val_loss: 2.5704e-04 - val_mae: 0.0115\n",
      "Epoch 41/100\n",
      "32/32 [==============================] - 3s 87ms/step - loss: 3.4170e-04 - mae: 0.0131 - val_loss: 2.5855e-04 - val_mae: 0.0116\n",
      "Epoch 42/100\n",
      "32/32 [==============================] - 2s 70ms/step - loss: 3.4357e-04 - mae: 0.0132 - val_loss: 2.5462e-04 - val_mae: 0.0113\n",
      "Epoch 43/100\n",
      "32/32 [==============================] - 2s 69ms/step - loss: 3.4422e-04 - mae: 0.0131 - val_loss: 2.8592e-04 - val_mae: 0.0128\n",
      "Epoch 44/100\n",
      "32/32 [==============================] - 2s 70ms/step - loss: 3.3810e-04 - mae: 0.0130 - val_loss: 2.8708e-04 - val_mae: 0.0128\n",
      "Epoch 45/100\n",
      "32/32 [==============================] - 2s 69ms/step - loss: 3.4945e-04 - mae: 0.0132 - val_loss: 3.5595e-04 - val_mae: 0.0151\n",
      "Epoch 46/100\n",
      "32/32 [==============================] - 2s 69ms/step - loss: 3.7498e-04 - mae: 0.0140 - val_loss: 2.8123e-04 - val_mae: 0.0126\n",
      "Epoch 47/100\n",
      "32/32 [==============================] - 2s 69ms/step - loss: 3.5676e-04 - mae: 0.0135 - val_loss: 3.3357e-04 - val_mae: 0.0144\n",
      "Epoch 48/100\n",
      "32/32 [==============================] - 2s 68ms/step - loss: 4.0817e-04 - mae: 0.0148 - val_loss: 2.5524e-04 - val_mae: 0.0112\n",
      "Epoch 49/100\n",
      "32/32 [==============================] - 2s 71ms/step - loss: 3.4736e-04 - mae: 0.0132 - val_loss: 2.6120e-04 - val_mae: 0.0118\n",
      "Epoch 50/100\n",
      "32/32 [==============================] - 2s 68ms/step - loss: 3.6037e-04 - mae: 0.0135 - val_loss: 3.4858e-04 - val_mae: 0.0148\n",
      "Epoch 51/100\n",
      "32/32 [==============================] - 2s 69ms/step - loss: 3.4768e-04 - mae: 0.0132 - val_loss: 2.6124e-04 - val_mae: 0.0118\n",
      "Epoch 52/100\n",
      "32/32 [==============================] - 2s 74ms/step - loss: 3.4954e-04 - mae: 0.0133 - val_loss: 2.5593e-04 - val_mae: 0.0112\n",
      "Epoch 53/100\n",
      "32/32 [==============================] - 2s 69ms/step - loss: 3.4903e-04 - mae: 0.0133 - val_loss: 2.5632e-04 - val_mae: 0.0115\n",
      "Epoch 54/100\n",
      "32/32 [==============================] - 2s 71ms/step - loss: 3.5768e-04 - mae: 0.0135 - val_loss: 3.9056e-04 - val_mae: 0.0161\n",
      "Epoch 55/100\n",
      "32/32 [==============================] - 2s 69ms/step - loss: 3.4897e-04 - mae: 0.0133 - val_loss: 3.2549e-04 - val_mae: 0.0141\n",
      "Epoch 56/100\n",
      "32/32 [==============================] - 2s 70ms/step - loss: 3.4765e-04 - mae: 0.0133 - val_loss: 2.5557e-04 - val_mae: 0.0112\n",
      "Epoch 57/100\n",
      "32/32 [==============================] - 3s 88ms/step - loss: 3.4366e-04 - mae: 0.0132 - val_loss: 2.5866e-04 - val_mae: 0.0116\n",
      "Epoch 58/100\n",
      "32/32 [==============================] - 2s 71ms/step - loss: 3.6650e-04 - mae: 0.0137 - val_loss: 2.8506e-04 - val_mae: 0.0127\n",
      "Epoch 59/100\n",
      "32/32 [==============================] - 2s 69ms/step - loss: 3.3996e-04 - mae: 0.0131 - val_loss: 2.5642e-04 - val_mae: 0.0115\n",
      "Epoch 60/100\n",
      "32/32 [==============================] - 2s 69ms/step - loss: 3.4242e-04 - mae: 0.0132 - val_loss: 3.0279e-04 - val_mae: 0.0133\n",
      "Epoch 61/100\n",
      "32/32 [==============================] - 2s 70ms/step - loss: 3.5870e-04 - mae: 0.0136 - val_loss: 3.0836e-04 - val_mae: 0.0135\n",
      "Epoch 62/100\n",
      "32/32 [==============================] - 2s 69ms/step - loss: 3.5159e-04 - mae: 0.0133 - val_loss: 2.7740e-04 - val_mae: 0.0125\n",
      "Epoch 63/100\n",
      "32/32 [==============================] - 2s 71ms/step - loss: 3.3829e-04 - mae: 0.0130 - val_loss: 2.6021e-04 - val_mae: 0.0117\n",
      "Epoch 64/100\n",
      "32/32 [==============================] - 2s 68ms/step - loss: 3.5229e-04 - mae: 0.0134 - val_loss: 2.6370e-04 - val_mae: 0.0119\n",
      "Epoch 65/100\n",
      "32/32 [==============================] - 2s 68ms/step - loss: 3.4504e-04 - mae: 0.0131 - val_loss: 2.5768e-04 - val_mae: 0.0112\n",
      "Epoch 66/100\n",
      "32/32 [==============================] - 2s 70ms/step - loss: 3.5236e-04 - mae: 0.0134 - val_loss: 3.0611e-04 - val_mae: 0.0134\n",
      "Epoch 67/100\n",
      "32/32 [==============================] - 2s 68ms/step - loss: 3.5694e-04 - mae: 0.0135 - val_loss: 2.5535e-04 - val_mae: 0.0112\n",
      "Epoch 68/100\n",
      "32/32 [==============================] - 2s 71ms/step - loss: 3.4651e-04 - mae: 0.0132 - val_loss: 2.5979e-04 - val_mae: 0.0117\n",
      "Epoch 69/100\n",
      "32/32 [==============================] - 2s 69ms/step - loss: 3.4758e-04 - mae: 0.0132 - val_loss: 2.7616e-04 - val_mae: 0.0124\n",
      "Epoch 70/100\n",
      "32/32 [==============================] - 2s 69ms/step - loss: 3.5194e-04 - mae: 0.0134 - val_loss: 2.6569e-04 - val_mae: 0.0120\n",
      "Epoch 71/100\n",
      "32/32 [==============================] - 2s 68ms/step - loss: 3.3978e-04 - mae: 0.0131 - val_loss: 3.5793e-04 - val_mae: 0.0151\n",
      "Epoch 72/100\n",
      "32/32 [==============================] - 2s 68ms/step - loss: 3.5222e-04 - mae: 0.0136 - val_loss: 3.4510e-04 - val_mae: 0.0147\n",
      "Epoch 73/100\n",
      "32/32 [==============================] - 2s 71ms/step - loss: 3.4554e-04 - mae: 0.0132 - val_loss: 2.7592e-04 - val_mae: 0.0124\n",
      "Epoch 74/100\n",
      "32/32 [==============================] - 2s 69ms/step - loss: 3.6615e-04 - mae: 0.0137 - val_loss: 2.6062e-04 - val_mae: 0.0118\n",
      "Epoch 75/100\n",
      "32/32 [==============================] - 2s 70ms/step - loss: 3.5537e-04 - mae: 0.0134 - val_loss: 3.4840e-04 - val_mae: 0.0148\n",
      "Epoch 76/100\n",
      "32/32 [==============================] - 3s 84ms/step - loss: 3.4585e-04 - mae: 0.0134 - val_loss: 3.0508e-04 - val_mae: 0.0134\n",
      "Epoch 77/100\n",
      "32/32 [==============================] - 2s 76ms/step - loss: 3.6730e-04 - mae: 0.0138 - val_loss: 2.5483e-04 - val_mae: 0.0113\n",
      "Epoch 78/100\n",
      "32/32 [==============================] - 2s 74ms/step - loss: 3.5110e-04 - mae: 0.0134 - val_loss: 3.5333e-04 - val_mae: 0.0150\n",
      "Epoch 79/100\n",
      "32/32 [==============================] - 2s 73ms/step - loss: 3.4533e-04 - mae: 0.0133 - val_loss: 3.1430e-04 - val_mae: 0.0137\n",
      "Epoch 80/100\n",
      "32/32 [==============================] - 2s 70ms/step - loss: 3.4350e-04 - mae: 0.0132 - val_loss: 3.7821e-04 - val_mae: 0.0157\n",
      "Epoch 81/100\n",
      "32/32 [==============================] - 2s 69ms/step - loss: 3.4989e-04 - mae: 0.0133 - val_loss: 3.2267e-04 - val_mae: 0.0140\n",
      "Epoch 82/100\n",
      "32/32 [==============================] - 2s 69ms/step - loss: 3.4493e-04 - mae: 0.0132 - val_loss: 2.8207e-04 - val_mae: 0.0126\n",
      "Epoch 83/100\n",
      "32/32 [==============================] - 2s 70ms/step - loss: 3.4735e-04 - mae: 0.0133 - val_loss: 2.5924e-04 - val_mae: 0.0117\n",
      "Epoch 84/100\n",
      "32/32 [==============================] - 2s 68ms/step - loss: 3.4813e-04 - mae: 0.0133 - val_loss: 2.7319e-04 - val_mae: 0.0115\n",
      "Epoch 85/100\n",
      "32/32 [==============================] - 2s 68ms/step - loss: 3.6022e-04 - mae: 0.0136 - val_loss: 2.5521e-04 - val_mae: 0.0112\n",
      "Epoch 86/100\n",
      "32/32 [==============================] - 2s 69ms/step - loss: 3.5796e-04 - mae: 0.0135 - val_loss: 3.0531e-04 - val_mae: 0.0134\n",
      "Epoch 87/100\n",
      "32/32 [==============================] - 2s 70ms/step - loss: 3.6740e-04 - mae: 0.0138 - val_loss: 2.9279e-04 - val_mae: 0.0130\n",
      "Epoch 88/100\n",
      "32/32 [==============================] - 2s 71ms/step - loss: 3.4264e-04 - mae: 0.0131 - val_loss: 2.7512e-04 - val_mae: 0.0124\n",
      "Epoch 89/100\n",
      "32/32 [==============================] - 2s 68ms/step - loss: 3.4510e-04 - mae: 0.0132 - val_loss: 3.5230e-04 - val_mae: 0.0149\n",
      "Epoch 90/100\n",
      "32/32 [==============================] - 2s 69ms/step - loss: 3.6050e-04 - mae: 0.0135 - val_loss: 2.5549e-04 - val_mae: 0.0112\n",
      "Epoch 91/100\n",
      "32/32 [==============================] - 3s 88ms/step - loss: 3.4109e-04 - mae: 0.0131 - val_loss: 2.7578e-04 - val_mae: 0.0124\n",
      "Epoch 92/100\n",
      "32/32 [==============================] - 2s 73ms/step - loss: 3.4630e-04 - mae: 0.0133 - val_loss: 2.8177e-04 - val_mae: 0.0126\n"
     ]
    },
    {
     "data": {
      "image/png": "[encoded data removed]",
      "text/plain": [
       "<Figure size 432x288 with 1 Axes>"
      ]
     },
     "metadata": {
      "needs_background": "light"
     },
     "output_type": "display_data"
    },
    {
     "name": "stdout",
     "output_type": "stream",
     "text": [
      "Training time was 265.66 [s].\n",
      "\n"
     ]
    }
   ],
   "source": [
    "\"\"\"startTime = time.time()\n",
    "# 8 window sliding model fit \n",
    "model8 = define_model(X_8, y_8)\n",
    "model8, X_train_8_mae, X_val_8_mae = train_model(X_8, y_8, model8)\n",
    "plot_mae(X_train_8_mae, X_val_8_mae)\n",
    "print(f'Training time was {time.time() - startTime:.2f} [s].\\n')\"\"\"\n",
    "\n",
    "\"\"\"startTime = time.time()\n",
    "# 16 window sliding model fit\n",
    "model16 = define_model(X_16, y_16)\n",
    "model16, X_train_16_mae, X_val_16_mae = train_model(X_16, y_16, model16)\n",
    "plot_mae(X_train_16_mae, X_val_16_mae)\n",
    "print(f'Training time was {time.time() - startTime:.2f} [s].\\n')\"\"\"\n",
    "\n",
    "\"\"\"startTime = time.time()\n",
    "# 32 window sliding model fit\n",
    "model32 = define_model(X_32, y_32)\n",
    "model32, X_train_32_mae, X_val_32_mae = train_model(X_32, y_32, model32)\n",
    "plot_mae(X_train_32_mae, X_val_32_mae)\n",
    "print(f'Training time was {time.time() - startTime:.2f} [s].\\n')\"\"\"\n",
    "\n",
    "\"\"\"\n",
    "startTime = time.time()\n",
    "# 120 window sliding model fit\n",
    "model64 = define_model(X_64, y_64)\n",
    "model64, X_train_64_mae, X_val_64_mae = train_model(X_64, y_64, model64)\n",
    "plot_mae(X_train_64_mae, X_val_64_mae)\n",
    "print(f'Training time was {time.time() - startTime:.2f} [s].\\n')\"\"\"\n",
    "\n",
    "startTime = time.time()\n",
    "# 120 window sliding model fit\n",
    "model50 = define_model(X_50, y_50)\n",
    "model50, X_train_50_mae, X_val_50_mae = train_model(X_50, y_50, model50)\n",
    "plot_mae(X_train_50_mae, X_val_50_mae)\n",
    "print(f'Training time was {time.time() - startTime:.2f} [s].\\n')"
   ]
  },
  {
   "cell_type": "code",
   "execution_count": 20,
   "id": "829a8815",
   "metadata": {
    "execution": {
     "iopub.execute_input": "2022-06-28T07:35:22.646812Z",
     "iopub.status.busy": "2022-06-28T07:35:22.646139Z",
     "iopub.status.idle": "2022-06-28T07:35:22.658107Z",
     "shell.execute_reply": "2022-06-28T07:35:22.656914Z"
    },
    "papermill": {
     "duration": 0.379926,
     "end_time": "2022-06-28T07:35:22.660392",
     "exception": false,
     "start_time": "2022-06-28T07:35:22.280466",
     "status": "completed"
    },
    "tags": []
   },
   "outputs": [],
   "source": [
    "def preprocess(df:pd.DataFrame(), window:int, listSC:list(), listfeatures:list(), nullprocess:bool==True, logprocess:bool==True):\n",
    "    df_copy = df.copy()\n",
    "    X = []\n",
    "    \n",
    "    for sc in tqdm(listSC):\n",
    "        dfTemp = df_copy[df_copy.SecuritiesCode == sc]\n",
    "        \n",
    "        dfTemp[listfeatures] = dfTemp[listfeatures].apply(np.log1p)\n",
    "        dfTemp[listfeatures] = scaler.transform(dfTemp[listfeatures])\n",
    "        \n",
    "        dfTemp = dfTemp.interpolate()\n",
    "        dfTemp = dfTemp.bfill().ffill()\n",
    "        #dfTemp = dfTemp.fillna(0)\n",
    "        \n",
    "        #dfTemp = dfTemp.tail(window)\n",
    "        x = dfTemp[listfeatures].to_numpy()\n",
    "        X.append(x)\n",
    "    \n",
    "    X = np.array(X)\n",
    "    \n",
    "    return X\n",
    "\n",
    "def predict_rank(X, model, sample_prediction:pd.DataFrame(), listSC:list()):\n",
    "    X_copy = X.copy()\n",
    "    \n",
    "    sample_prediction['Prediction'] = model.predict(X_copy)\n",
    "    \n",
    "    sample_prediction = sample_prediction.sort_values(by = 'Prediction', ascending = False)\n",
    "    \n",
    "    sample_prediction.Rank = np.arange(len(sample_prediction))\n",
    "    \n",
    "    sample_prediction = sample_prediction.sort_values(by = 'SecuritiesCode', ascending = True)\n",
    "    submission = sample_prediction[['Date', 'SecuritiesCode', 'Prediction', 'Rank']]\n",
    "   \n",
    "    return submission"
   ]
  },
  {
   "cell_type": "code",
   "execution_count": 21,
   "id": "f342601a",
   "metadata": {
    "execution": {
     "iopub.execute_input": "2022-06-28T07:35:23.454465Z",
     "iopub.status.busy": "2022-06-28T07:35:23.454031Z",
     "iopub.status.idle": "2022-06-28T07:35:23.482298Z",
     "shell.execute_reply": "2022-06-28T07:35:23.481492Z"
    },
    "papermill": {
     "duration": 0.396783,
     "end_time": "2022-06-28T07:35:23.484607",
     "exception": false,
     "start_time": "2022-06-28T07:35:23.087824",
     "status": "completed"
    },
    "tags": []
   },
   "outputs": [],
   "source": [
    "import jpx_tokyo_market_prediction\n",
    "env = jpx_tokyo_market_prediction.make_env()\n",
    "iter_test = env.iter_test()"
   ]
  },
  {
   "cell_type": "code",
   "execution_count": 22,
   "id": "26a43107",
   "metadata": {
    "execution": {
     "iopub.execute_input": "2022-06-28T07:35:24.228284Z",
     "iopub.status.busy": "2022-06-28T07:35:24.227764Z",
     "iopub.status.idle": "2022-06-28T07:36:06.283245Z",
     "shell.execute_reply": "2022-06-28T07:36:06.282415Z"
    },
    "papermill": {
     "duration": 42.423335,
     "end_time": "2022-06-28T07:36:06.285655",
     "exception": false,
     "start_time": "2022-06-28T07:35:23.862320",
     "status": "completed"
    },
    "tags": []
   },
   "outputs": [
    {
     "name": "stdout",
     "output_type": "stream",
     "text": [
      "This version of the API is not optimized and should not be used to estimate the runtime of your code on the hidden test set.\n",
      "           Date  SecuritiesCode    Open    High     Low   Close   Volume  \\\n",
      "0    2021-12-06            1301  2982.0  2982.0  2965.0  2971.0     8900   \n",
      "1    2021-12-06            1332   592.0   599.0   588.0   589.0  1360800   \n",
      "2    2021-12-06            1333  2368.0  2388.0  2360.0  2377.0   125900   \n",
      "3    2021-12-06            1375  1230.0  1239.0  1224.0  1224.0    81100   \n",
      "4    2021-12-06            1376  1339.0  1372.0  1339.0  1351.0     6200   \n",
      "...         ...             ...     ...     ...     ...     ...      ...   \n",
      "1995 2021-12-06            9990   528.0   531.0   516.0   517.0    65300   \n",
      "1996 2021-12-06            9991   796.0   800.0   785.0   785.0    29100   \n",
      "1997 2021-12-06            9993  1645.0  1653.0  1627.0  1627.0     6200   \n",
      "1998 2021-12-06            9994  2394.0  2433.0  2393.0  2418.0     7800   \n",
      "1999 2021-12-06            9997   702.0   717.0   695.0   706.0   284000   \n",
      "\n",
      "      AdjustmentFactor  \n",
      "0                  1.0  \n",
      "1                  1.0  \n",
      "2                  1.0  \n",
      "3                  1.0  \n",
      "4                  1.0  \n",
      "...                ...  \n",
      "1995               1.0  \n",
      "1996               1.0  \n",
      "1997               1.0  \n",
      "1998               1.0  \n",
      "1999               1.0  \n",
      "\n",
      "[2000 rows x 8 columns]\n"
     ]
    },
    {
     "name": "stderr",
     "output_type": "stream",
     "text": [
      "100%|██████████| 2000/2000 [00:10<00:00, 185.39it/s]\n"
     ]
    },
    {
     "name": "stdout",
     "output_type": "stream",
     "text": [
      "           Date  SecuritiesCode    Open    High     Low   Close   Volume  \\\n",
      "0    2021-12-07            1301  2998.0  3065.0  2990.0  3065.0    19100   \n",
      "1    2021-12-07            1332   569.0   569.0   535.0   556.0  6449200   \n",
      "2    2021-12-07            1333  2382.0  2417.0  2371.0  2409.0   127300   \n",
      "3    2021-12-07            1375  1227.0  1266.0  1227.0  1264.0   128600   \n",
      "4    2021-12-07            1376  1374.0  1395.0  1366.0  1395.0     5800   \n",
      "...         ...             ...     ...     ...     ...     ...      ...   \n",
      "1995 2021-12-07            9990   526.0   535.0   524.0   535.0    57800   \n",
      "1996 2021-12-07            9991   795.0   806.0   792.0   805.0    48500   \n",
      "1997 2021-12-07            9993  1640.0  1640.0  1620.0  1620.0     6600   \n",
      "1998 2021-12-07            9994  2437.0  2440.0  2423.0  2440.0     5200   \n",
      "1999 2021-12-07            9997   711.0   719.0   706.0   719.0   204500   \n",
      "\n",
      "      AdjustmentFactor  \n",
      "0                  1.0  \n",
      "1                  1.0  \n",
      "2                  1.0  \n",
      "3                  1.0  \n",
      "4                  1.0  \n",
      "...                ...  \n",
      "1995               1.0  \n",
      "1996               1.0  \n",
      "1997               1.0  \n",
      "1998               1.0  \n",
      "1999               1.0  \n",
      "\n",
      "[2000 rows x 8 columns]\n"
     ]
    },
    {
     "name": "stderr",
     "output_type": "stream",
     "text": [
      "100%|██████████| 2000/2000 [00:10<00:00, 187.12it/s]\n"
     ]
    }
   ],
   "source": [
    "for (prices, options, financials, trades, secondary_prices, sample_prediction) in iter_test:\n",
    "    \n",
    "    prices = prices[['Date', 'SecuritiesCode', 'Open', 'High', 'Low', 'Close', 'Volume', 'AdjustmentFactor']]\n",
    "    prices['Date'] = pd.to_datetime(prices['Date'])\n",
    "    print(prices)\n",
    "    prices = get_Indicator(prices, calculate_adjusted)\n",
    "    \n",
    "#    X_prices_8 = preprocess(prices, 8, listSC, listfeatures, True, True)\n",
    "#    X_prices_16 = preprocess(prices, 16, listSC, listfeatures, True, True)\n",
    "#    X_prices_32 = preprocess(prices, 32, listSC, listfeatures, True, True)\n",
    "#    X_prices_64 = preprocess(prices, 64, listSC, listfeatures, True, True)\n",
    "    X_prices_50 = preprocess(prices, 50, listSC, listfeatures, True, True)\n",
    "\n",
    "#    submission_prediction_df8 = predict_rank(X_prices_8, model8, sample_prediction, listSC)\n",
    "#    submission_prediction_df16 = predict_rank(X_prices_16, model16, sample_prediction, listSC)\n",
    "#    submission_prediction_df32 = predict_rank(X_prices_32, model32, sample_prediction, listSC)\n",
    "#    submission_prediction_df64 = predict_rank(X_prices_64, model64, sample_prediction, listSC)\n",
    "    submission_prediction_df50 = predict_rank(X_prices_50, model50, sample_prediction, listSC)\n",
    "\n",
    "#    sample_prediction.Prediction = (submission_prediction_df8.Prediction + submission_prediction_df16.Prediction + submission_prediction_df32.Prediction) / 3\n",
    "    \n",
    "#    sample_prediction.Prediction = submission_prediction_df16.Prediction\n",
    "    sample_prediction.Prediction = submission_prediction_df50.Prediction\n",
    "    \n",
    "    sample_prediction = sample_prediction.sort_values(by = 'Prediction', ascending = False)\n",
    "    \n",
    "    sample_prediction.Rank = np.arange(len(sample_prediction))\n",
    "\n",
    "    sample_prediction = sample_prediction.sort_values(by = 'SecuritiesCode', ascending = True)\n",
    "    sample_prediction_copy = sample_prediction[['Date','SecuritiesCode','Prediction','Rank']]\n",
    "    sample_prediction_copy = sample_prediction_copy.fillna(0.0)\n",
    "    \n",
    "    sample_prediction = sample_prediction[['Date', 'SecuritiesCode','Rank']]\n",
    "    \n",
    "    env.predict(sample_prediction)"
   ]
  },
  {
   "cell_type": "code",
   "execution_count": 23,
   "id": "ce37bf4b",
   "metadata": {
    "execution": {
     "iopub.execute_input": "2022-06-28T07:36:07.099302Z",
     "iopub.status.busy": "2022-06-28T07:36:07.098602Z",
     "iopub.status.idle": "2022-06-28T07:36:07.109129Z",
     "shell.execute_reply": "2022-06-28T07:36:07.108384Z"
    },
    "papermill": {
     "duration": 0.38919,
     "end_time": "2022-06-28T07:36:07.111048",
     "exception": false,
     "start_time": "2022-06-28T07:36:06.721858",
     "status": "completed"
    },
    "tags": []
   },
   "outputs": [
    {
     "data": {
      "text/plain": [
       "Date              0\n",
       "SecuritiesCode    0\n",
       "Prediction        0\n",
       "Rank              0\n",
       "dtype: int64"
      ]
     },
     "execution_count": 23,
     "metadata": {},
     "output_type": "execute_result"
    }
   ],
   "source": [
    "sample_prediction_copy.isnull().sum()"
   ]
  },
  {
   "cell_type": "code",
   "execution_count": 24,
   "id": "23003ab0",
   "metadata": {
    "execution": {
     "iopub.execute_input": "2022-06-28T07:36:07.881085Z",
     "iopub.status.busy": "2022-06-28T07:36:07.880701Z",
     "iopub.status.idle": "2022-06-28T07:36:07.891537Z",
     "shell.execute_reply": "2022-06-28T07:36:07.890531Z"
    },
    "papermill": {
     "duration": 0.407475,
     "end_time": "2022-06-28T07:36:07.893586",
     "exception": false,
     "start_time": "2022-06-28T07:36:07.486111",
     "status": "completed"
    },
    "tags": []
   },
   "outputs": [
    {
     "data": {
      "text/html": [
       "<div>\n",
       "<style scoped>\n",
       "    .dataframe tbody tr th:only-of-type {\n",
       "        vertical-align: middle;\n",
       "    }\n",
       "\n",
       "    .dataframe tbody tr th {\n",
       "        vertical-align: top;\n",
       "    }\n",
       "\n",
       "    .dataframe thead th {\n",
       "        text-align: right;\n",
       "    }\n",
       "</style>\n",
       "<table border=\"1\" class=\"dataframe\">\n",
       "  <thead>\n",
       "    <tr style=\"text-align: right;\">\n",
       "      <th></th>\n",
       "      <th>Date</th>\n",
       "      <th>SecuritiesCode</th>\n",
       "      <th>Prediction</th>\n",
       "      <th>Rank</th>\n",
       "    </tr>\n",
       "  </thead>\n",
       "  <tbody>\n",
       "    <tr>\n",
       "      <th>0</th>\n",
       "      <td>2021-12-07</td>\n",
       "      <td>1301</td>\n",
       "      <td>0.007619</td>\n",
       "      <td>1470</td>\n",
       "    </tr>\n",
       "    <tr>\n",
       "      <th>1</th>\n",
       "      <td>2021-12-07</td>\n",
       "      <td>1332</td>\n",
       "      <td>0.007835</td>\n",
       "      <td>160</td>\n",
       "    </tr>\n",
       "    <tr>\n",
       "      <th>2</th>\n",
       "      <td>2021-12-07</td>\n",
       "      <td>1333</td>\n",
       "      <td>0.007644</td>\n",
       "      <td>1264</td>\n",
       "    </tr>\n",
       "    <tr>\n",
       "      <th>3</th>\n",
       "      <td>2021-12-07</td>\n",
       "      <td>1375</td>\n",
       "      <td>0.007728</td>\n",
       "      <td>624</td>\n",
       "    </tr>\n",
       "    <tr>\n",
       "      <th>4</th>\n",
       "      <td>2021-12-07</td>\n",
       "      <td>1376</td>\n",
       "      <td>0.007711</td>\n",
       "      <td>727</td>\n",
       "    </tr>\n",
       "  </tbody>\n",
       "</table>\n",
       "</div>"
      ],
      "text/plain": [
       "         Date  SecuritiesCode  Prediction  Rank\n",
       "0  2021-12-07            1301    0.007619  1470\n",
       "1  2021-12-07            1332    0.007835   160\n",
       "2  2021-12-07            1333    0.007644  1264\n",
       "3  2021-12-07            1375    0.007728   624\n",
       "4  2021-12-07            1376    0.007711   727"
      ]
     },
     "execution_count": 24,
     "metadata": {},
     "output_type": "execute_result"
    }
   ],
   "source": [
    "sample_prediction_copy.head()"
   ]
  },
  {
   "cell_type": "code",
   "execution_count": 25,
   "id": "2adf410b",
   "metadata": {
    "execution": {
     "iopub.execute_input": "2022-06-28T07:36:08.646822Z",
     "iopub.status.busy": "2022-06-28T07:36:08.646420Z",
     "iopub.status.idle": "2022-06-28T07:36:08.659805Z",
     "shell.execute_reply": "2022-06-28T07:36:08.658836Z"
    },
    "papermill": {
     "duration": 0.391595,
     "end_time": "2022-06-28T07:36:08.661593",
     "exception": false,
     "start_time": "2022-06-28T07:36:08.269998",
     "status": "completed"
    },
    "tags": []
   },
   "outputs": [
    {
     "name": "stdout",
     "output_type": "stream",
     "text": [
      "nan\n"
     ]
    }
   ],
   "source": [
    "score1 = calc_spread_return_sharpe(sample_prediction_copy, portfolio_size = 200, toprank_weight_ratio = 2)\n",
    "print(score1)\n",
    "    \n",
    "#score2 = cal_sharpe_ratio(sample_prediction_copy)\n",
    "#print(score2)"
   ]
  },
  {
   "cell_type": "code",
   "execution_count": 26,
   "id": "7e26daca",
   "metadata": {
    "execution": {
     "iopub.execute_input": "2022-06-28T07:36:09.477905Z",
     "iopub.status.busy": "2022-06-28T07:36:09.477012Z",
     "iopub.status.idle": "2022-06-28T07:36:09.481416Z",
     "shell.execute_reply": "2022-06-28T07:36:09.480668Z"
    },
    "papermill": {
     "duration": 0.384214,
     "end_time": "2022-06-28T07:36:09.483226",
     "exception": false,
     "start_time": "2022-06-28T07:36:09.099012",
     "status": "completed"
    },
    "tags": []
   },
   "outputs": [],
   "source": [
    "#score1 = calc_spread_return_sharpe(sample_prediction_copy, portfolio_size = 200, toprank_weight_ratio = 2)\n",
    "#print(score1)"
   ]
  },
  {
   "cell_type": "code",
   "execution_count": 27,
   "id": "b4baf616",
   "metadata": {
    "execution": {
     "iopub.execute_input": "2022-06-28T07:36:10.241595Z",
     "iopub.status.busy": "2022-06-28T07:36:10.241001Z",
     "iopub.status.idle": "2022-06-28T07:36:10.245006Z",
     "shell.execute_reply": "2022-06-28T07:36:10.244275Z"
    },
    "papermill": {
     "duration": 0.387231,
     "end_time": "2022-06-28T07:36:10.246926",
     "exception": false,
     "start_time": "2022-06-28T07:36:09.859695",
     "status": "completed"
    },
    "tags": []
   },
   "outputs": [],
   "source": [
    "#score2 = cal_sharpe_ratio(sample_prediction_copy)\n",
    "#print(score2)"
   ]
  },
  {
   "cell_type": "code",
   "execution_count": 28,
   "id": "6cc6a165",
   "metadata": {
    "execution": {
     "iopub.execute_input": "2022-06-28T07:36:11.060527Z",
     "iopub.status.busy": "2022-06-28T07:36:11.059896Z",
     "iopub.status.idle": "2022-06-28T07:36:11.070612Z",
     "shell.execute_reply": "2022-06-28T07:36:11.069985Z"
    },
    "papermill": {
     "duration": 0.448925,
     "end_time": "2022-06-28T07:36:11.072348",
     "exception": false,
     "start_time": "2022-06-28T07:36:10.623423",
     "status": "completed"
    },
    "tags": []
   },
   "outputs": [
    {
     "data": {
      "text/html": [
       "<div>\n",
       "<style scoped>\n",
       "    .dataframe tbody tr th:only-of-type {\n",
       "        vertical-align: middle;\n",
       "    }\n",
       "\n",
       "    .dataframe tbody tr th {\n",
       "        vertical-align: top;\n",
       "    }\n",
       "\n",
       "    .dataframe thead th {\n",
       "        text-align: right;\n",
       "    }\n",
       "</style>\n",
       "<table border=\"1\" class=\"dataframe\">\n",
       "  <thead>\n",
       "    <tr style=\"text-align: right;\">\n",
       "      <th></th>\n",
       "      <th>Date</th>\n",
       "      <th>SecuritiesCode</th>\n",
       "      <th>Rank</th>\n",
       "    </tr>\n",
       "  </thead>\n",
       "  <tbody>\n",
       "    <tr>\n",
       "      <th>0</th>\n",
       "      <td>2021-12-07</td>\n",
       "      <td>1301</td>\n",
       "      <td>1470</td>\n",
       "    </tr>\n",
       "    <tr>\n",
       "      <th>1</th>\n",
       "      <td>2021-12-07</td>\n",
       "      <td>1332</td>\n",
       "      <td>160</td>\n",
       "    </tr>\n",
       "    <tr>\n",
       "      <th>2</th>\n",
       "      <td>2021-12-07</td>\n",
       "      <td>1333</td>\n",
       "      <td>1264</td>\n",
       "    </tr>\n",
       "    <tr>\n",
       "      <th>3</th>\n",
       "      <td>2021-12-07</td>\n",
       "      <td>1375</td>\n",
       "      <td>624</td>\n",
       "    </tr>\n",
       "    <tr>\n",
       "      <th>4</th>\n",
       "      <td>2021-12-07</td>\n",
       "      <td>1376</td>\n",
       "      <td>727</td>\n",
       "    </tr>\n",
       "    <tr>\n",
       "      <th>...</th>\n",
       "      <td>...</td>\n",
       "      <td>...</td>\n",
       "      <td>...</td>\n",
       "    </tr>\n",
       "    <tr>\n",
       "      <th>1995</th>\n",
       "      <td>2021-12-07</td>\n",
       "      <td>9990</td>\n",
       "      <td>130</td>\n",
       "    </tr>\n",
       "    <tr>\n",
       "      <th>1996</th>\n",
       "      <td>2021-12-07</td>\n",
       "      <td>9991</td>\n",
       "      <td>310</td>\n",
       "    </tr>\n",
       "    <tr>\n",
       "      <th>1997</th>\n",
       "      <td>2021-12-07</td>\n",
       "      <td>9993</td>\n",
       "      <td>893</td>\n",
       "    </tr>\n",
       "    <tr>\n",
       "      <th>1998</th>\n",
       "      <td>2021-12-07</td>\n",
       "      <td>9994</td>\n",
       "      <td>1306</td>\n",
       "    </tr>\n",
       "    <tr>\n",
       "      <th>1999</th>\n",
       "      <td>2021-12-07</td>\n",
       "      <td>9997</td>\n",
       "      <td>251</td>\n",
       "    </tr>\n",
       "  </tbody>\n",
       "</table>\n",
       "<p>2000 rows × 3 columns</p>\n",
       "</div>"
      ],
      "text/plain": [
       "            Date  SecuritiesCode  Rank\n",
       "0     2021-12-07            1301  1470\n",
       "1     2021-12-07            1332   160\n",
       "2     2021-12-07            1333  1264\n",
       "3     2021-12-07            1375   624\n",
       "4     2021-12-07            1376   727\n",
       "...          ...             ...   ...\n",
       "1995  2021-12-07            9990   130\n",
       "1996  2021-12-07            9991   310\n",
       "1997  2021-12-07            9993   893\n",
       "1998  2021-12-07            9994  1306\n",
       "1999  2021-12-07            9997   251\n",
       "\n",
       "[2000 rows x 3 columns]"
      ]
     },
     "execution_count": 28,
     "metadata": {},
     "output_type": "execute_result"
    }
   ],
   "source": [
    "sample_prediction"
   ]
  },
  {
   "cell_type": "code",
   "execution_count": null,
   "id": "4ffd0c3c",
   "metadata": {
    "papermill": {
     "duration": 0.377001,
     "end_time": "2022-06-28T07:36:11.826113",
     "exception": false,
     "start_time": "2022-06-28T07:36:11.449112",
     "status": "completed"
    },
    "tags": []
   },
   "outputs": [],
   "source": []
  }
 ],
 "metadata": {
  "kernelspec": {
   "display_name": "Python 3",
   "language": "python",
   "name": "python3"
  },
  "language_info": {
   "codemirror_mode": {
    "name": "ipython",
    "version": 3
   },
   "file_extension": ".py",
   "mimetype": "text/x-python",
   "name": "python",
   "nbconvert_exporter": "python",
   "pygments_lexer": "ipython3",
   "version": "3.7.12"
  },
  "papermill": {
   "default_parameters": {},
   "duration": 1765.706606,
   "end_time": "2022-06-28T07:36:15.309229",
   "environment_variables": {},
   "exception": null,
   "input_path": "__notebook__.ipynb",
   "output_path": "__notebook__.ipynb",
   "parameters": {},
   "start_time": "2022-06-28T07:06:49.602623",
   "version": "2.3.4"
  }
 },
 "nbformat": 4,
 "nbformat_minor": 5
}
