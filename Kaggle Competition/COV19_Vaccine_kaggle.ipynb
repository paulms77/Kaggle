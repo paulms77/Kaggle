{
  "nbformat": 4,
  "nbformat_minor": 0,
  "metadata": {
    "colab": {
      "name": "COV19_Vaccine_kaggle.ipynb",
      "provenance": [],
      "collapsed_sections": []
    },
    "kernelspec": {
      "name": "python3",
      "display_name": "Python 3"
    }
  },
  "cells": [
    {
      "cell_type": "markdown",
      "metadata": {
        "id": "DxkQs-pCeOhB"
      },
      "source": [
        "앙상블 - \n",
        "OpenVaccine: COVID-19 mRNA Vaccine Degradation Prediction"
      ]
    },
    {
      "cell_type": "code",
      "metadata": {
        "id": "SPok6XmsZQuS"
      },
      "source": [
        "import pandas as pd\n",
        "import numpy as np\n",
        "import re"
      ],
      "execution_count": null,
      "outputs": []
    },
    {
      "cell_type": "code",
      "metadata": {
        "id": "slkddnhDXx9T"
      },
      "source": [
        "sub1 = pd.read_csv('sample_submission.csv')\n",
        "sub2 = pd.read_csv('submission (7).csv')\n",
        "#sub3 = pd.read_csv('submission (8).csv')\n",
        "#sub4 = pd.read_csv('submission (9).csv')\n",
        "sub5 = pd.read_csv('submission_lstm_gru_ensemble.csv')\n",
        "#sub6 = pd.read_csv('')\n",
        "#sub7 = pd.read_csv('') \n",
        "#sub8 = pd.read_csv('')\n",
        "#sub9 = pd.read_csv('')\n",
        "#sub10 = pd.read_csv('')\n",
        "# 앙상블모형은 점수가 높은것들을 조합해야 대부분 점수가 좋게 나옴"
      ],
      "execution_count": null,
      "outputs": []
    },
    {
      "cell_type": "code",
      "metadata": {
        "id": "dcdYdQFrX8ux"
      },
      "source": [
        "sub = sub1\n",
        "\n",
        "subs = [sub2, sub5]"
      ],
      "execution_count": null,
      "outputs": []
    },
    {
      "cell_type": "code",
      "metadata": {
        "id": "A0ekVZBBX-JS"
      },
      "source": [
        "for col in  ['reactivity', 'deg_Mg_pH10', 'deg_pH10', 'deg_Mg_50C', 'deg_50C']:\n",
        "    for model in subs:\n",
        "        sub[col] += model[col]\n",
        "    sub[col] /= 3"
      ],
      "execution_count": null,
      "outputs": []
    },
    {
      "cell_type": "code",
      "metadata": {
        "id": "s7XYE0dyYBKK"
      },
      "source": [
        "sub.to_csv('submissionfinal.csv', index = False)"
      ],
      "execution_count": null,
      "outputs": []
    },
    {
      "cell_type": "code",
      "metadata": {
        "id": "T2Y-j0XRZa_D",
        "colab": {
          "base_uri": "https://localhost:8080/",
          "height": 410
        },
        "outputId": "1a055997-d928-498c-f8f7-60428a1ebe8e"
      },
      "source": [
        "sub"
      ],
      "execution_count": null,
      "outputs": [
        {
          "output_type": "execute_result",
          "data": {
            "text/html": [
              "<div>\n",
              "<style scoped>\n",
              "    .dataframe tbody tr th:only-of-type {\n",
              "        vertical-align: middle;\n",
              "    }\n",
              "\n",
              "    .dataframe tbody tr th {\n",
              "        vertical-align: top;\n",
              "    }\n",
              "\n",
              "    .dataframe thead th {\n",
              "        text-align: right;\n",
              "    }\n",
              "</style>\n",
              "<table border=\"1\" class=\"dataframe\">\n",
              "  <thead>\n",
              "    <tr style=\"text-align: right;\">\n",
              "      <th></th>\n",
              "      <th>id_seqpos</th>\n",
              "      <th>reactivity</th>\n",
              "      <th>deg_Mg_pH10</th>\n",
              "      <th>deg_pH10</th>\n",
              "      <th>deg_Mg_50C</th>\n",
              "      <th>deg_50C</th>\n",
              "    </tr>\n",
              "  </thead>\n",
              "  <tbody>\n",
              "    <tr>\n",
              "      <th>0</th>\n",
              "      <td>id_00073f8be_0</td>\n",
              "      <td>0.475653</td>\n",
              "      <td>0.441873</td>\n",
              "      <td>0.624358</td>\n",
              "      <td>0.369381</td>\n",
              "      <td>0.262443</td>\n",
              "    </tr>\n",
              "    <tr>\n",
              "      <th>1</th>\n",
              "      <td>id_00073f8be_1</td>\n",
              "      <td>1.449071</td>\n",
              "      <td>1.998058</td>\n",
              "      <td>1.567893</td>\n",
              "      <td>2.032553</td>\n",
              "      <td>0.943534</td>\n",
              "    </tr>\n",
              "    <tr>\n",
              "      <th>2</th>\n",
              "      <td>id_00073f8be_2</td>\n",
              "      <td>0.991209</td>\n",
              "      <td>0.409771</td>\n",
              "      <td>0.308754</td>\n",
              "      <td>0.536826</td>\n",
              "      <td>0.283530</td>\n",
              "    </tr>\n",
              "    <tr>\n",
              "      <th>3</th>\n",
              "      <td>id_00073f8be_3</td>\n",
              "      <td>0.850133</td>\n",
              "      <td>0.676066</td>\n",
              "      <td>0.433054</td>\n",
              "      <td>1.006839</td>\n",
              "      <td>0.579776</td>\n",
              "    </tr>\n",
              "    <tr>\n",
              "      <th>4</th>\n",
              "      <td>id_00073f8be_4</td>\n",
              "      <td>0.533033</td>\n",
              "      <td>0.367335</td>\n",
              "      <td>0.194115</td>\n",
              "      <td>0.550369</td>\n",
              "      <td>0.277183</td>\n",
              "    </tr>\n",
              "    <tr>\n",
              "      <th>...</th>\n",
              "      <td>...</td>\n",
              "      <td>...</td>\n",
              "      <td>...</td>\n",
              "      <td>...</td>\n",
              "      <td>...</td>\n",
              "      <td>...</td>\n",
              "    </tr>\n",
              "    <tr>\n",
              "      <th>457948</th>\n",
              "      <td>id_ffda94f24_125</td>\n",
              "      <td>0.152987</td>\n",
              "      <td>0.305024</td>\n",
              "      <td>0.129930</td>\n",
              "      <td>0.390768</td>\n",
              "      <td>0.110637</td>\n",
              "    </tr>\n",
              "    <tr>\n",
              "      <th>457949</th>\n",
              "      <td>id_ffda94f24_126</td>\n",
              "      <td>0.244672</td>\n",
              "      <td>0.328006</td>\n",
              "      <td>0.284997</td>\n",
              "      <td>0.444364</td>\n",
              "      <td>0.259942</td>\n",
              "    </tr>\n",
              "    <tr>\n",
              "      <th>457950</th>\n",
              "      <td>id_ffda94f24_127</td>\n",
              "      <td>0.430846</td>\n",
              "      <td>0.165513</td>\n",
              "      <td>0.121796</td>\n",
              "      <td>0.255845</td>\n",
              "      <td>0.186715</td>\n",
              "    </tr>\n",
              "    <tr>\n",
              "      <th>457951</th>\n",
              "      <td>id_ffda94f24_128</td>\n",
              "      <td>0.142141</td>\n",
              "      <td>0.172911</td>\n",
              "      <td>0.079240</td>\n",
              "      <td>0.247005</td>\n",
              "      <td>0.082505</td>\n",
              "    </tr>\n",
              "    <tr>\n",
              "      <th>457952</th>\n",
              "      <td>id_ffda94f24_129</td>\n",
              "      <td>0.121749</td>\n",
              "      <td>0.289322</td>\n",
              "      <td>0.161703</td>\n",
              "      <td>0.390596</td>\n",
              "      <td>0.158527</td>\n",
              "    </tr>\n",
              "  </tbody>\n",
              "</table>\n",
              "<p>457953 rows × 6 columns</p>\n",
              "</div>"
            ],
            "text/plain": [
              "               id_seqpos  reactivity  ...  deg_Mg_50C   deg_50C\n",
              "0         id_00073f8be_0    0.475653  ...    0.369381  0.262443\n",
              "1         id_00073f8be_1    1.449071  ...    2.032553  0.943534\n",
              "2         id_00073f8be_2    0.991209  ...    0.536826  0.283530\n",
              "3         id_00073f8be_3    0.850133  ...    1.006839  0.579776\n",
              "4         id_00073f8be_4    0.533033  ...    0.550369  0.277183\n",
              "...                  ...         ...  ...         ...       ...\n",
              "457948  id_ffda94f24_125    0.152987  ...    0.390768  0.110637\n",
              "457949  id_ffda94f24_126    0.244672  ...    0.444364  0.259942\n",
              "457950  id_ffda94f24_127    0.430846  ...    0.255845  0.186715\n",
              "457951  id_ffda94f24_128    0.142141  ...    0.247005  0.082505\n",
              "457952  id_ffda94f24_129    0.121749  ...    0.390596  0.158527\n",
              "\n",
              "[457953 rows x 6 columns]"
            ]
          },
          "metadata": {
            "tags": []
          },
          "execution_count": 26
        }
      ]
    },
    {
      "cell_type": "code",
      "metadata": {
        "id": "wXGk7wQfd-3X"
      },
      "source": [
        ""
      ],
      "execution_count": null,
      "outputs": []
    }
  ]
}