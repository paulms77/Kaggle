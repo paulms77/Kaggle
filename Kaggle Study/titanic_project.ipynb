{
  "nbformat": 4,
  "nbformat_minor": 0,
  "metadata": {
    "colab": {
      "name": "titanic_project.ipynb",
      "provenance": [],
      "collapsed_sections": []
    },
    "kernelspec": {
      "name": "python3",
      "display_name": "Python 3"
    }
  },
  "cells": [
    {
      "cell_type": "markdown",
      "metadata": {
        "id": "UwVePeHobpkY"
      },
      "source": [
        "PassengerId: 승객의 아이디\n",
        "\n",
        "Survived: 생존 여부(0 과 1로 이루어져 있음)\n",
        "\n",
        "Pclass : 티켓의 클래스 (1,2,3)\n",
        "\n",
        "Sex: 성별\n",
        "\n",
        "Age: 나이\n",
        "\n",
        "SibSp: 함께 탑승한 형제와 배우자의 수\n",
        "\n",
        "Parch: 함께 탑승한 부모, 아이의 수\n",
        "\n",
        "Ticket: 티켓 번호\n",
        "\n",
        "Fare: 탑승료\n",
        "\n",
        "Cabin: 객실 번호\n",
        "\n",
        "Embared: 탑승 항구"
      ]
    },
    {
      "cell_type": "code",
      "metadata": {
        "id": "1RgUVO8ytCcV"
      },
      "source": [
        "#흔히 사용되는 모델 알고리즘\n",
        "from sklearn import svm, tree, linear_model, neighbors, naive_bayes, ensemble, discriminant_analysis, gaussian_process\n",
        "from xgboost import XGBClassifier\n",
        "\n",
        "#흔히 쓰이는 모델 보조 툴\n",
        "from sklearn.preprocessing import OneHotEncoder, LabelEncoder\n",
        "from sklearn import feature_selection\n",
        "from sklearn import model_selection\n",
        "from sklearn import metrics"
      ],
      "execution_count": null,
      "outputs": []
    },
    {
      "cell_type": "code",
      "metadata": {
        "id": "IVGYOdKOImWS"
      },
      "source": [
        "import numpy as np\n",
        "import pandas as pd\n",
        "import matplotlib.pyplot as plt\n",
        "import seaborn as sns\n",
        "import pylab as pl\n",
        "%matplotlib inline\n",
        "\n",
        "titanic_train = pd.read_csv(\"train.csv\")\n",
        "titanic_test = pd.read_csv(\"test.csv\")"
      ],
      "execution_count": null,
      "outputs": []
    },
    {
      "cell_type": "code",
      "metadata": {
        "id": "n_lm55HGnGzu",
        "colab": {
          "base_uri": "https://localhost:8080/",
          "height": 386
        },
        "outputId": "aedce599-fe5e-4910-e056-15db5ac46eee"
      },
      "source": [
        "print(titanic_train.head(7))\n",
        "print(\"=\"*50)\n",
        "print(titanic_test.head(7))"
      ],
      "execution_count": null,
      "outputs": [
        {
          "output_type": "stream",
          "text": [
            "   PassengerId  Survived  Pclass  ...     Fare Cabin  Embarked\n",
            "0            1         0       3  ...   7.2500   NaN         S\n",
            "1            2         1       1  ...  71.2833   C85         C\n",
            "2            3         1       3  ...   7.9250   NaN         S\n",
            "3            4         1       1  ...  53.1000  C123         S\n",
            "4            5         0       3  ...   8.0500   NaN         S\n",
            "5            6         0       3  ...   8.4583   NaN         Q\n",
            "6            7         0       1  ...  51.8625   E46         S\n",
            "\n",
            "[7 rows x 12 columns]\n",
            "==================================================\n",
            "   PassengerId  Pclass  ... Cabin Embarked\n",
            "0          892       3  ...   NaN        Q\n",
            "1          893       3  ...   NaN        S\n",
            "2          894       2  ...   NaN        Q\n",
            "3          895       3  ...   NaN        S\n",
            "4          896       3  ...   NaN        S\n",
            "5          897       3  ...   NaN        S\n",
            "6          898       3  ...   NaN        Q\n",
            "\n",
            "[7 rows x 11 columns]\n"
          ],
          "name": "stdout"
        }
      ]
    },
    {
      "cell_type": "code",
      "metadata": {
        "id": "JaEQlJP9pBBu",
        "colab": {
          "base_uri": "https://localhost:8080/",
          "height": 351
        },
        "outputId": "6e2a17dc-d2e5-4fa8-a6d3-c7902f3c0b82"
      },
      "source": [
        "titanic_train.info()"
      ],
      "execution_count": null,
      "outputs": [
        {
          "output_type": "stream",
          "text": [
            "<class 'pandas.core.frame.DataFrame'>\n",
            "RangeIndex: 891 entries, 0 to 890\n",
            "Data columns (total 12 columns):\n",
            " #   Column       Non-Null Count  Dtype  \n",
            "---  ------       --------------  -----  \n",
            " 0   PassengerId  891 non-null    int64  \n",
            " 1   Survived     891 non-null    int64  \n",
            " 2   Pclass       891 non-null    int64  \n",
            " 3   Name         891 non-null    object \n",
            " 4   Sex          891 non-null    object \n",
            " 5   Age          714 non-null    float64\n",
            " 6   SibSp        891 non-null    int64  \n",
            " 7   Parch        891 non-null    int64  \n",
            " 8   Ticket       891 non-null    object \n",
            " 9   Fare         891 non-null    float64\n",
            " 10  Cabin        204 non-null    object \n",
            " 11  Embarked     889 non-null    object \n",
            "dtypes: float64(2), int64(5), object(5)\n",
            "memory usage: 83.7+ KB\n"
          ],
          "name": "stdout"
        }
      ]
    },
    {
      "cell_type": "code",
      "metadata": {
        "id": "olQcf7HNtbgG",
        "colab": {
          "base_uri": "https://localhost:8080/",
          "height": 402
        },
        "outputId": "5ce2ac0f-9826-4f10-e65b-bc18e717333a"
      },
      "source": [
        "titanic_train.sample(10) # 샘플 10개를 랜덤으로 추출"
      ],
      "execution_count": null,
      "outputs": [
        {
          "output_type": "execute_result",
          "data": {
            "text/html": [
              "<div>\n",
              "<style scoped>\n",
              "    .dataframe tbody tr th:only-of-type {\n",
              "        vertical-align: middle;\n",
              "    }\n",
              "\n",
              "    .dataframe tbody tr th {\n",
              "        vertical-align: top;\n",
              "    }\n",
              "\n",
              "    .dataframe thead th {\n",
              "        text-align: right;\n",
              "    }\n",
              "</style>\n",
              "<table border=\"1\" class=\"dataframe\">\n",
              "  <thead>\n",
              "    <tr style=\"text-align: right;\">\n",
              "      <th></th>\n",
              "      <th>PassengerId</th>\n",
              "      <th>Survived</th>\n",
              "      <th>Pclass</th>\n",
              "      <th>Name</th>\n",
              "      <th>Sex</th>\n",
              "      <th>Age</th>\n",
              "      <th>SibSp</th>\n",
              "      <th>Parch</th>\n",
              "      <th>Ticket</th>\n",
              "      <th>Fare</th>\n",
              "      <th>Cabin</th>\n",
              "      <th>Embarked</th>\n",
              "    </tr>\n",
              "  </thead>\n",
              "  <tbody>\n",
              "    <tr>\n",
              "      <th>759</th>\n",
              "      <td>760</td>\n",
              "      <td>1</td>\n",
              "      <td>1</td>\n",
              "      <td>Rothes, the Countess. of (Lucy Noel Martha Dye...</td>\n",
              "      <td>female</td>\n",
              "      <td>33.0</td>\n",
              "      <td>0</td>\n",
              "      <td>0</td>\n",
              "      <td>110152</td>\n",
              "      <td>86.5000</td>\n",
              "      <td>B77</td>\n",
              "      <td>S</td>\n",
              "    </tr>\n",
              "    <tr>\n",
              "      <th>277</th>\n",
              "      <td>278</td>\n",
              "      <td>0</td>\n",
              "      <td>2</td>\n",
              "      <td>Parkes, Mr. Francis \"Frank\"</td>\n",
              "      <td>male</td>\n",
              "      <td>NaN</td>\n",
              "      <td>0</td>\n",
              "      <td>0</td>\n",
              "      <td>239853</td>\n",
              "      <td>0.0000</td>\n",
              "      <td>NaN</td>\n",
              "      <td>S</td>\n",
              "    </tr>\n",
              "    <tr>\n",
              "      <th>441</th>\n",
              "      <td>442</td>\n",
              "      <td>0</td>\n",
              "      <td>3</td>\n",
              "      <td>Hampe, Mr. Leon</td>\n",
              "      <td>male</td>\n",
              "      <td>20.0</td>\n",
              "      <td>0</td>\n",
              "      <td>0</td>\n",
              "      <td>345769</td>\n",
              "      <td>9.5000</td>\n",
              "      <td>NaN</td>\n",
              "      <td>S</td>\n",
              "    </tr>\n",
              "    <tr>\n",
              "      <th>6</th>\n",
              "      <td>7</td>\n",
              "      <td>0</td>\n",
              "      <td>1</td>\n",
              "      <td>McCarthy, Mr. Timothy J</td>\n",
              "      <td>male</td>\n",
              "      <td>54.0</td>\n",
              "      <td>0</td>\n",
              "      <td>0</td>\n",
              "      <td>17463</td>\n",
              "      <td>51.8625</td>\n",
              "      <td>E46</td>\n",
              "      <td>S</td>\n",
              "    </tr>\n",
              "    <tr>\n",
              "      <th>557</th>\n",
              "      <td>558</td>\n",
              "      <td>0</td>\n",
              "      <td>1</td>\n",
              "      <td>Robbins, Mr. Victor</td>\n",
              "      <td>male</td>\n",
              "      <td>NaN</td>\n",
              "      <td>0</td>\n",
              "      <td>0</td>\n",
              "      <td>PC 17757</td>\n",
              "      <td>227.5250</td>\n",
              "      <td>NaN</td>\n",
              "      <td>C</td>\n",
              "    </tr>\n",
              "    <tr>\n",
              "      <th>222</th>\n",
              "      <td>223</td>\n",
              "      <td>0</td>\n",
              "      <td>3</td>\n",
              "      <td>Green, Mr. George Henry</td>\n",
              "      <td>male</td>\n",
              "      <td>51.0</td>\n",
              "      <td>0</td>\n",
              "      <td>0</td>\n",
              "      <td>21440</td>\n",
              "      <td>8.0500</td>\n",
              "      <td>NaN</td>\n",
              "      <td>S</td>\n",
              "    </tr>\n",
              "    <tr>\n",
              "      <th>591</th>\n",
              "      <td>592</td>\n",
              "      <td>1</td>\n",
              "      <td>1</td>\n",
              "      <td>Stephenson, Mrs. Walter Bertram (Martha Eustis)</td>\n",
              "      <td>female</td>\n",
              "      <td>52.0</td>\n",
              "      <td>1</td>\n",
              "      <td>0</td>\n",
              "      <td>36947</td>\n",
              "      <td>78.2667</td>\n",
              "      <td>D20</td>\n",
              "      <td>C</td>\n",
              "    </tr>\n",
              "    <tr>\n",
              "      <th>395</th>\n",
              "      <td>396</td>\n",
              "      <td>0</td>\n",
              "      <td>3</td>\n",
              "      <td>Johansson, Mr. Erik</td>\n",
              "      <td>male</td>\n",
              "      <td>22.0</td>\n",
              "      <td>0</td>\n",
              "      <td>0</td>\n",
              "      <td>350052</td>\n",
              "      <td>7.7958</td>\n",
              "      <td>NaN</td>\n",
              "      <td>S</td>\n",
              "    </tr>\n",
              "    <tr>\n",
              "      <th>392</th>\n",
              "      <td>393</td>\n",
              "      <td>0</td>\n",
              "      <td>3</td>\n",
              "      <td>Gustafsson, Mr. Johan Birger</td>\n",
              "      <td>male</td>\n",
              "      <td>28.0</td>\n",
              "      <td>2</td>\n",
              "      <td>0</td>\n",
              "      <td>3101277</td>\n",
              "      <td>7.9250</td>\n",
              "      <td>NaN</td>\n",
              "      <td>S</td>\n",
              "    </tr>\n",
              "    <tr>\n",
              "      <th>639</th>\n",
              "      <td>640</td>\n",
              "      <td>0</td>\n",
              "      <td>3</td>\n",
              "      <td>Thorneycroft, Mr. Percival</td>\n",
              "      <td>male</td>\n",
              "      <td>NaN</td>\n",
              "      <td>1</td>\n",
              "      <td>0</td>\n",
              "      <td>376564</td>\n",
              "      <td>16.1000</td>\n",
              "      <td>NaN</td>\n",
              "      <td>S</td>\n",
              "    </tr>\n",
              "  </tbody>\n",
              "</table>\n",
              "</div>"
            ],
            "text/plain": [
              "     PassengerId  Survived  Pclass  ...      Fare Cabin  Embarked\n",
              "759          760         1       1  ...   86.5000   B77         S\n",
              "277          278         0       2  ...    0.0000   NaN         S\n",
              "441          442         0       3  ...    9.5000   NaN         S\n",
              "6              7         0       1  ...   51.8625   E46         S\n",
              "557          558         0       1  ...  227.5250   NaN         C\n",
              "222          223         0       3  ...    8.0500   NaN         S\n",
              "591          592         1       1  ...   78.2667   D20         C\n",
              "395          396         0       3  ...    7.7958   NaN         S\n",
              "392          393         0       3  ...    7.9250   NaN         S\n",
              "639          640         0       3  ...   16.1000   NaN         S\n",
              "\n",
              "[10 rows x 12 columns]"
            ]
          },
          "metadata": {
            "tags": []
          },
          "execution_count": 200
        }
      ]
    },
    {
      "cell_type": "code",
      "metadata": {
        "id": "Fg--rPBFdK0L",
        "colab": {
          "base_uri": "https://localhost:8080/",
          "height": 70
        },
        "outputId": "efb07188-3122-4c02-ccf8-d0c4b77ec611"
      },
      "source": [
        "titanic_train.columns"
      ],
      "execution_count": null,
      "outputs": [
        {
          "output_type": "execute_result",
          "data": {
            "text/plain": [
              "Index(['PassengerId', 'Survived', 'Pclass', 'Name', 'Sex', 'Age', 'SibSp',\n",
              "       'Parch', 'Ticket', 'Fare', 'Cabin', 'Embarked'],\n",
              "      dtype='object')"
            ]
          },
          "metadata": {
            "tags": []
          },
          "execution_count": 201
        }
      ]
    },
    {
      "cell_type": "code",
      "metadata": {
        "id": "0DZIng-MdPSX",
        "colab": {
          "base_uri": "https://localhost:8080/",
          "height": 245
        },
        "outputId": "b481f377-343a-4507-e9f9-ccf7f95ffbac"
      },
      "source": [
        "titanic_train.isnull().sum() # 컬럼별 결측치 확인"
      ],
      "execution_count": null,
      "outputs": [
        {
          "output_type": "execute_result",
          "data": {
            "text/plain": [
              "PassengerId      0\n",
              "Survived         0\n",
              "Pclass           0\n",
              "Name             0\n",
              "Sex              0\n",
              "Age            177\n",
              "SibSp            0\n",
              "Parch            0\n",
              "Ticket           0\n",
              "Fare             0\n",
              "Cabin          687\n",
              "Embarked         2\n",
              "dtype: int64"
            ]
          },
          "metadata": {
            "tags": []
          },
          "execution_count": 202
        }
      ]
    },
    {
      "cell_type": "code",
      "metadata": {
        "id": "cdRpE0GKdw2u",
        "colab": {
          "base_uri": "https://localhost:8080/",
          "height": 228
        },
        "outputId": "99109dad-dd42-4164-b951-f420a6f2022a"
      },
      "source": [
        "titanic_test.isnull().sum() # 확인한 결과 Cabin컬럼에는 결측치가 무수히 많기때문에 쓸모없는 컬럼으로 추청"
      ],
      "execution_count": null,
      "outputs": [
        {
          "output_type": "execute_result",
          "data": {
            "text/plain": [
              "PassengerId      0\n",
              "Pclass           0\n",
              "Name             0\n",
              "Sex              0\n",
              "Age             86\n",
              "SibSp            0\n",
              "Parch            0\n",
              "Ticket           0\n",
              "Fare             1\n",
              "Cabin          327\n",
              "Embarked         0\n",
              "dtype: int64"
            ]
          },
          "metadata": {
            "tags": []
          },
          "execution_count": 203
        }
      ]
    },
    {
      "cell_type": "code",
      "metadata": {
        "id": "THBDUwjhjiuu",
        "colab": {
          "base_uri": "https://localhost:8080/",
          "height": 478
        },
        "outputId": "4eb4a2e0-cd4f-48f2-cec2-396c1b9bac47"
      },
      "source": [
        "# 복사본을 만든다.\n",
        "titanic_copy = titanic_train.copy(deep = True)\n",
        "titanic_copy"
      ],
      "execution_count": null,
      "outputs": [
        {
          "output_type": "execute_result",
          "data": {
            "text/html": [
              "<div>\n",
              "<style scoped>\n",
              "    .dataframe tbody tr th:only-of-type {\n",
              "        vertical-align: middle;\n",
              "    }\n",
              "\n",
              "    .dataframe tbody tr th {\n",
              "        vertical-align: top;\n",
              "    }\n",
              "\n",
              "    .dataframe thead th {\n",
              "        text-align: right;\n",
              "    }\n",
              "</style>\n",
              "<table border=\"1\" class=\"dataframe\">\n",
              "  <thead>\n",
              "    <tr style=\"text-align: right;\">\n",
              "      <th></th>\n",
              "      <th>PassengerId</th>\n",
              "      <th>Survived</th>\n",
              "      <th>Pclass</th>\n",
              "      <th>Name</th>\n",
              "      <th>Sex</th>\n",
              "      <th>Age</th>\n",
              "      <th>SibSp</th>\n",
              "      <th>Parch</th>\n",
              "      <th>Ticket</th>\n",
              "      <th>Fare</th>\n",
              "      <th>Cabin</th>\n",
              "      <th>Embarked</th>\n",
              "    </tr>\n",
              "  </thead>\n",
              "  <tbody>\n",
              "    <tr>\n",
              "      <th>0</th>\n",
              "      <td>1</td>\n",
              "      <td>0</td>\n",
              "      <td>3</td>\n",
              "      <td>Braund, Mr. Owen Harris</td>\n",
              "      <td>male</td>\n",
              "      <td>22.0</td>\n",
              "      <td>1</td>\n",
              "      <td>0</td>\n",
              "      <td>A/5 21171</td>\n",
              "      <td>7.2500</td>\n",
              "      <td>NaN</td>\n",
              "      <td>S</td>\n",
              "    </tr>\n",
              "    <tr>\n",
              "      <th>1</th>\n",
              "      <td>2</td>\n",
              "      <td>1</td>\n",
              "      <td>1</td>\n",
              "      <td>Cumings, Mrs. John Bradley (Florence Briggs Th...</td>\n",
              "      <td>female</td>\n",
              "      <td>38.0</td>\n",
              "      <td>1</td>\n",
              "      <td>0</td>\n",
              "      <td>PC 17599</td>\n",
              "      <td>71.2833</td>\n",
              "      <td>C85</td>\n",
              "      <td>C</td>\n",
              "    </tr>\n",
              "    <tr>\n",
              "      <th>2</th>\n",
              "      <td>3</td>\n",
              "      <td>1</td>\n",
              "      <td>3</td>\n",
              "      <td>Heikkinen, Miss. Laina</td>\n",
              "      <td>female</td>\n",
              "      <td>26.0</td>\n",
              "      <td>0</td>\n",
              "      <td>0</td>\n",
              "      <td>STON/O2. 3101282</td>\n",
              "      <td>7.9250</td>\n",
              "      <td>NaN</td>\n",
              "      <td>S</td>\n",
              "    </tr>\n",
              "    <tr>\n",
              "      <th>3</th>\n",
              "      <td>4</td>\n",
              "      <td>1</td>\n",
              "      <td>1</td>\n",
              "      <td>Futrelle, Mrs. Jacques Heath (Lily May Peel)</td>\n",
              "      <td>female</td>\n",
              "      <td>35.0</td>\n",
              "      <td>1</td>\n",
              "      <td>0</td>\n",
              "      <td>113803</td>\n",
              "      <td>53.1000</td>\n",
              "      <td>C123</td>\n",
              "      <td>S</td>\n",
              "    </tr>\n",
              "    <tr>\n",
              "      <th>4</th>\n",
              "      <td>5</td>\n",
              "      <td>0</td>\n",
              "      <td>3</td>\n",
              "      <td>Allen, Mr. William Henry</td>\n",
              "      <td>male</td>\n",
              "      <td>35.0</td>\n",
              "      <td>0</td>\n",
              "      <td>0</td>\n",
              "      <td>373450</td>\n",
              "      <td>8.0500</td>\n",
              "      <td>NaN</td>\n",
              "      <td>S</td>\n",
              "    </tr>\n",
              "    <tr>\n",
              "      <th>...</th>\n",
              "      <td>...</td>\n",
              "      <td>...</td>\n",
              "      <td>...</td>\n",
              "      <td>...</td>\n",
              "      <td>...</td>\n",
              "      <td>...</td>\n",
              "      <td>...</td>\n",
              "      <td>...</td>\n",
              "      <td>...</td>\n",
              "      <td>...</td>\n",
              "      <td>...</td>\n",
              "      <td>...</td>\n",
              "    </tr>\n",
              "    <tr>\n",
              "      <th>886</th>\n",
              "      <td>887</td>\n",
              "      <td>0</td>\n",
              "      <td>2</td>\n",
              "      <td>Montvila, Rev. Juozas</td>\n",
              "      <td>male</td>\n",
              "      <td>27.0</td>\n",
              "      <td>0</td>\n",
              "      <td>0</td>\n",
              "      <td>211536</td>\n",
              "      <td>13.0000</td>\n",
              "      <td>NaN</td>\n",
              "      <td>S</td>\n",
              "    </tr>\n",
              "    <tr>\n",
              "      <th>887</th>\n",
              "      <td>888</td>\n",
              "      <td>1</td>\n",
              "      <td>1</td>\n",
              "      <td>Graham, Miss. Margaret Edith</td>\n",
              "      <td>female</td>\n",
              "      <td>19.0</td>\n",
              "      <td>0</td>\n",
              "      <td>0</td>\n",
              "      <td>112053</td>\n",
              "      <td>30.0000</td>\n",
              "      <td>B42</td>\n",
              "      <td>S</td>\n",
              "    </tr>\n",
              "    <tr>\n",
              "      <th>888</th>\n",
              "      <td>889</td>\n",
              "      <td>0</td>\n",
              "      <td>3</td>\n",
              "      <td>Johnston, Miss. Catherine Helen \"Carrie\"</td>\n",
              "      <td>female</td>\n",
              "      <td>NaN</td>\n",
              "      <td>1</td>\n",
              "      <td>2</td>\n",
              "      <td>W./C. 6607</td>\n",
              "      <td>23.4500</td>\n",
              "      <td>NaN</td>\n",
              "      <td>S</td>\n",
              "    </tr>\n",
              "    <tr>\n",
              "      <th>889</th>\n",
              "      <td>890</td>\n",
              "      <td>1</td>\n",
              "      <td>1</td>\n",
              "      <td>Behr, Mr. Karl Howell</td>\n",
              "      <td>male</td>\n",
              "      <td>26.0</td>\n",
              "      <td>0</td>\n",
              "      <td>0</td>\n",
              "      <td>111369</td>\n",
              "      <td>30.0000</td>\n",
              "      <td>C148</td>\n",
              "      <td>C</td>\n",
              "    </tr>\n",
              "    <tr>\n",
              "      <th>890</th>\n",
              "      <td>891</td>\n",
              "      <td>0</td>\n",
              "      <td>3</td>\n",
              "      <td>Dooley, Mr. Patrick</td>\n",
              "      <td>male</td>\n",
              "      <td>32.0</td>\n",
              "      <td>0</td>\n",
              "      <td>0</td>\n",
              "      <td>370376</td>\n",
              "      <td>7.7500</td>\n",
              "      <td>NaN</td>\n",
              "      <td>Q</td>\n",
              "    </tr>\n",
              "  </tbody>\n",
              "</table>\n",
              "<p>891 rows × 12 columns</p>\n",
              "</div>"
            ],
            "text/plain": [
              "     PassengerId  Survived  Pclass  ...     Fare Cabin  Embarked\n",
              "0              1         0       3  ...   7.2500   NaN         S\n",
              "1              2         1       1  ...  71.2833   C85         C\n",
              "2              3         1       3  ...   7.9250   NaN         S\n",
              "3              4         1       1  ...  53.1000  C123         S\n",
              "4              5         0       3  ...   8.0500   NaN         S\n",
              "..           ...       ...     ...  ...      ...   ...       ...\n",
              "886          887         0       2  ...  13.0000   NaN         S\n",
              "887          888         1       1  ...  30.0000   B42         S\n",
              "888          889         0       3  ...  23.4500   NaN         S\n",
              "889          890         1       1  ...  30.0000  C148         C\n",
              "890          891         0       3  ...   7.7500   NaN         Q\n",
              "\n",
              "[891 rows x 12 columns]"
            ]
          },
          "metadata": {
            "tags": []
          },
          "execution_count": 204
        }
      ]
    },
    {
      "cell_type": "code",
      "metadata": {
        "id": "bjCyWaJkun7H"
      },
      "source": [
        "titanic_df = [titanic_copy,titanic_test] # 묶음처리"
      ],
      "execution_count": null,
      "outputs": []
    },
    {
      "cell_type": "code",
      "metadata": {
        "id": "YsXGRnIEWxDK",
        "colab": {
          "base_uri": "https://localhost:8080/",
          "height": 140
        },
        "outputId": "e3e71a3f-07df-4bd9-d3fb-9df02e95f054"
      },
      "source": [
        "age_by_pclass_sex = titanic_copy.groupby(['Sex', 'Pclass']).median()['Age']\n",
        "\n",
        "for pclass in range(1, 4):\n",
        "    for sex in ['female', 'male']:\n",
        "        print('Median age of Pclass {} {}s: {}'.format(pclass, sex, age_by_pclass_sex[sex][pclass]))\n",
        "print('Median age of all passengers: {}'.format(titanic_copy['Age'].median()))"
      ],
      "execution_count": null,
      "outputs": [
        {
          "output_type": "stream",
          "text": [
            "Median age of Pclass 1 females: 35.0\n",
            "Median age of Pclass 1 males: 40.0\n",
            "Median age of Pclass 2 females: 28.0\n",
            "Median age of Pclass 2 males: 30.0\n",
            "Median age of Pclass 3 females: 21.5\n",
            "Median age of Pclass 3 males: 25.0\n",
            "Median age of all passengers: 28.0\n"
          ],
          "name": "stdout"
        }
      ]
    },
    {
      "cell_type": "code",
      "metadata": {
        "id": "FuWGasirWj0a",
        "colab": {
          "base_uri": "https://localhost:8080/",
          "height": 140
        },
        "outputId": "313e377b-0152-4c9b-f944-be09d2ba8a25"
      },
      "source": [
        "age_by_pclass_sex = titanic_test.groupby(['Sex', 'Pclass']).median()['Age']\n",
        "\n",
        "for pclass in range(1, 4):\n",
        "    for sex in ['female', 'male']:\n",
        "        print('Median age of Pclass {} {}s: {}'.format(pclass, sex, age_by_pclass_sex[sex][pclass]))\n",
        "print('Median age of all passengers: {}'.format(titanic_test['Age'].median()))"
      ],
      "execution_count": null,
      "outputs": [
        {
          "output_type": "stream",
          "text": [
            "Median age of Pclass 1 females: 41.0\n",
            "Median age of Pclass 1 males: 42.0\n",
            "Median age of Pclass 2 females: 24.0\n",
            "Median age of Pclass 2 males: 28.0\n",
            "Median age of Pclass 3 females: 22.0\n",
            "Median age of Pclass 3 males: 24.0\n",
            "Median age of all passengers: 27.0\n"
          ],
          "name": "stdout"
        }
      ]
    },
    {
      "cell_type": "code",
      "metadata": {
        "id": "TD-TGnJmW9W2"
      },
      "source": [
        "titanic_copy['Age'] = titanic_copy.groupby(['Sex', 'Pclass'])['Age'].apply(lambda x: x.fillna(x.median()))"
      ],
      "execution_count": null,
      "outputs": []
    },
    {
      "cell_type": "code",
      "metadata": {
        "id": "TIOQfESmW9-9"
      },
      "source": [
        "titanic_test['Age'] = titanic_test.groupby(['Sex', 'Pclass'])['Age'].apply(lambda x: x.fillna(x.median()))"
      ],
      "execution_count": null,
      "outputs": []
    },
    {
      "cell_type": "code",
      "metadata": {
        "id": "ZBXgFjbsXawv"
      },
      "source": [
        "common_value = 'S'\n",
        "for dataset in titanic_df:\n",
        "    dataset['Embarked'] = dataset['Embarked'].fillna(common_value)"
      ],
      "execution_count": null,
      "outputs": []
    },
    {
      "cell_type": "code",
      "metadata": {
        "id": "M5iUDrToXjjO",
        "colab": {
          "base_uri": "https://localhost:8080/",
          "height": 34
        },
        "outputId": "bc6e8d7d-f63a-4296-854c-5552057f9f53"
      },
      "source": [
        "med_fare = titanic_test.groupby(['Pclass', 'Parch', 'SibSp']).Fare.median()[3][0][0]\n",
        "print(med_fare)\n",
        "fare = [titanic_test]\n",
        "\n",
        "for dataset in fare:\n",
        "    dataset['Fare'] = dataset['Fare'].fillna(med_fare)"
      ],
      "execution_count": null,
      "outputs": [
        {
          "output_type": "stream",
          "text": [
            "7.7958\n"
          ],
          "name": "stdout"
        }
      ]
    },
    {
      "cell_type": "code",
      "metadata": {
        "id": "x3tCTydepFsh"
      },
      "source": [
        "drop_column = ['PassengerId','Cabin', 'Ticket']\n",
        "titanic_copy.drop(drop_column, axis=1, inplace = True)"
      ],
      "execution_count": null,
      "outputs": []
    },
    {
      "cell_type": "code",
      "metadata": {
        "id": "_tPsQIvsyMIZ",
        "colab": {
          "base_uri": "https://localhost:8080/",
          "height": 421
        },
        "outputId": "47773a05-9183-4444-af6b-33f4086726af"
      },
      "source": [
        "print(titanic_copy.isnull().sum())\n",
        "print(\"=\"*40)\n",
        "print(titanic_test.isnull().sum())"
      ],
      "execution_count": null,
      "outputs": [
        {
          "output_type": "stream",
          "text": [
            "Survived    0\n",
            "Pclass      0\n",
            "Name        0\n",
            "Sex         0\n",
            "Age         0\n",
            "SibSp       0\n",
            "Parch       0\n",
            "Fare        0\n",
            "Embarked    0\n",
            "dtype: int64\n",
            "========================================\n",
            "PassengerId      0\n",
            "Pclass           0\n",
            "Name             0\n",
            "Sex              0\n",
            "Age              0\n",
            "SibSp            0\n",
            "Parch            0\n",
            "Ticket           0\n",
            "Fare             0\n",
            "Cabin          327\n",
            "Embarked         0\n",
            "dtype: int64\n"
          ],
          "name": "stdout"
        }
      ]
    },
    {
      "cell_type": "code",
      "metadata": {
        "id": "VoEC8iioCChh",
        "colab": {
          "base_uri": "https://localhost:8080/",
          "height": 228
        },
        "outputId": "dcdbb808-3496-46e9-84c5-5ffa5929bb98"
      },
      "source": [
        "titanic_copy['Name'] # , . 기준으로 나눈다."
      ],
      "execution_count": null,
      "outputs": [
        {
          "output_type": "execute_result",
          "data": {
            "text/plain": [
              "0                                Braund, Mr. Owen Harris\n",
              "1      Cumings, Mrs. John Bradley (Florence Briggs Th...\n",
              "2                                 Heikkinen, Miss. Laina\n",
              "3           Futrelle, Mrs. Jacques Heath (Lily May Peel)\n",
              "4                               Allen, Mr. William Henry\n",
              "                             ...                        \n",
              "886                                Montvila, Rev. Juozas\n",
              "887                         Graham, Miss. Margaret Edith\n",
              "888             Johnston, Miss. Catherine Helen \"Carrie\"\n",
              "889                                Behr, Mr. Karl Howell\n",
              "890                                  Dooley, Mr. Patrick\n",
              "Name: Name, Length: 891, dtype: object"
            ]
          },
          "metadata": {
            "tags": []
          },
          "execution_count": 214
        }
      ]
    },
    {
      "cell_type": "code",
      "metadata": {
        "id": "FeuGvBS7HXmh",
        "colab": {
          "base_uri": "https://localhost:8080/",
          "height": 228
        },
        "outputId": "a4eeb4c1-93be-4d5e-eb41-9f055e0e9ea6"
      },
      "source": [
        "titanic_copy['Fare']"
      ],
      "execution_count": null,
      "outputs": [
        {
          "output_type": "execute_result",
          "data": {
            "text/plain": [
              "0       7.2500\n",
              "1      71.2833\n",
              "2       7.9250\n",
              "3      53.1000\n",
              "4       8.0500\n",
              "        ...   \n",
              "886    13.0000\n",
              "887    30.0000\n",
              "888    23.4500\n",
              "889    30.0000\n",
              "890     7.7500\n",
              "Name: Fare, Length: 891, dtype: float64"
            ]
          },
          "metadata": {
            "tags": []
          },
          "execution_count": 215
        }
      ]
    },
    {
      "cell_type": "code",
      "metadata": {
        "id": "Oo9cBtHpYNeF",
        "colab": {
          "base_uri": "https://localhost:8080/",
          "height": 122
        },
        "outputId": "9b92b3c3-594b-40fd-b655-3598f88aa194"
      },
      "source": [
        "pd.qcut(titanic_copy['Age'], 5).value_counts()\n",
        "pd.qcut(titanic_copy['Fare'], 5).value_counts()"
      ],
      "execution_count": null,
      "outputs": [
        {
          "output_type": "execute_result",
          "data": {
            "text/plain": [
              "(7.854, 10.5]        184\n",
              "(21.679, 39.688]     180\n",
              "(-0.001, 7.854]      179\n",
              "(39.688, 512.329]    176\n",
              "(10.5, 21.679]       172\n",
              "Name: Fare, dtype: int64"
            ]
          },
          "metadata": {
            "tags": []
          },
          "execution_count": 216
        }
      ]
    },
    {
      "cell_type": "code",
      "metadata": {
        "id": "En-Pj_VsCQCB"
      },
      "source": [
        "for dataset in titanic_df:\n",
        "  dataset['Title'] = dataset['Name'].str.split(',',expand=True)[1].str.split('.',expand=True)[0] # Name 전처리\n",
        "  dataset['FamilySize'] = dataset['Parch']+dataset['SibSp']+1 # Parch,SibSp 전처리\n",
        "  dataset['IsAlone'] = 1 #혼자일 경우 1\n",
        "  dataset['IsAlone'].loc[dataset['FamilySize'] > 1] = 0 # 1명이 이상일 경우 0"
      ],
      "execution_count": null,
      "outputs": []
    },
    {
      "cell_type": "code",
      "metadata": {
        "id": "Zr8A2J1nVgVX"
      },
      "source": [
        "#Age 전처리\n",
        "for dataset in titanic_df:\n",
        "    dataset['preAge'] = dataset['Age'].astype(int)\n",
        "    dataset.loc[ dataset['preAge'] <= 20, 'preAge'] = 0\n",
        "    dataset.loc[(dataset['preAge'] > 20) & (dataset['preAge'] <= 25), 'preAge'] = 1\n",
        "    dataset.loc[(dataset['preAge'] > 25) & (dataset['preAge'] <= 30), 'preAge'] = 2\n",
        "    dataset.loc[(dataset['preAge'] > 30) & (dataset['preAge'] <= 40), 'preAge'] = 3\n",
        "    dataset.loc[(dataset['preAge'] > 40) & (dataset['preAge'] <= 80), 'preAge'] = 4"
      ],
      "execution_count": null,
      "outputs": []
    },
    {
      "cell_type": "code",
      "metadata": {
        "id": "uztyd1FnVE7J"
      },
      "source": [
        "# Fare 전처리\n",
        "for dataset in titanic_df:\n",
        "    dataset['preFare'] = dataset['Fare'].astype(int)\n",
        "    dataset.loc[ dataset['preFare'] <= 7.854, 'preFare'] = 0\n",
        "    dataset.loc[(dataset['preFare'] > 7.854) & (dataset['preFare'] <= 10.5), 'preFare'] = 1\n",
        "    dataset.loc[(dataset['preFare'] > 10.5) & (dataset['preFare'] <= 21.679), 'preFare'] = 2\n",
        "    dataset.loc[(dataset['preFare'] > 21.679) & (dataset['preFare'] <= 39.688), 'preFare'] = 3\n",
        "    dataset.loc[(dataset['preFare'] > 39.688) & (dataset['preFare'] <= 513), 'preFare'] = 4"
      ],
      "execution_count": null,
      "outputs": []
    },
    {
      "cell_type": "code",
      "metadata": {
        "id": "afjdhua9VVlQ",
        "colab": {
          "base_uri": "https://localhost:8080/",
          "height": 228
        },
        "outputId": "114b7991-5f3b-4559-e573-bdc391835939"
      },
      "source": [
        "titanic_test['Age'].value_counts()"
      ],
      "execution_count": null,
      "outputs": [
        {
          "output_type": "execute_result",
          "data": {
            "text/plain": [
              "24.0    68\n",
              "22.0    38\n",
              "21.0    17\n",
              "30.0    15\n",
              "18.0    13\n",
              "        ..\n",
              "60.5     1\n",
              "26.5     1\n",
              "76.0     1\n",
              "67.0     1\n",
              "34.5     1\n",
              "Name: Age, Length: 79, dtype: int64"
            ]
          },
          "metadata": {
            "tags": []
          },
          "execution_count": 220
        }
      ]
    },
    {
      "cell_type": "code",
      "metadata": {
        "id": "-bvLjpxOHo5k",
        "colab": {
          "base_uri": "https://localhost:8080/",
          "height": 650
        },
        "outputId": "a4bff127-2fae-467d-bf4a-5780bf3ac565"
      },
      "source": [
        "print(dataset['Title'].value_counts())\n",
        "print('='*30)\n",
        "print(dataset['FamilySize'])\n",
        "print('='*30)\n",
        "print(dataset['IsAlone'])"
      ],
      "execution_count": null,
      "outputs": [
        {
          "output_type": "stream",
          "text": [
            " Mr        240\n",
            " Miss       78\n",
            " Mrs        72\n",
            " Master     21\n",
            " Col         2\n",
            " Rev         2\n",
            " Dr          1\n",
            " Ms          1\n",
            " Dona        1\n",
            "Name: Title, dtype: int64\n",
            "==============================\n",
            "0      1\n",
            "1      2\n",
            "2      1\n",
            "3      1\n",
            "4      3\n",
            "      ..\n",
            "413    1\n",
            "414    1\n",
            "415    1\n",
            "416    1\n",
            "417    3\n",
            "Name: FamilySize, Length: 418, dtype: int64\n",
            "==============================\n",
            "0      1\n",
            "1      0\n",
            "2      1\n",
            "3      1\n",
            "4      0\n",
            "      ..\n",
            "413    1\n",
            "414    1\n",
            "415    1\n",
            "416    1\n",
            "417    0\n",
            "Name: IsAlone, Length: 418, dtype: int64\n"
          ],
          "name": "stdout"
        }
      ]
    },
    {
      "cell_type": "code",
      "metadata": {
        "id": "ymDscGP5IqRg",
        "colab": {
          "base_uri": "https://localhost:8080/",
          "height": 544
        },
        "outputId": "f085cfba-820a-4493-d866-91239a4ee00f"
      },
      "source": [
        "print(dataset['preAge'])\n",
        "print(dataset['preFare'])\n",
        "print(titanic_copy['preFare'].value_counts())"
      ],
      "execution_count": null,
      "outputs": [
        {
          "output_type": "stream",
          "text": [
            "0      3\n",
            "1      4\n",
            "2      4\n",
            "3      2\n",
            "4      1\n",
            "      ..\n",
            "413    1\n",
            "414    3\n",
            "415    3\n",
            "416    1\n",
            "417    1\n",
            "Name: preAge, Length: 418, dtype: int64\n",
            "0      0\n",
            "1      0\n",
            "2      1\n",
            "3      1\n",
            "4      2\n",
            "      ..\n",
            "413    1\n",
            "414    4\n",
            "415    0\n",
            "416    1\n",
            "417    3\n",
            "Name: preFare, Length: 418, dtype: int64\n",
            "0    241\n",
            "3    180\n",
            "4    176\n",
            "2    171\n",
            "1    123\n",
            "Name: preFare, dtype: int64\n"
          ],
          "name": "stdout"
        }
      ]
    },
    {
      "cell_type": "code",
      "metadata": {
        "id": "BzlJ8vvyJDWh",
        "colab": {
          "base_uri": "https://localhost:8080/",
          "height": 509
        },
        "outputId": "e8896c84-ab7f-4af2-8f41-ce5a02e6517c"
      },
      "source": [
        "print(titanic_copy['Title'].value_counts())\n",
        "print(titanic_test['Title'].value_counts())"
      ],
      "execution_count": null,
      "outputs": [
        {
          "output_type": "stream",
          "text": [
            " Mr              517\n",
            " Miss            182\n",
            " Mrs             125\n",
            " Master           40\n",
            " Dr                7\n",
            " Rev               6\n",
            " Col               2\n",
            " Major             2\n",
            " Mlle              2\n",
            " Don               1\n",
            " Jonkheer          1\n",
            " the Countess      1\n",
            " Ms                1\n",
            " Capt              1\n",
            " Lady              1\n",
            " Mme               1\n",
            " Sir               1\n",
            "Name: Title, dtype: int64\n",
            " Mr        240\n",
            " Miss       78\n",
            " Mrs        72\n",
            " Master     21\n",
            " Col         2\n",
            " Rev         2\n",
            " Dr          1\n",
            " Ms          1\n",
            " Dona        1\n",
            "Name: Title, dtype: int64\n"
          ],
          "name": "stdout"
        }
      ]
    },
    {
      "cell_type": "code",
      "metadata": {
        "id": "ODRE5BEpJui-",
        "colab": {
          "base_uri": "https://localhost:8080/",
          "height": 122
        },
        "outputId": "35ff0c0d-b2cf-4431-93d0-0d3368e859b7"
      },
      "source": [
        "# Title 전처리\n",
        "pre_min = 10 # 10 이하의 희소한 직위를 뽑아내기 위해\n",
        "title_names = (titanic_copy['Title'].value_counts() < pre_min) \n",
        "titanic_copy['Title'] = titanic_copy['Title'].apply(lambda x: 'Misc' if title_names.loc[x] == True else x)\n",
        "print(titanic_copy['Title'].value_counts())"
      ],
      "execution_count": null,
      "outputs": [
        {
          "output_type": "stream",
          "text": [
            " Mr        517\n",
            " Miss      182\n",
            " Mrs       125\n",
            " Master     40\n",
            "Misc        27\n",
            "Name: Title, dtype: int64\n"
          ],
          "name": "stdout"
        }
      ]
    },
    {
      "cell_type": "code",
      "metadata": {
        "id": "z8KH9F-WLj2M",
        "colab": {
          "base_uri": "https://localhost:8080/",
          "height": 386
        },
        "outputId": "7c3167af-b32b-4ef2-9f1b-afc97469e38a"
      },
      "source": [
        "titanic_copy.info()"
      ],
      "execution_count": null,
      "outputs": [
        {
          "output_type": "stream",
          "text": [
            "<class 'pandas.core.frame.DataFrame'>\n",
            "RangeIndex: 891 entries, 0 to 890\n",
            "Data columns (total 14 columns):\n",
            " #   Column      Non-Null Count  Dtype  \n",
            "---  ------      --------------  -----  \n",
            " 0   Survived    891 non-null    int64  \n",
            " 1   Pclass      891 non-null    int64  \n",
            " 2   Name        891 non-null    object \n",
            " 3   Sex         891 non-null    object \n",
            " 4   Age         891 non-null    float64\n",
            " 5   SibSp       891 non-null    int64  \n",
            " 6   Parch       891 non-null    int64  \n",
            " 7   Fare        891 non-null    float64\n",
            " 8   Embarked    891 non-null    object \n",
            " 9   Title       891 non-null    object \n",
            " 10  FamilySize  891 non-null    int64  \n",
            " 11  IsAlone     891 non-null    int64  \n",
            " 12  preAge      891 non-null    int64  \n",
            " 13  preFare     891 non-null    int64  \n",
            "dtypes: float64(2), int64(8), object(4)\n",
            "memory usage: 97.6+ KB\n"
          ],
          "name": "stdout"
        }
      ]
    },
    {
      "cell_type": "code",
      "metadata": {
        "id": "jlF2QrcjLpJn",
        "colab": {
          "base_uri": "https://localhost:8080/",
          "height": 421
        },
        "outputId": "76d0c223-7ed2-40c0-d431-0d5c3e1abae6"
      },
      "source": [
        "titanic_test.info()"
      ],
      "execution_count": null,
      "outputs": [
        {
          "output_type": "stream",
          "text": [
            "<class 'pandas.core.frame.DataFrame'>\n",
            "RangeIndex: 418 entries, 0 to 417\n",
            "Data columns (total 16 columns):\n",
            " #   Column       Non-Null Count  Dtype  \n",
            "---  ------       --------------  -----  \n",
            " 0   PassengerId  418 non-null    int64  \n",
            " 1   Pclass       418 non-null    int64  \n",
            " 2   Name         418 non-null    object \n",
            " 3   Sex          418 non-null    object \n",
            " 4   Age          418 non-null    float64\n",
            " 5   SibSp        418 non-null    int64  \n",
            " 6   Parch        418 non-null    int64  \n",
            " 7   Ticket       418 non-null    object \n",
            " 8   Fare         418 non-null    float64\n",
            " 9   Cabin        91 non-null     object \n",
            " 10  Embarked     418 non-null    object \n",
            " 11  Title        418 non-null    object \n",
            " 12  FamilySize   418 non-null    int64  \n",
            " 13  IsAlone      418 non-null    int64  \n",
            " 14  preAge       418 non-null    int64  \n",
            " 15  preFare      418 non-null    int64  \n",
            "dtypes: float64(2), int64(8), object(6)\n",
            "memory usage: 52.4+ KB\n"
          ],
          "name": "stdout"
        }
      ]
    },
    {
      "cell_type": "code",
      "metadata": {
        "id": "y49FW3pMMAc0",
        "colab": {
          "base_uri": "https://localhost:8080/",
          "height": 284
        },
        "outputId": "3be7b1aa-2c25-4a66-8326-e06442b6e14d"
      },
      "source": [
        "titanic_copy.sample(5)"
      ],
      "execution_count": null,
      "outputs": [
        {
          "output_type": "execute_result",
          "data": {
            "text/html": [
              "<div>\n",
              "<style scoped>\n",
              "    .dataframe tbody tr th:only-of-type {\n",
              "        vertical-align: middle;\n",
              "    }\n",
              "\n",
              "    .dataframe tbody tr th {\n",
              "        vertical-align: top;\n",
              "    }\n",
              "\n",
              "    .dataframe thead th {\n",
              "        text-align: right;\n",
              "    }\n",
              "</style>\n",
              "<table border=\"1\" class=\"dataframe\">\n",
              "  <thead>\n",
              "    <tr style=\"text-align: right;\">\n",
              "      <th></th>\n",
              "      <th>Survived</th>\n",
              "      <th>Pclass</th>\n",
              "      <th>Name</th>\n",
              "      <th>Sex</th>\n",
              "      <th>Age</th>\n",
              "      <th>SibSp</th>\n",
              "      <th>Parch</th>\n",
              "      <th>Fare</th>\n",
              "      <th>Embarked</th>\n",
              "      <th>Title</th>\n",
              "      <th>FamilySize</th>\n",
              "      <th>IsAlone</th>\n",
              "      <th>preAge</th>\n",
              "      <th>preFare</th>\n",
              "    </tr>\n",
              "  </thead>\n",
              "  <tbody>\n",
              "    <tr>\n",
              "      <th>563</th>\n",
              "      <td>0</td>\n",
              "      <td>3</td>\n",
              "      <td>Simmons, Mr. John</td>\n",
              "      <td>male</td>\n",
              "      <td>25.0</td>\n",
              "      <td>0</td>\n",
              "      <td>0</td>\n",
              "      <td>8.0500</td>\n",
              "      <td>S</td>\n",
              "      <td>Mr</td>\n",
              "      <td>1</td>\n",
              "      <td>1</td>\n",
              "      <td>1</td>\n",
              "      <td>1</td>\n",
              "    </tr>\n",
              "    <tr>\n",
              "      <th>786</th>\n",
              "      <td>1</td>\n",
              "      <td>3</td>\n",
              "      <td>Sjoblom, Miss. Anna Sofia</td>\n",
              "      <td>female</td>\n",
              "      <td>18.0</td>\n",
              "      <td>0</td>\n",
              "      <td>0</td>\n",
              "      <td>7.4958</td>\n",
              "      <td>S</td>\n",
              "      <td>Miss</td>\n",
              "      <td>1</td>\n",
              "      <td>1</td>\n",
              "      <td>0</td>\n",
              "      <td>0</td>\n",
              "    </tr>\n",
              "    <tr>\n",
              "      <th>306</th>\n",
              "      <td>1</td>\n",
              "      <td>1</td>\n",
              "      <td>Fleming, Miss. Margaret</td>\n",
              "      <td>female</td>\n",
              "      <td>35.0</td>\n",
              "      <td>0</td>\n",
              "      <td>0</td>\n",
              "      <td>110.8833</td>\n",
              "      <td>C</td>\n",
              "      <td>Miss</td>\n",
              "      <td>1</td>\n",
              "      <td>1</td>\n",
              "      <td>3</td>\n",
              "      <td>4</td>\n",
              "    </tr>\n",
              "    <tr>\n",
              "      <th>652</th>\n",
              "      <td>0</td>\n",
              "      <td>3</td>\n",
              "      <td>Kalvik, Mr. Johannes Halvorsen</td>\n",
              "      <td>male</td>\n",
              "      <td>21.0</td>\n",
              "      <td>0</td>\n",
              "      <td>0</td>\n",
              "      <td>8.4333</td>\n",
              "      <td>S</td>\n",
              "      <td>Mr</td>\n",
              "      <td>1</td>\n",
              "      <td>1</td>\n",
              "      <td>1</td>\n",
              "      <td>1</td>\n",
              "    </tr>\n",
              "    <tr>\n",
              "      <th>194</th>\n",
              "      <td>1</td>\n",
              "      <td>1</td>\n",
              "      <td>Brown, Mrs. James Joseph (Margaret Tobin)</td>\n",
              "      <td>female</td>\n",
              "      <td>44.0</td>\n",
              "      <td>0</td>\n",
              "      <td>0</td>\n",
              "      <td>27.7208</td>\n",
              "      <td>C</td>\n",
              "      <td>Mrs</td>\n",
              "      <td>1</td>\n",
              "      <td>1</td>\n",
              "      <td>4</td>\n",
              "      <td>3</td>\n",
              "    </tr>\n",
              "  </tbody>\n",
              "</table>\n",
              "</div>"
            ],
            "text/plain": [
              "     Survived  Pclass  ... preAge preFare\n",
              "563         0       3  ...      1       1\n",
              "786         1       3  ...      0       0\n",
              "306         1       1  ...      3       4\n",
              "652         0       3  ...      1       1\n",
              "194         1       1  ...      4       3\n",
              "\n",
              "[5 rows x 14 columns]"
            ]
          },
          "metadata": {
            "tags": []
          },
          "execution_count": 229
        }
      ]
    },
    {
      "cell_type": "code",
      "metadata": {
        "id": "NwlYyFREPXJM",
        "colab": {
          "base_uri": "https://localhost:8080/",
          "height": 372
        },
        "outputId": "06e4b172-79db-4ef4-d9ab-19a86d7dc622"
      },
      "source": [
        "titanic_test.sample(5)"
      ],
      "execution_count": null,
      "outputs": [
        {
          "output_type": "execute_result",
          "data": {
            "text/html": [
              "<div>\n",
              "<style scoped>\n",
              "    .dataframe tbody tr th:only-of-type {\n",
              "        vertical-align: middle;\n",
              "    }\n",
              "\n",
              "    .dataframe tbody tr th {\n",
              "        vertical-align: top;\n",
              "    }\n",
              "\n",
              "    .dataframe thead th {\n",
              "        text-align: right;\n",
              "    }\n",
              "</style>\n",
              "<table border=\"1\" class=\"dataframe\">\n",
              "  <thead>\n",
              "    <tr style=\"text-align: right;\">\n",
              "      <th></th>\n",
              "      <th>PassengerId</th>\n",
              "      <th>Pclass</th>\n",
              "      <th>Name</th>\n",
              "      <th>Sex</th>\n",
              "      <th>Age</th>\n",
              "      <th>SibSp</th>\n",
              "      <th>Parch</th>\n",
              "      <th>Ticket</th>\n",
              "      <th>Fare</th>\n",
              "      <th>Cabin</th>\n",
              "      <th>Embarked</th>\n",
              "      <th>Title</th>\n",
              "      <th>FamilySize</th>\n",
              "      <th>IsAlone</th>\n",
              "      <th>preAge</th>\n",
              "      <th>preFare</th>\n",
              "    </tr>\n",
              "  </thead>\n",
              "  <tbody>\n",
              "    <tr>\n",
              "      <th>329</th>\n",
              "      <td>1221</td>\n",
              "      <td>2</td>\n",
              "      <td>Enander, Mr. Ingvar</td>\n",
              "      <td>male</td>\n",
              "      <td>21.0</td>\n",
              "      <td>0</td>\n",
              "      <td>0</td>\n",
              "      <td>236854</td>\n",
              "      <td>13.0000</td>\n",
              "      <td>NaN</td>\n",
              "      <td>S</td>\n",
              "      <td>Mr</td>\n",
              "      <td>1</td>\n",
              "      <td>1</td>\n",
              "      <td>1</td>\n",
              "      <td>2</td>\n",
              "    </tr>\n",
              "    <tr>\n",
              "      <th>134</th>\n",
              "      <td>1026</td>\n",
              "      <td>3</td>\n",
              "      <td>Dintcheff, Mr. Valtcho</td>\n",
              "      <td>male</td>\n",
              "      <td>43.0</td>\n",
              "      <td>0</td>\n",
              "      <td>0</td>\n",
              "      <td>349226</td>\n",
              "      <td>7.8958</td>\n",
              "      <td>NaN</td>\n",
              "      <td>S</td>\n",
              "      <td>Mr</td>\n",
              "      <td>1</td>\n",
              "      <td>1</td>\n",
              "      <td>4</td>\n",
              "      <td>0</td>\n",
              "    </tr>\n",
              "    <tr>\n",
              "      <th>276</th>\n",
              "      <td>1168</td>\n",
              "      <td>2</td>\n",
              "      <td>Parker, Mr. Clifford Richard</td>\n",
              "      <td>male</td>\n",
              "      <td>28.0</td>\n",
              "      <td>0</td>\n",
              "      <td>0</td>\n",
              "      <td>SC 14888</td>\n",
              "      <td>10.5000</td>\n",
              "      <td>NaN</td>\n",
              "      <td>S</td>\n",
              "      <td>Mr</td>\n",
              "      <td>1</td>\n",
              "      <td>1</td>\n",
              "      <td>2</td>\n",
              "      <td>1</td>\n",
              "    </tr>\n",
              "    <tr>\n",
              "      <th>387</th>\n",
              "      <td>1279</td>\n",
              "      <td>2</td>\n",
              "      <td>Ashby, Mr. John</td>\n",
              "      <td>male</td>\n",
              "      <td>57.0</td>\n",
              "      <td>0</td>\n",
              "      <td>0</td>\n",
              "      <td>244346</td>\n",
              "      <td>13.0000</td>\n",
              "      <td>NaN</td>\n",
              "      <td>S</td>\n",
              "      <td>Mr</td>\n",
              "      <td>1</td>\n",
              "      <td>1</td>\n",
              "      <td>4</td>\n",
              "      <td>2</td>\n",
              "    </tr>\n",
              "    <tr>\n",
              "      <th>0</th>\n",
              "      <td>892</td>\n",
              "      <td>3</td>\n",
              "      <td>Kelly, Mr. James</td>\n",
              "      <td>male</td>\n",
              "      <td>34.5</td>\n",
              "      <td>0</td>\n",
              "      <td>0</td>\n",
              "      <td>330911</td>\n",
              "      <td>7.8292</td>\n",
              "      <td>NaN</td>\n",
              "      <td>Q</td>\n",
              "      <td>Mr</td>\n",
              "      <td>1</td>\n",
              "      <td>1</td>\n",
              "      <td>3</td>\n",
              "      <td>0</td>\n",
              "    </tr>\n",
              "  </tbody>\n",
              "</table>\n",
              "</div>"
            ],
            "text/plain": [
              "     PassengerId  Pclass  ... preAge preFare\n",
              "329         1221       2  ...      1       2\n",
              "134         1026       3  ...      4       0\n",
              "276         1168       2  ...      2       1\n",
              "387         1279       2  ...      4       2\n",
              "0            892       3  ...      3       0\n",
              "\n",
              "[5 rows x 16 columns]"
            ]
          },
          "metadata": {
            "tags": []
          },
          "execution_count": 230
        }
      ]
    },
    {
      "cell_type": "code",
      "metadata": {
        "id": "Iq7rA4Kqo2Mq"
      },
      "source": [
        "#code categorical data\n",
        "label = LabelEncoder()\n",
        "for dataset in titanic_df:    \n",
        "    dataset['Sex_Code'] = label.fit_transform(dataset['Sex'])\n",
        "    dataset['Embarked_Code'] = label.fit_transform(dataset['Embarked'])\n",
        "    dataset['Title_Code'] = label.fit_transform(dataset['Title'])\n",
        "    dataset['preAge_Code'] = label.fit_transform(dataset['preAge'])\n",
        "    dataset['preFare_Code'] = label.fit_transform(dataset['preFare'])"
      ],
      "execution_count": null,
      "outputs": []
    },
    {
      "cell_type": "code",
      "metadata": {
        "id": "vET0WONbo5zA",
        "colab": {
          "base_uri": "https://localhost:8080/",
          "height": 160
        },
        "outputId": "80a11bab-463b-42c5-bac2-b6e2f841a0e9"
      },
      "source": [
        "#define y variable aka target/outcome\n",
        "#y변수(목표 변수)를 설정하기\n",
        "\n",
        "Target = ['Survived']\n",
        "\n",
        "#define x variables for original features aka feature selection\n",
        "#x변수 설정하기. feature selection이라고도 한다.\n",
        "\n",
        "data1_x = ['Sex','Pclass', 'Embarked', 'Title','SibSp', 'Parch', 'Age', 'Fare', 'FamilySize', 'IsAlone']\n",
        "#pretty name/values for charts\n",
        "#차트를 위해 이름/값을 예쁘게 만들어주기\n",
        "\n",
        "data1_x_calc = ['Sex_Code','Pclass', 'Embarked_Code', 'Title_Code','SibSp', 'Parch', 'Age', 'Fare']\n",
        "#coded for algorithm calculation\n",
        "#알고리즘 계산을 위해 코드화 됨\n",
        "data1_xy =  Target + data1_x\n",
        "print('Original X Y: ', data1_xy, '\\n')\n",
        "\n",
        "\n",
        "#define x variables for original w/bin features to remove continuous variables\n",
        "#연속형 변수들을 제거하기 위해 x 변수들을 정의\n",
        "data1_x_bin = ['Sex_Code','Pclass', 'Embarked_Code', 'Title_Code', 'FamilySize', 'preAge_Code', 'preFare_Code']\n",
        "data1_xy_bin = Target + data1_x_bin\n",
        "print('Bin X Y: ', data1_xy_bin, '\\n')\n",
        "\n",
        "#define x and y variables for dummy features original\n",
        "#더미 변수들을 위해 x와 y변수 정의\n",
        "\n",
        "data1_dummy = pd.get_dummies(titanic_copy[data1_x])\n",
        "data1_x_dummy = data1_dummy.columns.tolist()\n",
        "data1_xy_dummy = Target + data1_x_dummy\n",
        "print('Dummy X Y: ', data1_xy_dummy, '\\n')\n",
        "\n",
        "\n",
        "\n",
        "data1_dummy.head()\n",
        "print(data1_x_dummy)"
      ],
      "execution_count": null,
      "outputs": [
        {
          "output_type": "stream",
          "text": [
            "Original X Y:  ['Survived', 'Sex', 'Pclass', 'Embarked', 'Title', 'SibSp', 'Parch', 'Age', 'Fare', 'FamilySize', 'IsAlone'] \n",
            "\n",
            "Bin X Y:  ['Survived', 'Sex_Code', 'Pclass', 'Embarked_Code', 'Title_Code', 'FamilySize', 'preAge_Code', 'preFare_Code'] \n",
            "\n",
            "Dummy X Y:  ['Survived', 'Pclass', 'SibSp', 'Parch', 'Age', 'Fare', 'FamilySize', 'IsAlone', 'Sex_female', 'Sex_male', 'Embarked_C', 'Embarked_Q', 'Embarked_S', 'Title_ Master', 'Title_ Miss', 'Title_ Mr', 'Title_ Mrs', 'Title_Misc'] \n",
            "\n",
            "['Pclass', 'SibSp', 'Parch', 'Age', 'Fare', 'FamilySize', 'IsAlone', 'Sex_female', 'Sex_male', 'Embarked_C', 'Embarked_Q', 'Embarked_S', 'Title_ Master', 'Title_ Miss', 'Title_ Mr', 'Title_ Mrs', 'Title_Misc']\n"
          ],
          "name": "stdout"
        }
      ]
    },
    {
      "cell_type": "code",
      "metadata": {
        "id": "H5zstTgKpXzI",
        "colab": {
          "base_uri": "https://localhost:8080/",
          "height": 1000
        },
        "outputId": "7fa4af51-b4db-4b7b-de2b-315c9ae1ebaa"
      },
      "source": [
        "print('Train columns with null values: \\n', titanic_copy.isnull().sum())\n",
        "print(\"-\"*10)\n",
        "print (titanic_copy.info())\n",
        "print(\"-\"*10)\n",
        "\n",
        "print('Test/Validation columns with null values: \\n', titanic_test.isnull().sum())\n",
        "print(\"-\"*10)\n",
        "print (titanic_test.info())\n",
        "print(\"-\"*10)\n",
        "\n",
        "titanic_train.describe(include = 'all')"
      ],
      "execution_count": null,
      "outputs": [
        {
          "output_type": "stream",
          "text": [
            "Train columns with null values: \n",
            " Survived         0\n",
            "Pclass           0\n",
            "Name             0\n",
            "Sex              0\n",
            "Age              0\n",
            "SibSp            0\n",
            "Parch            0\n",
            "Fare             0\n",
            "Embarked         0\n",
            "Title            0\n",
            "FamilySize       0\n",
            "IsAlone          0\n",
            "preAge           0\n",
            "preFare          0\n",
            "Sex_Code         0\n",
            "Embarked_Code    0\n",
            "Title_Code       0\n",
            "preAge_Code      0\n",
            "preFare_Code     0\n",
            "dtype: int64\n",
            "----------\n",
            "<class 'pandas.core.frame.DataFrame'>\n",
            "RangeIndex: 891 entries, 0 to 890\n",
            "Data columns (total 19 columns):\n",
            " #   Column         Non-Null Count  Dtype  \n",
            "---  ------         --------------  -----  \n",
            " 0   Survived       891 non-null    int64  \n",
            " 1   Pclass         891 non-null    int64  \n",
            " 2   Name           891 non-null    object \n",
            " 3   Sex            891 non-null    object \n",
            " 4   Age            891 non-null    float64\n",
            " 5   SibSp          891 non-null    int64  \n",
            " 6   Parch          891 non-null    int64  \n",
            " 7   Fare           891 non-null    float64\n",
            " 8   Embarked       891 non-null    object \n",
            " 9   Title          891 non-null    object \n",
            " 10  FamilySize     891 non-null    int64  \n",
            " 11  IsAlone        891 non-null    int64  \n",
            " 12  preAge         891 non-null    int64  \n",
            " 13  preFare        891 non-null    int64  \n",
            " 14  Sex_Code       891 non-null    int64  \n",
            " 15  Embarked_Code  891 non-null    int64  \n",
            " 16  Title_Code     891 non-null    int64  \n",
            " 17  preAge_Code    891 non-null    int64  \n",
            " 18  preFare_Code   891 non-null    int64  \n",
            "dtypes: float64(2), int64(13), object(4)\n",
            "memory usage: 132.4+ KB\n",
            "None\n",
            "----------\n",
            "Test/Validation columns with null values: \n",
            " PassengerId        0\n",
            "Pclass             0\n",
            "Name               0\n",
            "Sex                0\n",
            "Age                0\n",
            "SibSp              0\n",
            "Parch              0\n",
            "Ticket             0\n",
            "Fare               0\n",
            "Cabin            327\n",
            "Embarked           0\n",
            "Title              0\n",
            "FamilySize         0\n",
            "IsAlone            0\n",
            "preAge             0\n",
            "preFare            0\n",
            "Sex_Code           0\n",
            "Embarked_Code      0\n",
            "Title_Code         0\n",
            "preAge_Code        0\n",
            "preFare_Code       0\n",
            "dtype: int64\n",
            "----------\n",
            "<class 'pandas.core.frame.DataFrame'>\n",
            "RangeIndex: 418 entries, 0 to 417\n",
            "Data columns (total 21 columns):\n",
            " #   Column         Non-Null Count  Dtype  \n",
            "---  ------         --------------  -----  \n",
            " 0   PassengerId    418 non-null    int64  \n",
            " 1   Pclass         418 non-null    int64  \n",
            " 2   Name           418 non-null    object \n",
            " 3   Sex            418 non-null    object \n",
            " 4   Age            418 non-null    float64\n",
            " 5   SibSp          418 non-null    int64  \n",
            " 6   Parch          418 non-null    int64  \n",
            " 7   Ticket         418 non-null    object \n",
            " 8   Fare           418 non-null    float64\n",
            " 9   Cabin          91 non-null     object \n",
            " 10  Embarked       418 non-null    object \n",
            " 11  Title          418 non-null    object \n",
            " 12  FamilySize     418 non-null    int64  \n",
            " 13  IsAlone        418 non-null    int64  \n",
            " 14  preAge         418 non-null    int64  \n",
            " 15  preFare        418 non-null    int64  \n",
            " 16  Sex_Code       418 non-null    int64  \n",
            " 17  Embarked_Code  418 non-null    int64  \n",
            " 18  Title_Code     418 non-null    int64  \n",
            " 19  preAge_Code    418 non-null    int64  \n",
            " 20  preFare_Code   418 non-null    int64  \n",
            "dtypes: float64(2), int64(13), object(6)\n",
            "memory usage: 68.7+ KB\n",
            "None\n",
            "----------\n"
          ],
          "name": "stdout"
        },
        {
          "output_type": "execute_result",
          "data": {
            "text/html": [
              "<div>\n",
              "<style scoped>\n",
              "    .dataframe tbody tr th:only-of-type {\n",
              "        vertical-align: middle;\n",
              "    }\n",
              "\n",
              "    .dataframe tbody tr th {\n",
              "        vertical-align: top;\n",
              "    }\n",
              "\n",
              "    .dataframe thead th {\n",
              "        text-align: right;\n",
              "    }\n",
              "</style>\n",
              "<table border=\"1\" class=\"dataframe\">\n",
              "  <thead>\n",
              "    <tr style=\"text-align: right;\">\n",
              "      <th></th>\n",
              "      <th>PassengerId</th>\n",
              "      <th>Survived</th>\n",
              "      <th>Pclass</th>\n",
              "      <th>Name</th>\n",
              "      <th>Sex</th>\n",
              "      <th>Age</th>\n",
              "      <th>SibSp</th>\n",
              "      <th>Parch</th>\n",
              "      <th>Ticket</th>\n",
              "      <th>Fare</th>\n",
              "      <th>Cabin</th>\n",
              "      <th>Embarked</th>\n",
              "    </tr>\n",
              "  </thead>\n",
              "  <tbody>\n",
              "    <tr>\n",
              "      <th>count</th>\n",
              "      <td>891.000000</td>\n",
              "      <td>891.000000</td>\n",
              "      <td>891.000000</td>\n",
              "      <td>891</td>\n",
              "      <td>891</td>\n",
              "      <td>714.000000</td>\n",
              "      <td>891.000000</td>\n",
              "      <td>891.000000</td>\n",
              "      <td>891</td>\n",
              "      <td>891.000000</td>\n",
              "      <td>204</td>\n",
              "      <td>889</td>\n",
              "    </tr>\n",
              "    <tr>\n",
              "      <th>unique</th>\n",
              "      <td>NaN</td>\n",
              "      <td>NaN</td>\n",
              "      <td>NaN</td>\n",
              "      <td>891</td>\n",
              "      <td>2</td>\n",
              "      <td>NaN</td>\n",
              "      <td>NaN</td>\n",
              "      <td>NaN</td>\n",
              "      <td>681</td>\n",
              "      <td>NaN</td>\n",
              "      <td>147</td>\n",
              "      <td>3</td>\n",
              "    </tr>\n",
              "    <tr>\n",
              "      <th>top</th>\n",
              "      <td>NaN</td>\n",
              "      <td>NaN</td>\n",
              "      <td>NaN</td>\n",
              "      <td>Barton, Mr. David John</td>\n",
              "      <td>male</td>\n",
              "      <td>NaN</td>\n",
              "      <td>NaN</td>\n",
              "      <td>NaN</td>\n",
              "      <td>CA. 2343</td>\n",
              "      <td>NaN</td>\n",
              "      <td>B96 B98</td>\n",
              "      <td>S</td>\n",
              "    </tr>\n",
              "    <tr>\n",
              "      <th>freq</th>\n",
              "      <td>NaN</td>\n",
              "      <td>NaN</td>\n",
              "      <td>NaN</td>\n",
              "      <td>1</td>\n",
              "      <td>577</td>\n",
              "      <td>NaN</td>\n",
              "      <td>NaN</td>\n",
              "      <td>NaN</td>\n",
              "      <td>7</td>\n",
              "      <td>NaN</td>\n",
              "      <td>4</td>\n",
              "      <td>644</td>\n",
              "    </tr>\n",
              "    <tr>\n",
              "      <th>mean</th>\n",
              "      <td>446.000000</td>\n",
              "      <td>0.383838</td>\n",
              "      <td>2.308642</td>\n",
              "      <td>NaN</td>\n",
              "      <td>NaN</td>\n",
              "      <td>29.699118</td>\n",
              "      <td>0.523008</td>\n",
              "      <td>0.381594</td>\n",
              "      <td>NaN</td>\n",
              "      <td>32.204208</td>\n",
              "      <td>NaN</td>\n",
              "      <td>NaN</td>\n",
              "    </tr>\n",
              "    <tr>\n",
              "      <th>std</th>\n",
              "      <td>257.353842</td>\n",
              "      <td>0.486592</td>\n",
              "      <td>0.836071</td>\n",
              "      <td>NaN</td>\n",
              "      <td>NaN</td>\n",
              "      <td>14.526497</td>\n",
              "      <td>1.102743</td>\n",
              "      <td>0.806057</td>\n",
              "      <td>NaN</td>\n",
              "      <td>49.693429</td>\n",
              "      <td>NaN</td>\n",
              "      <td>NaN</td>\n",
              "    </tr>\n",
              "    <tr>\n",
              "      <th>min</th>\n",
              "      <td>1.000000</td>\n",
              "      <td>0.000000</td>\n",
              "      <td>1.000000</td>\n",
              "      <td>NaN</td>\n",
              "      <td>NaN</td>\n",
              "      <td>0.420000</td>\n",
              "      <td>0.000000</td>\n",
              "      <td>0.000000</td>\n",
              "      <td>NaN</td>\n",
              "      <td>0.000000</td>\n",
              "      <td>NaN</td>\n",
              "      <td>NaN</td>\n",
              "    </tr>\n",
              "    <tr>\n",
              "      <th>25%</th>\n",
              "      <td>223.500000</td>\n",
              "      <td>0.000000</td>\n",
              "      <td>2.000000</td>\n",
              "      <td>NaN</td>\n",
              "      <td>NaN</td>\n",
              "      <td>20.125000</td>\n",
              "      <td>0.000000</td>\n",
              "      <td>0.000000</td>\n",
              "      <td>NaN</td>\n",
              "      <td>7.910400</td>\n",
              "      <td>NaN</td>\n",
              "      <td>NaN</td>\n",
              "    </tr>\n",
              "    <tr>\n",
              "      <th>50%</th>\n",
              "      <td>446.000000</td>\n",
              "      <td>0.000000</td>\n",
              "      <td>3.000000</td>\n",
              "      <td>NaN</td>\n",
              "      <td>NaN</td>\n",
              "      <td>28.000000</td>\n",
              "      <td>0.000000</td>\n",
              "      <td>0.000000</td>\n",
              "      <td>NaN</td>\n",
              "      <td>14.454200</td>\n",
              "      <td>NaN</td>\n",
              "      <td>NaN</td>\n",
              "    </tr>\n",
              "    <tr>\n",
              "      <th>75%</th>\n",
              "      <td>668.500000</td>\n",
              "      <td>1.000000</td>\n",
              "      <td>3.000000</td>\n",
              "      <td>NaN</td>\n",
              "      <td>NaN</td>\n",
              "      <td>38.000000</td>\n",
              "      <td>1.000000</td>\n",
              "      <td>0.000000</td>\n",
              "      <td>NaN</td>\n",
              "      <td>31.000000</td>\n",
              "      <td>NaN</td>\n",
              "      <td>NaN</td>\n",
              "    </tr>\n",
              "    <tr>\n",
              "      <th>max</th>\n",
              "      <td>891.000000</td>\n",
              "      <td>1.000000</td>\n",
              "      <td>3.000000</td>\n",
              "      <td>NaN</td>\n",
              "      <td>NaN</td>\n",
              "      <td>80.000000</td>\n",
              "      <td>8.000000</td>\n",
              "      <td>6.000000</td>\n",
              "      <td>NaN</td>\n",
              "      <td>512.329200</td>\n",
              "      <td>NaN</td>\n",
              "      <td>NaN</td>\n",
              "    </tr>\n",
              "  </tbody>\n",
              "</table>\n",
              "</div>"
            ],
            "text/plain": [
              "        PassengerId    Survived      Pclass  ...        Fare    Cabin  Embarked\n",
              "count    891.000000  891.000000  891.000000  ...  891.000000      204       889\n",
              "unique          NaN         NaN         NaN  ...         NaN      147         3\n",
              "top             NaN         NaN         NaN  ...         NaN  B96 B98         S\n",
              "freq            NaN         NaN         NaN  ...         NaN        4       644\n",
              "mean     446.000000    0.383838    2.308642  ...   32.204208      NaN       NaN\n",
              "std      257.353842    0.486592    0.836071  ...   49.693429      NaN       NaN\n",
              "min        1.000000    0.000000    1.000000  ...    0.000000      NaN       NaN\n",
              "25%      223.500000    0.000000    2.000000  ...    7.910400      NaN       NaN\n",
              "50%      446.000000    0.000000    3.000000  ...   14.454200      NaN       NaN\n",
              "75%      668.500000    1.000000    3.000000  ...   31.000000      NaN       NaN\n",
              "max      891.000000    1.000000    3.000000  ...  512.329200      NaN       NaN\n",
              "\n",
              "[11 rows x 12 columns]"
            ]
          },
          "metadata": {
            "tags": []
          },
          "execution_count": 233
        }
      ]
    },
    {
      "cell_type": "code",
      "metadata": {
        "id": "nEvIEHx0poKX",
        "colab": {
          "base_uri": "https://localhost:8080/",
          "height": 252
        },
        "outputId": "cdc5271b-d3c3-448a-98e1-71f6352dc5cf"
      },
      "source": [
        "#split train and test data with function defaults\n",
        "#학습과 테스트 데이터를 기본값이 설정된 함수로 분할\n",
        "#random_state -> seed or control random number generator: https://www.quora.com/What-is-seed-in-random-number-generation\n",
        "#random_state -> seed 혹은 통제 무작위 수 생성기\n",
        "train1_x, test1_x, train1_y, test1_y = model_selection.train_test_split(titanic_copy[data1_x_calc], titanic_copy[Target], random_state = 0)\n",
        "train1_x_bin, test1_x_bin, train1_y_bin, test1_y_bin = model_selection.train_test_split(titanic_copy[data1_x_bin], titanic_copy[Target] , random_state = 0)\n",
        "train1_x_dummy, test1_x_dummy, train1_y_dummy, test1_y_dummy = model_selection.train_test_split(data1_dummy[data1_x_dummy], titanic_copy[Target], random_state = 0)\n",
        "\n",
        "\n",
        "print(\"Data1 Shape: {}\".format(titanic_copy.shape))\n",
        "print(\"Train1 Shape: {}\".format(train1_x.shape))\n",
        "print(\"Test1 Shape: {}\".format(test1_x.shape))\n",
        "\n",
        "train1_x_bin.head()"
      ],
      "execution_count": null,
      "outputs": [
        {
          "output_type": "stream",
          "text": [
            "Data1 Shape: (891, 19)\n",
            "Train1 Shape: (668, 8)\n",
            "Test1 Shape: (223, 8)\n"
          ],
          "name": "stdout"
        },
        {
          "output_type": "execute_result",
          "data": {
            "text/html": [
              "<div>\n",
              "<style scoped>\n",
              "    .dataframe tbody tr th:only-of-type {\n",
              "        vertical-align: middle;\n",
              "    }\n",
              "\n",
              "    .dataframe tbody tr th {\n",
              "        vertical-align: top;\n",
              "    }\n",
              "\n",
              "    .dataframe thead th {\n",
              "        text-align: right;\n",
              "    }\n",
              "</style>\n",
              "<table border=\"1\" class=\"dataframe\">\n",
              "  <thead>\n",
              "    <tr style=\"text-align: right;\">\n",
              "      <th></th>\n",
              "      <th>Sex_Code</th>\n",
              "      <th>Pclass</th>\n",
              "      <th>Embarked_Code</th>\n",
              "      <th>Title_Code</th>\n",
              "      <th>FamilySize</th>\n",
              "      <th>preAge_Code</th>\n",
              "      <th>preFare_Code</th>\n",
              "    </tr>\n",
              "  </thead>\n",
              "  <tbody>\n",
              "    <tr>\n",
              "      <th>105</th>\n",
              "      <td>1</td>\n",
              "      <td>3</td>\n",
              "      <td>2</td>\n",
              "      <td>2</td>\n",
              "      <td>1</td>\n",
              "      <td>2</td>\n",
              "      <td>0</td>\n",
              "    </tr>\n",
              "    <tr>\n",
              "      <th>68</th>\n",
              "      <td>0</td>\n",
              "      <td>3</td>\n",
              "      <td>2</td>\n",
              "      <td>1</td>\n",
              "      <td>7</td>\n",
              "      <td>0</td>\n",
              "      <td>0</td>\n",
              "    </tr>\n",
              "    <tr>\n",
              "      <th>253</th>\n",
              "      <td>1</td>\n",
              "      <td>3</td>\n",
              "      <td>2</td>\n",
              "      <td>2</td>\n",
              "      <td>2</td>\n",
              "      <td>2</td>\n",
              "      <td>2</td>\n",
              "    </tr>\n",
              "    <tr>\n",
              "      <th>320</th>\n",
              "      <td>1</td>\n",
              "      <td>3</td>\n",
              "      <td>2</td>\n",
              "      <td>2</td>\n",
              "      <td>1</td>\n",
              "      <td>1</td>\n",
              "      <td>0</td>\n",
              "    </tr>\n",
              "    <tr>\n",
              "      <th>706</th>\n",
              "      <td>0</td>\n",
              "      <td>2</td>\n",
              "      <td>2</td>\n",
              "      <td>3</td>\n",
              "      <td>1</td>\n",
              "      <td>4</td>\n",
              "      <td>2</td>\n",
              "    </tr>\n",
              "  </tbody>\n",
              "</table>\n",
              "</div>"
            ],
            "text/plain": [
              "     Sex_Code  Pclass  Embarked_Code  ...  FamilySize  preAge_Code  preFare_Code\n",
              "105         1       3              2  ...           1            2             0\n",
              "68          0       3              2  ...           7            0             0\n",
              "253         1       3              2  ...           2            2             2\n",
              "320         1       3              2  ...           1            1             0\n",
              "706         0       2              2  ...           1            4             2\n",
              "\n",
              "[5 rows x 7 columns]"
            ]
          },
          "metadata": {
            "tags": []
          },
          "execution_count": 234
        }
      ]
    },
    {
      "cell_type": "markdown",
      "metadata": {
        "id": "FjPxvBaPqnUC"
      },
      "source": [
        "시각화"
      ]
    },
    {
      "cell_type": "code",
      "metadata": {
        "id": "KM_p9E0SqPQ0",
        "colab": {
          "base_uri": "https://localhost:8080/",
          "height": 1000
        },
        "outputId": "7f0ed1f7-d24b-4b25-f162-94aee8fe59c7"
      },
      "source": [
        "#Discrete Variable Correlation by Survival using\n",
        "#생존여부별 이산 변수 상관관계\n",
        "\n",
        "#group by aka pivot table: https://pandas.pydata.org/pandas-docs/stable/generated/pandas.DataFrame.groupby.html\n",
        "#피벗테이블 별 그룹\n",
        "for x in data1_x:\n",
        "    if titanic_copy[x].dtype != 'float64' :\n",
        "        print('Survival Correlation by:', x)\n",
        "        print(titanic_copy[[x, Target[0]]].groupby(x, as_index=False).mean())\n",
        "        print('-'*10, '\\n')\n",
        "        \n",
        "\n",
        "#using crosstabs: https://pandas.pydata.org/pandas-docs/stable/generated/pandas.crosstab.html\n",
        "#크로스탭 사용하기\n",
        "print(pd.crosstab(titanic_copy['Title'],titanic_copy[Target[0]]))"
      ],
      "execution_count": null,
      "outputs": [
        {
          "output_type": "stream",
          "text": [
            "Survival Correlation by: Sex\n",
            "      Sex  Survived\n",
            "0  female  0.742038\n",
            "1    male  0.188908\n",
            "---------- \n",
            "\n",
            "Survival Correlation by: Pclass\n",
            "   Pclass  Survived\n",
            "0       1  0.629630\n",
            "1       2  0.472826\n",
            "2       3  0.242363\n",
            "---------- \n",
            "\n",
            "Survival Correlation by: Embarked\n",
            "  Embarked  Survived\n",
            "0        C  0.553571\n",
            "1        Q  0.389610\n",
            "2        S  0.339009\n",
            "---------- \n",
            "\n",
            "Survival Correlation by: Title\n",
            "     Title  Survived\n",
            "0   Master  0.575000\n",
            "1     Miss  0.697802\n",
            "2       Mr  0.156673\n",
            "3      Mrs  0.792000\n",
            "4     Misc  0.444444\n",
            "---------- \n",
            "\n",
            "Survival Correlation by: SibSp\n",
            "   SibSp  Survived\n",
            "0      0  0.345395\n",
            "1      1  0.535885\n",
            "2      2  0.464286\n",
            "3      3  0.250000\n",
            "4      4  0.166667\n",
            "5      5  0.000000\n",
            "6      8  0.000000\n",
            "---------- \n",
            "\n",
            "Survival Correlation by: Parch\n",
            "   Parch  Survived\n",
            "0      0  0.343658\n",
            "1      1  0.550847\n",
            "2      2  0.500000\n",
            "3      3  0.600000\n",
            "4      4  0.000000\n",
            "5      5  0.200000\n",
            "6      6  0.000000\n",
            "---------- \n",
            "\n",
            "Survival Correlation by: FamilySize\n",
            "   FamilySize  Survived\n",
            "0           1  0.303538\n",
            "1           2  0.552795\n",
            "2           3  0.578431\n",
            "3           4  0.724138\n",
            "4           5  0.200000\n",
            "5           6  0.136364\n",
            "6           7  0.333333\n",
            "7           8  0.000000\n",
            "8          11  0.000000\n",
            "---------- \n",
            "\n",
            "Survival Correlation by: IsAlone\n",
            "   IsAlone  Survived\n",
            "0        0  0.505650\n",
            "1        1  0.303538\n",
            "---------- \n",
            "\n",
            "Survived    0    1\n",
            "Title             \n",
            " Master    17   23\n",
            " Miss      55  127\n",
            " Mr       436   81\n",
            " Mrs       26   99\n",
            "Misc       15   12\n"
          ],
          "name": "stdout"
        }
      ]
    },
    {
      "cell_type": "code",
      "metadata": {
        "id": "CsaL6zN4sJdR",
        "colab": {
          "base_uri": "https://localhost:8080/",
          "height": 1000
        },
        "outputId": "9415b80b-4b89-4bfb-ea40-c6f0c8575c08"
      },
      "source": [
        "for x in data1_x:\n",
        "    if titanic_copy[x].dtype != 'float64':\n",
        "        print('Survival Crosstab by : x')\n",
        "        print(pd.crosstab(titanic_copy[x],titanic_copy[Target[0]]))\n",
        "        print('-'*10, '\\n')"
      ],
      "execution_count": null,
      "outputs": [
        {
          "output_type": "stream",
          "text": [
            "Survival Crosstab by : x\n",
            "Survived    0    1\n",
            "Sex               \n",
            "female     81  233\n",
            "male      468  109\n",
            "---------- \n",
            "\n",
            "Survival Crosstab by : x\n",
            "Survived    0    1\n",
            "Pclass            \n",
            "1          80  136\n",
            "2          97   87\n",
            "3         372  119\n",
            "---------- \n",
            "\n",
            "Survival Crosstab by : x\n",
            "Survived    0    1\n",
            "Embarked          \n",
            "C          75   93\n",
            "Q          47   30\n",
            "S         427  219\n",
            "---------- \n",
            "\n",
            "Survival Crosstab by : x\n",
            "Survived    0    1\n",
            "Title             \n",
            " Master    17   23\n",
            " Miss      55  127\n",
            " Mr       436   81\n",
            " Mrs       26   99\n",
            "Misc       15   12\n",
            "---------- \n",
            "\n",
            "Survival Crosstab by : x\n",
            "Survived    0    1\n",
            "SibSp             \n",
            "0         398  210\n",
            "1          97  112\n",
            "2          15   13\n",
            "3          12    4\n",
            "4          15    3\n",
            "5           5    0\n",
            "8           7    0\n",
            "---------- \n",
            "\n",
            "Survival Crosstab by : x\n",
            "Survived    0    1\n",
            "Parch             \n",
            "0         445  233\n",
            "1          53   65\n",
            "2          40   40\n",
            "3           2    3\n",
            "4           4    0\n",
            "5           4    1\n",
            "6           1    0\n",
            "---------- \n",
            "\n",
            "Survival Crosstab by : x\n",
            "Survived      0    1\n",
            "FamilySize          \n",
            "1           374  163\n",
            "2            72   89\n",
            "3            43   59\n",
            "4             8   21\n",
            "5            12    3\n",
            "6            19    3\n",
            "7             8    4\n",
            "8             6    0\n",
            "11            7    0\n",
            "---------- \n",
            "\n",
            "Survival Crosstab by : x\n",
            "Survived    0    1\n",
            "IsAlone           \n",
            "0         175  179\n",
            "1         374  163\n",
            "---------- \n",
            "\n"
          ],
          "name": "stdout"
        }
      ]
    },
    {
      "cell_type": "code",
      "metadata": {
        "id": "teIpQ26CseGP",
        "colab": {
          "base_uri": "https://localhost:8080/",
          "height": 747
        },
        "outputId": "20bdbb43-499b-4e40-8cc9-4c91461e8d59"
      },
      "source": [
        "#IMPORTANT: Intentionally plotted different ways for learning purposes only. \n",
        "#중요: 보고 배우라는 목적으로, 일부러 다른 방식으로 플로팅했습니다.\n",
        "\n",
        "#optional plotting w/pandas: https://pandas.pydata.org/pandas-docs/stable/visualization.html\n",
        "#판다스를 이용한 조건적 플로팅\n",
        "\n",
        "#we will use matplotlib.pyplot: https://matplotlib.org/api/pyplot_api.html\n",
        "#우리는 matplotlib.pyplot을 사용할 것\n",
        "\n",
        "#to organize our graphics will use figure: https://matplotlib.org/api/_as_gen/matplotlib.pyplot.figure.html#matplotlib.pyplot.figure\n",
        "#우리의 그래픽을 구성하기 위해 figure를 사용할 것\n",
        "\n",
        "#subplot: https://matplotlib.org/api/_as_gen/matplotlib.pyplot.subplot.html#matplotlib.pyplot.subplot\n",
        "#and subplotS: https://matplotlib.org/api/_as_gen/matplotlib.pyplot.subplots.html?highlight=matplotlib%20pyplot%20subplots#matplotlib.pyplot.subplots\n",
        "\n",
        "#graph distribution of quantitative data\n",
        "#분포와 정량적 데이터를 그래프화\n",
        "plt.figure(figsize=[16,12])\n",
        "\n",
        "plt.subplot(231)\n",
        "plt.boxplot(x=titanic_copy['Fare'], showmeans = True, meanline = True)\n",
        "plt.title('Fare Boxplot')\n",
        "plt.ylabel('Fare ($)')\n",
        "\n",
        "plt.subplot(232)\n",
        "plt.boxplot(titanic_copy['Age'], showmeans = True, meanline = True)\n",
        "plt.title('Age Boxplot')\n",
        "plt.ylabel('Age (Years)')\n",
        "\n",
        "plt.subplot(233)\n",
        "plt.boxplot(titanic_copy['FamilySize'], showmeans = True, meanline = True)\n",
        "plt.title('Family Size Boxplot')\n",
        "plt.ylabel('Family Size (#)')\n",
        "\n",
        "plt.subplot(234)\n",
        "plt.hist(x = [titanic_copy[titanic_copy['Survived']==1]['Fare'], titanic_copy[titanic_copy['Survived']==0]['Fare']], \n",
        "         stacked=True, color = ['g','r'],label = ['Survived','Dead'])\n",
        "plt.title('Fare Histogram by Survival')\n",
        "plt.xlabel('Fare ($)')\n",
        "plt.ylabel('# of Passengers')\n",
        "plt.legend()\n",
        "\n",
        "plt.subplot(235)\n",
        "plt.hist(x = [titanic_copy[titanic_copy['Survived']==1]['Age'], titanic_copy[titanic_copy['Survived']==0]['Age']], \n",
        "         stacked=False, color = ['g','r'],label = ['Survived','Dead'])\n",
        "plt.title('Age Histogram by Survival')\n",
        "plt.xlabel('Age (Years)')\n",
        "plt.ylabel('# of Passengers')\n",
        "plt.legend()\n",
        "\n",
        "plt.subplot(236)\n",
        "plt.hist(x = [titanic_copy[titanic_copy['Survived']==1]['FamilySize'], titanic_copy[titanic_copy['Survived']==0]['FamilySize']], \n",
        "         stacked=True, color = ['g','r'],label = ['Survived','Dead'])\n",
        "plt.title('Family Size Histogram by Survival')\n",
        "plt.xlabel('Family Size (#)')\n",
        "plt.ylabel('# of Passengers')\n",
        "plt.legend()"
      ],
      "execution_count": null,
      "outputs": [
        {
          "output_type": "execute_result",
          "data": {
            "text/plain": [
              "<matplotlib.legend.Legend at 0x7f9b387c7470>"
            ]
          },
          "metadata": {
            "tags": []
          },
          "execution_count": 237
        },
        {
          "output_type": "display_data",
          "data": {
            "image/png": "[encoded data removed]",
            "text/plain": [
              "<Figure size 1152x864 with 6 Axes>"
            ]
          },
          "metadata": {
            "tags": [],
            "needs_background": "light"
          }
        }
      ]
    },
    {
      "cell_type": "code",
      "metadata": {
        "id": "oJR6eXkwtHZG",
        "colab": {
          "base_uri": "https://localhost:8080/",
          "height": 731
        },
        "outputId": "d1c94125-79fc-4abf-f027-709c1a0ec39b"
      },
      "source": [
        "#we will use seaborn graphics for multi-variable comparison: https://seaborn.pydata.org/api.html\n",
        "#다변수 비교를 위해 seaborn 그래픽을 사용\n",
        "\n",
        "#graph individual features by survival\n",
        "#생존별 개인 특징을 시각화\n",
        "fig, saxis = plt.subplots(2, 3,figsize=(16,12))\n",
        "\n",
        "sns.barplot(x = 'Embarked', y = 'Survived', data=titanic_copy, ax = saxis[0,0])\n",
        "sns.barplot(x = 'Pclass', y = 'Survived', order=[1,2,3], data=titanic_copy, ax = saxis[0,1])\n",
        "sns.barplot(x = 'IsAlone', y = 'Survived', order=[1,0], data=titanic_copy, ax = saxis[0,2])\n",
        "\n",
        "sns.pointplot(x = 'preFare', y = 'Survived',  data=titanic_copy, ax = saxis[1,1])\n",
        "sns.pointplot(x = 'preAge', y = 'Survived',  data=titanic_copy, ax = saxis[1,0])\n",
        "sns.pointplot(x = 'FamilySize', y = 'Survived', data=titanic_copy, ax = saxis[1,2])"
      ],
      "execution_count": null,
      "outputs": [
        {
          "output_type": "execute_result",
          "data": {
            "text/plain": [
              "<matplotlib.axes._subplots.AxesSubplot at 0x7f9b3853be48>"
            ]
          },
          "metadata": {
            "tags": []
          },
          "execution_count": 238
        },
        {
          "output_type": "display_data",
          "data": {
            "image/png": "[encoded data removed]",
            "text/plain": [
              "<Figure size 1152x864 with 6 Axes>"
            ]
          },
          "metadata": {
            "tags": [],
            "needs_background": "light"
          }
        }
      ]
    },
    {
      "cell_type": "code",
      "metadata": {
        "id": "y6_WwiZ-tj5l",
        "colab": {
          "base_uri": "https://localhost:8080/",
          "height": 747
        },
        "outputId": "67453336-b7af-4984-8379-98f6e9e0bac5"
      },
      "source": [
        "#graph distribution of qualitative data: Pclass\n",
        "#분포와 정량적 데이터를 시각화 : Pclass\n",
        "#we know class mattered in survival, now let's compare class and a 2nd feature\n",
        "#사회적 지위가 생존에 중요하다는 것을 알고 있음으로, 클래스와 두번째 특징을 비교하자\n",
        "fig, (axis1,axis2,axis3) = plt.subplots(1,3,figsize=(14,12))\n",
        "\n",
        "sns.boxplot(x = 'Pclass', y = 'Fare', hue = 'Survived', data = titanic_copy, ax = axis1)\n",
        "axis1.set_title('Pclass vs Fare Survival Comparison')\n",
        "\n",
        "sns.violinplot(x = 'Pclass', y = 'Age', hue = 'Survived', data = titanic_copy, split = True, ax = axis2)\n",
        "axis2.set_title('Pclass vs Age Survival Comparison')\n",
        "\n",
        "sns.boxplot(x = 'Pclass', y ='FamilySize', hue = 'Survived', data = titanic_copy, ax = axis3)\n",
        "axis3.set_title('Pclass vs Family Size Survival Comparison')"
      ],
      "execution_count": null,
      "outputs": [
        {
          "output_type": "execute_result",
          "data": {
            "text/plain": [
              "Text(0.5, 1.0, 'Pclass vs Family Size Survival Comparison')"
            ]
          },
          "metadata": {
            "tags": []
          },
          "execution_count": 239
        },
        {
          "output_type": "display_data",
          "data": {
            "image/png": "[encoded data removed]",
            "text/plain": [
              "<Figure size 1008x864 with 3 Axes>"
            ]
          },
          "metadata": {
            "tags": [],
            "needs_background": "light"
          }
        }
      ]
    },
    {
      "cell_type": "code",
      "metadata": {
        "id": "JrFbHvZoV1DA",
        "colab": {
          "base_uri": "https://localhost:8080/",
          "height": 736
        },
        "outputId": "c6a5e08d-4e9a-4469-9d99-599dea33d320"
      },
      "source": [
        "#graph distribution of qualitative data: Sex\n",
        "\n",
        "#we know sex mattered in survival, now let's compare sex and a 2nd feature\n",
        "\n",
        "fig, qaxis = plt.subplots(1,3,figsize=(14,12))\n",
        "\n",
        "sns.barplot(x = 'Sex', y = 'Survived', hue = 'Embarked', data=titanic_copy, ax = qaxis[0])\n",
        "\n",
        "\n",
        "sns.barplot(x = 'Sex', y = 'Survived', hue = 'Pclass', data=titanic_copy, ax  = qaxis[1])\n",
        "\n",
        "\n",
        "sns.barplot(x = 'Sex', y = 'Survived', hue = 'IsAlone', data=titanic_copy, ax  = qaxis[2])"
      ],
      "execution_count": null,
      "outputs": [
        {
          "output_type": "execute_result",
          "data": {
            "text/plain": [
              "<matplotlib.axes._subplots.AxesSubplot at 0x7f9b3819e048>"
            ]
          },
          "metadata": {
            "tags": []
          },
          "execution_count": 240
        },
        {
          "output_type": "display_data",
          "data": {
            "image/png": "[encoded data removed]",
            "text/plain": [
              "<Figure size 1008x864 with 3 Axes>"
            ]
          },
          "metadata": {
            "tags": [],
            "needs_background": "light"
          }
        }
      ]
    },
    {
      "cell_type": "code",
      "metadata": {
        "id": "LNBC5yEeWiBj",
        "colab": {
          "base_uri": "https://localhost:8080/",
          "height": 731
        },
        "outputId": "374fb046-265e-49fa-c408-3e852c4418f5"
      },
      "source": [
        "#more side-by-side comparisons\n",
        "#더 다양한 side-by-side 비교\n",
        "\n",
        "fig, (maxis1, maxis2) = plt.subplots(1, 2,figsize=(14,12))\n",
        "\n",
        "#how does family size factor with sex & survival compare\n",
        "#가족 규모가 성별/생존 비교에 요인이 되는가\n",
        "\n",
        "sns.pointplot(x=\"FamilySize\", y=\"Survived\", hue=\"Sex\", data=titanic_copy,\n",
        "              palette={\"male\": \"blue\", \"female\": \"pink\"},\n",
        "              markers=[\"*\", \"o\"], linestyles=[\"-\", \"--\"], ax = maxis1)\n",
        "\n",
        "#how does class factor with sex & survival compare\n",
        "sns.pointplot(x=\"Pclass\", y=\"Survived\", hue=\"Sex\", data=titanic_copy,\n",
        "              palette={\"male\": \"blue\", \"female\": \"pink\"},\n",
        "              markers=[\"*\", \"o\"], linestyles=[\"-\", \"--\"], ax = maxis2)"
      ],
      "execution_count": null,
      "outputs": [
        {
          "output_type": "execute_result",
          "data": {
            "text/plain": [
              "<matplotlib.axes._subplots.AxesSubplot at 0x7f9b38084828>"
            ]
          },
          "metadata": {
            "tags": []
          },
          "execution_count": 241
        },
        {
          "output_type": "display_data",
          "data": {
            "image/png": "[encoded data removed]",
            "text/plain": [
              "<Figure size 1008x864 with 2 Axes>"
            ]
          },
          "metadata": {
            "tags": [],
            "needs_background": "light"
          }
        }
      ]
    },
    {
      "cell_type": "code",
      "metadata": {
        "id": "ckSn8BIBXJX6",
        "colab": {
          "base_uri": "https://localhost:8080/",
          "height": 242
        },
        "outputId": "3392afeb-9fd5-4e49-dd33-7c96b7b6f138"
      },
      "source": [
        "#how does embark port factor with class, sex, and survival compare\n",
        "#facetgrid: https://seaborn.pydata.org/generated/seaborn.FacetGrid.html\n",
        "e = sns.FacetGrid(titanic_copy, col = 'Embarked')\n",
        "e.map(sns.pointplot, 'Pclass', 'Survived', 'Sex', ci=95.0, palette = 'deep')\n",
        "e.add_legend()"
      ],
      "execution_count": null,
      "outputs": [
        {
          "output_type": "execute_result",
          "data": {
            "text/plain": [
              "<seaborn.axisgrid.FacetGrid at 0x7f9b388f6eb8>"
            ]
          },
          "metadata": {
            "tags": []
          },
          "execution_count": 242
        },
        {
          "output_type": "display_data",
          "data": {
            "image/png": "[encoded data removed]",
            "text/plain": [
              "<Figure size 718.5x216 with 3 Axes>"
            ]
          },
          "metadata": {
            "tags": [],
            "needs_background": "light"
          }
        }
      ]
    },
    {
      "cell_type": "code",
      "metadata": {
        "id": "3G4TnJV3XdrW",
        "colab": {
          "base_uri": "https://localhost:8080/",
          "height": 242
        },
        "outputId": "3696963b-caa2-4e80-d81d-314454e86271"
      },
      "source": [
        "#plot distributions of age of passengers who survived or did not survive\n",
        "#생존한 승객과 사망한 승객들의 나이의 분포를 시각화\n",
        "\n",
        "a = sns.FacetGrid(titanic_copy, hue = 'Survived', aspect=4 )\n",
        "a.map(sns.kdeplot, 'Age', shade= True )\n",
        "a.set(xlim=(0 , titanic_copy['Age'].max()))\n",
        "a.add_legend()"
      ],
      "execution_count": null,
      "outputs": [
        {
          "output_type": "execute_result",
          "data": {
            "text/plain": [
              "<seaborn.axisgrid.FacetGrid at 0x7f9b37e009b0>"
            ]
          },
          "metadata": {
            "tags": []
          },
          "execution_count": 243
        },
        {
          "output_type": "display_data",
          "data": {
            "image/png": "[encoded data removed]",
            "text/plain": [
              "<Figure size 915.875x216 with 1 Axes>"
            ]
          },
          "metadata": {
            "tags": [],
            "needs_background": "light"
          }
        }
      ]
    },
    {
      "cell_type": "code",
      "metadata": {
        "id": "JJ47EAgwXoS0",
        "colab": {
          "base_uri": "https://localhost:8080/",
          "height": 459
        },
        "outputId": "25cb217c-3f6c-42a1-9c8e-321a0cfbe211"
      },
      "source": [
        "#histogram comparison of sex, class, and age by survival\n",
        "#생존별 성별, 지위, 나이를 히스토그램으로 비교\n",
        "h = sns.FacetGrid(titanic_copy, row = 'Sex', col = 'Pclass', hue = 'Survived')\n",
        "h.map(plt.hist, 'Age', alpha = .75)\n",
        "h.add_legend()"
      ],
      "execution_count": null,
      "outputs": [
        {
          "output_type": "execute_result",
          "data": {
            "text/plain": [
              "<seaborn.axisgrid.FacetGrid at 0x7f9b386dfdd8>"
            ]
          },
          "metadata": {
            "tags": []
          },
          "execution_count": 244
        },
        {
          "output_type": "display_data",
          "data": {
            "image/png": "[encoded data removed]",
            "text/plain": [
              "<Figure size 699.875x432 with 6 Axes>"
            ]
          },
          "metadata": {
            "tags": [],
            "needs_background": "light"
          }
        }
      ]
    },
    {
      "cell_type": "code",
      "metadata": {
        "id": "3QwRmggHXwAk",
        "colab": {
          "base_uri": "https://localhost:8080/",
          "height": 1000
        },
        "outputId": "f89a4d59-2d96-4861-e03b-fb25f089866f"
      },
      "source": [
        "#pair plots of entire dataset\n",
        "#전체 데이터셋의 그림들을 짝짓기\n",
        "pp = sns.pairplot(titanic_copy, hue = 'Survived', palette = 'deep', size=1.2, diag_kind = 'kde', diag_kws=dict(shade=True), plot_kws=dict(s=10) )\n",
        "pp.set(xticklabels=[])"
      ],
      "execution_count": null,
      "outputs": [
        {
          "output_type": "execute_result",
          "data": {
            "text/plain": [
              "<seaborn.axisgrid.PairGrid at 0x7f9b37cd7ac8>"
            ]
          },
          "metadata": {
            "tags": []
          },
          "execution_count": 245
        },
        {
          "output_type": "display_data",
          "data": {
            "image/png": "[encoded data removed]",
            "text/plain": [
              "<Figure size 1261.47x1209.6 with 210 Axes>"
            ]
          },
          "metadata": {
            "tags": [],
            "needs_background": "light"
          }
        }
      ]
    },
    {
      "cell_type": "code",
      "metadata": {
        "id": "mkZZnG1CYDGD",
        "colab": {
          "base_uri": "https://localhost:8080/",
          "height": 761
        },
        "outputId": "477e417e-1fe1-4a67-d9dd-1ba4ff12ead3"
      },
      "source": [
        "#correlation heatmap of dataset\n",
        "#데이터셋의 상관관계 히트맵\n",
        "\n",
        "def correlation_heatmap(df):\n",
        "    _ , ax = plt.subplots(figsize =(14, 12))\n",
        "    colormap = sns.diverging_palette(220, 10, as_cmap = True)\n",
        "    \n",
        "    _ = sns.heatmap(\n",
        "        df.corr(), \n",
        "        cmap = colormap,\n",
        "        square=True, \n",
        "        cbar_kws={'shrink':.9 }, \n",
        "        ax=ax,\n",
        "        annot=True, \n",
        "        linewidths=0.1,vmax=1.0, linecolor='white',\n",
        "        annot_kws={'fontsize':12 }\n",
        "    )\n",
        "    \n",
        "    plt.title('Pearson Correlation of Features', y=1.05, size=15)\n",
        "\n",
        "correlation_heatmap(titanic_copy)"
      ],
      "execution_count": null,
      "outputs": [
        {
          "output_type": "display_data",
          "data": {
            "image/png": "[encoded data removed]",
            "text/plain": [
              "<Figure size 1008x864 with 2 Axes>"
            ]
          },
          "metadata": {
            "tags": [],
            "needs_background": "light"
          }
        }
      ]
    },
    {
      "cell_type": "code",
      "metadata": {
        "id": "NlEixHuwkVD1",
        "colab": {
          "base_uri": "https://localhost:8080/",
          "height": 196
        },
        "outputId": "9a14940f-c2fe-4277-9d10-dc1db3d88a64"
      },
      "source": [
        "titanic_copy.sample(2)"
      ],
      "execution_count": null,
      "outputs": [
        {
          "output_type": "execute_result",
          "data": {
            "text/html": [
              "<div>\n",
              "<style scoped>\n",
              "    .dataframe tbody tr th:only-of-type {\n",
              "        vertical-align: middle;\n",
              "    }\n",
              "\n",
              "    .dataframe tbody tr th {\n",
              "        vertical-align: top;\n",
              "    }\n",
              "\n",
              "    .dataframe thead th {\n",
              "        text-align: right;\n",
              "    }\n",
              "</style>\n",
              "<table border=\"1\" class=\"dataframe\">\n",
              "  <thead>\n",
              "    <tr style=\"text-align: right;\">\n",
              "      <th></th>\n",
              "      <th>Survived</th>\n",
              "      <th>Pclass</th>\n",
              "      <th>Name</th>\n",
              "      <th>Sex</th>\n",
              "      <th>Age</th>\n",
              "      <th>SibSp</th>\n",
              "      <th>Parch</th>\n",
              "      <th>Fare</th>\n",
              "      <th>Embarked</th>\n",
              "      <th>Title</th>\n",
              "      <th>FamilySize</th>\n",
              "      <th>IsAlone</th>\n",
              "      <th>preAge</th>\n",
              "      <th>preFare</th>\n",
              "      <th>Sex_Code</th>\n",
              "      <th>Embarked_Code</th>\n",
              "      <th>Title_Code</th>\n",
              "      <th>preAge_Code</th>\n",
              "      <th>preFare_Code</th>\n",
              "    </tr>\n",
              "  </thead>\n",
              "  <tbody>\n",
              "    <tr>\n",
              "      <th>344</th>\n",
              "      <td>0</td>\n",
              "      <td>2</td>\n",
              "      <td>Fox, Mr. Stanley Hubert</td>\n",
              "      <td>male</td>\n",
              "      <td>36.0</td>\n",
              "      <td>0</td>\n",
              "      <td>0</td>\n",
              "      <td>13.0</td>\n",
              "      <td>S</td>\n",
              "      <td>Mr</td>\n",
              "      <td>1</td>\n",
              "      <td>1</td>\n",
              "      <td>3</td>\n",
              "      <td>2</td>\n",
              "      <td>1</td>\n",
              "      <td>2</td>\n",
              "      <td>2</td>\n",
              "      <td>3</td>\n",
              "      <td>2</td>\n",
              "    </tr>\n",
              "    <tr>\n",
              "      <th>438</th>\n",
              "      <td>0</td>\n",
              "      <td>1</td>\n",
              "      <td>Fortune, Mr. Mark</td>\n",
              "      <td>male</td>\n",
              "      <td>64.0</td>\n",
              "      <td>1</td>\n",
              "      <td>4</td>\n",
              "      <td>263.0</td>\n",
              "      <td>S</td>\n",
              "      <td>Mr</td>\n",
              "      <td>6</td>\n",
              "      <td>0</td>\n",
              "      <td>4</td>\n",
              "      <td>4</td>\n",
              "      <td>1</td>\n",
              "      <td>2</td>\n",
              "      <td>2</td>\n",
              "      <td>4</td>\n",
              "      <td>4</td>\n",
              "    </tr>\n",
              "  </tbody>\n",
              "</table>\n",
              "</div>"
            ],
            "text/plain": [
              "     Survived  Pclass  ... preAge_Code preFare_Code\n",
              "344         0       2  ...           3            2\n",
              "438         0       1  ...           4            4\n",
              "\n",
              "[2 rows x 19 columns]"
            ]
          },
          "metadata": {
            "tags": []
          },
          "execution_count": 247
        }
      ]
    },
    {
      "cell_type": "code",
      "metadata": {
        "id": "SVvssTslk_Uv",
        "colab": {
          "base_uri": "https://localhost:8080/",
          "height": 230
        },
        "outputId": "40fd54f1-51bc-4432-c691-602ad9ac8080"
      },
      "source": [
        "titanic_test.sample(2)"
      ],
      "execution_count": null,
      "outputs": [
        {
          "output_type": "execute_result",
          "data": {
            "text/html": [
              "<div>\n",
              "<style scoped>\n",
              "    .dataframe tbody tr th:only-of-type {\n",
              "        vertical-align: middle;\n",
              "    }\n",
              "\n",
              "    .dataframe tbody tr th {\n",
              "        vertical-align: top;\n",
              "    }\n",
              "\n",
              "    .dataframe thead th {\n",
              "        text-align: right;\n",
              "    }\n",
              "</style>\n",
              "<table border=\"1\" class=\"dataframe\">\n",
              "  <thead>\n",
              "    <tr style=\"text-align: right;\">\n",
              "      <th></th>\n",
              "      <th>PassengerId</th>\n",
              "      <th>Pclass</th>\n",
              "      <th>Name</th>\n",
              "      <th>Sex</th>\n",
              "      <th>Age</th>\n",
              "      <th>SibSp</th>\n",
              "      <th>Parch</th>\n",
              "      <th>Ticket</th>\n",
              "      <th>Fare</th>\n",
              "      <th>Cabin</th>\n",
              "      <th>Embarked</th>\n",
              "      <th>Title</th>\n",
              "      <th>FamilySize</th>\n",
              "      <th>IsAlone</th>\n",
              "      <th>preAge</th>\n",
              "      <th>preFare</th>\n",
              "      <th>Sex_Code</th>\n",
              "      <th>Embarked_Code</th>\n",
              "      <th>Title_Code</th>\n",
              "      <th>preAge_Code</th>\n",
              "      <th>preFare_Code</th>\n",
              "    </tr>\n",
              "  </thead>\n",
              "  <tbody>\n",
              "    <tr>\n",
              "      <th>187</th>\n",
              "      <td>1079</td>\n",
              "      <td>3</td>\n",
              "      <td>Davies, Mr. Joseph</td>\n",
              "      <td>male</td>\n",
              "      <td>17.0</td>\n",
              "      <td>2</td>\n",
              "      <td>0</td>\n",
              "      <td>A/4 48873</td>\n",
              "      <td>8.0500</td>\n",
              "      <td>NaN</td>\n",
              "      <td>S</td>\n",
              "      <td>Mr</td>\n",
              "      <td>3</td>\n",
              "      <td>0</td>\n",
              "      <td>0</td>\n",
              "      <td>1</td>\n",
              "      <td>1</td>\n",
              "      <td>2</td>\n",
              "      <td>5</td>\n",
              "      <td>0</td>\n",
              "      <td>1</td>\n",
              "    </tr>\n",
              "    <tr>\n",
              "      <th>35</th>\n",
              "      <td>927</td>\n",
              "      <td>3</td>\n",
              "      <td>Katavelas, Mr. Vassilios (Catavelas Vassilios\")\"</td>\n",
              "      <td>male</td>\n",
              "      <td>18.5</td>\n",
              "      <td>0</td>\n",
              "      <td>0</td>\n",
              "      <td>2682</td>\n",
              "      <td>7.2292</td>\n",
              "      <td>NaN</td>\n",
              "      <td>C</td>\n",
              "      <td>Mr</td>\n",
              "      <td>1</td>\n",
              "      <td>1</td>\n",
              "      <td>0</td>\n",
              "      <td>0</td>\n",
              "      <td>1</td>\n",
              "      <td>0</td>\n",
              "      <td>5</td>\n",
              "      <td>0</td>\n",
              "      <td>0</td>\n",
              "    </tr>\n",
              "  </tbody>\n",
              "</table>\n",
              "</div>"
            ],
            "text/plain": [
              "     PassengerId  Pclass  ... preAge_Code preFare_Code\n",
              "187         1079       3  ...           0            1\n",
              "35           927       3  ...           0            0\n",
              "\n",
              "[2 rows x 21 columns]"
            ]
          },
          "metadata": {
            "tags": []
          },
          "execution_count": 248
        }
      ]
    },
    {
      "cell_type": "code",
      "metadata": {
        "id": "r_O2iG2mkjca"
      },
      "source": [
        "titanic_copy = titanic_copy.drop(['Name','Fare','Age','SibSp','Parch','Embarked','Title','preAge','preFare','Sex'],axis=1)\n",
        "titanic_test = titanic_test.drop(['PassengerId','Name','Fare','Ticket','Age','Cabin','SibSp','Parch','Embarked','Title','preAge','preFare','Sex'],axis=1)"
      ],
      "execution_count": null,
      "outputs": []
    },
    {
      "cell_type": "code",
      "metadata": {
        "id": "FO5z_d84l2FJ",
        "colab": {
          "base_uri": "https://localhost:8080/",
          "height": 78
        },
        "outputId": "953b2f72-9a20-4546-e6f3-64035513a2ce"
      },
      "source": [
        "titanic_copy.sample(1)"
      ],
      "execution_count": null,
      "outputs": [
        {
          "output_type": "execute_result",
          "data": {
            "text/html": [
              "<div>\n",
              "<style scoped>\n",
              "    .dataframe tbody tr th:only-of-type {\n",
              "        vertical-align: middle;\n",
              "    }\n",
              "\n",
              "    .dataframe tbody tr th {\n",
              "        vertical-align: top;\n",
              "    }\n",
              "\n",
              "    .dataframe thead th {\n",
              "        text-align: right;\n",
              "    }\n",
              "</style>\n",
              "<table border=\"1\" class=\"dataframe\">\n",
              "  <thead>\n",
              "    <tr style=\"text-align: right;\">\n",
              "      <th></th>\n",
              "      <th>Survived</th>\n",
              "      <th>Pclass</th>\n",
              "      <th>FamilySize</th>\n",
              "      <th>IsAlone</th>\n",
              "      <th>Sex_Code</th>\n",
              "      <th>Embarked_Code</th>\n",
              "      <th>Title_Code</th>\n",
              "      <th>preAge_Code</th>\n",
              "      <th>preFare_Code</th>\n",
              "    </tr>\n",
              "  </thead>\n",
              "  <tbody>\n",
              "    <tr>\n",
              "      <th>438</th>\n",
              "      <td>0</td>\n",
              "      <td>1</td>\n",
              "      <td>6</td>\n",
              "      <td>0</td>\n",
              "      <td>1</td>\n",
              "      <td>2</td>\n",
              "      <td>2</td>\n",
              "      <td>4</td>\n",
              "      <td>4</td>\n",
              "    </tr>\n",
              "  </tbody>\n",
              "</table>\n",
              "</div>"
            ],
            "text/plain": [
              "     Survived  Pclass  FamilySize  ...  Title_Code  preAge_Code  preFare_Code\n",
              "438         0       1           6  ...           2            4             4\n",
              "\n",
              "[1 rows x 9 columns]"
            ]
          },
          "metadata": {
            "tags": []
          },
          "execution_count": 250
        }
      ]
    },
    {
      "cell_type": "code",
      "metadata": {
        "id": "jsI-HA3Il70R",
        "colab": {
          "base_uri": "https://localhost:8080/",
          "height": 78
        },
        "outputId": "5bc1ab66-2095-42bb-b943-d6837cd888b0"
      },
      "source": [
        "titanic_test.sample(1)"
      ],
      "execution_count": null,
      "outputs": [
        {
          "output_type": "execute_result",
          "data": {
            "text/html": [
              "<div>\n",
              "<style scoped>\n",
              "    .dataframe tbody tr th:only-of-type {\n",
              "        vertical-align: middle;\n",
              "    }\n",
              "\n",
              "    .dataframe tbody tr th {\n",
              "        vertical-align: top;\n",
              "    }\n",
              "\n",
              "    .dataframe thead th {\n",
              "        text-align: right;\n",
              "    }\n",
              "</style>\n",
              "<table border=\"1\" class=\"dataframe\">\n",
              "  <thead>\n",
              "    <tr style=\"text-align: right;\">\n",
              "      <th></th>\n",
              "      <th>Pclass</th>\n",
              "      <th>FamilySize</th>\n",
              "      <th>IsAlone</th>\n",
              "      <th>Sex_Code</th>\n",
              "      <th>Embarked_Code</th>\n",
              "      <th>Title_Code</th>\n",
              "      <th>preAge_Code</th>\n",
              "      <th>preFare_Code</th>\n",
              "    </tr>\n",
              "  </thead>\n",
              "  <tbody>\n",
              "    <tr>\n",
              "      <th>138</th>\n",
              "      <td>3</td>\n",
              "      <td>1</td>\n",
              "      <td>1</td>\n",
              "      <td>0</td>\n",
              "      <td>2</td>\n",
              "      <td>4</td>\n",
              "      <td>1</td>\n",
              "      <td>1</td>\n",
              "    </tr>\n",
              "  </tbody>\n",
              "</table>\n",
              "</div>"
            ],
            "text/plain": [
              "     Pclass  FamilySize  IsAlone  ...  Title_Code  preAge_Code  preFare_Code\n",
              "138       3           1        1  ...           4            1             1\n",
              "\n",
              "[1 rows x 8 columns]"
            ]
          },
          "metadata": {
            "tags": []
          },
          "execution_count": 251
        }
      ]
    },
    {
      "cell_type": "code",
      "metadata": {
        "id": "YaS4-xFhmcWf",
        "colab": {
          "base_uri": "https://localhost:8080/",
          "height": 199
        },
        "outputId": "c1137ba7-6d7d-49ac-aa6a-9e9aeded782b"
      },
      "source": [
        "y_titanic_df = titanic_copy['Survived']\n",
        "X_titanic_df= titanic_copy.drop('Survived',axis=1)\n",
        "\n",
        "X_titanic_df.head()"
      ],
      "execution_count": null,
      "outputs": [
        {
          "output_type": "execute_result",
          "data": {
            "text/html": [
              "<div>\n",
              "<style scoped>\n",
              "    .dataframe tbody tr th:only-of-type {\n",
              "        vertical-align: middle;\n",
              "    }\n",
              "\n",
              "    .dataframe tbody tr th {\n",
              "        vertical-align: top;\n",
              "    }\n",
              "\n",
              "    .dataframe thead th {\n",
              "        text-align: right;\n",
              "    }\n",
              "</style>\n",
              "<table border=\"1\" class=\"dataframe\">\n",
              "  <thead>\n",
              "    <tr style=\"text-align: right;\">\n",
              "      <th></th>\n",
              "      <th>Pclass</th>\n",
              "      <th>FamilySize</th>\n",
              "      <th>IsAlone</th>\n",
              "      <th>Sex_Code</th>\n",
              "      <th>Embarked_Code</th>\n",
              "      <th>Title_Code</th>\n",
              "      <th>preAge_Code</th>\n",
              "      <th>preFare_Code</th>\n",
              "    </tr>\n",
              "  </thead>\n",
              "  <tbody>\n",
              "    <tr>\n",
              "      <th>0</th>\n",
              "      <td>3</td>\n",
              "      <td>2</td>\n",
              "      <td>0</td>\n",
              "      <td>1</td>\n",
              "      <td>2</td>\n",
              "      <td>2</td>\n",
              "      <td>1</td>\n",
              "      <td>0</td>\n",
              "    </tr>\n",
              "    <tr>\n",
              "      <th>1</th>\n",
              "      <td>1</td>\n",
              "      <td>2</td>\n",
              "      <td>0</td>\n",
              "      <td>0</td>\n",
              "      <td>0</td>\n",
              "      <td>3</td>\n",
              "      <td>3</td>\n",
              "      <td>4</td>\n",
              "    </tr>\n",
              "    <tr>\n",
              "      <th>2</th>\n",
              "      <td>3</td>\n",
              "      <td>1</td>\n",
              "      <td>1</td>\n",
              "      <td>0</td>\n",
              "      <td>2</td>\n",
              "      <td>1</td>\n",
              "      <td>2</td>\n",
              "      <td>0</td>\n",
              "    </tr>\n",
              "    <tr>\n",
              "      <th>3</th>\n",
              "      <td>1</td>\n",
              "      <td>2</td>\n",
              "      <td>0</td>\n",
              "      <td>0</td>\n",
              "      <td>2</td>\n",
              "      <td>3</td>\n",
              "      <td>3</td>\n",
              "      <td>4</td>\n",
              "    </tr>\n",
              "    <tr>\n",
              "      <th>4</th>\n",
              "      <td>3</td>\n",
              "      <td>1</td>\n",
              "      <td>1</td>\n",
              "      <td>1</td>\n",
              "      <td>2</td>\n",
              "      <td>2</td>\n",
              "      <td>3</td>\n",
              "      <td>1</td>\n",
              "    </tr>\n",
              "  </tbody>\n",
              "</table>\n",
              "</div>"
            ],
            "text/plain": [
              "   Pclass  FamilySize  IsAlone  ...  Title_Code  preAge_Code  preFare_Code\n",
              "0       3           2        0  ...           2            1             0\n",
              "1       1           2        0  ...           3            3             4\n",
              "2       3           1        1  ...           1            2             0\n",
              "3       1           2        0  ...           3            3             4\n",
              "4       3           1        1  ...           2            3             1\n",
              "\n",
              "[5 rows x 8 columns]"
            ]
          },
          "metadata": {
            "tags": []
          },
          "execution_count": 252
        }
      ]
    },
    {
      "cell_type": "code",
      "metadata": {
        "id": "YHEuqUmNm4JO"
      },
      "source": [
        "from sklearn.model_selection import train_test_split\n",
        "\n",
        "X_train, X_test, y_train, y_test=train_test_split(X_titanic_df, y_titanic_df,test_size=0.2, random_state=11)"
      ],
      "execution_count": null,
      "outputs": []
    },
    {
      "cell_type": "code",
      "metadata": {
        "id": "t1_JVtjqm8pM",
        "colab": {
          "base_uri": "https://localhost:8080/",
          "height": 87
        },
        "outputId": "9c2fc8e3-1891-4e0e-95aa-57f4cc0c8caf"
      },
      "source": [
        "from sklearn.tree import DecisionTreeClassifier\n",
        "from sklearn.ensemble import RandomForestClassifier\n",
        "from sklearn.linear_model import LogisticRegression\n",
        "from sklearn.metrics import accuracy_score\n",
        "from sklearn.svm import SVC\n",
        "\n",
        "dt_clf = DecisionTreeClassifier(random_state=11)\n",
        "rf_clf = RandomForestClassifier(random_state=11)\n",
        "lr_clf = LogisticRegression(max_iter=300)\n",
        "svc_clf = SVC()\n",
        "\n",
        "dt_clf.fit(X_train , y_train)\n",
        "dt_pred = dt_clf.predict(X_test)\n",
        "dt_score= accuracy_score(y_test, dt_pred)\n",
        "print('DecisionTreeClassifier 정확도: {0:.4f}'.format(dt_score))\n",
        "\n",
        "rf_clf.fit(X_train , y_train)\n",
        "rf_pred = rf_clf.predict(X_test)\n",
        "rf_score= accuracy_score(y_test, rf_pred)\n",
        "print('RandomForestClassifier 정확도:{0:.4f}'.format(rf_score))\n",
        "\n",
        "lr_clf.fit(X_train , y_train)\n",
        "lr_pred = lr_clf.predict(X_test)\n",
        "lr_score= accuracy_score(y_test, lr_pred)\n",
        "print('LogisticRegression 정확도: {0:.4f}'.format(lr_score))\n",
        "\n",
        "svc_clf.fit(X_train , y_train)\n",
        "svc_pred = svc_clf.predict(X_test)\n",
        "svc_score= accuracy_score(y_test, svc_pred)\n",
        "print('SVC 정확도: {0:.4f}'.format(svc_score))"
      ],
      "execution_count": null,
      "outputs": [
        {
          "output_type": "stream",
          "text": [
            "DecisionTreeClassifier 정확도: 0.8045\n",
            "RandomForestClassifier 정확도:0.8156\n",
            "LogisticRegression 정확도: 0.8436\n",
            "SVC 정확도: 0.8715\n"
          ],
          "name": "stdout"
        }
      ]
    },
    {
      "cell_type": "code",
      "metadata": {
        "id": "-NTXjSHim_Oz",
        "colab": {
          "base_uri": "https://localhost:8080/",
          "height": 122
        },
        "outputId": "f2c4cf3e-c8cf-406f-b951-6901614ebf93"
      },
      "source": [
        "# 그래프 추가 안함 dt 소속\n",
        "from sklearn.model_selection import KFold\n",
        "\n",
        "def exec_kfold(clf, folds=5):\n",
        "    kfold = KFold(n_splits=folds)\n",
        "    scores = []\n",
        "    \n",
        "    for iter_count , (train_index, test_index) in enumerate(kfold.split(X_titanic_df)):\n",
        "        X_train, X_test = X_titanic_df.values[train_index], X_titanic_df.values[test_index]\n",
        "        y_train, y_test = y_titanic_df.values[train_index], y_titanic_df.values[test_index]\n",
        "        \n",
        "        clf.fit(X_train, y_train) \n",
        "        predictions = clf.predict(X_test)\n",
        "        accuracy = accuracy_score(y_test, predictions)\n",
        "        scores.append(accuracy)\n",
        "        print(\"교차 검증 {0} 정확도: {1:.4f}\".format(iter_count, accuracy))     \n",
        "    \n",
        "    mean_score = np.mean(scores)\n",
        "    print(\"평균 정확도: {0:.4f}\".format(mean_score))\n",
        "\n",
        "exec_kfold(dt_clf , folds=5)"
      ],
      "execution_count": null,
      "outputs": [
        {
          "output_type": "stream",
          "text": [
            "교차 검증 0 정확도: 0.7821\n",
            "교차 검증 1 정확도: 0.7753\n",
            "교차 검증 2 정확도: 0.8034\n",
            "교차 검증 3 정확도: 0.7640\n",
            "교차 검증 4 정확도: 0.8371\n",
            "평균 정확도: 0.7924\n"
          ],
          "name": "stdout"
        }
      ]
    },
    {
      "cell_type": "code",
      "metadata": {
        "id": "pLGbWrXGrZHB",
        "colab": {
          "base_uri": "https://localhost:8080/",
          "height": 122
        },
        "outputId": "ec5daf70-f75c-4cf8-d663-4a76940d28e0"
      },
      "source": [
        "from sklearn.model_selection import cross_val_score\n",
        "\n",
        "scores = cross_val_score(dt_clf, X_titanic_df , y_titanic_df , cv=5)\n",
        "for iter_count,accuracy in enumerate(scores):\n",
        "    print(\"교차 검증 {0} 정확도: {1:.4f}\".format(iter_count, accuracy))\n",
        "\n",
        "cross_val_score_mean_score = np.mean(scores)\n",
        "print(\"평균 정확도: {0:.4f}\".format(cross_val_score_mean_score))"
      ],
      "execution_count": null,
      "outputs": [
        {
          "output_type": "stream",
          "text": [
            "교차 검증 0 정확도: 0.7654\n",
            "교차 검증 1 정확도: 0.7753\n",
            "교차 검증 2 정확도: 0.8090\n",
            "교차 검증 3 정확도: 0.7753\n",
            "교차 검증 4 정확도: 0.8258\n",
            "평균 정확도: 0.7902\n"
          ],
          "name": "stdout"
        }
      ]
    },
    {
      "cell_type": "code",
      "metadata": {
        "id": "4F4KBKQGrcT8",
        "colab": {
          "base_uri": "https://localhost:8080/",
          "height": 70
        },
        "outputId": "aa07e49f-369a-4f2e-acf3-76ba924973ec"
      },
      "source": [
        "from sklearn.model_selection import GridSearchCV\n",
        "\n",
        "parameters = {'max_depth':[2,3,5,10],\n",
        "             'min_samples_split':[2,3,5], 'min_samples_leaf':[1,5,8]}\n",
        "\n",
        "grid_dclf = GridSearchCV(dt_clf , param_grid=parameters , scoring='accuracy' , cv=5)\n",
        "grid_dclf.fit(X_train , y_train)\n",
        "\n",
        "print('best_params_ : ',grid_dclf.best_params_)\n",
        "print('best_score_: ', grid_dclf.best_score_)\n",
        "\n",
        "best_dclf = grid_dclf.best_estimator_\n",
        "pred = best_dclf.predict(X_test)\n",
        "grid_score = accuracy_score(y_test , pred)\n",
        "print('accuracy: ', grid_score)"
      ],
      "execution_count": null,
      "outputs": [
        {
          "output_type": "stream",
          "text": [
            "best_params_ :  {'max_depth': 10, 'min_samples_leaf': 8, 'min_samples_split': 2}\n",
            "best_score_:  0.8300502314586822\n",
            "accuracy:  0.8324022346368715\n"
          ],
          "name": "stdout"
        }
      ]
    },
    {
      "cell_type": "code",
      "metadata": {
        "id": "XS8dTp0HrexV",
        "colab": {
          "base_uri": "https://localhost:8080/",
          "height": 52
        },
        "outputId": "ba958a25-486b-4267-f76d-310807cc8cc9"
      },
      "source": [
        "from sklearn.ensemble import GradientBoostingClassifier\n",
        "import time\n",
        "import warnings\n",
        "warnings.filterwarnings('ignore')\n",
        "\n",
        "# GBM 수행 시간 측정을 위함. 시작 시간 설정.\n",
        "start_time = time.time()\n",
        "\n",
        "gb_clf = GradientBoostingClassifier()\n",
        "gb_clf.fit(X_train , y_train)\n",
        "gb_pred = gb_clf.predict(X_test)\n",
        "gb_accuracy = accuracy_score(y_test, gb_pred)\n",
        "\n",
        "print('GBM 정확도: {0:.4f}'.format(gb_accuracy))\n",
        "print(\"GBM 수행 시간: {0:.1f} 초 \".format(time.time() - start_time))"
      ],
      "execution_count": null,
      "outputs": [
        {
          "output_type": "stream",
          "text": [
            "GBM 정확도: 0.8659\n",
            "GBM 수행 시간: 0.1 초 \n"
          ],
          "name": "stdout"
        }
      ]
    },
    {
      "cell_type": "code",
      "metadata": {
        "id": "AHfoyP-8hyQq",
        "colab": {
          "base_uri": "https://localhost:8080/",
          "height": 34
        },
        "outputId": "d33d2549-13ba-47fd-f77e-36cd4cbb4d39"
      },
      "source": [
        "xclf = XGBClassifier()\n",
        "xclf.fit(X_train, y_train, eval_metric='auc', verbose=True)\n",
        "xgb_pred = xclf.predict(X_test)\n",
        "xgb_score = accuracy_score(y_test, xgb_pred)\n",
        "print(\"score:\", xgb_score, \"%\")"
      ],
      "execution_count": null,
      "outputs": [
        {
          "output_type": "stream",
          "text": [
            "score: 0.8715083798882681 %\n"
          ],
          "name": "stdout"
        }
      ]
    },
    {
      "cell_type": "code",
      "metadata": {
        "id": "1ZaV1wARij0h",
        "colab": {
          "base_uri": "https://localhost:8080/",
          "height": 34
        },
        "outputId": "9bbeb098-f9c4-448f-ebd4-7980a0913b07"
      },
      "source": [
        "xclf1 = XGBClassifier(booster='dart', min_split_loss = 1, max_depth= 7)\n",
        "xclf1.fit(X_train, y_train, eval_metric='auc', verbose=True)\n",
        "xgb_pred = xclf1.predict(X_test)\n",
        "xgb_score1 = accuracy_score(y_test, xgb_pred)\n",
        "print(\"score:\", xgb_score1, \"%\")"
      ],
      "execution_count": null,
      "outputs": [
        {
          "output_type": "stream",
          "text": [
            "score: 0.8770949720670391 %\n"
          ],
          "name": "stdout"
        }
      ]
    },
    {
      "cell_type": "code",
      "metadata": {
        "id": "FzXqpCqVi3zA",
        "colab": {
          "base_uri": "https://localhost:8080/",
          "height": 34
        },
        "outputId": "e5a63c27-40a8-4ca1-824c-e35f463d5d28"
      },
      "source": [
        "from sklearn.linear_model import Perceptron\n",
        "\n",
        "perceptron = Perceptron(max_iter=5)\n",
        "perceptron.fit(X_train, y_train)\n",
        "\n",
        "percep_pred = perceptron.predict(X_test)\n",
        "\n",
        "percep_score = accuracy_score(y_test, percep_pred)\n",
        "print(\"score:\", percep_score, \"%\")"
      ],
      "execution_count": null,
      "outputs": [
        {
          "output_type": "stream",
          "text": [
            "score: 0.7039106145251397 %\n"
          ],
          "name": "stdout"
        }
      ]
    },
    {
      "cell_type": "code",
      "metadata": {
        "id": "xEmdc4X8kUM4",
        "colab": {
          "base_uri": "https://localhost:8080/",
          "height": 34
        },
        "outputId": "9832204d-5a3f-4e88-8a52-a452665bcec1"
      },
      "source": [
        "gaussian = GaussianNB() \n",
        "gaussian.fit(X_train, y_train)  \n",
        "nb_pred = gaussian.predict(X_test)  \n",
        "nb_score = accuracy_score(y_test, nb_pred)\n",
        "print(\"score:\", nb_score, \"%\")"
      ],
      "execution_count": null,
      "outputs": [
        {
          "output_type": "stream",
          "text": [
            "score: 0.8044692737430168 %\n"
          ],
          "name": "stdout"
        }
      ]
    },
    {
      "cell_type": "code",
      "metadata": {
        "id": "maA_WQ_ek0Wx",
        "colab": {
          "base_uri": "https://localhost:8080/",
          "height": 34
        },
        "outputId": "6e4ff808-b7f0-4874-8776-68c72230cbfc"
      },
      "source": [
        "knn = KNeighborsClassifier(n_neighbors = 5) \n",
        "knn.fit(X_train, y_train)  \n",
        "knn_pred = knn.predict(X_test)  \n",
        "knn_score1 = accuracy_score(y_test, knn_pred)\n",
        "print(\"score:\", knn_score1, \"%\")"
      ],
      "execution_count": null,
      "outputs": [
        {
          "output_type": "stream",
          "text": [
            "score: 0.8212290502793296 %\n"
          ],
          "name": "stdout"
        }
      ]
    },
    {
      "cell_type": "code",
      "metadata": {
        "id": "qS-lJ2ryj8T0",
        "colab": {
          "base_uri": "https://localhost:8080/",
          "height": 34
        },
        "outputId": "5bbfcba2-4e68-4d4f-e3a7-0b98c6b961a6"
      },
      "source": [
        "knn = KNeighborsClassifier(n_neighbors = 3) \n",
        "knn.fit(X_train, y_train)  \n",
        "knn_pred = knn.predict(X_test)  \n",
        "knn_score = accuracy_score(y_test, knn_pred)\n",
        "print(\"score:\", knn_score, \"%\")"
      ],
      "execution_count": null,
      "outputs": [
        {
          "output_type": "stream",
          "text": [
            "score: 0.8435754189944135 %\n"
          ],
          "name": "stdout"
        }
      ]
    },
    {
      "cell_type": "code",
      "metadata": {
        "id": "FYwR0uPFknKA",
        "colab": {
          "base_uri": "https://localhost:8080/",
          "height": 411
        },
        "outputId": "93d2a75e-12dc-4638-f00f-f74ef40b9afc"
      },
      "source": [
        "#area for Model Score visual\n",
        "results = pd.DataFrame({\n",
        "    'Model': ['Support Vector Machines', 'KNN_3 ', 'KNN_5', 'Logistic Regression', \n",
        "              'Random Forest', 'Gaussian', 'Perceptron', 'XGB Classifier',\n",
        "              'Decision Tree','cross_val','GridSearchCV','GradientBoosting'],\n",
        "    'Score': [svc_score, knn_score, knn_score1, lr_score, \n",
        "              rf_score, nb_score, percep_score, xgb_score1, dt_score,cross_val_score_mean_score,grid_score,gb_accuracy]})\n",
        "result_df = results.sort_values(by='Score', ascending=False)\n",
        "#result_df = result_df.set_index('Score')\n",
        "result_df.head(12)"
      ],
      "execution_count": null,
      "outputs": [
        {
          "output_type": "execute_result",
          "data": {
            "text/html": [
              "<div>\n",
              "<style scoped>\n",
              "    .dataframe tbody tr th:only-of-type {\n",
              "        vertical-align: middle;\n",
              "    }\n",
              "\n",
              "    .dataframe tbody tr th {\n",
              "        vertical-align: top;\n",
              "    }\n",
              "\n",
              "    .dataframe thead th {\n",
              "        text-align: right;\n",
              "    }\n",
              "</style>\n",
              "<table border=\"1\" class=\"dataframe\">\n",
              "  <thead>\n",
              "    <tr style=\"text-align: right;\">\n",
              "      <th></th>\n",
              "      <th>Model</th>\n",
              "      <th>Score</th>\n",
              "    </tr>\n",
              "  </thead>\n",
              "  <tbody>\n",
              "    <tr>\n",
              "      <th>7</th>\n",
              "      <td>XGB Classifier</td>\n",
              "      <td>0.877095</td>\n",
              "    </tr>\n",
              "    <tr>\n",
              "      <th>0</th>\n",
              "      <td>Support Vector Machines</td>\n",
              "      <td>0.871508</td>\n",
              "    </tr>\n",
              "    <tr>\n",
              "      <th>11</th>\n",
              "      <td>GradientBoosting</td>\n",
              "      <td>0.865922</td>\n",
              "    </tr>\n",
              "    <tr>\n",
              "      <th>1</th>\n",
              "      <td>KNN_3</td>\n",
              "      <td>0.843575</td>\n",
              "    </tr>\n",
              "    <tr>\n",
              "      <th>3</th>\n",
              "      <td>Logistic Regression</td>\n",
              "      <td>0.843575</td>\n",
              "    </tr>\n",
              "    <tr>\n",
              "      <th>10</th>\n",
              "      <td>GridSearchCV</td>\n",
              "      <td>0.832402</td>\n",
              "    </tr>\n",
              "    <tr>\n",
              "      <th>2</th>\n",
              "      <td>KNN_5</td>\n",
              "      <td>0.821229</td>\n",
              "    </tr>\n",
              "    <tr>\n",
              "      <th>4</th>\n",
              "      <td>Random Forest</td>\n",
              "      <td>0.815642</td>\n",
              "    </tr>\n",
              "    <tr>\n",
              "      <th>5</th>\n",
              "      <td>Gaussian</td>\n",
              "      <td>0.804469</td>\n",
              "    </tr>\n",
              "    <tr>\n",
              "      <th>8</th>\n",
              "      <td>Decision Tree</td>\n",
              "      <td>0.804469</td>\n",
              "    </tr>\n",
              "    <tr>\n",
              "      <th>9</th>\n",
              "      <td>cross_val</td>\n",
              "      <td>0.790151</td>\n",
              "    </tr>\n",
              "    <tr>\n",
              "      <th>6</th>\n",
              "      <td>Perceptron</td>\n",
              "      <td>0.703911</td>\n",
              "    </tr>\n",
              "  </tbody>\n",
              "</table>\n",
              "</div>"
            ],
            "text/plain": [
              "                      Model     Score\n",
              "7            XGB Classifier  0.877095\n",
              "0   Support Vector Machines  0.871508\n",
              "11         GradientBoosting  0.865922\n",
              "1                    KNN_3   0.843575\n",
              "3       Logistic Regression  0.843575\n",
              "10             GridSearchCV  0.832402\n",
              "2                     KNN_5  0.821229\n",
              "4             Random Forest  0.815642\n",
              "5                  Gaussian  0.804469\n",
              "8             Decision Tree  0.804469\n",
              "9                 cross_val  0.790151\n",
              "6                Perceptron  0.703911"
            ]
          },
          "metadata": {
            "tags": []
          },
          "execution_count": 322
        }
      ]
    },
    {
      "cell_type": "code",
      "metadata": {
        "id": "ls4mXqFKmH6c",
        "colab": {
          "base_uri": "https://localhost:8080/",
          "height": 297
        },
        "outputId": "b6982ada-2043-409f-8cb2-33d47e163568"
      },
      "source": [
        "#연습\n",
        "ax = sns.barplot(x=\"Model\", y=\"Score\", data=result_df, palette=\"Set2\")\n",
        "ax.set_xticklabels(ax.get_xticklabels(), rotation=40, ha=\"right\")\n",
        "plt.tight_layout()\n",
        "plt.show()"
      ],
      "execution_count": null,
      "outputs": [
        {
          "output_type": "display_data",
          "data": {
            "image/png": "[encoded data removed]",
            "text/plain": [
              "<Figure size 432x288 with 1 Axes>"
            ]
          },
          "metadata": {
            "tags": [],
            "needs_background": "light"
          }
        }
      ]
    },
    {
      "cell_type": "code",
      "metadata": {
        "id": "7sxB9w24n-mZ",
        "colab": {
          "base_uri": "https://localhost:8080/",
          "height": 320
        },
        "outputId": "4b3d5f33-47e0-4b72-8cfe-798514565f4d"
      },
      "source": [
        "#연습\n",
        "importances = pd.DataFrame({'feature':X_train.columns,'importance':np.round(xclf.feature_importances_,3)})\n",
        "importances = importances.sort_values('importance',ascending=False).set_index('feature')\n",
        "importances.head(8)"
      ],
      "execution_count": null,
      "outputs": [
        {
          "output_type": "execute_result",
          "data": {
            "text/html": [
              "<div>\n",
              "<style scoped>\n",
              "    .dataframe tbody tr th:only-of-type {\n",
              "        vertical-align: middle;\n",
              "    }\n",
              "\n",
              "    .dataframe tbody tr th {\n",
              "        vertical-align: top;\n",
              "    }\n",
              "\n",
              "    .dataframe thead th {\n",
              "        text-align: right;\n",
              "    }\n",
              "</style>\n",
              "<table border=\"1\" class=\"dataframe\">\n",
              "  <thead>\n",
              "    <tr style=\"text-align: right;\">\n",
              "      <th></th>\n",
              "      <th>importance</th>\n",
              "    </tr>\n",
              "    <tr>\n",
              "      <th>feature</th>\n",
              "      <th></th>\n",
              "    </tr>\n",
              "  </thead>\n",
              "  <tbody>\n",
              "    <tr>\n",
              "      <th>Sex_Code</th>\n",
              "      <td>0.641</td>\n",
              "    </tr>\n",
              "    <tr>\n",
              "      <th>Pclass</th>\n",
              "      <td>0.159</td>\n",
              "    </tr>\n",
              "    <tr>\n",
              "      <th>Title_Code</th>\n",
              "      <td>0.062</td>\n",
              "    </tr>\n",
              "    <tr>\n",
              "      <th>FamilySize</th>\n",
              "      <td>0.059</td>\n",
              "    </tr>\n",
              "    <tr>\n",
              "      <th>Embarked_Code</th>\n",
              "      <td>0.035</td>\n",
              "    </tr>\n",
              "    <tr>\n",
              "      <th>preFare_Code</th>\n",
              "      <td>0.028</td>\n",
              "    </tr>\n",
              "    <tr>\n",
              "      <th>preAge_Code</th>\n",
              "      <td>0.017</td>\n",
              "    </tr>\n",
              "    <tr>\n",
              "      <th>IsAlone</th>\n",
              "      <td>0.000</td>\n",
              "    </tr>\n",
              "  </tbody>\n",
              "</table>\n",
              "</div>"
            ],
            "text/plain": [
              "               importance\n",
              "feature                  \n",
              "Sex_Code            0.641\n",
              "Pclass              0.159\n",
              "Title_Code          0.062\n",
              "FamilySize          0.059\n",
              "Embarked_Code       0.035\n",
              "preFare_Code        0.028\n",
              "preAge_Code         0.017\n",
              "IsAlone             0.000"
            ]
          },
          "metadata": {
            "tags": []
          },
          "execution_count": 318
        }
      ]
    },
    {
      "cell_type": "code",
      "metadata": {
        "id": "8gYvFRX6mW7J",
        "colab": {
          "base_uri": "https://localhost:8080/",
          "height": 352
        },
        "outputId": "eb38109f-86de-4350-fd71-014d948fe787"
      },
      "source": [
        "#연습\n",
        "plt.figure(figsize=(10, 5))\n",
        "sns.barplot(x='importance', y=importances.index, data=importances)\n",
        "plt.tick_params(axis='x', labelsize=10)\n",
        "plt.tick_params(axis='y', labelsize=10)\n",
        "plt.title('XGB', size=15)\n",
        "\n",
        "plt.show()"
      ],
      "execution_count": null,
      "outputs": [
        {
          "output_type": "display_data",
          "data": {
            "image/png": "[encoded data removed]",
            "text/plain": [
              "<Figure size 720x360 with 1 Axes>"
            ]
          },
          "metadata": {
            "tags": [],
            "needs_background": "light"
          }
        }
      ]
    },
    {
      "cell_type": "code",
      "metadata": {
        "id": "eePnDuKnrhiU",
        "colab": {
          "base_uri": "https://localhost:8080/",
          "height": 1000
        },
        "outputId": "4f73f5f5-c37b-4397-f58b-db511cc3fed4"
      },
      "source": [
        "# 사이킷런 래퍼 XGBoost 클래스인 XGBClassifier 임포트\n",
        "from xgboost import XGBClassifier\n",
        "\n",
        "evals = [(X_test, y_test)]\n",
        "\n",
        "xgb_wrapper = XGBClassifier(n_estimators=400, learning_rate=0.1, max_depth=3)\n",
        "xgb_wrapper.fit(X_train , y_train,  early_stopping_rounds=400,eval_set=evals, eval_metric=\"logloss\",  verbose=True)\n",
        "\n",
        "w_preds = xgb_wrapper.predict(X_test)\n",
        "w_pred_proba = xgb_wrapper.predict_proba(X_test)[:, 1]"
      ],
      "execution_count": null,
      "outputs": [
        {
          "output_type": "stream",
          "text": [
            "[0]\tvalidation_0-logloss:0.641348\n",
            "Will train until validation_0-logloss hasn't improved in 400 rounds.\n",
            "[1]\tvalidation_0-logloss:0.598277\n",
            "[2]\tvalidation_0-logloss:0.562582\n",
            "[3]\tvalidation_0-logloss:0.532109\n",
            "[4]\tvalidation_0-logloss:0.506539\n",
            "[5]\tvalidation_0-logloss:0.483599\n",
            "[6]\tvalidation_0-logloss:0.464144\n",
            "[7]\tvalidation_0-logloss:0.450627\n",
            "[8]\tvalidation_0-logloss:0.435351\n",
            "[9]\tvalidation_0-logloss:0.422332\n",
            "[10]\tvalidation_0-logloss:0.411547\n",
            "[11]\tvalidation_0-logloss:0.403413\n",
            "[12]\tvalidation_0-logloss:0.394453\n",
            "[13]\tvalidation_0-logloss:0.386623\n",
            "[14]\tvalidation_0-logloss:0.379465\n",
            "[15]\tvalidation_0-logloss:0.373698\n",
            "[16]\tvalidation_0-logloss:0.369632\n",
            "[17]\tvalidation_0-logloss:0.364977\n",
            "[18]\tvalidation_0-logloss:0.360929\n",
            "[19]\tvalidation_0-logloss:0.357605\n",
            "[20]\tvalidation_0-logloss:0.355179\n",
            "[21]\tvalidation_0-logloss:0.352356\n",
            "[22]\tvalidation_0-logloss:0.349988\n",
            "[23]\tvalidation_0-logloss:0.348556\n",
            "[24]\tvalidation_0-logloss:0.347541\n",
            "[25]\tvalidation_0-logloss:0.346449\n",
            "[26]\tvalidation_0-logloss:0.344585\n",
            "[27]\tvalidation_0-logloss:0.343805\n",
            "[28]\tvalidation_0-logloss:0.34252\n",
            "[29]\tvalidation_0-logloss:0.341977\n",
            "[30]\tvalidation_0-logloss:0.34077\n",
            "[31]\tvalidation_0-logloss:0.340207\n",
            "[32]\tvalidation_0-logloss:0.339371\n",
            "[33]\tvalidation_0-logloss:0.338867\n",
            "[34]\tvalidation_0-logloss:0.338415\n",
            "[35]\tvalidation_0-logloss:0.337396\n",
            "[36]\tvalidation_0-logloss:0.337002\n",
            "[37]\tvalidation_0-logloss:0.336898\n",
            "[38]\tvalidation_0-logloss:0.335997\n",
            "[39]\tvalidation_0-logloss:0.335715\n",
            "[40]\tvalidation_0-logloss:0.335463\n",
            "[41]\tvalidation_0-logloss:0.334832\n",
            "[42]\tvalidation_0-logloss:0.33471\n",
            "[43]\tvalidation_0-logloss:0.334772\n",
            "[44]\tvalidation_0-logloss:0.334348\n",
            "[45]\tvalidation_0-logloss:0.334496\n",
            "[46]\tvalidation_0-logloss:0.334092\n",
            "[47]\tvalidation_0-logloss:0.334744\n",
            "[48]\tvalidation_0-logloss:0.334245\n",
            "[49]\tvalidation_0-logloss:0.333447\n",
            "[50]\tvalidation_0-logloss:0.333147\n",
            "[51]\tvalidation_0-logloss:0.332618\n",
            "[52]\tvalidation_0-logloss:0.33259\n",
            "[53]\tvalidation_0-logloss:0.331967\n",
            "[54]\tvalidation_0-logloss:0.331734\n",
            "[55]\tvalidation_0-logloss:0.331563\n",
            "[56]\tvalidation_0-logloss:0.331223\n",
            "[57]\tvalidation_0-logloss:0.331215\n",
            "[58]\tvalidation_0-logloss:0.331163\n",
            "[59]\tvalidation_0-logloss:0.331303\n",
            "[60]\tvalidation_0-logloss:0.331301\n",
            "[61]\tvalidation_0-logloss:0.3311\n",
            "[62]\tvalidation_0-logloss:0.330835\n",
            "[63]\tvalidation_0-logloss:0.330939\n",
            "[64]\tvalidation_0-logloss:0.330449\n",
            "[65]\tvalidation_0-logloss:0.329707\n",
            "[66]\tvalidation_0-logloss:0.329427\n",
            "[67]\tvalidation_0-logloss:0.329003\n",
            "[68]\tvalidation_0-logloss:0.328959\n",
            "[69]\tvalidation_0-logloss:0.329306\n",
            "[70]\tvalidation_0-logloss:0.329063\n",
            "[71]\tvalidation_0-logloss:0.328723\n",
            "[72]\tvalidation_0-logloss:0.328305\n",
            "[73]\tvalidation_0-logloss:0.328338\n",
            "[74]\tvalidation_0-logloss:0.328461\n",
            "[75]\tvalidation_0-logloss:0.328471\n",
            "[76]\tvalidation_0-logloss:0.328339\n",
            "[77]\tvalidation_0-logloss:0.328535\n",
            "[78]\tvalidation_0-logloss:0.328709\n",
            "[79]\tvalidation_0-logloss:0.328347\n",
            "[80]\tvalidation_0-logloss:0.328166\n",
            "[81]\tvalidation_0-logloss:0.327713\n",
            "[82]\tvalidation_0-logloss:0.3278\n",
            "[83]\tvalidation_0-logloss:0.327998\n",
            "[84]\tvalidation_0-logloss:0.327667\n",
            "[85]\tvalidation_0-logloss:0.327527\n",
            "[86]\tvalidation_0-logloss:0.327391\n",
            "[87]\tvalidation_0-logloss:0.327155\n",
            "[88]\tvalidation_0-logloss:0.327442\n",
            "[89]\tvalidation_0-logloss:0.327173\n",
            "[90]\tvalidation_0-logloss:0.32728\n",
            "[91]\tvalidation_0-logloss:0.327015\n",
            "[92]\tvalidation_0-logloss:0.327302\n",
            "[93]\tvalidation_0-logloss:0.327018\n",
            "[94]\tvalidation_0-logloss:0.326903\n",
            "[95]\tvalidation_0-logloss:0.327196\n",
            "[96]\tvalidation_0-logloss:0.327011\n",
            "[97]\tvalidation_0-logloss:0.326989\n",
            "[98]\tvalidation_0-logloss:0.326759\n",
            "[99]\tvalidation_0-logloss:0.326665\n",
            "[100]\tvalidation_0-logloss:0.326786\n",
            "[101]\tvalidation_0-logloss:0.326466\n",
            "[102]\tvalidation_0-logloss:0.32675\n",
            "[103]\tvalidation_0-logloss:0.326699\n",
            "[104]\tvalidation_0-logloss:0.326918\n",
            "[105]\tvalidation_0-logloss:0.326763\n",
            "[106]\tvalidation_0-logloss:0.32696\n",
            "[107]\tvalidation_0-logloss:0.326891\n",
            "[108]\tvalidation_0-logloss:0.327166\n",
            "[109]\tvalidation_0-logloss:0.32714\n",
            "[110]\tvalidation_0-logloss:0.327123\n",
            "[111]\tvalidation_0-logloss:0.326875\n",
            "[112]\tvalidation_0-logloss:0.327243\n",
            "[113]\tvalidation_0-logloss:0.326815\n",
            "[114]\tvalidation_0-logloss:0.326785\n",
            "[115]\tvalidation_0-logloss:0.326787\n",
            "[116]\tvalidation_0-logloss:0.327145\n",
            "[117]\tvalidation_0-logloss:0.327329\n",
            "[118]\tvalidation_0-logloss:0.327345\n",
            "[119]\tvalidation_0-logloss:0.32722\n",
            "[120]\tvalidation_0-logloss:0.327219\n",
            "[121]\tvalidation_0-logloss:0.327237\n",
            "[122]\tvalidation_0-logloss:0.327399\n",
            "[123]\tvalidation_0-logloss:0.327312\n",
            "[124]\tvalidation_0-logloss:0.32724\n",
            "[125]\tvalidation_0-logloss:0.326642\n",
            "[126]\tvalidation_0-logloss:0.32684\n",
            "[127]\tvalidation_0-logloss:0.326667\n",
            "[128]\tvalidation_0-logloss:0.326843\n",
            "[129]\tvalidation_0-logloss:0.326687\n",
            "[130]\tvalidation_0-logloss:0.326649\n",
            "[131]\tvalidation_0-logloss:0.326779\n",
            "[132]\tvalidation_0-logloss:0.326788\n",
            "[133]\tvalidation_0-logloss:0.32665\n",
            "[134]\tvalidation_0-logloss:0.326659\n",
            "[135]\tvalidation_0-logloss:0.326657\n",
            "[136]\tvalidation_0-logloss:0.326835\n",
            "[137]\tvalidation_0-logloss:0.326735\n",
            "[138]\tvalidation_0-logloss:0.326963\n",
            "[139]\tvalidation_0-logloss:0.32689\n",
            "[140]\tvalidation_0-logloss:0.326914\n",
            "[141]\tvalidation_0-logloss:0.326519\n",
            "[142]\tvalidation_0-logloss:0.326897\n",
            "[143]\tvalidation_0-logloss:0.326688\n",
            "[144]\tvalidation_0-logloss:0.326619\n",
            "[145]\tvalidation_0-logloss:0.32678\n",
            "[146]\tvalidation_0-logloss:0.326954\n",
            "[147]\tvalidation_0-logloss:0.326612\n",
            "[148]\tvalidation_0-logloss:0.326456\n",
            "[149]\tvalidation_0-logloss:0.326327\n",
            "[150]\tvalidation_0-logloss:0.326659\n",
            "[151]\tvalidation_0-logloss:0.326498\n",
            "[152]\tvalidation_0-logloss:0.326393\n",
            "[153]\tvalidation_0-logloss:0.326699\n",
            "[154]\tvalidation_0-logloss:0.326968\n",
            "[155]\tvalidation_0-logloss:0.326741\n",
            "[156]\tvalidation_0-logloss:0.326768\n",
            "[157]\tvalidation_0-logloss:0.327199\n",
            "[158]\tvalidation_0-logloss:0.327126\n",
            "[159]\tvalidation_0-logloss:0.327016\n",
            "[160]\tvalidation_0-logloss:0.327099\n",
            "[161]\tvalidation_0-logloss:0.326946\n",
            "[162]\tvalidation_0-logloss:0.327075\n",
            "[163]\tvalidation_0-logloss:0.327167\n",
            "[164]\tvalidation_0-logloss:0.326884\n",
            "[165]\tvalidation_0-logloss:0.326844\n",
            "[166]\tvalidation_0-logloss:0.326773\n",
            "[167]\tvalidation_0-logloss:0.326683\n",
            "[168]\tvalidation_0-logloss:0.326568\n",
            "[169]\tvalidation_0-logloss:0.326652\n",
            "[170]\tvalidation_0-logloss:0.326421\n",
            "[171]\tvalidation_0-logloss:0.326408\n",
            "[172]\tvalidation_0-logloss:0.326396\n",
            "[173]\tvalidation_0-logloss:0.326423\n",
            "[174]\tvalidation_0-logloss:0.326531\n",
            "[175]\tvalidation_0-logloss:0.326486\n",
            "[176]\tvalidation_0-logloss:0.326409\n",
            "[177]\tvalidation_0-logloss:0.326165\n",
            "[178]\tvalidation_0-logloss:0.325825\n",
            "[179]\tvalidation_0-logloss:0.326035\n",
            "[180]\tvalidation_0-logloss:0.325955\n",
            "[181]\tvalidation_0-logloss:0.325928\n",
            "[182]\tvalidation_0-logloss:0.326111\n",
            "[183]\tvalidation_0-logloss:0.326104\n",
            "[184]\tvalidation_0-logloss:0.326054\n",
            "[185]\tvalidation_0-logloss:0.326114\n",
            "[186]\tvalidation_0-logloss:0.325985\n",
            "[187]\tvalidation_0-logloss:0.326129\n",
            "[188]\tvalidation_0-logloss:0.326556\n",
            "[189]\tvalidation_0-logloss:0.326661\n",
            "[190]\tvalidation_0-logloss:0.326836\n",
            "[191]\tvalidation_0-logloss:0.326745\n",
            "[192]\tvalidation_0-logloss:0.326868\n",
            "[193]\tvalidation_0-logloss:0.327239\n",
            "[194]\tvalidation_0-logloss:0.327199\n",
            "[195]\tvalidation_0-logloss:0.327141\n",
            "[196]\tvalidation_0-logloss:0.32726\n",
            "[197]\tvalidation_0-logloss:0.327178\n",
            "[198]\tvalidation_0-logloss:0.327107\n",
            "[199]\tvalidation_0-logloss:0.327081\n",
            "[200]\tvalidation_0-logloss:0.326999\n",
            "[201]\tvalidation_0-logloss:0.327167\n",
            "[202]\tvalidation_0-logloss:0.327312\n",
            "[203]\tvalidation_0-logloss:0.327381\n",
            "[204]\tvalidation_0-logloss:0.327352\n",
            "[205]\tvalidation_0-logloss:0.3276\n",
            "[206]\tvalidation_0-logloss:0.327718\n",
            "[207]\tvalidation_0-logloss:0.327765\n",
            "[208]\tvalidation_0-logloss:0.327687\n",
            "[209]\tvalidation_0-logloss:0.327812\n",
            "[210]\tvalidation_0-logloss:0.327902\n",
            "[211]\tvalidation_0-logloss:0.327972\n",
            "[212]\tvalidation_0-logloss:0.328007\n",
            "[213]\tvalidation_0-logloss:0.328104\n",
            "[214]\tvalidation_0-logloss:0.328438\n",
            "[215]\tvalidation_0-logloss:0.328358\n",
            "[216]\tvalidation_0-logloss:0.328421\n",
            "[217]\tvalidation_0-logloss:0.328395\n",
            "[218]\tvalidation_0-logloss:0.328464\n",
            "[219]\tvalidation_0-logloss:0.328334\n",
            "[220]\tvalidation_0-logloss:0.328389\n",
            "[221]\tvalidation_0-logloss:0.328522\n",
            "[222]\tvalidation_0-logloss:0.328575\n",
            "[223]\tvalidation_0-logloss:0.328551\n",
            "[224]\tvalidation_0-logloss:0.328524\n",
            "[225]\tvalidation_0-logloss:0.328443\n",
            "[226]\tvalidation_0-logloss:0.328588\n",
            "[227]\tvalidation_0-logloss:0.328467\n",
            "[228]\tvalidation_0-logloss:0.328477\n",
            "[229]\tvalidation_0-logloss:0.32861\n",
            "[230]\tvalidation_0-logloss:0.328738\n",
            "[231]\tvalidation_0-logloss:0.328658\n",
            "[232]\tvalidation_0-logloss:0.328878\n",
            "[233]\tvalidation_0-logloss:0.32925\n",
            "[234]\tvalidation_0-logloss:0.329258\n",
            "[235]\tvalidation_0-logloss:0.329137\n",
            "[236]\tvalidation_0-logloss:0.328868\n",
            "[237]\tvalidation_0-logloss:0.328798\n",
            "[238]\tvalidation_0-logloss:0.328934\n",
            "[239]\tvalidation_0-logloss:0.328977\n",
            "[240]\tvalidation_0-logloss:0.329298\n",
            "[241]\tvalidation_0-logloss:0.329438\n",
            "[242]\tvalidation_0-logloss:0.329757\n",
            "[243]\tvalidation_0-logloss:0.329697\n",
            "[244]\tvalidation_0-logloss:0.329606\n",
            "[245]\tvalidation_0-logloss:0.329601\n",
            "[246]\tvalidation_0-logloss:0.329506\n",
            "[247]\tvalidation_0-logloss:0.3294\n",
            "[248]\tvalidation_0-logloss:0.329507\n",
            "[249]\tvalidation_0-logloss:0.329543\n",
            "[250]\tvalidation_0-logloss:0.329667\n",
            "[251]\tvalidation_0-logloss:0.33002\n",
            "[252]\tvalidation_0-logloss:0.330039\n",
            "[253]\tvalidation_0-logloss:0.330423\n",
            "[254]\tvalidation_0-logloss:0.330313\n",
            "[255]\tvalidation_0-logloss:0.330648\n",
            "[256]\tvalidation_0-logloss:0.330625\n",
            "[257]\tvalidation_0-logloss:0.330778\n",
            "[258]\tvalidation_0-logloss:0.330674\n",
            "[259]\tvalidation_0-logloss:0.330703\n",
            "[260]\tvalidation_0-logloss:0.330609\n",
            "[261]\tvalidation_0-logloss:0.330848\n",
            "[262]\tvalidation_0-logloss:0.331232\n",
            "[263]\tvalidation_0-logloss:0.331556\n",
            "[264]\tvalidation_0-logloss:0.331557\n",
            "[265]\tvalidation_0-logloss:0.331585\n",
            "[266]\tvalidation_0-logloss:0.331725\n",
            "[267]\tvalidation_0-logloss:0.331647\n",
            "[268]\tvalidation_0-logloss:0.331576\n",
            "[269]\tvalidation_0-logloss:0.331835\n",
            "[270]\tvalidation_0-logloss:0.331764\n",
            "[271]\tvalidation_0-logloss:0.331714\n",
            "[272]\tvalidation_0-logloss:0.331737\n",
            "[273]\tvalidation_0-logloss:0.331765\n",
            "[274]\tvalidation_0-logloss:0.331797\n",
            "[275]\tvalidation_0-logloss:0.331496\n",
            "[276]\tvalidation_0-logloss:0.331621\n",
            "[277]\tvalidation_0-logloss:0.331505\n",
            "[278]\tvalidation_0-logloss:0.331466\n",
            "[279]\tvalidation_0-logloss:0.331853\n",
            "[280]\tvalidation_0-logloss:0.331832\n",
            "[281]\tvalidation_0-logloss:0.331802\n",
            "[282]\tvalidation_0-logloss:0.331657\n",
            "[283]\tvalidation_0-logloss:0.331672\n",
            "[284]\tvalidation_0-logloss:0.331585\n",
            "[285]\tvalidation_0-logloss:0.331744\n",
            "[286]\tvalidation_0-logloss:0.331712\n",
            "[287]\tvalidation_0-logloss:0.331518\n",
            "[288]\tvalidation_0-logloss:0.331428\n",
            "[289]\tvalidation_0-logloss:0.331658\n",
            "[290]\tvalidation_0-logloss:0.331841\n",
            "[291]\tvalidation_0-logloss:0.331857\n",
            "[292]\tvalidation_0-logloss:0.331898\n",
            "[293]\tvalidation_0-logloss:0.332178\n",
            "[294]\tvalidation_0-logloss:0.332127\n",
            "[295]\tvalidation_0-logloss:0.33235\n",
            "[296]\tvalidation_0-logloss:0.331931\n",
            "[297]\tvalidation_0-logloss:0.332063\n",
            "[298]\tvalidation_0-logloss:0.332229\n",
            "[299]\tvalidation_0-logloss:0.332169\n",
            "[300]\tvalidation_0-logloss:0.332297\n",
            "[301]\tvalidation_0-logloss:0.332532\n",
            "[302]\tvalidation_0-logloss:0.332481\n",
            "[303]\tvalidation_0-logloss:0.332437\n",
            "[304]\tvalidation_0-logloss:0.332238\n",
            "[305]\tvalidation_0-logloss:0.332385\n",
            "[306]\tvalidation_0-logloss:0.332541\n",
            "[307]\tvalidation_0-logloss:0.332713\n",
            "[308]\tvalidation_0-logloss:0.33271\n",
            "[309]\tvalidation_0-logloss:0.332686\n",
            "[310]\tvalidation_0-logloss:0.332371\n",
            "[311]\tvalidation_0-logloss:0.331976\n",
            "[312]\tvalidation_0-logloss:0.331742\n",
            "[313]\tvalidation_0-logloss:0.331534\n",
            "[314]\tvalidation_0-logloss:0.331339\n",
            "[315]\tvalidation_0-logloss:0.33114\n",
            "[316]\tvalidation_0-logloss:0.331149\n",
            "[317]\tvalidation_0-logloss:0.331102\n",
            "[318]\tvalidation_0-logloss:0.331096\n",
            "[319]\tvalidation_0-logloss:0.331072\n",
            "[320]\tvalidation_0-logloss:0.330903\n",
            "[321]\tvalidation_0-logloss:0.33083\n",
            "[322]\tvalidation_0-logloss:0.330846\n",
            "[323]\tvalidation_0-logloss:0.330433\n",
            "[324]\tvalidation_0-logloss:0.330382\n",
            "[325]\tvalidation_0-logloss:0.330769\n",
            "[326]\tvalidation_0-logloss:0.330684\n",
            "[327]\tvalidation_0-logloss:0.330643\n",
            "[328]\tvalidation_0-logloss:0.330755\n",
            "[329]\tvalidation_0-logloss:0.330681\n",
            "[330]\tvalidation_0-logloss:0.330791\n",
            "[331]\tvalidation_0-logloss:0.33075\n",
            "[332]\tvalidation_0-logloss:0.330834\n",
            "[333]\tvalidation_0-logloss:0.330834\n",
            "[334]\tvalidation_0-logloss:0.330938\n",
            "[335]\tvalidation_0-logloss:0.3309\n",
            "[336]\tvalidation_0-logloss:0.3309\n",
            "[337]\tvalidation_0-logloss:0.3309\n",
            "[338]\tvalidation_0-logloss:0.331026\n",
            "[339]\tvalidation_0-logloss:0.330907\n",
            "[340]\tvalidation_0-logloss:0.330914\n",
            "[341]\tvalidation_0-logloss:0.330993\n",
            "[342]\tvalidation_0-logloss:0.330992\n",
            "[343]\tvalidation_0-logloss:0.330959\n",
            "[344]\tvalidation_0-logloss:0.330898\n",
            "[345]\tvalidation_0-logloss:0.330894\n",
            "[346]\tvalidation_0-logloss:0.331016\n",
            "[347]\tvalidation_0-logloss:0.331037\n",
            "[348]\tvalidation_0-logloss:0.331213\n",
            "[349]\tvalidation_0-logloss:0.331176\n",
            "[350]\tvalidation_0-logloss:0.331156\n",
            "[351]\tvalidation_0-logloss:0.330856\n",
            "[352]\tvalidation_0-logloss:0.330854\n",
            "[353]\tvalidation_0-logloss:0.330651\n",
            "[354]\tvalidation_0-logloss:0.330637\n",
            "[355]\tvalidation_0-logloss:0.330598\n",
            "[356]\tvalidation_0-logloss:0.330834\n",
            "[357]\tvalidation_0-logloss:0.330989\n",
            "[358]\tvalidation_0-logloss:0.330995\n",
            "[359]\tvalidation_0-logloss:0.330996\n",
            "[360]\tvalidation_0-logloss:0.330955\n",
            "[361]\tvalidation_0-logloss:0.331106\n",
            "[362]\tvalidation_0-logloss:0.331108\n",
            "[363]\tvalidation_0-logloss:0.331137\n",
            "[364]\tvalidation_0-logloss:0.331097\n",
            "[365]\tvalidation_0-logloss:0.330919\n",
            "[366]\tvalidation_0-logloss:0.331145\n",
            "[367]\tvalidation_0-logloss:0.331678\n",
            "[368]\tvalidation_0-logloss:0.33173\n",
            "[369]\tvalidation_0-logloss:0.331681\n",
            "[370]\tvalidation_0-logloss:0.331936\n",
            "[371]\tvalidation_0-logloss:0.332449\n",
            "[372]\tvalidation_0-logloss:0.332681\n",
            "[373]\tvalidation_0-logloss:0.332795\n",
            "[374]\tvalidation_0-logloss:0.333006\n",
            "[375]\tvalidation_0-logloss:0.332765\n",
            "[376]\tvalidation_0-logloss:0.33327\n",
            "[377]\tvalidation_0-logloss:0.333056\n",
            "[378]\tvalidation_0-logloss:0.333111\n",
            "[379]\tvalidation_0-logloss:0.333103\n",
            "[380]\tvalidation_0-logloss:0.333093\n",
            "[381]\tvalidation_0-logloss:0.333216\n",
            "[382]\tvalidation_0-logloss:0.333439\n",
            "[383]\tvalidation_0-logloss:0.333486\n",
            "[384]\tvalidation_0-logloss:0.333359\n",
            "[385]\tvalidation_0-logloss:0.333362\n",
            "[386]\tvalidation_0-logloss:0.333324\n",
            "[387]\tvalidation_0-logloss:0.333439\n",
            "[388]\tvalidation_0-logloss:0.333561\n",
            "[389]\tvalidation_0-logloss:0.333521\n",
            "[390]\tvalidation_0-logloss:0.333484\n",
            "[391]\tvalidation_0-logloss:0.333454\n",
            "[392]\tvalidation_0-logloss:0.333685\n",
            "[393]\tvalidation_0-logloss:0.333685\n",
            "[394]\tvalidation_0-logloss:0.333571\n",
            "[395]\tvalidation_0-logloss:0.333537\n",
            "[396]\tvalidation_0-logloss:0.333475\n",
            "[397]\tvalidation_0-logloss:0.333475\n",
            "[398]\tvalidation_0-logloss:0.333445\n",
            "[399]\tvalidation_0-logloss:0.333564\n"
          ],
          "name": "stdout"
        }
      ]
    },
    {
      "cell_type": "code",
      "metadata": {
        "id": "EcyHqTWjrlsB"
      },
      "source": [
        "from sklearn.metrics import confusion_matrix, accuracy_score\n",
        "from sklearn.metrics import precision_score, recall_score\n",
        "from sklearn.metrics import f1_score, roc_auc_score\n",
        "\n",
        "# 수정된 get_clf_eval() 함수 \n",
        "def get_clf_eval(y_test, pred=None, pred_proba=None):\n",
        "    confusion = confusion_matrix( y_test, pred)\n",
        "    accuracy = accuracy_score(y_test , pred)\n",
        "    precision = precision_score(y_test , pred)\n",
        "    recall = recall_score(y_test , pred)\n",
        "    f1 = f1_score(y_test,pred)\n",
        "    # ROC-AUC 추가 \n",
        "    roc_auc = roc_auc_score(y_test, pred_proba)\n",
        "    print('오차 행렬')\n",
        "    print(confusion)\n",
        "    # ROC-AUC print 추가\n",
        "    print('정확도: {0:.4f}, 정밀도: {1:.4f}, 재현율: {2:.4f},\\\n",
        "    F1: {3:.4f}, AUC:{4:.4f}'.format(accuracy, precision, recall, f1, roc_auc))"
      ],
      "execution_count": null,
      "outputs": []
    },
    {
      "cell_type": "code",
      "metadata": {
        "id": "Ukm7_QebrqBx",
        "colab": {
          "base_uri": "https://localhost:8080/",
          "height": 87
        },
        "outputId": "f79ad306-7ec7-4ec9-9197-79da616d9435"
      },
      "source": [
        "get_clf_eval(y_test , w_preds, w_pred_proba)"
      ],
      "execution_count": null,
      "outputs": [
        {
          "output_type": "stream",
          "text": [
            "오차 행렬\n",
            "[[110   8]\n",
            " [ 14  47]]\n",
            "정확도: 0.8771, 정밀도: 0.8545, 재현율: 0.7705,    F1: 0.8103, AUC:0.9271\n"
          ],
          "name": "stdout"
        }
      ]
    },
    {
      "cell_type": "code",
      "metadata": {
        "id": "beMGhXZOsKR3",
        "colab": {
          "base_uri": "https://localhost:8080/",
          "height": 1000
        },
        "outputId": "518258d8-d4d4-43e5-caa1-b46e55672eed"
      },
      "source": [
        "from xgboost import XGBClassifier\n",
        "\n",
        "xgb_wrapper = XGBClassifier(n_estimators=400, learning_rate=0.1, max_depth=3)\n",
        "\n",
        "evals = [(X_test, y_test)]\n",
        "xgb_wrapper.fit(X_train, y_train, early_stopping_rounds=10, eval_metric=\"logloss\", \n",
        "                eval_set=evals, verbose=True)\n",
        "\n",
        "ws100_preds = xgb_wrapper.predict(X_test)\n",
        "ws100_pred_proba = xgb_wrapper.predict_proba(X_test)[:, 1]"
      ],
      "execution_count": null,
      "outputs": [
        {
          "output_type": "stream",
          "text": [
            "[0]\tvalidation_0-logloss:0.641348\n",
            "Will train until validation_0-logloss hasn't improved in 10 rounds.\n",
            "[1]\tvalidation_0-logloss:0.598277\n",
            "[2]\tvalidation_0-logloss:0.562582\n",
            "[3]\tvalidation_0-logloss:0.532109\n",
            "[4]\tvalidation_0-logloss:0.506539\n",
            "[5]\tvalidation_0-logloss:0.483599\n",
            "[6]\tvalidation_0-logloss:0.464144\n",
            "[7]\tvalidation_0-logloss:0.450627\n",
            "[8]\tvalidation_0-logloss:0.435351\n",
            "[9]\tvalidation_0-logloss:0.422332\n",
            "[10]\tvalidation_0-logloss:0.411547\n",
            "[11]\tvalidation_0-logloss:0.403413\n",
            "[12]\tvalidation_0-logloss:0.394453\n",
            "[13]\tvalidation_0-logloss:0.386623\n",
            "[14]\tvalidation_0-logloss:0.379465\n",
            "[15]\tvalidation_0-logloss:0.373698\n",
            "[16]\tvalidation_0-logloss:0.369632\n",
            "[17]\tvalidation_0-logloss:0.364977\n",
            "[18]\tvalidation_0-logloss:0.360929\n",
            "[19]\tvalidation_0-logloss:0.357605\n",
            "[20]\tvalidation_0-logloss:0.355179\n",
            "[21]\tvalidation_0-logloss:0.352356\n",
            "[22]\tvalidation_0-logloss:0.349988\n",
            "[23]\tvalidation_0-logloss:0.348556\n",
            "[24]\tvalidation_0-logloss:0.347541\n",
            "[25]\tvalidation_0-logloss:0.346449\n",
            "[26]\tvalidation_0-logloss:0.344585\n",
            "[27]\tvalidation_0-logloss:0.343805\n",
            "[28]\tvalidation_0-logloss:0.34252\n",
            "[29]\tvalidation_0-logloss:0.341977\n",
            "[30]\tvalidation_0-logloss:0.34077\n",
            "[31]\tvalidation_0-logloss:0.340207\n",
            "[32]\tvalidation_0-logloss:0.339371\n",
            "[33]\tvalidation_0-logloss:0.338867\n",
            "[34]\tvalidation_0-logloss:0.338415\n",
            "[35]\tvalidation_0-logloss:0.337396\n",
            "[36]\tvalidation_0-logloss:0.337002\n",
            "[37]\tvalidation_0-logloss:0.336898\n",
            "[38]\tvalidation_0-logloss:0.335997\n",
            "[39]\tvalidation_0-logloss:0.335715\n",
            "[40]\tvalidation_0-logloss:0.335463\n",
            "[41]\tvalidation_0-logloss:0.334832\n",
            "[42]\tvalidation_0-logloss:0.33471\n",
            "[43]\tvalidation_0-logloss:0.334772\n",
            "[44]\tvalidation_0-logloss:0.334348\n",
            "[45]\tvalidation_0-logloss:0.334496\n",
            "[46]\tvalidation_0-logloss:0.334092\n",
            "[47]\tvalidation_0-logloss:0.334744\n",
            "[48]\tvalidation_0-logloss:0.334245\n",
            "[49]\tvalidation_0-logloss:0.333447\n",
            "[50]\tvalidation_0-logloss:0.333147\n",
            "[51]\tvalidation_0-logloss:0.332618\n",
            "[52]\tvalidation_0-logloss:0.33259\n",
            "[53]\tvalidation_0-logloss:0.331967\n",
            "[54]\tvalidation_0-logloss:0.331734\n",
            "[55]\tvalidation_0-logloss:0.331563\n",
            "[56]\tvalidation_0-logloss:0.331223\n",
            "[57]\tvalidation_0-logloss:0.331215\n",
            "[58]\tvalidation_0-logloss:0.331163\n",
            "[59]\tvalidation_0-logloss:0.331303\n",
            "[60]\tvalidation_0-logloss:0.331301\n",
            "[61]\tvalidation_0-logloss:0.3311\n",
            "[62]\tvalidation_0-logloss:0.330835\n",
            "[63]\tvalidation_0-logloss:0.330939\n",
            "[64]\tvalidation_0-logloss:0.330449\n",
            "[65]\tvalidation_0-logloss:0.329707\n",
            "[66]\tvalidation_0-logloss:0.329427\n",
            "[67]\tvalidation_0-logloss:0.329003\n",
            "[68]\tvalidation_0-logloss:0.328959\n",
            "[69]\tvalidation_0-logloss:0.329306\n",
            "[70]\tvalidation_0-logloss:0.329063\n",
            "[71]\tvalidation_0-logloss:0.328723\n",
            "[72]\tvalidation_0-logloss:0.328305\n",
            "[73]\tvalidation_0-logloss:0.328338\n",
            "[74]\tvalidation_0-logloss:0.328461\n",
            "[75]\tvalidation_0-logloss:0.328471\n",
            "[76]\tvalidation_0-logloss:0.328339\n",
            "[77]\tvalidation_0-logloss:0.328535\n",
            "[78]\tvalidation_0-logloss:0.328709\n",
            "[79]\tvalidation_0-logloss:0.328347\n",
            "[80]\tvalidation_0-logloss:0.328166\n",
            "[81]\tvalidation_0-logloss:0.327713\n",
            "[82]\tvalidation_0-logloss:0.3278\n",
            "[83]\tvalidation_0-logloss:0.327998\n",
            "[84]\tvalidation_0-logloss:0.327667\n",
            "[85]\tvalidation_0-logloss:0.327527\n",
            "[86]\tvalidation_0-logloss:0.327391\n",
            "[87]\tvalidation_0-logloss:0.327155\n",
            "[88]\tvalidation_0-logloss:0.327442\n",
            "[89]\tvalidation_0-logloss:0.327173\n",
            "[90]\tvalidation_0-logloss:0.32728\n",
            "[91]\tvalidation_0-logloss:0.327015\n",
            "[92]\tvalidation_0-logloss:0.327302\n",
            "[93]\tvalidation_0-logloss:0.327018\n",
            "[94]\tvalidation_0-logloss:0.326903\n",
            "[95]\tvalidation_0-logloss:0.327196\n",
            "[96]\tvalidation_0-logloss:0.327011\n",
            "[97]\tvalidation_0-logloss:0.326989\n",
            "[98]\tvalidation_0-logloss:0.326759\n",
            "[99]\tvalidation_0-logloss:0.326665\n",
            "[100]\tvalidation_0-logloss:0.326786\n",
            "[101]\tvalidation_0-logloss:0.326466\n",
            "[102]\tvalidation_0-logloss:0.32675\n",
            "[103]\tvalidation_0-logloss:0.326699\n",
            "[104]\tvalidation_0-logloss:0.326918\n",
            "[105]\tvalidation_0-logloss:0.326763\n",
            "[106]\tvalidation_0-logloss:0.32696\n",
            "[107]\tvalidation_0-logloss:0.326891\n",
            "[108]\tvalidation_0-logloss:0.327166\n",
            "[109]\tvalidation_0-logloss:0.32714\n",
            "[110]\tvalidation_0-logloss:0.327123\n",
            "[111]\tvalidation_0-logloss:0.326875\n",
            "Stopping. Best iteration:\n",
            "[101]\tvalidation_0-logloss:0.326466\n",
            "\n"
          ],
          "name": "stdout"
        }
      ]
    },
    {
      "cell_type": "code",
      "metadata": {
        "id": "uRK8D0CZsOP7",
        "colab": {
          "base_uri": "https://localhost:8080/",
          "height": 1000
        },
        "outputId": "e3a53b51-7c6b-4343-8b91-83005ebf6624"
      },
      "source": [
        "import lightgbm\n",
        "# LightGBM의 파이썬 패키지인 lightgbm에서 LGBMClassifier 임포트\n",
        "from lightgbm import LGBMClassifier\n",
        "\n",
        "import pandas as pd\n",
        "import numpy as np\n",
        "\n",
        "from sklearn.datasets import load_breast_cancer\n",
        "from sklearn.model_selection import train_test_split\n",
        "\n",
        "# 앞서 XGBoost와 동일하게 n_estimators는 400 설정. \n",
        "lgbm_wrapper = LGBMClassifier(n_estimators=400)\n",
        "\n",
        "# LightGBM도 XGBoost와 동일하게 조기 중단 수행 가능. \n",
        "evals = [(X_test, y_test)]\n",
        "lgbm_wrapper.fit(X_train, y_train, early_stopping_rounds=100, eval_metric=\"logloss\", \n",
        "                 eval_set=evals, verbose=True)\n",
        "\n",
        "preds = lgbm_wrapper.predict(X_test)\n",
        "pred_proba = lgbm_wrapper.predict_proba(X_test)[:, 1]"
      ],
      "execution_count": null,
      "outputs": [
        {
          "output_type": "stream",
          "text": [
            "[1]\tvalid_0's binary_logloss: 0.602026\tvalid_0's binary_logloss: 0.602026\n",
            "Training until validation scores don't improve for 100 rounds.\n",
            "[2]\tvalid_0's binary_logloss: 0.565257\tvalid_0's binary_logloss: 0.565257\n",
            "[3]\tvalid_0's binary_logloss: 0.534256\tvalid_0's binary_logloss: 0.534256\n",
            "[4]\tvalid_0's binary_logloss: 0.50853\tvalid_0's binary_logloss: 0.50853\n",
            "[5]\tvalid_0's binary_logloss: 0.487551\tvalid_0's binary_logloss: 0.487551\n",
            "[6]\tvalid_0's binary_logloss: 0.469247\tvalid_0's binary_logloss: 0.469247\n",
            "[7]\tvalid_0's binary_logloss: 0.453796\tvalid_0's binary_logloss: 0.453796\n",
            "[8]\tvalid_0's binary_logloss: 0.43876\tvalid_0's binary_logloss: 0.43876\n",
            "[9]\tvalid_0's binary_logloss: 0.426258\tvalid_0's binary_logloss: 0.426258\n",
            "[10]\tvalid_0's binary_logloss: 0.415211\tvalid_0's binary_logloss: 0.415211\n",
            "[11]\tvalid_0's binary_logloss: 0.405512\tvalid_0's binary_logloss: 0.405512\n",
            "[12]\tvalid_0's binary_logloss: 0.397656\tvalid_0's binary_logloss: 0.397656\n",
            "[13]\tvalid_0's binary_logloss: 0.390883\tvalid_0's binary_logloss: 0.390883\n",
            "[14]\tvalid_0's binary_logloss: 0.385338\tvalid_0's binary_logloss: 0.385338\n",
            "[15]\tvalid_0's binary_logloss: 0.379202\tvalid_0's binary_logloss: 0.379202\n",
            "[16]\tvalid_0's binary_logloss: 0.374907\tvalid_0's binary_logloss: 0.374907\n",
            "[17]\tvalid_0's binary_logloss: 0.370563\tvalid_0's binary_logloss: 0.370563\n",
            "[18]\tvalid_0's binary_logloss: 0.36697\tvalid_0's binary_logloss: 0.36697\n",
            "[19]\tvalid_0's binary_logloss: 0.363331\tvalid_0's binary_logloss: 0.363331\n",
            "[20]\tvalid_0's binary_logloss: 0.360891\tvalid_0's binary_logloss: 0.360891\n",
            "[21]\tvalid_0's binary_logloss: 0.358824\tvalid_0's binary_logloss: 0.358824\n",
            "[22]\tvalid_0's binary_logloss: 0.354645\tvalid_0's binary_logloss: 0.354645\n",
            "[23]\tvalid_0's binary_logloss: 0.352079\tvalid_0's binary_logloss: 0.352079\n",
            "[24]\tvalid_0's binary_logloss: 0.349999\tvalid_0's binary_logloss: 0.349999\n",
            "[25]\tvalid_0's binary_logloss: 0.34719\tvalid_0's binary_logloss: 0.34719\n",
            "[26]\tvalid_0's binary_logloss: 0.344322\tvalid_0's binary_logloss: 0.344322\n",
            "[27]\tvalid_0's binary_logloss: 0.342537\tvalid_0's binary_logloss: 0.342537\n",
            "[28]\tvalid_0's binary_logloss: 0.34018\tvalid_0's binary_logloss: 0.34018\n",
            "[29]\tvalid_0's binary_logloss: 0.339355\tvalid_0's binary_logloss: 0.339355\n",
            "[30]\tvalid_0's binary_logloss: 0.338266\tvalid_0's binary_logloss: 0.338266\n",
            "[31]\tvalid_0's binary_logloss: 0.337394\tvalid_0's binary_logloss: 0.337394\n",
            "[32]\tvalid_0's binary_logloss: 0.335805\tvalid_0's binary_logloss: 0.335805\n",
            "[33]\tvalid_0's binary_logloss: 0.336963\tvalid_0's binary_logloss: 0.336963\n",
            "[34]\tvalid_0's binary_logloss: 0.336026\tvalid_0's binary_logloss: 0.336026\n",
            "[35]\tvalid_0's binary_logloss: 0.335341\tvalid_0's binary_logloss: 0.335341\n",
            "[36]\tvalid_0's binary_logloss: 0.335019\tvalid_0's binary_logloss: 0.335019\n",
            "[37]\tvalid_0's binary_logloss: 0.334907\tvalid_0's binary_logloss: 0.334907\n",
            "[38]\tvalid_0's binary_logloss: 0.334669\tvalid_0's binary_logloss: 0.334669\n",
            "[39]\tvalid_0's binary_logloss: 0.333755\tvalid_0's binary_logloss: 0.333755\n",
            "[40]\tvalid_0's binary_logloss: 0.33346\tvalid_0's binary_logloss: 0.33346\n",
            "[41]\tvalid_0's binary_logloss: 0.333838\tvalid_0's binary_logloss: 0.333838\n",
            "[42]\tvalid_0's binary_logloss: 0.3348\tvalid_0's binary_logloss: 0.3348\n",
            "[43]\tvalid_0's binary_logloss: 0.33635\tvalid_0's binary_logloss: 0.33635\n",
            "[44]\tvalid_0's binary_logloss: 0.33723\tvalid_0's binary_logloss: 0.33723\n",
            "[45]\tvalid_0's binary_logloss: 0.33941\tvalid_0's binary_logloss: 0.33941\n",
            "[46]\tvalid_0's binary_logloss: 0.33969\tvalid_0's binary_logloss: 0.33969\n",
            "[47]\tvalid_0's binary_logloss: 0.340282\tvalid_0's binary_logloss: 0.340282\n",
            "[48]\tvalid_0's binary_logloss: 0.341802\tvalid_0's binary_logloss: 0.341802\n",
            "[49]\tvalid_0's binary_logloss: 0.341471\tvalid_0's binary_logloss: 0.341471\n",
            "[50]\tvalid_0's binary_logloss: 0.343646\tvalid_0's binary_logloss: 0.343646\n",
            "[51]\tvalid_0's binary_logloss: 0.343652\tvalid_0's binary_logloss: 0.343652\n",
            "[52]\tvalid_0's binary_logloss: 0.344344\tvalid_0's binary_logloss: 0.344344\n",
            "[53]\tvalid_0's binary_logloss: 0.343866\tvalid_0's binary_logloss: 0.343866\n",
            "[54]\tvalid_0's binary_logloss: 0.344569\tvalid_0's binary_logloss: 0.344569\n",
            "[55]\tvalid_0's binary_logloss: 0.344692\tvalid_0's binary_logloss: 0.344692\n",
            "[56]\tvalid_0's binary_logloss: 0.345689\tvalid_0's binary_logloss: 0.345689\n",
            "[57]\tvalid_0's binary_logloss: 0.345516\tvalid_0's binary_logloss: 0.345516\n",
            "[58]\tvalid_0's binary_logloss: 0.346714\tvalid_0's binary_logloss: 0.346714\n",
            "[59]\tvalid_0's binary_logloss: 0.346928\tvalid_0's binary_logloss: 0.346928\n",
            "[60]\tvalid_0's binary_logloss: 0.348192\tvalid_0's binary_logloss: 0.348192\n",
            "[61]\tvalid_0's binary_logloss: 0.348457\tvalid_0's binary_logloss: 0.348457\n",
            "[62]\tvalid_0's binary_logloss: 0.348539\tvalid_0's binary_logloss: 0.348539\n",
            "[63]\tvalid_0's binary_logloss: 0.349036\tvalid_0's binary_logloss: 0.349036\n",
            "[64]\tvalid_0's binary_logloss: 0.348178\tvalid_0's binary_logloss: 0.348178\n",
            "[65]\tvalid_0's binary_logloss: 0.34785\tvalid_0's binary_logloss: 0.34785\n",
            "[66]\tvalid_0's binary_logloss: 0.34781\tvalid_0's binary_logloss: 0.34781\n",
            "[67]\tvalid_0's binary_logloss: 0.348158\tvalid_0's binary_logloss: 0.348158\n",
            "[68]\tvalid_0's binary_logloss: 0.35078\tvalid_0's binary_logloss: 0.35078\n",
            "[69]\tvalid_0's binary_logloss: 0.351144\tvalid_0's binary_logloss: 0.351144\n",
            "[70]\tvalid_0's binary_logloss: 0.352131\tvalid_0's binary_logloss: 0.352131\n",
            "[71]\tvalid_0's binary_logloss: 0.35086\tvalid_0's binary_logloss: 0.35086\n",
            "[72]\tvalid_0's binary_logloss: 0.350714\tvalid_0's binary_logloss: 0.350714\n",
            "[73]\tvalid_0's binary_logloss: 0.350702\tvalid_0's binary_logloss: 0.350702\n",
            "[74]\tvalid_0's binary_logloss: 0.351203\tvalid_0's binary_logloss: 0.351203\n",
            "[75]\tvalid_0's binary_logloss: 0.351693\tvalid_0's binary_logloss: 0.351693\n",
            "[76]\tvalid_0's binary_logloss: 0.352421\tvalid_0's binary_logloss: 0.352421\n",
            "[77]\tvalid_0's binary_logloss: 0.354181\tvalid_0's binary_logloss: 0.354181\n",
            "[78]\tvalid_0's binary_logloss: 0.355137\tvalid_0's binary_logloss: 0.355137\n",
            "[79]\tvalid_0's binary_logloss: 0.355599\tvalid_0's binary_logloss: 0.355599\n",
            "[80]\tvalid_0's binary_logloss: 0.356575\tvalid_0's binary_logloss: 0.356575\n",
            "[81]\tvalid_0's binary_logloss: 0.357074\tvalid_0's binary_logloss: 0.357074\n",
            "[82]\tvalid_0's binary_logloss: 0.357718\tvalid_0's binary_logloss: 0.357718\n",
            "[83]\tvalid_0's binary_logloss: 0.357588\tvalid_0's binary_logloss: 0.357588\n",
            "[84]\tvalid_0's binary_logloss: 0.358882\tvalid_0's binary_logloss: 0.358882\n",
            "[85]\tvalid_0's binary_logloss: 0.359855\tvalid_0's binary_logloss: 0.359855\n",
            "[86]\tvalid_0's binary_logloss: 0.361751\tvalid_0's binary_logloss: 0.361751\n",
            "[87]\tvalid_0's binary_logloss: 0.362758\tvalid_0's binary_logloss: 0.362758\n",
            "[88]\tvalid_0's binary_logloss: 0.364258\tvalid_0's binary_logloss: 0.364258\n",
            "[89]\tvalid_0's binary_logloss: 0.363695\tvalid_0's binary_logloss: 0.363695\n",
            "[90]\tvalid_0's binary_logloss: 0.365249\tvalid_0's binary_logloss: 0.365249\n",
            "[91]\tvalid_0's binary_logloss: 0.364898\tvalid_0's binary_logloss: 0.364898\n",
            "[92]\tvalid_0's binary_logloss: 0.364916\tvalid_0's binary_logloss: 0.364916\n",
            "[93]\tvalid_0's binary_logloss: 0.366011\tvalid_0's binary_logloss: 0.366011\n",
            "[94]\tvalid_0's binary_logloss: 0.366235\tvalid_0's binary_logloss: 0.366235\n",
            "[95]\tvalid_0's binary_logloss: 0.367205\tvalid_0's binary_logloss: 0.367205\n",
            "[96]\tvalid_0's binary_logloss: 0.367155\tvalid_0's binary_logloss: 0.367155\n",
            "[97]\tvalid_0's binary_logloss: 0.368779\tvalid_0's binary_logloss: 0.368779\n",
            "[98]\tvalid_0's binary_logloss: 0.368346\tvalid_0's binary_logloss: 0.368346\n",
            "[99]\tvalid_0's binary_logloss: 0.369825\tvalid_0's binary_logloss: 0.369825\n",
            "[100]\tvalid_0's binary_logloss: 0.371739\tvalid_0's binary_logloss: 0.371739\n",
            "[101]\tvalid_0's binary_logloss: 0.371839\tvalid_0's binary_logloss: 0.371839\n",
            "[102]\tvalid_0's binary_logloss: 0.371725\tvalid_0's binary_logloss: 0.371725\n",
            "[103]\tvalid_0's binary_logloss: 0.373518\tvalid_0's binary_logloss: 0.373518\n",
            "[104]\tvalid_0's binary_logloss: 0.373042\tvalid_0's binary_logloss: 0.373042\n",
            "[105]\tvalid_0's binary_logloss: 0.37332\tvalid_0's binary_logloss: 0.37332\n",
            "[106]\tvalid_0's binary_logloss: 0.373258\tvalid_0's binary_logloss: 0.373258\n",
            "[107]\tvalid_0's binary_logloss: 0.374444\tvalid_0's binary_logloss: 0.374444\n",
            "[108]\tvalid_0's binary_logloss: 0.374637\tvalid_0's binary_logloss: 0.374637\n",
            "[109]\tvalid_0's binary_logloss: 0.375222\tvalid_0's binary_logloss: 0.375222\n",
            "[110]\tvalid_0's binary_logloss: 0.375627\tvalid_0's binary_logloss: 0.375627\n",
            "[111]\tvalid_0's binary_logloss: 0.376115\tvalid_0's binary_logloss: 0.376115\n",
            "[112]\tvalid_0's binary_logloss: 0.37611\tvalid_0's binary_logloss: 0.37611\n",
            "[113]\tvalid_0's binary_logloss: 0.376911\tvalid_0's binary_logloss: 0.376911\n",
            "[114]\tvalid_0's binary_logloss: 0.378062\tvalid_0's binary_logloss: 0.378062\n",
            "[115]\tvalid_0's binary_logloss: 0.379337\tvalid_0's binary_logloss: 0.379337\n",
            "[116]\tvalid_0's binary_logloss: 0.378116\tvalid_0's binary_logloss: 0.378116\n",
            "[117]\tvalid_0's binary_logloss: 0.380143\tvalid_0's binary_logloss: 0.380143\n",
            "[118]\tvalid_0's binary_logloss: 0.381161\tvalid_0's binary_logloss: 0.381161\n",
            "[119]\tvalid_0's binary_logloss: 0.381157\tvalid_0's binary_logloss: 0.381157\n",
            "[120]\tvalid_0's binary_logloss: 0.382877\tvalid_0's binary_logloss: 0.382877\n",
            "[121]\tvalid_0's binary_logloss: 0.382936\tvalid_0's binary_logloss: 0.382936\n",
            "[122]\tvalid_0's binary_logloss: 0.383024\tvalid_0's binary_logloss: 0.383024\n",
            "[123]\tvalid_0's binary_logloss: 0.382961\tvalid_0's binary_logloss: 0.382961\n",
            "[124]\tvalid_0's binary_logloss: 0.383821\tvalid_0's binary_logloss: 0.383821\n",
            "[125]\tvalid_0's binary_logloss: 0.383736\tvalid_0's binary_logloss: 0.383736\n",
            "[126]\tvalid_0's binary_logloss: 0.383583\tvalid_0's binary_logloss: 0.383583\n",
            "[127]\tvalid_0's binary_logloss: 0.384836\tvalid_0's binary_logloss: 0.384836\n",
            "[128]\tvalid_0's binary_logloss: 0.385899\tvalid_0's binary_logloss: 0.385899\n",
            "[129]\tvalid_0's binary_logloss: 0.38658\tvalid_0's binary_logloss: 0.38658\n",
            "[130]\tvalid_0's binary_logloss: 0.386811\tvalid_0's binary_logloss: 0.386811\n",
            "[131]\tvalid_0's binary_logloss: 0.388371\tvalid_0's binary_logloss: 0.388371\n",
            "[132]\tvalid_0's binary_logloss: 0.387353\tvalid_0's binary_logloss: 0.387353\n",
            "[133]\tvalid_0's binary_logloss: 0.387008\tvalid_0's binary_logloss: 0.387008\n",
            "[134]\tvalid_0's binary_logloss: 0.387452\tvalid_0's binary_logloss: 0.387452\n",
            "[135]\tvalid_0's binary_logloss: 0.38788\tvalid_0's binary_logloss: 0.38788\n",
            "[136]\tvalid_0's binary_logloss: 0.387993\tvalid_0's binary_logloss: 0.387993\n",
            "[137]\tvalid_0's binary_logloss: 0.38895\tvalid_0's binary_logloss: 0.38895\n",
            "[138]\tvalid_0's binary_logloss: 0.390216\tvalid_0's binary_logloss: 0.390216\n",
            "[139]\tvalid_0's binary_logloss: 0.390236\tvalid_0's binary_logloss: 0.390236\n",
            "[140]\tvalid_0's binary_logloss: 0.389852\tvalid_0's binary_logloss: 0.389852\n",
            "Early stopping, best iteration is:\n",
            "[40]\tvalid_0's binary_logloss: 0.33346\tvalid_0's binary_logloss: 0.33346\n"
          ],
          "name": "stdout"
        }
      ]
    },
    {
      "cell_type": "code",
      "metadata": {
        "id": "StpNg8MssUu0",
        "colab": {
          "base_uri": "https://localhost:8080/",
          "height": 87
        },
        "outputId": "7dc64ca1-fb71-442d-f124-b166fa229170"
      },
      "source": [
        "get_clf_eval(y_test , ws100_preds, ws100_pred_proba) # XGBClassifier"
      ],
      "execution_count": null,
      "outputs": [
        {
          "output_type": "stream",
          "text": [
            "오차 행렬\n",
            "[[112   6]\n",
            " [ 17  44]]\n",
            "정확도: 0.8715, 정밀도: 0.8800, 재현율: 0.7213,    F1: 0.7928, AUC:0.9237\n"
          ],
          "name": "stdout"
        }
      ]
    },
    {
      "cell_type": "code",
      "metadata": {
        "id": "B6eyWX76sY7n",
        "colab": {
          "base_uri": "https://localhost:8080/",
          "height": 87
        },
        "outputId": "72852960-5ebf-498a-f629-b103bea7374f"
      },
      "source": [
        "get_clf_eval(y_test, preds, pred_proba) # LightGBM"
      ],
      "execution_count": null,
      "outputs": [
        {
          "output_type": "stream",
          "text": [
            "오차 행렬\n",
            "[[111   7]\n",
            " [ 15  46]]\n",
            "정확도: 0.8771, 정밀도: 0.8679, 재현율: 0.7541,    F1: 0.8070, AUC:0.9153\n"
          ],
          "name": "stdout"
        }
      ]
    },
    {
      "cell_type": "code",
      "metadata": {
        "id": "zqgcULHPsZxq",
        "colab": {
          "base_uri": "https://localhost:8080/",
          "height": 105
        },
        "outputId": "4ecb94b5-788b-4a23-8b48-53bfe5b14f54"
      },
      "source": [
        "lr_clf.fit(X_train , y_train)"
      ],
      "execution_count": null,
      "outputs": [
        {
          "output_type": "execute_result",
          "data": {
            "text/plain": [
              "LogisticRegression(C=1.0, class_weight=None, dual=False, fit_intercept=True,\n",
              "                   intercept_scaling=1, l1_ratio=None, max_iter=300,\n",
              "                   multi_class='auto', n_jobs=None, penalty='l2',\n",
              "                   random_state=None, solver='lbfgs', tol=0.0001, verbose=0,\n",
              "                   warm_start=False)"
            ]
          },
          "metadata": {
            "tags": []
          },
          "execution_count": 335
        }
      ]
    },
    {
      "cell_type": "code",
      "metadata": {
        "id": "AY3R4xkEsisp"
      },
      "source": [
        "prediction = lr_clf.predict(titanic_test)"
      ],
      "execution_count": null,
      "outputs": []
    },
    {
      "cell_type": "code",
      "metadata": {
        "id": "1_lk40vjsk3K"
      },
      "source": [
        "test_Passenger = pd.read_csv('test.csv')\n",
        "submission = pd.DataFrame({\"PassengerId\":test_Passenger[\"PassengerId\"], \"Survived\" : prediction})\n",
        "submission.to_csv('submission(lr_clf).csv', index=False)"
      ],
      "execution_count": null,
      "outputs": []
    },
    {
      "cell_type": "code",
      "metadata": {
        "id": "mgiKZe3dspf9",
        "colab": {
          "base_uri": "https://localhost:8080/",
          "height": 280
        },
        "outputId": "26bffb10-a1aa-4d13-9308-08593f2c8163"
      },
      "source": [
        "submission = pd.read_csv('gender_submission.csv')\n",
        "print(submission)\n",
        "print(submission.shape)"
      ],
      "execution_count": null,
      "outputs": [
        {
          "output_type": "stream",
          "text": [
            "     PassengerId  Survived\n",
            "0            892         0\n",
            "1            893         1\n",
            "2            894         0\n",
            "3            895         0\n",
            "4            896         1\n",
            "..           ...       ...\n",
            "413         1305         0\n",
            "414         1306         1\n",
            "415         1307         0\n",
            "416         1308         0\n",
            "417         1309         0\n",
            "\n",
            "[418 rows x 2 columns]\n",
            "(418, 2)\n"
          ],
          "name": "stdout"
        }
      ]
    },
    {
      "cell_type": "code",
      "metadata": {
        "id": "IjFB72Khsq4u",
        "colab": {
          "base_uri": "https://localhost:8080/",
          "height": 34
        },
        "outputId": "31e46639-a68d-4df8-b063-dc801b46f943"
      },
      "source": [
        "titanic_copy.shape"
      ],
      "execution_count": null,
      "outputs": [
        {
          "output_type": "execute_result",
          "data": {
            "text/plain": [
              "(891, 9)"
            ]
          },
          "metadata": {
            "tags": []
          },
          "execution_count": 332
        }
      ]
    },
    {
      "cell_type": "code",
      "metadata": {
        "id": "YmrXmG1YsthX",
        "colab": {
          "base_uri": "https://localhost:8080/",
          "height": 34
        },
        "outputId": "713bc343-660d-48a7-d4a9-6416b6660299"
      },
      "source": [
        "titanic_test.shape"
      ],
      "execution_count": null,
      "outputs": [
        {
          "output_type": "execute_result",
          "data": {
            "text/plain": [
              "(418, 8)"
            ]
          },
          "metadata": {
            "tags": []
          },
          "execution_count": 333
        }
      ]
    },
    {
      "cell_type": "code",
      "metadata": {
        "id": "aV0ImFH7sv9x"
      },
      "source": [
        ""
      ],
      "execution_count": null,
      "outputs": []
    }
  ]
}