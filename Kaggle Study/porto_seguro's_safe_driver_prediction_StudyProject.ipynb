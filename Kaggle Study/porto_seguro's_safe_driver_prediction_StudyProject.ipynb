{
  "nbformat": 4,
  "nbformat_minor": 0,
  "metadata": {
    "colab": {
      "name": "porto seguro's safe driver prediction_StudyProject.ipynb",
      "provenance": [],
      "collapsed_sections": []
    },
    "kernelspec": {
      "name": "python3",
      "display_name": "Python 3"
    }
  },
  "cells": [
    {
      "cell_type": "markdown",
      "metadata": {
        "id": "C6z1w0pX73KS"
      },
      "source": [
        "이 대회에서는 자동차 보험 계약자가 클레임을 제기 할 확률을 예측합니다.\n",
        "\n",
        "기차 및 테스트 데이터에서 기능이 유사한 그룹에 기능 이름에 같은 태그 속해 (예를 들어, ind, reg, car, calc). 또한 기능 이름에는 bin이진 기능 cat을 표시하고 범주 기능을 나타내는 접미사 가 포함 됩니다. 이러한 지정이없는 기능은 연속 형이거나 순서 형입니다. 의 값은 -1기능이 관찰에서 누락되었음을 나타냅니다. target열 의미는 주장은 보험 계약자 소송을 제기되었는지 여부.\n",
        "\n",
        "https://yseon99.tistory.com/56\n"
      ]
    },
    {
      "cell_type": "code",
      "metadata": {
        "id": "ifG1Bt7_DQjw",
        "colab": {
          "base_uri": "https://localhost:8080/",
          "height": 72
        },
        "outputId": "b3905f5d-7a17-4fa0-f3a4-d5e2cfd56c45"
      },
      "source": [
        "import numpy as np\n",
        "import pandas as pd\n",
        "import seaborn as sns\n",
        "import matplotlib.pyplot as plt\n",
        "%matplotlib inline\n",
        "\n",
        "import warnings\n",
        "from sklearn.utils import shuffle\n",
        "from sklearn.preprocessing import StandardScaler\n",
        "from sklearn.model_selection import train_test_split\n",
        "\n",
        "from sklearn.model_selection import KFold\n",
        "from sklearn.preprocessing import LabelEncoder\n",
        "from sklearn.model_selection import cross_val_score\n",
        "\n",
        "from xgboost import XGBClassifier\n",
        "from lightgbm import LGBMClassifier\n",
        "from sklearn.linear_model import LogisticRegression\n",
        "\n",
        "import time\n",
        "\n",
        "random_state = 6\n",
        "np.random.seed(random_state)\n",
        "warnings.filterwarnings('ignore')"
      ],
      "execution_count": null,
      "outputs": [
        {
          "output_type": "stream",
          "text": [
            "/usr/local/lib/python3.6/dist-packages/statsmodels/tools/_testing.py:19: FutureWarning: pandas.util.testing is deprecated. Use the functions in the public API at pandas.testing instead.\n",
            "  import pandas.util.testing as tm\n"
          ],
          "name": "stderr"
        }
      ]
    },
    {
      "cell_type": "code",
      "metadata": {
        "id": "n57r577Q7miw"
      },
      "source": [
        "train = pd.read_csv(\"train.csv\")\n",
        "test = pd.read_csv(\"test.csv\")\n",
        "submission = pd.read_csv(\"sample_submission.csv\")"
      ],
      "execution_count": null,
      "outputs": []
    },
    {
      "cell_type": "code",
      "metadata": {
        "id": "WQIMQ-Nc9NYE",
        "colab": {
          "base_uri": "https://localhost:8080/",
          "height": 219
        },
        "outputId": "f4503392-6b74-4fb2-b07b-6c71586bb707"
      },
      "source": [
        "train.head(5)"
      ],
      "execution_count": null,
      "outputs": [
        {
          "output_type": "execute_result",
          "data": {
            "text/html": [
              "<div>\n",
              "<style scoped>\n",
              "    .dataframe tbody tr th:only-of-type {\n",
              "        vertical-align: middle;\n",
              "    }\n",
              "\n",
              "    .dataframe tbody tr th {\n",
              "        vertical-align: top;\n",
              "    }\n",
              "\n",
              "    .dataframe thead th {\n",
              "        text-align: right;\n",
              "    }\n",
              "</style>\n",
              "<table border=\"1\" class=\"dataframe\">\n",
              "  <thead>\n",
              "    <tr style=\"text-align: right;\">\n",
              "      <th></th>\n",
              "      <th>id</th>\n",
              "      <th>target</th>\n",
              "      <th>ps_ind_01</th>\n",
              "      <th>ps_ind_02_cat</th>\n",
              "      <th>ps_ind_03</th>\n",
              "      <th>ps_ind_04_cat</th>\n",
              "      <th>ps_ind_05_cat</th>\n",
              "      <th>ps_ind_06_bin</th>\n",
              "      <th>ps_ind_07_bin</th>\n",
              "      <th>ps_ind_08_bin</th>\n",
              "      <th>ps_ind_09_bin</th>\n",
              "      <th>ps_ind_10_bin</th>\n",
              "      <th>ps_ind_11_bin</th>\n",
              "      <th>ps_ind_12_bin</th>\n",
              "      <th>ps_ind_13_bin</th>\n",
              "      <th>ps_ind_14</th>\n",
              "      <th>ps_ind_15</th>\n",
              "      <th>ps_ind_16_bin</th>\n",
              "      <th>ps_ind_17_bin</th>\n",
              "      <th>ps_ind_18_bin</th>\n",
              "      <th>ps_reg_01</th>\n",
              "      <th>ps_reg_02</th>\n",
              "      <th>ps_reg_03</th>\n",
              "      <th>ps_car_01_cat</th>\n",
              "      <th>ps_car_02_cat</th>\n",
              "      <th>ps_car_03_cat</th>\n",
              "      <th>ps_car_04_cat</th>\n",
              "      <th>ps_car_05_cat</th>\n",
              "      <th>ps_car_06_cat</th>\n",
              "      <th>ps_car_07_cat</th>\n",
              "      <th>ps_car_08_cat</th>\n",
              "      <th>ps_car_09_cat</th>\n",
              "      <th>ps_car_10_cat</th>\n",
              "      <th>ps_car_11_cat</th>\n",
              "      <th>ps_car_11</th>\n",
              "      <th>ps_car_12</th>\n",
              "      <th>ps_car_13</th>\n",
              "      <th>ps_car_14</th>\n",
              "      <th>ps_car_15</th>\n",
              "      <th>ps_calc_01</th>\n",
              "      <th>ps_calc_02</th>\n",
              "      <th>ps_calc_03</th>\n",
              "      <th>ps_calc_04</th>\n",
              "      <th>ps_calc_05</th>\n",
              "      <th>ps_calc_06</th>\n",
              "      <th>ps_calc_07</th>\n",
              "      <th>ps_calc_08</th>\n",
              "      <th>ps_calc_09</th>\n",
              "      <th>ps_calc_10</th>\n",
              "      <th>ps_calc_11</th>\n",
              "      <th>ps_calc_12</th>\n",
              "      <th>ps_calc_13</th>\n",
              "      <th>ps_calc_14</th>\n",
              "      <th>ps_calc_15_bin</th>\n",
              "      <th>ps_calc_16_bin</th>\n",
              "      <th>ps_calc_17_bin</th>\n",
              "      <th>ps_calc_18_bin</th>\n",
              "      <th>ps_calc_19_bin</th>\n",
              "      <th>ps_calc_20_bin</th>\n",
              "    </tr>\n",
              "  </thead>\n",
              "  <tbody>\n",
              "    <tr>\n",
              "      <th>0</th>\n",
              "      <td>7</td>\n",
              "      <td>0</td>\n",
              "      <td>2</td>\n",
              "      <td>2</td>\n",
              "      <td>5</td>\n",
              "      <td>1</td>\n",
              "      <td>0</td>\n",
              "      <td>0</td>\n",
              "      <td>1</td>\n",
              "      <td>0</td>\n",
              "      <td>0</td>\n",
              "      <td>0</td>\n",
              "      <td>0</td>\n",
              "      <td>0</td>\n",
              "      <td>0</td>\n",
              "      <td>0</td>\n",
              "      <td>11</td>\n",
              "      <td>0</td>\n",
              "      <td>1</td>\n",
              "      <td>0</td>\n",
              "      <td>0.7</td>\n",
              "      <td>0.2</td>\n",
              "      <td>0.718070</td>\n",
              "      <td>10</td>\n",
              "      <td>1</td>\n",
              "      <td>-1</td>\n",
              "      <td>0</td>\n",
              "      <td>1</td>\n",
              "      <td>4</td>\n",
              "      <td>1</td>\n",
              "      <td>0</td>\n",
              "      <td>0</td>\n",
              "      <td>1</td>\n",
              "      <td>12</td>\n",
              "      <td>2</td>\n",
              "      <td>0.400000</td>\n",
              "      <td>0.883679</td>\n",
              "      <td>0.370810</td>\n",
              "      <td>3.605551</td>\n",
              "      <td>0.6</td>\n",
              "      <td>0.5</td>\n",
              "      <td>0.2</td>\n",
              "      <td>3</td>\n",
              "      <td>1</td>\n",
              "      <td>10</td>\n",
              "      <td>1</td>\n",
              "      <td>10</td>\n",
              "      <td>1</td>\n",
              "      <td>5</td>\n",
              "      <td>9</td>\n",
              "      <td>1</td>\n",
              "      <td>5</td>\n",
              "      <td>8</td>\n",
              "      <td>0</td>\n",
              "      <td>1</td>\n",
              "      <td>1</td>\n",
              "      <td>0</td>\n",
              "      <td>0</td>\n",
              "      <td>1</td>\n",
              "    </tr>\n",
              "    <tr>\n",
              "      <th>1</th>\n",
              "      <td>9</td>\n",
              "      <td>0</td>\n",
              "      <td>1</td>\n",
              "      <td>1</td>\n",
              "      <td>7</td>\n",
              "      <td>0</td>\n",
              "      <td>0</td>\n",
              "      <td>0</td>\n",
              "      <td>0</td>\n",
              "      <td>1</td>\n",
              "      <td>0</td>\n",
              "      <td>0</td>\n",
              "      <td>0</td>\n",
              "      <td>0</td>\n",
              "      <td>0</td>\n",
              "      <td>0</td>\n",
              "      <td>3</td>\n",
              "      <td>0</td>\n",
              "      <td>0</td>\n",
              "      <td>1</td>\n",
              "      <td>0.8</td>\n",
              "      <td>0.4</td>\n",
              "      <td>0.766078</td>\n",
              "      <td>11</td>\n",
              "      <td>1</td>\n",
              "      <td>-1</td>\n",
              "      <td>0</td>\n",
              "      <td>-1</td>\n",
              "      <td>11</td>\n",
              "      <td>1</td>\n",
              "      <td>1</td>\n",
              "      <td>2</td>\n",
              "      <td>1</td>\n",
              "      <td>19</td>\n",
              "      <td>3</td>\n",
              "      <td>0.316228</td>\n",
              "      <td>0.618817</td>\n",
              "      <td>0.388716</td>\n",
              "      <td>2.449490</td>\n",
              "      <td>0.3</td>\n",
              "      <td>0.1</td>\n",
              "      <td>0.3</td>\n",
              "      <td>2</td>\n",
              "      <td>1</td>\n",
              "      <td>9</td>\n",
              "      <td>5</td>\n",
              "      <td>8</td>\n",
              "      <td>1</td>\n",
              "      <td>7</td>\n",
              "      <td>3</td>\n",
              "      <td>1</td>\n",
              "      <td>1</td>\n",
              "      <td>9</td>\n",
              "      <td>0</td>\n",
              "      <td>1</td>\n",
              "      <td>1</td>\n",
              "      <td>0</td>\n",
              "      <td>1</td>\n",
              "      <td>0</td>\n",
              "    </tr>\n",
              "    <tr>\n",
              "      <th>2</th>\n",
              "      <td>13</td>\n",
              "      <td>0</td>\n",
              "      <td>5</td>\n",
              "      <td>4</td>\n",
              "      <td>9</td>\n",
              "      <td>1</td>\n",
              "      <td>0</td>\n",
              "      <td>0</td>\n",
              "      <td>0</td>\n",
              "      <td>1</td>\n",
              "      <td>0</td>\n",
              "      <td>0</td>\n",
              "      <td>0</td>\n",
              "      <td>0</td>\n",
              "      <td>0</td>\n",
              "      <td>0</td>\n",
              "      <td>12</td>\n",
              "      <td>1</td>\n",
              "      <td>0</td>\n",
              "      <td>0</td>\n",
              "      <td>0.0</td>\n",
              "      <td>0.0</td>\n",
              "      <td>-1.000000</td>\n",
              "      <td>7</td>\n",
              "      <td>1</td>\n",
              "      <td>-1</td>\n",
              "      <td>0</td>\n",
              "      <td>-1</td>\n",
              "      <td>14</td>\n",
              "      <td>1</td>\n",
              "      <td>1</td>\n",
              "      <td>2</td>\n",
              "      <td>1</td>\n",
              "      <td>60</td>\n",
              "      <td>1</td>\n",
              "      <td>0.316228</td>\n",
              "      <td>0.641586</td>\n",
              "      <td>0.347275</td>\n",
              "      <td>3.316625</td>\n",
              "      <td>0.5</td>\n",
              "      <td>0.7</td>\n",
              "      <td>0.1</td>\n",
              "      <td>2</td>\n",
              "      <td>2</td>\n",
              "      <td>9</td>\n",
              "      <td>1</td>\n",
              "      <td>8</td>\n",
              "      <td>2</td>\n",
              "      <td>7</td>\n",
              "      <td>4</td>\n",
              "      <td>2</td>\n",
              "      <td>7</td>\n",
              "      <td>7</td>\n",
              "      <td>0</td>\n",
              "      <td>1</td>\n",
              "      <td>1</td>\n",
              "      <td>0</td>\n",
              "      <td>1</td>\n",
              "      <td>0</td>\n",
              "    </tr>\n",
              "    <tr>\n",
              "      <th>3</th>\n",
              "      <td>16</td>\n",
              "      <td>0</td>\n",
              "      <td>0</td>\n",
              "      <td>1</td>\n",
              "      <td>2</td>\n",
              "      <td>0</td>\n",
              "      <td>0</td>\n",
              "      <td>1</td>\n",
              "      <td>0</td>\n",
              "      <td>0</td>\n",
              "      <td>0</td>\n",
              "      <td>0</td>\n",
              "      <td>0</td>\n",
              "      <td>0</td>\n",
              "      <td>0</td>\n",
              "      <td>0</td>\n",
              "      <td>8</td>\n",
              "      <td>1</td>\n",
              "      <td>0</td>\n",
              "      <td>0</td>\n",
              "      <td>0.9</td>\n",
              "      <td>0.2</td>\n",
              "      <td>0.580948</td>\n",
              "      <td>7</td>\n",
              "      <td>1</td>\n",
              "      <td>0</td>\n",
              "      <td>0</td>\n",
              "      <td>1</td>\n",
              "      <td>11</td>\n",
              "      <td>1</td>\n",
              "      <td>1</td>\n",
              "      <td>3</td>\n",
              "      <td>1</td>\n",
              "      <td>104</td>\n",
              "      <td>1</td>\n",
              "      <td>0.374166</td>\n",
              "      <td>0.542949</td>\n",
              "      <td>0.294958</td>\n",
              "      <td>2.000000</td>\n",
              "      <td>0.6</td>\n",
              "      <td>0.9</td>\n",
              "      <td>0.1</td>\n",
              "      <td>2</td>\n",
              "      <td>4</td>\n",
              "      <td>7</td>\n",
              "      <td>1</td>\n",
              "      <td>8</td>\n",
              "      <td>4</td>\n",
              "      <td>2</td>\n",
              "      <td>2</td>\n",
              "      <td>2</td>\n",
              "      <td>4</td>\n",
              "      <td>9</td>\n",
              "      <td>0</td>\n",
              "      <td>0</td>\n",
              "      <td>0</td>\n",
              "      <td>0</td>\n",
              "      <td>0</td>\n",
              "      <td>0</td>\n",
              "    </tr>\n",
              "    <tr>\n",
              "      <th>4</th>\n",
              "      <td>17</td>\n",
              "      <td>0</td>\n",
              "      <td>0</td>\n",
              "      <td>2</td>\n",
              "      <td>0</td>\n",
              "      <td>1</td>\n",
              "      <td>0</td>\n",
              "      <td>1</td>\n",
              "      <td>0</td>\n",
              "      <td>0</td>\n",
              "      <td>0</td>\n",
              "      <td>0</td>\n",
              "      <td>0</td>\n",
              "      <td>0</td>\n",
              "      <td>0</td>\n",
              "      <td>0</td>\n",
              "      <td>9</td>\n",
              "      <td>1</td>\n",
              "      <td>0</td>\n",
              "      <td>0</td>\n",
              "      <td>0.7</td>\n",
              "      <td>0.6</td>\n",
              "      <td>0.840759</td>\n",
              "      <td>11</td>\n",
              "      <td>1</td>\n",
              "      <td>-1</td>\n",
              "      <td>0</td>\n",
              "      <td>-1</td>\n",
              "      <td>14</td>\n",
              "      <td>1</td>\n",
              "      <td>1</td>\n",
              "      <td>2</td>\n",
              "      <td>1</td>\n",
              "      <td>82</td>\n",
              "      <td>3</td>\n",
              "      <td>0.316070</td>\n",
              "      <td>0.565832</td>\n",
              "      <td>0.365103</td>\n",
              "      <td>2.000000</td>\n",
              "      <td>0.4</td>\n",
              "      <td>0.6</td>\n",
              "      <td>0.0</td>\n",
              "      <td>2</td>\n",
              "      <td>2</td>\n",
              "      <td>6</td>\n",
              "      <td>3</td>\n",
              "      <td>10</td>\n",
              "      <td>2</td>\n",
              "      <td>12</td>\n",
              "      <td>3</td>\n",
              "      <td>1</td>\n",
              "      <td>1</td>\n",
              "      <td>3</td>\n",
              "      <td>0</td>\n",
              "      <td>0</td>\n",
              "      <td>0</td>\n",
              "      <td>1</td>\n",
              "      <td>1</td>\n",
              "      <td>0</td>\n",
              "    </tr>\n",
              "  </tbody>\n",
              "</table>\n",
              "</div>"
            ],
            "text/plain": [
              "   id  target  ps_ind_01  ...  ps_calc_18_bin  ps_calc_19_bin  ps_calc_20_bin\n",
              "0   7       0          2  ...               0               0               1\n",
              "1   9       0          1  ...               0               1               0\n",
              "2  13       0          5  ...               0               1               0\n",
              "3  16       0          0  ...               0               0               0\n",
              "4  17       0          0  ...               1               1               0\n",
              "\n",
              "[5 rows x 59 columns]"
            ]
          },
          "metadata": {
            "tags": []
          },
          "execution_count": 3
        }
      ]
    },
    {
      "cell_type": "code",
      "metadata": {
        "id": "0wPNBJYY9Y6M",
        "colab": {
          "base_uri": "https://localhost:8080/",
          "height": 219
        },
        "outputId": "f0e403b3-ee16-4fe0-f858-60483f5d7db5"
      },
      "source": [
        "test.head(5)"
      ],
      "execution_count": null,
      "outputs": [
        {
          "output_type": "execute_result",
          "data": {
            "text/html": [
              "<div>\n",
              "<style scoped>\n",
              "    .dataframe tbody tr th:only-of-type {\n",
              "        vertical-align: middle;\n",
              "    }\n",
              "\n",
              "    .dataframe tbody tr th {\n",
              "        vertical-align: top;\n",
              "    }\n",
              "\n",
              "    .dataframe thead th {\n",
              "        text-align: right;\n",
              "    }\n",
              "</style>\n",
              "<table border=\"1\" class=\"dataframe\">\n",
              "  <thead>\n",
              "    <tr style=\"text-align: right;\">\n",
              "      <th></th>\n",
              "      <th>id</th>\n",
              "      <th>ps_ind_01</th>\n",
              "      <th>ps_ind_02_cat</th>\n",
              "      <th>ps_ind_03</th>\n",
              "      <th>ps_ind_04_cat</th>\n",
              "      <th>ps_ind_05_cat</th>\n",
              "      <th>ps_ind_06_bin</th>\n",
              "      <th>ps_ind_07_bin</th>\n",
              "      <th>ps_ind_08_bin</th>\n",
              "      <th>ps_ind_09_bin</th>\n",
              "      <th>ps_ind_10_bin</th>\n",
              "      <th>ps_ind_11_bin</th>\n",
              "      <th>ps_ind_12_bin</th>\n",
              "      <th>ps_ind_13_bin</th>\n",
              "      <th>ps_ind_14</th>\n",
              "      <th>ps_ind_15</th>\n",
              "      <th>ps_ind_16_bin</th>\n",
              "      <th>ps_ind_17_bin</th>\n",
              "      <th>ps_ind_18_bin</th>\n",
              "      <th>ps_reg_01</th>\n",
              "      <th>ps_reg_02</th>\n",
              "      <th>ps_reg_03</th>\n",
              "      <th>ps_car_01_cat</th>\n",
              "      <th>ps_car_02_cat</th>\n",
              "      <th>ps_car_03_cat</th>\n",
              "      <th>ps_car_04_cat</th>\n",
              "      <th>ps_car_05_cat</th>\n",
              "      <th>ps_car_06_cat</th>\n",
              "      <th>ps_car_07_cat</th>\n",
              "      <th>ps_car_08_cat</th>\n",
              "      <th>ps_car_09_cat</th>\n",
              "      <th>ps_car_10_cat</th>\n",
              "      <th>ps_car_11_cat</th>\n",
              "      <th>ps_car_11</th>\n",
              "      <th>ps_car_12</th>\n",
              "      <th>ps_car_13</th>\n",
              "      <th>ps_car_14</th>\n",
              "      <th>ps_car_15</th>\n",
              "      <th>ps_calc_01</th>\n",
              "      <th>ps_calc_02</th>\n",
              "      <th>ps_calc_03</th>\n",
              "      <th>ps_calc_04</th>\n",
              "      <th>ps_calc_05</th>\n",
              "      <th>ps_calc_06</th>\n",
              "      <th>ps_calc_07</th>\n",
              "      <th>ps_calc_08</th>\n",
              "      <th>ps_calc_09</th>\n",
              "      <th>ps_calc_10</th>\n",
              "      <th>ps_calc_11</th>\n",
              "      <th>ps_calc_12</th>\n",
              "      <th>ps_calc_13</th>\n",
              "      <th>ps_calc_14</th>\n",
              "      <th>ps_calc_15_bin</th>\n",
              "      <th>ps_calc_16_bin</th>\n",
              "      <th>ps_calc_17_bin</th>\n",
              "      <th>ps_calc_18_bin</th>\n",
              "      <th>ps_calc_19_bin</th>\n",
              "      <th>ps_calc_20_bin</th>\n",
              "    </tr>\n",
              "  </thead>\n",
              "  <tbody>\n",
              "    <tr>\n",
              "      <th>0</th>\n",
              "      <td>0</td>\n",
              "      <td>0</td>\n",
              "      <td>1</td>\n",
              "      <td>8</td>\n",
              "      <td>1</td>\n",
              "      <td>0</td>\n",
              "      <td>0</td>\n",
              "      <td>1</td>\n",
              "      <td>0</td>\n",
              "      <td>0</td>\n",
              "      <td>0</td>\n",
              "      <td>0</td>\n",
              "      <td>0</td>\n",
              "      <td>0</td>\n",
              "      <td>0</td>\n",
              "      <td>12</td>\n",
              "      <td>1</td>\n",
              "      <td>0</td>\n",
              "      <td>0</td>\n",
              "      <td>0.5</td>\n",
              "      <td>0.3</td>\n",
              "      <td>0.610328</td>\n",
              "      <td>7</td>\n",
              "      <td>1</td>\n",
              "      <td>-1</td>\n",
              "      <td>0</td>\n",
              "      <td>-1</td>\n",
              "      <td>1</td>\n",
              "      <td>1</td>\n",
              "      <td>1</td>\n",
              "      <td>2</td>\n",
              "      <td>1</td>\n",
              "      <td>65</td>\n",
              "      <td>1</td>\n",
              "      <td>0.316228</td>\n",
              "      <td>0.669556</td>\n",
              "      <td>0.352136</td>\n",
              "      <td>3.464102</td>\n",
              "      <td>0.1</td>\n",
              "      <td>0.8</td>\n",
              "      <td>0.6</td>\n",
              "      <td>1</td>\n",
              "      <td>1</td>\n",
              "      <td>6</td>\n",
              "      <td>3</td>\n",
              "      <td>6</td>\n",
              "      <td>2</td>\n",
              "      <td>9</td>\n",
              "      <td>1</td>\n",
              "      <td>1</td>\n",
              "      <td>1</td>\n",
              "      <td>12</td>\n",
              "      <td>0</td>\n",
              "      <td>1</td>\n",
              "      <td>1</td>\n",
              "      <td>0</td>\n",
              "      <td>0</td>\n",
              "      <td>1</td>\n",
              "    </tr>\n",
              "    <tr>\n",
              "      <th>1</th>\n",
              "      <td>1</td>\n",
              "      <td>4</td>\n",
              "      <td>2</td>\n",
              "      <td>5</td>\n",
              "      <td>1</td>\n",
              "      <td>0</td>\n",
              "      <td>0</td>\n",
              "      <td>0</td>\n",
              "      <td>0</td>\n",
              "      <td>1</td>\n",
              "      <td>0</td>\n",
              "      <td>0</td>\n",
              "      <td>0</td>\n",
              "      <td>0</td>\n",
              "      <td>0</td>\n",
              "      <td>5</td>\n",
              "      <td>1</td>\n",
              "      <td>0</td>\n",
              "      <td>0</td>\n",
              "      <td>0.9</td>\n",
              "      <td>0.5</td>\n",
              "      <td>0.771362</td>\n",
              "      <td>4</td>\n",
              "      <td>1</td>\n",
              "      <td>-1</td>\n",
              "      <td>0</td>\n",
              "      <td>0</td>\n",
              "      <td>11</td>\n",
              "      <td>1</td>\n",
              "      <td>1</td>\n",
              "      <td>0</td>\n",
              "      <td>1</td>\n",
              "      <td>103</td>\n",
              "      <td>1</td>\n",
              "      <td>0.316228</td>\n",
              "      <td>0.606320</td>\n",
              "      <td>0.358329</td>\n",
              "      <td>2.828427</td>\n",
              "      <td>0.4</td>\n",
              "      <td>0.5</td>\n",
              "      <td>0.4</td>\n",
              "      <td>3</td>\n",
              "      <td>3</td>\n",
              "      <td>8</td>\n",
              "      <td>4</td>\n",
              "      <td>10</td>\n",
              "      <td>2</td>\n",
              "      <td>7</td>\n",
              "      <td>2</td>\n",
              "      <td>0</td>\n",
              "      <td>3</td>\n",
              "      <td>10</td>\n",
              "      <td>0</td>\n",
              "      <td>0</td>\n",
              "      <td>1</td>\n",
              "      <td>1</td>\n",
              "      <td>0</td>\n",
              "      <td>1</td>\n",
              "    </tr>\n",
              "    <tr>\n",
              "      <th>2</th>\n",
              "      <td>2</td>\n",
              "      <td>5</td>\n",
              "      <td>1</td>\n",
              "      <td>3</td>\n",
              "      <td>0</td>\n",
              "      <td>0</td>\n",
              "      <td>0</td>\n",
              "      <td>0</td>\n",
              "      <td>0</td>\n",
              "      <td>1</td>\n",
              "      <td>0</td>\n",
              "      <td>0</td>\n",
              "      <td>0</td>\n",
              "      <td>0</td>\n",
              "      <td>0</td>\n",
              "      <td>10</td>\n",
              "      <td>0</td>\n",
              "      <td>0</td>\n",
              "      <td>0</td>\n",
              "      <td>0.4</td>\n",
              "      <td>0.0</td>\n",
              "      <td>0.916174</td>\n",
              "      <td>11</td>\n",
              "      <td>1</td>\n",
              "      <td>-1</td>\n",
              "      <td>0</td>\n",
              "      <td>-1</td>\n",
              "      <td>14</td>\n",
              "      <td>1</td>\n",
              "      <td>1</td>\n",
              "      <td>2</td>\n",
              "      <td>1</td>\n",
              "      <td>29</td>\n",
              "      <td>3</td>\n",
              "      <td>0.400000</td>\n",
              "      <td>0.896239</td>\n",
              "      <td>0.398497</td>\n",
              "      <td>3.316625</td>\n",
              "      <td>0.6</td>\n",
              "      <td>0.6</td>\n",
              "      <td>0.6</td>\n",
              "      <td>2</td>\n",
              "      <td>3</td>\n",
              "      <td>7</td>\n",
              "      <td>4</td>\n",
              "      <td>6</td>\n",
              "      <td>3</td>\n",
              "      <td>12</td>\n",
              "      <td>4</td>\n",
              "      <td>0</td>\n",
              "      <td>2</td>\n",
              "      <td>4</td>\n",
              "      <td>0</td>\n",
              "      <td>0</td>\n",
              "      <td>0</td>\n",
              "      <td>0</td>\n",
              "      <td>0</td>\n",
              "      <td>0</td>\n",
              "    </tr>\n",
              "    <tr>\n",
              "      <th>3</th>\n",
              "      <td>3</td>\n",
              "      <td>0</td>\n",
              "      <td>1</td>\n",
              "      <td>6</td>\n",
              "      <td>0</td>\n",
              "      <td>0</td>\n",
              "      <td>1</td>\n",
              "      <td>0</td>\n",
              "      <td>0</td>\n",
              "      <td>0</td>\n",
              "      <td>0</td>\n",
              "      <td>0</td>\n",
              "      <td>0</td>\n",
              "      <td>0</td>\n",
              "      <td>0</td>\n",
              "      <td>4</td>\n",
              "      <td>1</td>\n",
              "      <td>0</td>\n",
              "      <td>0</td>\n",
              "      <td>0.1</td>\n",
              "      <td>0.2</td>\n",
              "      <td>-1.000000</td>\n",
              "      <td>7</td>\n",
              "      <td>1</td>\n",
              "      <td>-1</td>\n",
              "      <td>0</td>\n",
              "      <td>-1</td>\n",
              "      <td>1</td>\n",
              "      <td>1</td>\n",
              "      <td>1</td>\n",
              "      <td>2</td>\n",
              "      <td>1</td>\n",
              "      <td>40</td>\n",
              "      <td>2</td>\n",
              "      <td>0.374166</td>\n",
              "      <td>0.652110</td>\n",
              "      <td>0.381445</td>\n",
              "      <td>2.449490</td>\n",
              "      <td>0.1</td>\n",
              "      <td>0.5</td>\n",
              "      <td>0.5</td>\n",
              "      <td>2</td>\n",
              "      <td>1</td>\n",
              "      <td>7</td>\n",
              "      <td>3</td>\n",
              "      <td>12</td>\n",
              "      <td>1</td>\n",
              "      <td>13</td>\n",
              "      <td>5</td>\n",
              "      <td>1</td>\n",
              "      <td>0</td>\n",
              "      <td>5</td>\n",
              "      <td>1</td>\n",
              "      <td>0</td>\n",
              "      <td>1</td>\n",
              "      <td>0</td>\n",
              "      <td>0</td>\n",
              "      <td>0</td>\n",
              "    </tr>\n",
              "    <tr>\n",
              "      <th>4</th>\n",
              "      <td>4</td>\n",
              "      <td>5</td>\n",
              "      <td>1</td>\n",
              "      <td>7</td>\n",
              "      <td>0</td>\n",
              "      <td>0</td>\n",
              "      <td>0</td>\n",
              "      <td>0</td>\n",
              "      <td>0</td>\n",
              "      <td>1</td>\n",
              "      <td>0</td>\n",
              "      <td>0</td>\n",
              "      <td>0</td>\n",
              "      <td>0</td>\n",
              "      <td>0</td>\n",
              "      <td>4</td>\n",
              "      <td>1</td>\n",
              "      <td>0</td>\n",
              "      <td>0</td>\n",
              "      <td>0.9</td>\n",
              "      <td>0.4</td>\n",
              "      <td>0.817771</td>\n",
              "      <td>11</td>\n",
              "      <td>1</td>\n",
              "      <td>-1</td>\n",
              "      <td>0</td>\n",
              "      <td>-1</td>\n",
              "      <td>11</td>\n",
              "      <td>1</td>\n",
              "      <td>1</td>\n",
              "      <td>2</td>\n",
              "      <td>1</td>\n",
              "      <td>101</td>\n",
              "      <td>3</td>\n",
              "      <td>0.374166</td>\n",
              "      <td>0.812914</td>\n",
              "      <td>0.385097</td>\n",
              "      <td>3.316625</td>\n",
              "      <td>0.9</td>\n",
              "      <td>0.6</td>\n",
              "      <td>0.8</td>\n",
              "      <td>3</td>\n",
              "      <td>4</td>\n",
              "      <td>7</td>\n",
              "      <td>1</td>\n",
              "      <td>10</td>\n",
              "      <td>4</td>\n",
              "      <td>12</td>\n",
              "      <td>4</td>\n",
              "      <td>0</td>\n",
              "      <td>0</td>\n",
              "      <td>4</td>\n",
              "      <td>0</td>\n",
              "      <td>1</td>\n",
              "      <td>1</td>\n",
              "      <td>0</td>\n",
              "      <td>0</td>\n",
              "      <td>1</td>\n",
              "    </tr>\n",
              "  </tbody>\n",
              "</table>\n",
              "</div>"
            ],
            "text/plain": [
              "   id  ps_ind_01  ps_ind_02_cat  ...  ps_calc_18_bin  ps_calc_19_bin  ps_calc_20_bin\n",
              "0   0          0              1  ...               0               0               1\n",
              "1   1          4              2  ...               1               0               1\n",
              "2   2          5              1  ...               0               0               0\n",
              "3   3          0              1  ...               0               0               0\n",
              "4   4          5              1  ...               0               0               1\n",
              "\n",
              "[5 rows x 58 columns]"
            ]
          },
          "metadata": {
            "tags": []
          },
          "execution_count": 4
        }
      ]
    },
    {
      "cell_type": "code",
      "metadata": {
        "id": "3-dCVpHx91o8",
        "colab": {
          "base_uri": "https://localhost:8080/",
          "height": 199
        },
        "outputId": "0cadbddf-9e4d-4e8a-bc62-88cd3c3d8326"
      },
      "source": [
        "submission.head() # 결과물 제출 형식"
      ],
      "execution_count": null,
      "outputs": [
        {
          "output_type": "execute_result",
          "data": {
            "text/html": [
              "<div>\n",
              "<style scoped>\n",
              "    .dataframe tbody tr th:only-of-type {\n",
              "        vertical-align: middle;\n",
              "    }\n",
              "\n",
              "    .dataframe tbody tr th {\n",
              "        vertical-align: top;\n",
              "    }\n",
              "\n",
              "    .dataframe thead th {\n",
              "        text-align: right;\n",
              "    }\n",
              "</style>\n",
              "<table border=\"1\" class=\"dataframe\">\n",
              "  <thead>\n",
              "    <tr style=\"text-align: right;\">\n",
              "      <th></th>\n",
              "      <th>id</th>\n",
              "      <th>target</th>\n",
              "    </tr>\n",
              "  </thead>\n",
              "  <tbody>\n",
              "    <tr>\n",
              "      <th>0</th>\n",
              "      <td>0</td>\n",
              "      <td>0.0364</td>\n",
              "    </tr>\n",
              "    <tr>\n",
              "      <th>1</th>\n",
              "      <td>1</td>\n",
              "      <td>0.0364</td>\n",
              "    </tr>\n",
              "    <tr>\n",
              "      <th>2</th>\n",
              "      <td>2</td>\n",
              "      <td>0.0364</td>\n",
              "    </tr>\n",
              "    <tr>\n",
              "      <th>3</th>\n",
              "      <td>3</td>\n",
              "      <td>0.0364</td>\n",
              "    </tr>\n",
              "    <tr>\n",
              "      <th>4</th>\n",
              "      <td>4</td>\n",
              "      <td>0.0364</td>\n",
              "    </tr>\n",
              "  </tbody>\n",
              "</table>\n",
              "</div>"
            ],
            "text/plain": [
              "   id  target\n",
              "0   0  0.0364\n",
              "1   1  0.0364\n",
              "2   2  0.0364\n",
              "3   3  0.0364\n",
              "4   4  0.0364"
            ]
          },
          "metadata": {
            "tags": []
          },
          "execution_count": 5
        }
      ]
    },
    {
      "cell_type": "code",
      "metadata": {
        "id": "jh5bIwAY94I0",
        "colab": {
          "base_uri": "https://localhost:8080/",
          "height": 562
        },
        "outputId": "db5e2c6a-5d55-4e2a-fd2f-92949cb397d8"
      },
      "source": [
        "print(train.columns)\n",
        "print(\"=\"*80)\n",
        "print(test.columns)"
      ],
      "execution_count": null,
      "outputs": [
        {
          "output_type": "stream",
          "text": [
            "Index(['id', 'target', 'ps_ind_01', 'ps_ind_02_cat', 'ps_ind_03',\n",
            "       'ps_ind_04_cat', 'ps_ind_05_cat', 'ps_ind_06_bin', 'ps_ind_07_bin',\n",
            "       'ps_ind_08_bin', 'ps_ind_09_bin', 'ps_ind_10_bin', 'ps_ind_11_bin',\n",
            "       'ps_ind_12_bin', 'ps_ind_13_bin', 'ps_ind_14', 'ps_ind_15',\n",
            "       'ps_ind_16_bin', 'ps_ind_17_bin', 'ps_ind_18_bin', 'ps_reg_01',\n",
            "       'ps_reg_02', 'ps_reg_03', 'ps_car_01_cat', 'ps_car_02_cat',\n",
            "       'ps_car_03_cat', 'ps_car_04_cat', 'ps_car_05_cat', 'ps_car_06_cat',\n",
            "       'ps_car_07_cat', 'ps_car_08_cat', 'ps_car_09_cat', 'ps_car_10_cat',\n",
            "       'ps_car_11_cat', 'ps_car_11', 'ps_car_12', 'ps_car_13', 'ps_car_14',\n",
            "       'ps_car_15', 'ps_calc_01', 'ps_calc_02', 'ps_calc_03', 'ps_calc_04',\n",
            "       'ps_calc_05', 'ps_calc_06', 'ps_calc_07', 'ps_calc_08', 'ps_calc_09',\n",
            "       'ps_calc_10', 'ps_calc_11', 'ps_calc_12', 'ps_calc_13', 'ps_calc_14',\n",
            "       'ps_calc_15_bin', 'ps_calc_16_bin', 'ps_calc_17_bin', 'ps_calc_18_bin',\n",
            "       'ps_calc_19_bin', 'ps_calc_20_bin'],\n",
            "      dtype='object')\n",
            "================================================================================\n",
            "Index(['id', 'ps_ind_01', 'ps_ind_02_cat', 'ps_ind_03', 'ps_ind_04_cat',\n",
            "       'ps_ind_05_cat', 'ps_ind_06_bin', 'ps_ind_07_bin', 'ps_ind_08_bin',\n",
            "       'ps_ind_09_bin', 'ps_ind_10_bin', 'ps_ind_11_bin', 'ps_ind_12_bin',\n",
            "       'ps_ind_13_bin', 'ps_ind_14', 'ps_ind_15', 'ps_ind_16_bin',\n",
            "       'ps_ind_17_bin', 'ps_ind_18_bin', 'ps_reg_01', 'ps_reg_02', 'ps_reg_03',\n",
            "       'ps_car_01_cat', 'ps_car_02_cat', 'ps_car_03_cat', 'ps_car_04_cat',\n",
            "       'ps_car_05_cat', 'ps_car_06_cat', 'ps_car_07_cat', 'ps_car_08_cat',\n",
            "       'ps_car_09_cat', 'ps_car_10_cat', 'ps_car_11_cat', 'ps_car_11',\n",
            "       'ps_car_12', 'ps_car_13', 'ps_car_14', 'ps_car_15', 'ps_calc_01',\n",
            "       'ps_calc_02', 'ps_calc_03', 'ps_calc_04', 'ps_calc_05', 'ps_calc_06',\n",
            "       'ps_calc_07', 'ps_calc_08', 'ps_calc_09', 'ps_calc_10', 'ps_calc_11',\n",
            "       'ps_calc_12', 'ps_calc_13', 'ps_calc_14', 'ps_calc_15_bin',\n",
            "       'ps_calc_16_bin', 'ps_calc_17_bin', 'ps_calc_18_bin', 'ps_calc_19_bin',\n",
            "       'ps_calc_20_bin'],\n",
            "      dtype='object')\n"
          ],
          "name": "stdout"
        }
      ]
    },
    {
      "cell_type": "code",
      "metadata": {
        "id": "9sSQqN3b9ecj",
        "colab": {
          "base_uri": "https://localhost:8080/",
          "height": 70
        },
        "outputId": "fb2c0c9b-3d8e-425e-b01e-f30eb28eb17a"
      },
      "source": [
        "print(\"train 행 길이:\",train.shape[0],\"train 열(컬럼) 길이 :\",len(train.columns)) # train.shape()\n",
        "print(\"=\"*45)\n",
        "print(\"test 행 길이:\",test.shape[0],\"test 열(컬럼) 길이 :\",len(test.columns)) # test.shape()"
      ],
      "execution_count": null,
      "outputs": [
        {
          "output_type": "stream",
          "text": [
            "train 행 길이: 595212 train 열(컬럼) 길이 : 59\n",
            "=============================================\n",
            "test 행 길이: 892816 test 열(컬럼) 길이 : 58\n"
          ],
          "name": "stdout"
        }
      ]
    },
    {
      "cell_type": "code",
      "metadata": {
        "id": "-VF3gATRC2-j",
        "colab": {
          "base_uri": "https://localhost:8080/",
          "height": 310
        },
        "outputId": "ad51d6c8-e99f-4043-e85e-31cd8f0459e6"
      },
      "source": [
        "train.describe()"
      ],
      "execution_count": null,
      "outputs": [
        {
          "output_type": "execute_result",
          "data": {
            "text/html": [
              "<div>\n",
              "<style scoped>\n",
              "    .dataframe tbody tr th:only-of-type {\n",
              "        vertical-align: middle;\n",
              "    }\n",
              "\n",
              "    .dataframe tbody tr th {\n",
              "        vertical-align: top;\n",
              "    }\n",
              "\n",
              "    .dataframe thead th {\n",
              "        text-align: right;\n",
              "    }\n",
              "</style>\n",
              "<table border=\"1\" class=\"dataframe\">\n",
              "  <thead>\n",
              "    <tr style=\"text-align: right;\">\n",
              "      <th></th>\n",
              "      <th>id</th>\n",
              "      <th>target</th>\n",
              "      <th>ps_ind_01</th>\n",
              "      <th>ps_ind_02_cat</th>\n",
              "      <th>ps_ind_03</th>\n",
              "      <th>ps_ind_04_cat</th>\n",
              "      <th>ps_ind_05_cat</th>\n",
              "      <th>ps_ind_06_bin</th>\n",
              "      <th>ps_ind_07_bin</th>\n",
              "      <th>ps_ind_08_bin</th>\n",
              "      <th>ps_ind_09_bin</th>\n",
              "      <th>ps_ind_10_bin</th>\n",
              "      <th>ps_ind_11_bin</th>\n",
              "      <th>ps_ind_12_bin</th>\n",
              "      <th>ps_ind_13_bin</th>\n",
              "      <th>ps_ind_14</th>\n",
              "      <th>ps_ind_15</th>\n",
              "      <th>ps_ind_16_bin</th>\n",
              "      <th>ps_ind_17_bin</th>\n",
              "      <th>ps_ind_18_bin</th>\n",
              "      <th>ps_reg_01</th>\n",
              "      <th>ps_reg_02</th>\n",
              "      <th>ps_reg_03</th>\n",
              "      <th>ps_car_01_cat</th>\n",
              "      <th>ps_car_02_cat</th>\n",
              "      <th>ps_car_03_cat</th>\n",
              "      <th>ps_car_04_cat</th>\n",
              "      <th>ps_car_05_cat</th>\n",
              "      <th>ps_car_06_cat</th>\n",
              "      <th>ps_car_07_cat</th>\n",
              "      <th>ps_car_08_cat</th>\n",
              "      <th>ps_car_09_cat</th>\n",
              "      <th>ps_car_10_cat</th>\n",
              "      <th>ps_car_11_cat</th>\n",
              "      <th>ps_car_11</th>\n",
              "      <th>ps_car_12</th>\n",
              "      <th>ps_car_13</th>\n",
              "      <th>ps_car_14</th>\n",
              "      <th>ps_car_15</th>\n",
              "      <th>ps_calc_01</th>\n",
              "      <th>ps_calc_02</th>\n",
              "      <th>ps_calc_03</th>\n",
              "      <th>ps_calc_04</th>\n",
              "      <th>ps_calc_05</th>\n",
              "      <th>ps_calc_06</th>\n",
              "      <th>ps_calc_07</th>\n",
              "      <th>ps_calc_08</th>\n",
              "      <th>ps_calc_09</th>\n",
              "      <th>ps_calc_10</th>\n",
              "      <th>ps_calc_11</th>\n",
              "      <th>ps_calc_12</th>\n",
              "      <th>ps_calc_13</th>\n",
              "      <th>ps_calc_14</th>\n",
              "      <th>ps_calc_15_bin</th>\n",
              "      <th>ps_calc_16_bin</th>\n",
              "      <th>ps_calc_17_bin</th>\n",
              "      <th>ps_calc_18_bin</th>\n",
              "      <th>ps_calc_19_bin</th>\n",
              "      <th>ps_calc_20_bin</th>\n",
              "    </tr>\n",
              "  </thead>\n",
              "  <tbody>\n",
              "    <tr>\n",
              "      <th>count</th>\n",
              "      <td>5.952120e+05</td>\n",
              "      <td>595212.000000</td>\n",
              "      <td>595212.000000</td>\n",
              "      <td>595212.000000</td>\n",
              "      <td>595212.000000</td>\n",
              "      <td>595212.000000</td>\n",
              "      <td>595212.000000</td>\n",
              "      <td>595212.000000</td>\n",
              "      <td>595212.000000</td>\n",
              "      <td>595212.000000</td>\n",
              "      <td>595212.000000</td>\n",
              "      <td>595212.000000</td>\n",
              "      <td>595212.000000</td>\n",
              "      <td>595212.000000</td>\n",
              "      <td>595212.000000</td>\n",
              "      <td>595212.000000</td>\n",
              "      <td>595212.000000</td>\n",
              "      <td>595212.000000</td>\n",
              "      <td>595212.000000</td>\n",
              "      <td>595212.000000</td>\n",
              "      <td>595212.000000</td>\n",
              "      <td>595212.000000</td>\n",
              "      <td>595212.000000</td>\n",
              "      <td>595212.000000</td>\n",
              "      <td>595212.000000</td>\n",
              "      <td>595212.000000</td>\n",
              "      <td>595212.000000</td>\n",
              "      <td>595212.000000</td>\n",
              "      <td>595212.000000</td>\n",
              "      <td>595212.000000</td>\n",
              "      <td>595212.000000</td>\n",
              "      <td>595212.000000</td>\n",
              "      <td>595212.000000</td>\n",
              "      <td>595212.000000</td>\n",
              "      <td>595212.000000</td>\n",
              "      <td>595212.000000</td>\n",
              "      <td>595212.000000</td>\n",
              "      <td>595212.000000</td>\n",
              "      <td>595212.000000</td>\n",
              "      <td>595212.000000</td>\n",
              "      <td>595212.000000</td>\n",
              "      <td>595212.000000</td>\n",
              "      <td>595212.000000</td>\n",
              "      <td>595212.000000</td>\n",
              "      <td>595212.000000</td>\n",
              "      <td>595212.000000</td>\n",
              "      <td>595212.000000</td>\n",
              "      <td>595212.000000</td>\n",
              "      <td>595212.000000</td>\n",
              "      <td>595212.000000</td>\n",
              "      <td>595212.000000</td>\n",
              "      <td>595212.000000</td>\n",
              "      <td>595212.000000</td>\n",
              "      <td>595212.000000</td>\n",
              "      <td>595212.000000</td>\n",
              "      <td>595212.000000</td>\n",
              "      <td>595212.000000</td>\n",
              "      <td>595212.000000</td>\n",
              "      <td>595212.000000</td>\n",
              "    </tr>\n",
              "    <tr>\n",
              "      <th>mean</th>\n",
              "      <td>7.438036e+05</td>\n",
              "      <td>0.036448</td>\n",
              "      <td>1.900378</td>\n",
              "      <td>1.358943</td>\n",
              "      <td>4.423318</td>\n",
              "      <td>0.416794</td>\n",
              "      <td>0.405188</td>\n",
              "      <td>0.393742</td>\n",
              "      <td>0.257033</td>\n",
              "      <td>0.163921</td>\n",
              "      <td>0.185304</td>\n",
              "      <td>0.000373</td>\n",
              "      <td>0.001692</td>\n",
              "      <td>0.009439</td>\n",
              "      <td>0.000948</td>\n",
              "      <td>0.012451</td>\n",
              "      <td>7.299922</td>\n",
              "      <td>0.660823</td>\n",
              "      <td>0.121081</td>\n",
              "      <td>0.153446</td>\n",
              "      <td>0.610991</td>\n",
              "      <td>0.439184</td>\n",
              "      <td>0.551102</td>\n",
              "      <td>8.295933</td>\n",
              "      <td>0.829931</td>\n",
              "      <td>-0.504899</td>\n",
              "      <td>0.725192</td>\n",
              "      <td>-0.157732</td>\n",
              "      <td>6.555340</td>\n",
              "      <td>0.910027</td>\n",
              "      <td>0.832080</td>\n",
              "      <td>1.328890</td>\n",
              "      <td>0.992136</td>\n",
              "      <td>62.215674</td>\n",
              "      <td>2.346072</td>\n",
              "      <td>0.379945</td>\n",
              "      <td>0.813265</td>\n",
              "      <td>0.276256</td>\n",
              "      <td>3.065899</td>\n",
              "      <td>0.449756</td>\n",
              "      <td>0.449589</td>\n",
              "      <td>0.449849</td>\n",
              "      <td>2.372081</td>\n",
              "      <td>1.885886</td>\n",
              "      <td>7.689445</td>\n",
              "      <td>3.005823</td>\n",
              "      <td>9.225904</td>\n",
              "      <td>2.339034</td>\n",
              "      <td>8.433590</td>\n",
              "      <td>5.441382</td>\n",
              "      <td>1.441918</td>\n",
              "      <td>2.872288</td>\n",
              "      <td>7.539026</td>\n",
              "      <td>0.122427</td>\n",
              "      <td>0.627840</td>\n",
              "      <td>0.554182</td>\n",
              "      <td>0.287182</td>\n",
              "      <td>0.349024</td>\n",
              "      <td>0.153318</td>\n",
              "    </tr>\n",
              "    <tr>\n",
              "      <th>std</th>\n",
              "      <td>4.293678e+05</td>\n",
              "      <td>0.187401</td>\n",
              "      <td>1.983789</td>\n",
              "      <td>0.664594</td>\n",
              "      <td>2.699902</td>\n",
              "      <td>0.493311</td>\n",
              "      <td>1.350642</td>\n",
              "      <td>0.488579</td>\n",
              "      <td>0.436998</td>\n",
              "      <td>0.370205</td>\n",
              "      <td>0.388544</td>\n",
              "      <td>0.019309</td>\n",
              "      <td>0.041097</td>\n",
              "      <td>0.096693</td>\n",
              "      <td>0.030768</td>\n",
              "      <td>0.127545</td>\n",
              "      <td>3.546042</td>\n",
              "      <td>0.473430</td>\n",
              "      <td>0.326222</td>\n",
              "      <td>0.360417</td>\n",
              "      <td>0.287643</td>\n",
              "      <td>0.404264</td>\n",
              "      <td>0.793506</td>\n",
              "      <td>2.508270</td>\n",
              "      <td>0.375716</td>\n",
              "      <td>0.788654</td>\n",
              "      <td>2.153463</td>\n",
              "      <td>0.844417</td>\n",
              "      <td>5.501445</td>\n",
              "      <td>0.347106</td>\n",
              "      <td>0.373796</td>\n",
              "      <td>0.978747</td>\n",
              "      <td>0.091619</td>\n",
              "      <td>33.012455</td>\n",
              "      <td>0.832548</td>\n",
              "      <td>0.058327</td>\n",
              "      <td>0.224588</td>\n",
              "      <td>0.357154</td>\n",
              "      <td>0.731366</td>\n",
              "      <td>0.287198</td>\n",
              "      <td>0.286893</td>\n",
              "      <td>0.287153</td>\n",
              "      <td>1.117219</td>\n",
              "      <td>1.134927</td>\n",
              "      <td>1.334312</td>\n",
              "      <td>1.414564</td>\n",
              "      <td>1.459672</td>\n",
              "      <td>1.246949</td>\n",
              "      <td>2.904597</td>\n",
              "      <td>2.332871</td>\n",
              "      <td>1.202963</td>\n",
              "      <td>1.694887</td>\n",
              "      <td>2.746652</td>\n",
              "      <td>0.327779</td>\n",
              "      <td>0.483381</td>\n",
              "      <td>0.497056</td>\n",
              "      <td>0.452447</td>\n",
              "      <td>0.476662</td>\n",
              "      <td>0.360295</td>\n",
              "    </tr>\n",
              "    <tr>\n",
              "      <th>min</th>\n",
              "      <td>7.000000e+00</td>\n",
              "      <td>0.000000</td>\n",
              "      <td>0.000000</td>\n",
              "      <td>-1.000000</td>\n",
              "      <td>0.000000</td>\n",
              "      <td>-1.000000</td>\n",
              "      <td>-1.000000</td>\n",
              "      <td>0.000000</td>\n",
              "      <td>0.000000</td>\n",
              "      <td>0.000000</td>\n",
              "      <td>0.000000</td>\n",
              "      <td>0.000000</td>\n",
              "      <td>0.000000</td>\n",
              "      <td>0.000000</td>\n",
              "      <td>0.000000</td>\n",
              "      <td>0.000000</td>\n",
              "      <td>0.000000</td>\n",
              "      <td>0.000000</td>\n",
              "      <td>0.000000</td>\n",
              "      <td>0.000000</td>\n",
              "      <td>0.000000</td>\n",
              "      <td>0.000000</td>\n",
              "      <td>-1.000000</td>\n",
              "      <td>-1.000000</td>\n",
              "      <td>-1.000000</td>\n",
              "      <td>-1.000000</td>\n",
              "      <td>0.000000</td>\n",
              "      <td>-1.000000</td>\n",
              "      <td>0.000000</td>\n",
              "      <td>-1.000000</td>\n",
              "      <td>0.000000</td>\n",
              "      <td>-1.000000</td>\n",
              "      <td>0.000000</td>\n",
              "      <td>1.000000</td>\n",
              "      <td>-1.000000</td>\n",
              "      <td>-1.000000</td>\n",
              "      <td>0.250619</td>\n",
              "      <td>-1.000000</td>\n",
              "      <td>0.000000</td>\n",
              "      <td>0.000000</td>\n",
              "      <td>0.000000</td>\n",
              "      <td>0.000000</td>\n",
              "      <td>0.000000</td>\n",
              "      <td>0.000000</td>\n",
              "      <td>0.000000</td>\n",
              "      <td>0.000000</td>\n",
              "      <td>2.000000</td>\n",
              "      <td>0.000000</td>\n",
              "      <td>0.000000</td>\n",
              "      <td>0.000000</td>\n",
              "      <td>0.000000</td>\n",
              "      <td>0.000000</td>\n",
              "      <td>0.000000</td>\n",
              "      <td>0.000000</td>\n",
              "      <td>0.000000</td>\n",
              "      <td>0.000000</td>\n",
              "      <td>0.000000</td>\n",
              "      <td>0.000000</td>\n",
              "      <td>0.000000</td>\n",
              "    </tr>\n",
              "    <tr>\n",
              "      <th>25%</th>\n",
              "      <td>3.719915e+05</td>\n",
              "      <td>0.000000</td>\n",
              "      <td>0.000000</td>\n",
              "      <td>1.000000</td>\n",
              "      <td>2.000000</td>\n",
              "      <td>0.000000</td>\n",
              "      <td>0.000000</td>\n",
              "      <td>0.000000</td>\n",
              "      <td>0.000000</td>\n",
              "      <td>0.000000</td>\n",
              "      <td>0.000000</td>\n",
              "      <td>0.000000</td>\n",
              "      <td>0.000000</td>\n",
              "      <td>0.000000</td>\n",
              "      <td>0.000000</td>\n",
              "      <td>0.000000</td>\n",
              "      <td>5.000000</td>\n",
              "      <td>0.000000</td>\n",
              "      <td>0.000000</td>\n",
              "      <td>0.000000</td>\n",
              "      <td>0.400000</td>\n",
              "      <td>0.200000</td>\n",
              "      <td>0.525000</td>\n",
              "      <td>7.000000</td>\n",
              "      <td>1.000000</td>\n",
              "      <td>-1.000000</td>\n",
              "      <td>0.000000</td>\n",
              "      <td>-1.000000</td>\n",
              "      <td>1.000000</td>\n",
              "      <td>1.000000</td>\n",
              "      <td>1.000000</td>\n",
              "      <td>0.000000</td>\n",
              "      <td>1.000000</td>\n",
              "      <td>32.000000</td>\n",
              "      <td>2.000000</td>\n",
              "      <td>0.316228</td>\n",
              "      <td>0.670867</td>\n",
              "      <td>0.333167</td>\n",
              "      <td>2.828427</td>\n",
              "      <td>0.200000</td>\n",
              "      <td>0.200000</td>\n",
              "      <td>0.200000</td>\n",
              "      <td>2.000000</td>\n",
              "      <td>1.000000</td>\n",
              "      <td>7.000000</td>\n",
              "      <td>2.000000</td>\n",
              "      <td>8.000000</td>\n",
              "      <td>1.000000</td>\n",
              "      <td>6.000000</td>\n",
              "      <td>4.000000</td>\n",
              "      <td>1.000000</td>\n",
              "      <td>2.000000</td>\n",
              "      <td>6.000000</td>\n",
              "      <td>0.000000</td>\n",
              "      <td>0.000000</td>\n",
              "      <td>0.000000</td>\n",
              "      <td>0.000000</td>\n",
              "      <td>0.000000</td>\n",
              "      <td>0.000000</td>\n",
              "    </tr>\n",
              "    <tr>\n",
              "      <th>50%</th>\n",
              "      <td>7.435475e+05</td>\n",
              "      <td>0.000000</td>\n",
              "      <td>1.000000</td>\n",
              "      <td>1.000000</td>\n",
              "      <td>4.000000</td>\n",
              "      <td>0.000000</td>\n",
              "      <td>0.000000</td>\n",
              "      <td>0.000000</td>\n",
              "      <td>0.000000</td>\n",
              "      <td>0.000000</td>\n",
              "      <td>0.000000</td>\n",
              "      <td>0.000000</td>\n",
              "      <td>0.000000</td>\n",
              "      <td>0.000000</td>\n",
              "      <td>0.000000</td>\n",
              "      <td>0.000000</td>\n",
              "      <td>7.000000</td>\n",
              "      <td>1.000000</td>\n",
              "      <td>0.000000</td>\n",
              "      <td>0.000000</td>\n",
              "      <td>0.700000</td>\n",
              "      <td>0.300000</td>\n",
              "      <td>0.720677</td>\n",
              "      <td>7.000000</td>\n",
              "      <td>1.000000</td>\n",
              "      <td>-1.000000</td>\n",
              "      <td>0.000000</td>\n",
              "      <td>0.000000</td>\n",
              "      <td>7.000000</td>\n",
              "      <td>1.000000</td>\n",
              "      <td>1.000000</td>\n",
              "      <td>2.000000</td>\n",
              "      <td>1.000000</td>\n",
              "      <td>65.000000</td>\n",
              "      <td>3.000000</td>\n",
              "      <td>0.374166</td>\n",
              "      <td>0.765811</td>\n",
              "      <td>0.368782</td>\n",
              "      <td>3.316625</td>\n",
              "      <td>0.500000</td>\n",
              "      <td>0.400000</td>\n",
              "      <td>0.500000</td>\n",
              "      <td>2.000000</td>\n",
              "      <td>2.000000</td>\n",
              "      <td>8.000000</td>\n",
              "      <td>3.000000</td>\n",
              "      <td>9.000000</td>\n",
              "      <td>2.000000</td>\n",
              "      <td>8.000000</td>\n",
              "      <td>5.000000</td>\n",
              "      <td>1.000000</td>\n",
              "      <td>3.000000</td>\n",
              "      <td>7.000000</td>\n",
              "      <td>0.000000</td>\n",
              "      <td>1.000000</td>\n",
              "      <td>1.000000</td>\n",
              "      <td>0.000000</td>\n",
              "      <td>0.000000</td>\n",
              "      <td>0.000000</td>\n",
              "    </tr>\n",
              "    <tr>\n",
              "      <th>75%</th>\n",
              "      <td>1.115549e+06</td>\n",
              "      <td>0.000000</td>\n",
              "      <td>3.000000</td>\n",
              "      <td>2.000000</td>\n",
              "      <td>6.000000</td>\n",
              "      <td>1.000000</td>\n",
              "      <td>0.000000</td>\n",
              "      <td>1.000000</td>\n",
              "      <td>1.000000</td>\n",
              "      <td>0.000000</td>\n",
              "      <td>0.000000</td>\n",
              "      <td>0.000000</td>\n",
              "      <td>0.000000</td>\n",
              "      <td>0.000000</td>\n",
              "      <td>0.000000</td>\n",
              "      <td>0.000000</td>\n",
              "      <td>10.000000</td>\n",
              "      <td>1.000000</td>\n",
              "      <td>0.000000</td>\n",
              "      <td>0.000000</td>\n",
              "      <td>0.900000</td>\n",
              "      <td>0.600000</td>\n",
              "      <td>1.000000</td>\n",
              "      <td>11.000000</td>\n",
              "      <td>1.000000</td>\n",
              "      <td>0.000000</td>\n",
              "      <td>0.000000</td>\n",
              "      <td>1.000000</td>\n",
              "      <td>11.000000</td>\n",
              "      <td>1.000000</td>\n",
              "      <td>1.000000</td>\n",
              "      <td>2.000000</td>\n",
              "      <td>1.000000</td>\n",
              "      <td>93.000000</td>\n",
              "      <td>3.000000</td>\n",
              "      <td>0.400000</td>\n",
              "      <td>0.906190</td>\n",
              "      <td>0.396485</td>\n",
              "      <td>3.605551</td>\n",
              "      <td>0.700000</td>\n",
              "      <td>0.700000</td>\n",
              "      <td>0.700000</td>\n",
              "      <td>3.000000</td>\n",
              "      <td>3.000000</td>\n",
              "      <td>9.000000</td>\n",
              "      <td>4.000000</td>\n",
              "      <td>10.000000</td>\n",
              "      <td>3.000000</td>\n",
              "      <td>10.000000</td>\n",
              "      <td>7.000000</td>\n",
              "      <td>2.000000</td>\n",
              "      <td>4.000000</td>\n",
              "      <td>9.000000</td>\n",
              "      <td>0.000000</td>\n",
              "      <td>1.000000</td>\n",
              "      <td>1.000000</td>\n",
              "      <td>1.000000</td>\n",
              "      <td>1.000000</td>\n",
              "      <td>0.000000</td>\n",
              "    </tr>\n",
              "    <tr>\n",
              "      <th>max</th>\n",
              "      <td>1.488027e+06</td>\n",
              "      <td>1.000000</td>\n",
              "      <td>7.000000</td>\n",
              "      <td>4.000000</td>\n",
              "      <td>11.000000</td>\n",
              "      <td>1.000000</td>\n",
              "      <td>6.000000</td>\n",
              "      <td>1.000000</td>\n",
              "      <td>1.000000</td>\n",
              "      <td>1.000000</td>\n",
              "      <td>1.000000</td>\n",
              "      <td>1.000000</td>\n",
              "      <td>1.000000</td>\n",
              "      <td>1.000000</td>\n",
              "      <td>1.000000</td>\n",
              "      <td>4.000000</td>\n",
              "      <td>13.000000</td>\n",
              "      <td>1.000000</td>\n",
              "      <td>1.000000</td>\n",
              "      <td>1.000000</td>\n",
              "      <td>0.900000</td>\n",
              "      <td>1.800000</td>\n",
              "      <td>4.037945</td>\n",
              "      <td>11.000000</td>\n",
              "      <td>1.000000</td>\n",
              "      <td>1.000000</td>\n",
              "      <td>9.000000</td>\n",
              "      <td>1.000000</td>\n",
              "      <td>17.000000</td>\n",
              "      <td>1.000000</td>\n",
              "      <td>1.000000</td>\n",
              "      <td>4.000000</td>\n",
              "      <td>2.000000</td>\n",
              "      <td>104.000000</td>\n",
              "      <td>3.000000</td>\n",
              "      <td>1.264911</td>\n",
              "      <td>3.720626</td>\n",
              "      <td>0.636396</td>\n",
              "      <td>3.741657</td>\n",
              "      <td>0.900000</td>\n",
              "      <td>0.900000</td>\n",
              "      <td>0.900000</td>\n",
              "      <td>5.000000</td>\n",
              "      <td>6.000000</td>\n",
              "      <td>10.000000</td>\n",
              "      <td>9.000000</td>\n",
              "      <td>12.000000</td>\n",
              "      <td>7.000000</td>\n",
              "      <td>25.000000</td>\n",
              "      <td>19.000000</td>\n",
              "      <td>10.000000</td>\n",
              "      <td>13.000000</td>\n",
              "      <td>23.000000</td>\n",
              "      <td>1.000000</td>\n",
              "      <td>1.000000</td>\n",
              "      <td>1.000000</td>\n",
              "      <td>1.000000</td>\n",
              "      <td>1.000000</td>\n",
              "      <td>1.000000</td>\n",
              "    </tr>\n",
              "  </tbody>\n",
              "</table>\n",
              "</div>"
            ],
            "text/plain": [
              "                 id         target  ...  ps_calc_19_bin  ps_calc_20_bin\n",
              "count  5.952120e+05  595212.000000  ...   595212.000000   595212.000000\n",
              "mean   7.438036e+05       0.036448  ...        0.349024        0.153318\n",
              "std    4.293678e+05       0.187401  ...        0.476662        0.360295\n",
              "min    7.000000e+00       0.000000  ...        0.000000        0.000000\n",
              "25%    3.719915e+05       0.000000  ...        0.000000        0.000000\n",
              "50%    7.435475e+05       0.000000  ...        0.000000        0.000000\n",
              "75%    1.115549e+06       0.000000  ...        1.000000        0.000000\n",
              "max    1.488027e+06       1.000000  ...        1.000000        1.000000\n",
              "\n",
              "[8 rows x 59 columns]"
            ]
          },
          "metadata": {
            "tags": []
          },
          "execution_count": 8
        }
      ]
    },
    {
      "cell_type": "code",
      "metadata": {
        "id": "Tf2NGVm79jBA",
        "colab": {
          "base_uri": "https://localhost:8080/",
          "height": 105
        },
        "outputId": "7e6e3a2e-5d4c-4f52-ac9d-e8fe093f6962"
      },
      "source": [
        "train.info(verbose=False)"
      ],
      "execution_count": null,
      "outputs": [
        {
          "output_type": "stream",
          "text": [
            "<class 'pandas.core.frame.DataFrame'>\n",
            "RangeIndex: 595212 entries, 0 to 595211\n",
            "Columns: 59 entries, id to ps_calc_20_bin\n",
            "dtypes: float64(10), int64(49)\n",
            "memory usage: 267.9 MB\n"
          ],
          "name": "stdout"
        }
      ]
    },
    {
      "cell_type": "code",
      "metadata": {
        "id": "slKEfOA6BcOM",
        "colab": {
          "base_uri": "https://localhost:8080/",
          "height": 70
        },
        "outputId": "8cafc3ac-7a6c-46c6-9ea0-1a380ff30e94"
      },
      "source": [
        "train['target'].value_counts()"
      ],
      "execution_count": null,
      "outputs": [
        {
          "output_type": "execute_result",
          "data": {
            "text/plain": [
              "0    573518\n",
              "1     21694\n",
              "Name: target, dtype: int64"
            ]
          },
          "metadata": {
            "tags": []
          },
          "execution_count": 10
        }
      ]
    },
    {
      "cell_type": "code",
      "metadata": {
        "id": "PLu3SzY05V_p",
        "colab": {
          "base_uri": "https://localhost:8080/",
          "height": 248
        },
        "outputId": "dce9c92b-29d1-45d6-b8e8-9533bcc92af0"
      },
      "source": [
        "labels = '1', '0'\n",
        "sizes = [train[train.target==1].shape[0],train[train.target==0].shape[0]]\n",
        "colors = ['yellow', 'gold']\n",
        "explode = (0.15, 0)\n",
        "plt.pie(sizes, explode=explode, labels=labels, colors=colors,autopct='%1.2f%%', shadow=True, startangle=120)\n",
        "plt.show()"
      ],
      "execution_count": null,
      "outputs": [
        {
          "output_type": "display_data",
          "data": {
            "image/png": "[encoded data removed]",
            "text/plain": [
              "<Figure size 432x288 with 1 Axes>"
            ]
          },
          "metadata": {
            "tags": []
          }
        }
      ]
    },
    {
      "cell_type": "code",
      "metadata": {
        "id": "K3UWmoPB3Glj",
        "colab": {
          "base_uri": "https://localhost:8080/",
          "height": 300
        },
        "outputId": "f1b72828-98b0-434f-b794-fd8b19fe07ca"
      },
      "source": [
        "long = train.groupby(['target'])['id'].count()\n",
        "sns.barplot(x=long.index,y=long.values)"
      ],
      "execution_count": null,
      "outputs": [
        {
          "output_type": "execute_result",
          "data": {
            "text/plain": [
              "<matplotlib.axes._subplots.AxesSubplot at 0x7f4bb2fecf28>"
            ]
          },
          "metadata": {
            "tags": []
          },
          "execution_count": 15
        },
        {
          "output_type": "display_data",
          "data": {
            "image/png": "[encoded data removed]",
            "text/plain": [
              "<Figure size 432x288 with 1 Axes>"
            ]
          },
          "metadata": {
            "tags": [],
            "needs_background": "light"
          }
        }
      ]
    },
    {
      "cell_type": "code",
      "metadata": {
        "id": "MkQoLbaK-ZcW",
        "colab": {
          "base_uri": "https://localhost:8080/",
          "height": 1000
        },
        "outputId": "c951591a-e37b-4897-95d8-e094305f68b9"
      },
      "source": [
        "print(train.isnull().sum()) #결측치 확인\n",
        "print(\"결측치 총합 :\",train.isnull().sum().sum()) #결측치 총합"
      ],
      "execution_count": null,
      "outputs": [
        {
          "output_type": "stream",
          "text": [
            "id                0\n",
            "target            0\n",
            "ps_ind_01         0\n",
            "ps_ind_02_cat     0\n",
            "ps_ind_03         0\n",
            "ps_ind_04_cat     0\n",
            "ps_ind_05_cat     0\n",
            "ps_ind_06_bin     0\n",
            "ps_ind_07_bin     0\n",
            "ps_ind_08_bin     0\n",
            "ps_ind_09_bin     0\n",
            "ps_ind_10_bin     0\n",
            "ps_ind_11_bin     0\n",
            "ps_ind_12_bin     0\n",
            "ps_ind_13_bin     0\n",
            "ps_ind_14         0\n",
            "ps_ind_15         0\n",
            "ps_ind_16_bin     0\n",
            "ps_ind_17_bin     0\n",
            "ps_ind_18_bin     0\n",
            "ps_reg_01         0\n",
            "ps_reg_02         0\n",
            "ps_reg_03         0\n",
            "ps_car_01_cat     0\n",
            "ps_car_02_cat     0\n",
            "ps_car_03_cat     0\n",
            "ps_car_04_cat     0\n",
            "ps_car_05_cat     0\n",
            "ps_car_06_cat     0\n",
            "ps_car_07_cat     0\n",
            "ps_car_08_cat     0\n",
            "ps_car_09_cat     0\n",
            "ps_car_10_cat     0\n",
            "ps_car_11_cat     0\n",
            "ps_car_11         0\n",
            "ps_car_12         0\n",
            "ps_car_13         0\n",
            "ps_car_14         0\n",
            "ps_car_15         0\n",
            "ps_calc_01        0\n",
            "ps_calc_02        0\n",
            "ps_calc_03        0\n",
            "ps_calc_04        0\n",
            "ps_calc_05        0\n",
            "ps_calc_06        0\n",
            "ps_calc_07        0\n",
            "ps_calc_08        0\n",
            "ps_calc_09        0\n",
            "ps_calc_10        0\n",
            "ps_calc_11        0\n",
            "ps_calc_12        0\n",
            "ps_calc_13        0\n",
            "ps_calc_14        0\n",
            "ps_calc_15_bin    0\n",
            "ps_calc_16_bin    0\n",
            "ps_calc_17_bin    0\n",
            "ps_calc_18_bin    0\n",
            "ps_calc_19_bin    0\n",
            "ps_calc_20_bin    0\n",
            "dtype: int64\n",
            "결측치 총합 : 0\n"
          ],
          "name": "stdout"
        }
      ]
    },
    {
      "cell_type": "code",
      "metadata": {
        "id": "XvLoNSZR-inx"
      },
      "source": [
        "#컬럼이름 앞에 : ind, reg, car, calc\n",
        "#컬럼이름 뒤에 : _bin(binary Features), _cat(Categorical Features), 붙어있지않은것\n",
        "# -1은 missing value 누락값을 의미한다. (missing value = mv)"
      ],
      "execution_count": null,
      "outputs": []
    },
    {
      "cell_type": "code",
      "metadata": {
        "id": "j3vCj8-qeibD",
        "colab": {
          "base_uri": "https://localhost:8080/",
          "height": 122
        },
        "outputId": "112a8dfc-0d55-4019-f49c-1abc5a3aff47"
      },
      "source": [
        "train.columns[train.columns.str.contains(\"ind\")]"
      ],
      "execution_count": null,
      "outputs": [
        {
          "output_type": "execute_result",
          "data": {
            "text/plain": [
              "Index(['ps_ind_01', 'ps_ind_02_cat', 'ps_ind_03', 'ps_ind_04_cat',\n",
              "       'ps_ind_05_cat', 'ps_ind_06_bin', 'ps_ind_07_bin', 'ps_ind_08_bin',\n",
              "       'ps_ind_09_bin', 'ps_ind_10_bin', 'ps_ind_11_bin', 'ps_ind_12_bin',\n",
              "       'ps_ind_13_bin', 'ps_ind_14', 'ps_ind_15', 'ps_ind_16_bin',\n",
              "       'ps_ind_17_bin', 'ps_ind_18_bin'],\n",
              "      dtype='object')"
            ]
          },
          "metadata": {
            "tags": []
          },
          "execution_count": 14
        }
      ]
    },
    {
      "cell_type": "code",
      "metadata": {
        "id": "lkZ7MosEgoUx",
        "colab": {
          "base_uri": "https://localhost:8080/",
          "height": 34
        },
        "outputId": "a4cc9426-1eb7-49e2-d3a5-7336b6317967"
      },
      "source": [
        "train.columns[train.columns.str.contains(\"reg\")]"
      ],
      "execution_count": null,
      "outputs": [
        {
          "output_type": "execute_result",
          "data": {
            "text/plain": [
              "Index(['ps_reg_01', 'ps_reg_02', 'ps_reg_03'], dtype='object')"
            ]
          },
          "metadata": {
            "tags": []
          },
          "execution_count": 15
        }
      ]
    },
    {
      "cell_type": "code",
      "metadata": {
        "id": "qKGxAbIdlslh",
        "colab": {
          "base_uri": "https://localhost:8080/",
          "height": 105
        },
        "outputId": "361fecb1-d912-46a6-d442-ebaab59da449"
      },
      "source": [
        "train.columns[train.columns.str.contains(\"car\")]"
      ],
      "execution_count": null,
      "outputs": [
        {
          "output_type": "execute_result",
          "data": {
            "text/plain": [
              "Index(['ps_car_01_cat', 'ps_car_02_cat', 'ps_car_03_cat', 'ps_car_04_cat',\n",
              "       'ps_car_05_cat', 'ps_car_06_cat', 'ps_car_07_cat', 'ps_car_08_cat',\n",
              "       'ps_car_09_cat', 'ps_car_10_cat', 'ps_car_11_cat', 'ps_car_11',\n",
              "       'ps_car_12', 'ps_car_13', 'ps_car_14', 'ps_car_15'],\n",
              "      dtype='object')"
            ]
          },
          "metadata": {
            "tags": []
          },
          "execution_count": 16
        }
      ]
    },
    {
      "cell_type": "code",
      "metadata": {
        "id": "FHd9aOuwltzT",
        "colab": {
          "base_uri": "https://localhost:8080/",
          "height": 122
        },
        "outputId": "da93e93b-b466-48f1-93f6-7b4ba05b4189"
      },
      "source": [
        "train.columns[train.columns.str.contains(\"calc\")]"
      ],
      "execution_count": null,
      "outputs": [
        {
          "output_type": "execute_result",
          "data": {
            "text/plain": [
              "Index(['ps_calc_01', 'ps_calc_02', 'ps_calc_03', 'ps_calc_04', 'ps_calc_05',\n",
              "       'ps_calc_06', 'ps_calc_07', 'ps_calc_08', 'ps_calc_09', 'ps_calc_10',\n",
              "       'ps_calc_11', 'ps_calc_12', 'ps_calc_13', 'ps_calc_14',\n",
              "       'ps_calc_15_bin', 'ps_calc_16_bin', 'ps_calc_17_bin', 'ps_calc_18_bin',\n",
              "       'ps_calc_19_bin', 'ps_calc_20_bin'],\n",
              "      dtype='object')"
            ]
          },
          "metadata": {
            "tags": []
          },
          "execution_count": 17
        }
      ]
    },
    {
      "cell_type": "code",
      "metadata": {
        "id": "DQqUajVFb-Qf",
        "colab": {
          "base_uri": "https://localhost:8080/",
          "height": 122
        },
        "outputId": "41423f55-9561-45fc-b899-a158cfd639e4"
      },
      "source": [
        "train.columns[train.columns.str.contains(\"_bin\")]"
      ],
      "execution_count": null,
      "outputs": [
        {
          "output_type": "execute_result",
          "data": {
            "text/plain": [
              "Index(['ps_ind_06_bin', 'ps_ind_07_bin', 'ps_ind_08_bin', 'ps_ind_09_bin',\n",
              "       'ps_ind_10_bin', 'ps_ind_11_bin', 'ps_ind_12_bin', 'ps_ind_13_bin',\n",
              "       'ps_ind_16_bin', 'ps_ind_17_bin', 'ps_ind_18_bin', 'ps_calc_15_bin',\n",
              "       'ps_calc_16_bin', 'ps_calc_17_bin', 'ps_calc_18_bin', 'ps_calc_19_bin',\n",
              "       'ps_calc_20_bin'],\n",
              "      dtype='object')"
            ]
          },
          "metadata": {
            "tags": []
          },
          "execution_count": 18
        }
      ]
    },
    {
      "cell_type": "code",
      "metadata": {
        "id": "61ph-ngHb_TB",
        "colab": {
          "base_uri": "https://localhost:8080/",
          "height": 105
        },
        "outputId": "c57ba134-ed6c-4fb5-e14f-07aa9e183c30"
      },
      "source": [
        "train.columns[train.columns.str.contains(\"_cat\")]"
      ],
      "execution_count": null,
      "outputs": [
        {
          "output_type": "execute_result",
          "data": {
            "text/plain": [
              "Index(['ps_ind_02_cat', 'ps_ind_04_cat', 'ps_ind_05_cat', 'ps_car_01_cat',\n",
              "       'ps_car_02_cat', 'ps_car_03_cat', 'ps_car_04_cat', 'ps_car_05_cat',\n",
              "       'ps_car_06_cat', 'ps_car_07_cat', 'ps_car_08_cat', 'ps_car_09_cat',\n",
              "       'ps_car_10_cat', 'ps_car_11_cat'],\n",
              "      dtype='object')"
            ]
          },
          "metadata": {
            "tags": []
          },
          "execution_count": 19
        }
      ]
    },
    {
      "cell_type": "code",
      "metadata": {
        "id": "imY781RqpQ82"
      },
      "source": [
        "# ind는 ind끼리 reg는 reg끼리 car은 car끼리 calc은 calc끼리 시각화를 하기 위해서 나눔\n",
        "list0 = ['ps_ind_01', 'ps_ind_02_cat', 'ps_ind_03', 'ps_ind_04_cat',\n",
        "       'ps_ind_05_cat', 'ps_ind_06_bin', 'ps_ind_07_bin', 'ps_ind_08_bin',\n",
        "       'ps_ind_09_bin', 'ps_ind_10_bin', 'ps_ind_11_bin', 'ps_ind_12_bin',\n",
        "       'ps_ind_13_bin', 'ps_ind_14', 'ps_ind_15', 'ps_ind_16_bin',\n",
        "       'ps_ind_17_bin', 'ps_ind_18_bin']\n",
        "list1 = ['ps_reg_01', 'ps_reg_02', 'ps_reg_03']\n",
        "list2 = ['ps_car_01_cat', 'ps_car_02_cat', 'ps_car_03_cat', 'ps_car_04_cat',\n",
        "       'ps_car_05_cat', 'ps_car_06_cat', 'ps_car_07_cat', 'ps_car_08_cat',\n",
        "       'ps_car_09_cat', 'ps_car_10_cat', 'ps_car_11_cat', 'ps_car_11',\n",
        "       'ps_car_12', 'ps_car_13', 'ps_car_14', 'ps_car_15']\n",
        "list3 = ['ps_calc_01', 'ps_calc_02', 'ps_calc_03', 'ps_calc_04', 'ps_calc_05',\n",
        "       'ps_calc_06', 'ps_calc_07', 'ps_calc_08', 'ps_calc_09', 'ps_calc_10',\n",
        "       'ps_calc_11', 'ps_calc_12', 'ps_calc_13', 'ps_calc_14',\n",
        "       'ps_calc_15_bin', 'ps_calc_16_bin', 'ps_calc_17_bin', 'ps_calc_18_bin',\n",
        "       'ps_calc_19_bin', 'ps_calc_20_bin']"
      ],
      "execution_count": null,
      "outputs": []
    },
    {
      "cell_type": "code",
      "metadata": {
        "id": "VkWgceqAcJQp"
      },
      "source": [
        "# _bin 은 _bin 끼리 _cat 은 _cat 끼리\n",
        "list_bin = ['ps_ind_06_bin', 'ps_ind_07_bin', 'ps_ind_08_bin', 'ps_ind_09_bin',\n",
        "       'ps_ind_10_bin', 'ps_ind_11_bin', 'ps_ind_12_bin', 'ps_ind_13_bin',\n",
        "       'ps_ind_16_bin', 'ps_ind_17_bin', 'ps_ind_18_bin', 'ps_calc_15_bin',\n",
        "       'ps_calc_16_bin', 'ps_calc_17_bin', 'ps_calc_18_bin', 'ps_calc_19_bin',\n",
        "       'ps_calc_20_bin']\n",
        "list_cat = ['ps_ind_02_cat', 'ps_ind_04_cat', 'ps_ind_05_cat', 'ps_car_01_cat',\n",
        "       'ps_car_02_cat', 'ps_car_03_cat', 'ps_car_04_cat', 'ps_car_05_cat',\n",
        "       'ps_car_06_cat', 'ps_car_07_cat', 'ps_car_08_cat', 'ps_car_09_cat',\n",
        "       'ps_car_10_cat', 'ps_car_11_cat']"
      ],
      "execution_count": null,
      "outputs": []
    },
    {
      "cell_type": "code",
      "metadata": {
        "id": "nNCh4aLQbJb6",
        "colab": {
          "base_uri": "https://localhost:8080/",
          "height": 417
        },
        "outputId": "66d9b010-0a49-45e9-c4f5-cc0187d89ead"
      },
      "source": [
        "i = 0\n",
        "for col in list0:\n",
        "    i += 1\n",
        "    fig = plt.figure(1, figsize=(10,10))\n",
        "    ax1 = fig.add_subplot(6, 6, i)    \n",
        "    sns.distplot(train[col], kde=False)        \n",
        "fig.suptitle('ind')\n",
        "fig.tight_layout(rect=[0, 0.02, 1, 0.9])"
      ],
      "execution_count": null,
      "outputs": [
        {
          "output_type": "display_data",
          "data": {
            "image/png": "[encoded data removed]",
            "text/plain": [
              "<Figure size 720x720 with 18 Axes>"
            ]
          },
          "metadata": {
            "tags": [],
            "needs_background": "light"
          }
        }
      ]
    },
    {
      "cell_type": "code",
      "metadata": {
        "id": "mAjZx4sUpmSh",
        "colab": {
          "base_uri": "https://localhost:8080/",
          "height": 309
        },
        "outputId": "b0d195ad-9b1b-4899-dfe7-18cce33d8eb9"
      },
      "source": [
        "i = 0\n",
        "for col in list1:\n",
        "    i += 1\n",
        "    fig = plt.figure(1, figsize=(10,10))\n",
        "    ax1 = fig.add_subplot(3, 3, i)    \n",
        "    sns.distplot(train[col], kde=False)        \n",
        "fig.suptitle('reg')\n",
        "fig.tight_layout(rect=[0, 0.02, 1, 0.9])"
      ],
      "execution_count": null,
      "outputs": [
        {
          "output_type": "display_data",
          "data": {
            "image/png": "[encoded data removed]",
            "text/plain": [
              "<Figure size 720x720 with 3 Axes>"
            ]
          },
          "metadata": {
            "tags": [],
            "needs_background": "light"
          }
        }
      ]
    },
    {
      "cell_type": "code",
      "metadata": {
        "id": "UHWHvtOrpn-D",
        "colab": {
          "base_uri": "https://localhost:8080/",
          "height": 232
        },
        "outputId": "c8c445ec-bd06-4c26-dd92-714760af69a4"
      },
      "source": [
        "i = 0\n",
        "for col in list2:\n",
        "    i += 1\n",
        "    fig = plt.figure(1, figsize=(20,20))\n",
        "    ax1 = fig.add_subplot(9, 9, i)    \n",
        "    sns.distplot(train[col], kde=False)        \n",
        "fig.suptitle('car')\n",
        "fig.tight_layout(rect=[0, 0.02, 1, 0.9])"
      ],
      "execution_count": null,
      "outputs": [
        {
          "output_type": "display_data",
          "data": {
            "image/png": "[encoded data removed]",
            "text/plain": [
              "<Figure size 1440x1440 with 16 Axes>"
            ]
          },
          "metadata": {
            "tags": [],
            "needs_background": "light"
          }
        }
      ]
    },
    {
      "cell_type": "code",
      "metadata": {
        "id": "Z4beE57JporS",
        "colab": {
          "base_uri": "https://localhost:8080/",
          "height": 306
        },
        "outputId": "02035d4a-e72c-47ab-99cd-13e5e6676bde"
      },
      "source": [
        "i = 0\n",
        "for col in list3:\n",
        "    i += 1\n",
        "    fig = plt.figure(1, figsize=(20,20))\n",
        "    ax1 = fig.add_subplot(9, 9, i)    \n",
        "    sns.distplot(train[col], kde=False)\n",
        "fig.suptitle('Calc')\n",
        "fig.tight_layout(rect=[0, 0.02, 1, 0.9])"
      ],
      "execution_count": null,
      "outputs": [
        {
          "output_type": "display_data",
          "data": {
            "image/png": "[encoded data removed]",
            "text/plain": [
              "<Figure size 1440x1440 with 20 Axes>"
            ]
          },
          "metadata": {
            "tags": [],
            "needs_background": "light"
          }
        }
      ]
    },
    {
      "cell_type": "code",
      "metadata": {
        "id": "Sh92gUpjd9fg",
        "colab": {
          "base_uri": "https://localhost:8080/",
          "height": 231
        },
        "outputId": "06638034-7457-45c3-ad2f-4c7113b27c80"
      },
      "source": [
        "i = 0\n",
        "for col in list_bin:\n",
        "    i += 1\n",
        "    fig = plt.figure(1, figsize=(20,20))\n",
        "    ax1 = fig.add_subplot(9, 9, i)    \n",
        "    sns.distplot(train[col], kde=False)\n",
        "fig.suptitle('_bin')\n",
        "fig.tight_layout(rect=[0, 0.02, 1, 0.9])"
      ],
      "execution_count": null,
      "outputs": [
        {
          "output_type": "display_data",
          "data": {
            "image/png": "[encoded data removed]",
            "text/plain": [
              "<Figure size 1440x1440 with 17 Axes>"
            ]
          },
          "metadata": {
            "tags": [],
            "needs_background": "light"
          }
        }
      ]
    },
    {
      "cell_type": "code",
      "metadata": {
        "id": "zgWWJvkwd9PB",
        "colab": {
          "base_uri": "https://localhost:8080/",
          "height": 232
        },
        "outputId": "595b69ea-28ba-4200-ba60-286ae033f7ae"
      },
      "source": [
        "i = 0\n",
        "for col in list_cat:\n",
        "    i += 1\n",
        "    fig = plt.figure(1, figsize=(20,20))\n",
        "    ax1 = fig.add_subplot(9, 9, i)    \n",
        "    sns.distplot(train[col], kde=False)\n",
        "fig.suptitle('_cat')\n",
        "fig.tight_layout(rect=[0, 0.02, 1, 0.9])"
      ],
      "execution_count": null,
      "outputs": [
        {
          "output_type": "display_data",
          "data": {
            "image/png": "[encoded data removed]",
            "text/plain": [
              "<Figure size 1440x1440 with 14 Axes>"
            ]
          },
          "metadata": {
            "tags": [],
            "needs_background": "light"
          }
        }
      ]
    },
    {
      "cell_type": "markdown",
      "metadata": {
        "id": "Kk5RP-GVbdrn"
      },
      "source": [
        "데이터 전처리"
      ]
    },
    {
      "cell_type": "code",
      "metadata": {
        "id": "Zvcec_Relvc-",
        "colab": {
          "base_uri": "https://localhost:8080/",
          "height": 494
        },
        "outputId": "75d31a57-3b33-46ad-b87a-ac5869b9bc0b"
      },
      "source": [
        "corr = train.corr()\n",
        "plt.subplots(figsize=(10,7))\n",
        "cmap = sns.diverging_palette(220, 10, as_cmap=True) # 히트맵 스타일\n",
        "sns.heatmap(corr, cmap=cmap, vmax=.3, center=0,square=True, linewidths=.7, cbar_kws={\"shrink\": .5})\n",
        "plt.show()\n",
        "#히트맵 결과 컬럼이름에 ps_calc이 들어가있는 것들이 상관관계가 0 이다. 따라서 불필요 "
      ],
      "execution_count": null,
      "outputs": [
        {
          "output_type": "display_data",
          "data": {
            "image/png": "[encoded data removed]",
            "text/plain": [
              "<Figure size 720x504 with 2 Axes>"
            ]
          },
          "metadata": {
            "tags": [],
            "needs_background": "light"
          }
        }
      ]
    },
    {
      "cell_type": "code",
      "metadata": {
        "id": "yitXhs3OefsK"
      },
      "source": [
        "# 상관관계가 0인 세세한 부분들을 찾아서 지우기\n",
        "#상관계수가 0인 것들을 따로 replace로 찾아서 대체하기"
      ],
      "execution_count": null,
      "outputs": []
    },
    {
      "cell_type": "code",
      "metadata": {
        "id": "De95PvpXmIor"
      },
      "source": [
        "calc_drop = list(train.columns[train.columns.str.contains(\"calc\")])\n",
        "train = train.drop(calc_drop, axis=1)  \n",
        "test = test.drop(calc_drop, axis=1)"
      ],
      "execution_count": null,
      "outputs": []
    },
    {
      "cell_type": "code",
      "metadata": {
        "id": "v-3KRqProQWg",
        "colab": {
          "base_uri": "https://localhost:8080/",
          "height": 210
        },
        "outputId": "9d966139-26ba-4922-d1cb-396267cf948c"
      },
      "source": [
        "train.columns # 삭제완료"
      ],
      "execution_count": null,
      "outputs": [
        {
          "output_type": "execute_result",
          "data": {
            "text/plain": [
              "Index(['id', 'target', 'ps_ind_01', 'ps_ind_02_cat', 'ps_ind_03',\n",
              "       'ps_ind_04_cat', 'ps_ind_05_cat', 'ps_ind_06_bin', 'ps_ind_07_bin',\n",
              "       'ps_ind_08_bin', 'ps_ind_09_bin', 'ps_ind_10_bin', 'ps_ind_11_bin',\n",
              "       'ps_ind_12_bin', 'ps_ind_13_bin', 'ps_ind_14', 'ps_ind_15',\n",
              "       'ps_ind_16_bin', 'ps_ind_17_bin', 'ps_ind_18_bin', 'ps_reg_01',\n",
              "       'ps_reg_02', 'ps_reg_03', 'ps_car_01_cat', 'ps_car_02_cat',\n",
              "       'ps_car_03_cat', 'ps_car_04_cat', 'ps_car_05_cat', 'ps_car_06_cat',\n",
              "       'ps_car_07_cat', 'ps_car_08_cat', 'ps_car_09_cat', 'ps_car_10_cat',\n",
              "       'ps_car_11_cat', 'ps_car_11', 'ps_car_12', 'ps_car_13', 'ps_car_14',\n",
              "       'ps_car_15'],\n",
              "      dtype='object')"
            ]
          },
          "metadata": {
            "tags": []
          },
          "execution_count": 106
        }
      ]
    },
    {
      "cell_type": "code",
      "metadata": {
        "id": "4mJERa7y2Rgl",
        "colab": {
          "base_uri": "https://localhost:8080/",
          "height": 702
        },
        "outputId": "4430ee2f-08dd-46dd-a845-bc75d17055da"
      },
      "source": [
        "# -1인 mv값들의 개수확인을 해보았다.\n",
        "for n in train.columns:\n",
        "  null = train[train[n] == -1][n].count()\n",
        "  print(n,\":\",null)"
      ],
      "execution_count": null,
      "outputs": [
        {
          "output_type": "stream",
          "text": [
            "id : 0\n",
            "target : 0\n",
            "ps_ind_01 : 0\n",
            "ps_ind_02_cat : 216\n",
            "ps_ind_03 : 0\n",
            "ps_ind_04_cat : 83\n",
            "ps_ind_05_cat : 5809\n",
            "ps_ind_06_bin : 0\n",
            "ps_ind_07_bin : 0\n",
            "ps_ind_08_bin : 0\n",
            "ps_ind_09_bin : 0\n",
            "ps_ind_10_bin : 0\n",
            "ps_ind_11_bin : 0\n",
            "ps_ind_12_bin : 0\n",
            "ps_ind_13_bin : 0\n",
            "ps_ind_14 : 0\n",
            "ps_ind_15 : 0\n",
            "ps_ind_16_bin : 0\n",
            "ps_ind_17_bin : 0\n",
            "ps_ind_18_bin : 0\n",
            "ps_reg_01 : 0\n",
            "ps_reg_02 : 0\n",
            "ps_reg_03 : 107772\n",
            "ps_car_01_cat : 107\n",
            "ps_car_02_cat : 5\n",
            "ps_car_03_cat : 411231\n",
            "ps_car_04_cat : 0\n",
            "ps_car_05_cat : 266551\n",
            "ps_car_06_cat : 0\n",
            "ps_car_07_cat : 11489\n",
            "ps_car_08_cat : 0\n",
            "ps_car_09_cat : 569\n",
            "ps_car_10_cat : 0\n",
            "ps_car_11_cat : 0\n",
            "ps_car_11 : 5\n",
            "ps_car_12 : 1\n",
            "ps_car_13 : 0\n",
            "ps_car_14 : 42620\n",
            "ps_car_15 : 0\n"
          ],
          "name": "stdout"
        }
      ]
    },
    {
      "cell_type": "code",
      "metadata": {
        "id": "Fmf0ycn4oOhD",
        "colab": {
          "base_uri": "https://localhost:8080/",
          "height": 455
        },
        "outputId": "a168b53f-1c53-41c9-a004-92b0c9c5ed10"
      },
      "source": [
        "# missing value 시각화 따라서 ps_car_03_cat,ps_car_05_cat 컬럼의 missing value값이 매우 큰걸 확인\n",
        "i = 0\n",
        "for col in train.columns:\n",
        "    i += 1\n",
        "    fig = plt.figure(1, figsize=(20,20))\n",
        "    ax1 = fig.add_subplot(9, 9, i)    \n",
        "    sns.barplot(train[col]==-1)\n",
        "fig.suptitle('missing value')\n",
        "fig.tight_layout(rect=[0, 0.02, 1, 0.9])"
      ],
      "execution_count": null,
      "outputs": [
        {
          "output_type": "display_data",
          "data": {
            "image/png": "[encoded data removed]",
            "text/plain": [
              "<Figure size 1440x1440 with 39 Axes>"
            ]
          },
          "metadata": {
            "tags": [],
            "needs_background": "light"
          }
        }
      ]
    },
    {
      "cell_type": "code",
      "metadata": {
        "id": "rJkEi48C-f7J"
      },
      "source": [
        "# 결과 ps_car_03_cat,ps_car_05_cat 은 mv값이 너무 많기때문에 삭제처리를 한다.\n",
        "drop_columns = ['ps_car_03_cat', 'ps_car_05_cat']\n",
        "train.drop(drop_columns, inplace=True, axis=1)\n",
        "test.drop(drop_columns, inplace=True, axis=1)"
      ],
      "execution_count": null,
      "outputs": []
    },
    {
      "cell_type": "code",
      "metadata": {
        "id": "R4IN2StDKHrb"
      },
      "source": [
        "# 내일은 여기서 부터  missing value 인 -1을 결측치로 바꾸고 결측치를 각 컬럼의 mean 또는 mode로 값을 채워주기\n",
        "datasum = [train,test]\n",
        "for nan in datasum:\n",
        "  nan.replace(to_replace=-1,value=np.nan)"
      ],
      "execution_count": null,
      "outputs": []
    },
    {
      "cell_type": "markdown",
      "metadata": {
        "id": "ZF5t_axAji2N"
      },
      "source": [
        "필사부분 - Feature Engineering"
      ]
    },
    {
      "cell_type": "code",
      "metadata": {
        "id": "PHSyetwZ7W0c"
      },
      "source": [
        "# 필사부분 (결측치값을 mode[0]로 대체)\n",
        "for i, feature in enumerate(list(train.drop(['id'], axis=1))):\n",
        "    if train[feature].isnull().sum() > 0:\n",
        "        print(train['feature'])\n",
        "        train[feature].fillna(train[feature].mode()[0],inplace=True)\n",
        "\n",
        "for i, feature in enumerate(list(test.drop(['id'], axis=1))):\n",
        "    if test[feature].isnull().sum() > 0:\n",
        "        print(test['feature'])\n",
        "        test[feature].fillna(test[feature].mode()[0],inplace=True)"
      ],
      "execution_count": null,
      "outputs": []
    },
    {
      "cell_type": "code",
      "metadata": {
        "id": "xtD1Nsd37esL",
        "colab": {
          "base_uri": "https://localhost:8080/",
          "height": 34
        },
        "outputId": "7aefd17a-4f64-4dc4-8172-5736915278e8"
      },
      "source": [
        "# 필사부분 (Transform category features to dummies)\n",
        "\n",
        "id_test = test['id'].values\n",
        "y = train['target'].values\n",
        "\n",
        "train = train.drop(['target','id'], axis = 1)\n",
        "test = test.drop(['id'], axis = 1)\n",
        "\n",
        "cat_features = [a for a in train.columns if a.endswith('cat')]\n",
        "\n",
        "for column in cat_features:\n",
        "    temp = pd.get_dummies(pd.Series(train[column]))\n",
        "    train = pd.concat([train,temp],axis=1)\n",
        "    train = train.drop([column],axis=1)\n",
        "    \n",
        "for column in cat_features:\n",
        "    temp = pd.get_dummies(pd.Series(test[column]))\n",
        "    test = pd.concat([test,temp],axis=1)\n",
        "    test = test.drop([column],axis=1)\n",
        "\n",
        "print(train.values.shape, test.values.shape)"
      ],
      "execution_count": null,
      "outputs": [
        {
          "output_type": "stream",
          "text": [
            "(595212, 201) (892816, 201)\n"
          ],
          "name": "stdout"
        }
      ]
    },
    {
      "cell_type": "markdown",
      "metadata": {
        "id": "HIH-h94-jhDZ"
      },
      "source": [
        "Gini coeficient"
      ]
    },
    {
      "cell_type": "code",
      "metadata": {
        "id": "xjQZfG4M9Mh6"
      },
      "source": [
        "# Gini coeficient\n",
        "def eval_gini(y_true, y_prob):\n",
        "    y_true = np.asarray(y_true)\n",
        "    y_true = y_true[np.argsort(y_prob)]\n",
        "    ntrue = 0\n",
        "    gini = 0\n",
        "    delta = 0\n",
        "    n = len(y_true)\n",
        "    for i in range(n-1, -1, -1):\n",
        "        y_i = y_true[i]\n",
        "        ntrue += y_i\n",
        "        gini += y_i * delta\n",
        "        delta += 1 - y_i\n",
        "    gini = 1 - 2 * gini / (ntrue * (n - ntrue))\n",
        "    return gini\n",
        "\n",
        "\n",
        "def gini_xgb(preds, dtrain):\n",
        "    labels = dtrain.get_label()\n",
        "    gini_score = -eval_gini(labels, preds)\n",
        "    return [('gini', gini_score)]\n",
        "\n",
        "def gini_normalized(a, p):\n",
        "    return gini(a, p) / gini(a, a)"
      ],
      "execution_count": null,
      "outputs": []
    },
    {
      "cell_type": "markdown",
      "metadata": {
        "id": "BKONttvVjd3u"
      },
      "source": [
        "Ensembling"
      ]
    },
    {
      "cell_type": "code",
      "metadata": {
        "id": "rUe1htdI9Yjz"
      },
      "source": [
        "# Ensembling\n",
        "from sklearn.model_selection import StratifiedKFold\n",
        "\n",
        "class Create_ensemble(object):\n",
        "    def __init__(self, n_splits, base_models):\n",
        "        self.n_splits = n_splits\n",
        "        self.base_models = base_models\n",
        "\n",
        "    def predict(self, X, y, T):\n",
        "        X = np.array(X)\n",
        "        y = np.array(y)\n",
        "        T = np.array(T)\n",
        "\n",
        "        folds = list(StratifiedKFold(n_splits=self.n_splits, shuffle=True, random_state=random_state).split(X, y))\n",
        "\n",
        "        S_train = np.zeros((X.shape[0], len(self.base_models)))\n",
        "        S_test = np.zeros((T.shape[0], len(self.base_models)))\n",
        "        \n",
        "        for i, clf in enumerate(self.base_models):\n",
        "            S_test_i = np.zeros((T.shape[0], self.n_splits))\n",
        "\n",
        "            for j, (train_idx, valid_idx) in enumerate(folds):\n",
        "                X_train = X[train_idx]\n",
        "                y_train = y[train_idx]\n",
        "                X_valid = X[valid_idx]\n",
        "                y_valid = y[valid_idx]\n",
        "                \n",
        "                clf.fit(X_train, y_train)\n",
        "                valid_pred = clf.predict_proba(X_valid)[:,1]\n",
        "                S_train[valid_idx, i] = valid_pred\n",
        "                S_test_i[:, j] = clf.predict_proba(T)[:,1]\n",
        "            \n",
        "            print( \"\\nTraining Gini for model {} : {}\".format(i, eval_gini(y, S_train[:,i])))\n",
        "            S_test[:, i] = S_test_i.mean(axis=1)\n",
        "            \n",
        "        return S_train, S_test"
      ],
      "execution_count": null,
      "outputs": []
    },
    {
      "cell_type": "markdown",
      "metadata": {
        "id": "x-WHwJSNy7oZ"
      },
      "source": [
        "모델 & 예측하기"
      ]
    },
    {
      "cell_type": "code",
      "metadata": {
        "id": "iSXAG_8O9zAz",
        "colab": {
          "base_uri": "https://localhost:8080/",
          "height": 193
        },
        "outputId": "75270208-a33b-4dd6-c6c8-1a70257476f0"
      },
      "source": [
        "lgb_params = {}\n",
        "lgb_params['learning_rate'] = 0.02\n",
        "lgb_params['n_estimators'] = 700\n",
        "lgb_params['max_bin'] = 15\n",
        "lgb_params['subsample'] = 0.8\n",
        "lgb_params['subsample_freq'] = 10\n",
        "lgb_params['colsample_bytree'] = 0.8   \n",
        "lgb_params['min_child_samples'] = 800\n",
        "lgb_params['random_state'] = random_state\n",
        "lgb_params['scale_pos_weight'] = 3\n",
        "\n",
        "lgb_params2 = {}\n",
        "lgb_params2['learning_rate'] = 0.02\n",
        "lgb_params2['n_estimators'] = 750\n",
        "lgb_params2['max_bin'] = 18\n",
        "lgb_params2['subsample'] = 0.8\n",
        "lgb_params2['subsample_freq'] = 10\n",
        "lgb_params2['colsample_bytree'] = 0.8   \n",
        "lgb_params2['min_child_samples'] = 790\n",
        "lgb_params2['random_state'] = random_state\n",
        "lgb_params2['scale_pos_weight'] = 3\n",
        "\n",
        "lgb_params3 = {\n",
        "    'n_estimators' : 110,\n",
        "    'max_depth' : 4,\n",
        "    'learning_rate' : 0.02,\n",
        "    'seed' : 99\n",
        "}\n",
        "\n",
        "lgb_params4 = {\n",
        "    'learning_rate' : 0.02,\n",
        "    'n_estimators' : 650,\n",
        "    'max_bin' : 10,\n",
        "    'subsample' : 0.8,\n",
        "    'subsample_freq' : 10,\n",
        "    'colsample_bytree' : 0.8,\n",
        "    'min_child_samples' : 500,\n",
        "    'seed' : 99\n",
        "}\n",
        "\n",
        "lgb_params5 = {\n",
        "    'n_estimators' : 1090,\n",
        "    'learning_rate' : 0.02,\n",
        "    'colsample_bytree' : 0.3,\n",
        "    'subsample' : 0.7,\n",
        "    'subsample_freq' : 2,\n",
        "    'num_leaves' : 16,\n",
        "    'seed' : 99\n",
        "}\n",
        "\n",
        "lgb_model1 = LGBMClassifier(**lgb_params)\n",
        "lgb_model2 = LGBMClassifier(**lgb_params2)\n",
        "lgb_model3 = LGBMClassifier(**lgb_params3)\n",
        "lgb_model4 = LGBMClassifier(**lgb_params4)\n",
        "lgb_model5 = LGBMClassifier(**lgb_params5)\n",
        "\n",
        "lgb_stack = Create_ensemble(n_splits = 5, base_models = [lgb_model1, lgb_model2, lgb_model3, lgb_model4, lgb_model5])        \n",
        "X = train\n",
        "Y = y\n",
        "T = test\n",
        "lgb_train_pred, lgb_test_pred = lgb_stack.predict(X, Y, T)"
      ],
      "execution_count": null,
      "outputs": [
        {
          "output_type": "stream",
          "text": [
            "\n",
            "Training Gini for model 0 : 0.2836366995464875\n",
            "\n",
            "Training Gini for model 1 : 0.2826126551063124\n",
            "\n",
            "Training Gini for model 2 : 0.2608737702862003\n",
            "\n",
            "Training Gini for model 3 : 0.2839934744909286\n",
            "\n",
            "Training Gini for model 4 : 0.2835953974928638\n"
          ],
          "name": "stdout"
        }
      ]
    },
    {
      "cell_type": "code",
      "metadata": {
        "id": "5zh471np97DV",
        "colab": {
          "base_uri": "https://localhost:8080/",
          "height": 541
        },
        "outputId": "225c537d-d183-4733-fa1a-1ee6e4965971"
      },
      "source": [
        "import seaborn as sns\n",
        "test_pred_df = pd.DataFrame(data = lgb_test_pred)\n",
        "cor = test_pred_df.corr()\n",
        "plt.figure(figsize=(16,10))\n",
        "sns.heatmap(cor)"
      ],
      "execution_count": null,
      "outputs": [
        {
          "output_type": "execute_result",
          "data": {
            "text/plain": [
              "<matplotlib.axes._subplots.AxesSubplot at 0x7fb937898470>"
            ]
          },
          "metadata": {
            "tags": []
          },
          "execution_count": 127
        },
        {
          "output_type": "display_data",
          "data": {
            "image/png": "[encoded data removed]",
            "text/plain": [
              "<Figure size 1152x720 with 2 Axes>"
            ]
          },
          "metadata": {
            "tags": [],
            "needs_background": "light"
          }
        }
      ]
    },
    {
      "cell_type": "code",
      "metadata": {
        "id": "Ix_YqBZY99Kj"
      },
      "source": [
        "sub = pd.DataFrame()\n",
        "sub['id'] = id_test\n",
        "sub['target'] = lgb_test_pred.mean(axis=1)\n",
        "sub.to_csv('ensemble_my_submission.csv', float_format='%.6f', index=False)"
      ],
      "execution_count": null,
      "outputs": []
    },
    {
      "cell_type": "code",
      "metadata": {
        "id": "g8JtST2SmGOh",
        "colab": {
          "base_uri": "https://localhost:8080/",
          "height": 199
        },
        "outputId": "06cb4fab-2507-4146-b4be-18b37b80db05"
      },
      "source": [
        "sub.head()"
      ],
      "execution_count": null,
      "outputs": [
        {
          "output_type": "execute_result",
          "data": {
            "text/html": [
              "<div>\n",
              "<style scoped>\n",
              "    .dataframe tbody tr th:only-of-type {\n",
              "        vertical-align: middle;\n",
              "    }\n",
              "\n",
              "    .dataframe tbody tr th {\n",
              "        vertical-align: top;\n",
              "    }\n",
              "\n",
              "    .dataframe thead th {\n",
              "        text-align: right;\n",
              "    }\n",
              "</style>\n",
              "<table border=\"1\" class=\"dataframe\">\n",
              "  <thead>\n",
              "    <tr style=\"text-align: right;\">\n",
              "      <th></th>\n",
              "      <th>id</th>\n",
              "      <th>target</th>\n",
              "    </tr>\n",
              "  </thead>\n",
              "  <tbody>\n",
              "    <tr>\n",
              "      <th>0</th>\n",
              "      <td>0</td>\n",
              "      <td>0.050477</td>\n",
              "    </tr>\n",
              "    <tr>\n",
              "      <th>1</th>\n",
              "      <td>1</td>\n",
              "      <td>0.043790</td>\n",
              "    </tr>\n",
              "    <tr>\n",
              "      <th>2</th>\n",
              "      <td>2</td>\n",
              "      <td>0.041701</td>\n",
              "    </tr>\n",
              "    <tr>\n",
              "      <th>3</th>\n",
              "      <td>3</td>\n",
              "      <td>0.026843</td>\n",
              "    </tr>\n",
              "    <tr>\n",
              "      <th>4</th>\n",
              "      <td>4</td>\n",
              "      <td>0.063785</td>\n",
              "    </tr>\n",
              "  </tbody>\n",
              "</table>\n",
              "</div>"
            ],
            "text/plain": [
              "   id    target\n",
              "0   0  0.050477\n",
              "1   1  0.043790\n",
              "2   2  0.041701\n",
              "3   3  0.026843\n",
              "4   4  0.063785"
            ]
          },
          "metadata": {
            "tags": []
          },
          "execution_count": 129
        }
      ]
    },
    {
      "cell_type": "markdown",
      "metadata": {
        "id": "iuYuskh3hpGN"
      },
      "source": [
        "https://www.kaggle.com/c/porto-seguro-safe-driver-prediction/submissions\n"
      ]
    }
  ]
}