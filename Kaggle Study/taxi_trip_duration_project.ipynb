{
  "nbformat": 4,
  "nbformat_minor": 0,
  "metadata": {
    "colab": {
      "name": "taxi_trip_duration_project",
      "provenance": [],
      "collapsed_sections": []
    },
    "kernelspec": {
      "name": "python3",
      "display_name": "Python 3"
    },
    "accelerator": "GPU"
  },
  "cells": [
    {
      "cell_type": "markdown",
      "metadata": {
        "id": "hrq83OhfjzSC"
      },
      "source": [
        "이 대회에서 Kaggle은 뉴욕시에서 택시 여행의 총 승차 시간을 예측하는 모델을 구축하는 데 도전하고 있습니다. 기본 데이터 세트는 픽업 시간, 지리적 좌표, 승객 수 및 기타 여러 변수를 포함하는 NYC Taxi and Limousine Commission에서 발표 한 것입니다."
      ]
    },
    {
      "cell_type": "markdown",
      "metadata": {
        "id": "MvTFPiJdLz9j"
      },
      "source": [
        "ID - 각 여행에 대한 고유 식별자\n",
        "\n",
        "vendor_id - 여행 레코드와 연결된 공급자를 나타내는 코드\n",
        "pickup_datetime - 미터가 종사한 날짜 및 시간\n",
        "\n",
        "dropoff_datetime - 미터가 분리된 날짜 및 시간\n",
        "\n",
        "passenger_count - 차량의 승객 수 (운전자가 값을 입력)\n",
        "\n",
        "pickup_longitude - 미터가 종사하는 경도\n",
        "\n",
        "pickup_latitude - 미터가 종사하는 위도\n",
        "\n",
        "dropoff_longitude - 미터가 분리 된 경도\n",
        "\n",
        "dropoff_latitude - 미터가 분리 된 위도\n",
        "\n",
        "store_and_fwd_flag - 이 플래그는 차량이 서버에 연결되지 않았기 때문에 공급업체에 보내기 전에 여행 기록이 차량 메모리에 보관되었는지 여부를 나타냅니다- Y=저장소 및 앞으로; N=하지 상점 및 앞으로 여행\n",
        "\n",
        "trip_duration - 초 여행의 기간"
      ]
    },
    {
      "cell_type": "code",
      "metadata": {
        "id": "-VqJNEdqJ46Y",
        "colab": {
          "base_uri": "https://localhost:8080/",
          "height": 72
        },
        "outputId": "bab03c58-ef60-4d94-8053-7082ddb07051"
      },
      "source": [
        "import numpy as np\n",
        "import pandas as pd\n",
        "import seaborn as sns\n",
        "import matplotlib.pyplot as plt\n",
        "%matplotlib inline"
      ],
      "execution_count": null,
      "outputs": [
        {
          "output_type": "stream",
          "text": [
            "/usr/local/lib/python3.6/dist-packages/statsmodels/tools/_testing.py:19: FutureWarning: pandas.util.testing is deprecated. Use the functions in the public API at pandas.testing instead.\n",
            "  import pandas.util.testing as tm\n"
          ],
          "name": "stderr"
        }
      ]
    },
    {
      "cell_type": "code",
      "metadata": {
        "id": "fitGthQyRPK2"
      },
      "source": [
        "train = pd.read_csv('train.csv')\n",
        "test = pd.read_csv('test.csv')\n",
        "submission = pd.read_csv('sample_submission.csv')"
      ],
      "execution_count": null,
      "outputs": []
    },
    {
      "cell_type": "code",
      "metadata": {
        "id": "e2wtnmmGRX6a",
        "colab": {
          "base_uri": "https://localhost:8080/",
          "height": 304
        },
        "outputId": "92fe4ef8-ff1e-4ccd-d023-47ad9d455399"
      },
      "source": [
        "train.head()"
      ],
      "execution_count": null,
      "outputs": [
        {
          "output_type": "execute_result",
          "data": {
            "text/html": [
              "<div>\n",
              "<style scoped>\n",
              "    .dataframe tbody tr th:only-of-type {\n",
              "        vertical-align: middle;\n",
              "    }\n",
              "\n",
              "    .dataframe tbody tr th {\n",
              "        vertical-align: top;\n",
              "    }\n",
              "\n",
              "    .dataframe thead th {\n",
              "        text-align: right;\n",
              "    }\n",
              "</style>\n",
              "<table border=\"1\" class=\"dataframe\">\n",
              "  <thead>\n",
              "    <tr style=\"text-align: right;\">\n",
              "      <th></th>\n",
              "      <th>id</th>\n",
              "      <th>vendor_id</th>\n",
              "      <th>pickup_datetime</th>\n",
              "      <th>dropoff_datetime</th>\n",
              "      <th>passenger_count</th>\n",
              "      <th>pickup_longitude</th>\n",
              "      <th>pickup_latitude</th>\n",
              "      <th>dropoff_longitude</th>\n",
              "      <th>dropoff_latitude</th>\n",
              "      <th>store_and_fwd_flag</th>\n",
              "      <th>trip_duration</th>\n",
              "    </tr>\n",
              "  </thead>\n",
              "  <tbody>\n",
              "    <tr>\n",
              "      <th>0</th>\n",
              "      <td>id2875421</td>\n",
              "      <td>2</td>\n",
              "      <td>2016-03-14 17:24:55</td>\n",
              "      <td>2016-03-14 17:32:30</td>\n",
              "      <td>1</td>\n",
              "      <td>-73.982155</td>\n",
              "      <td>40.767937</td>\n",
              "      <td>-73.964630</td>\n",
              "      <td>40.765602</td>\n",
              "      <td>N</td>\n",
              "      <td>455</td>\n",
              "    </tr>\n",
              "    <tr>\n",
              "      <th>1</th>\n",
              "      <td>id2377394</td>\n",
              "      <td>1</td>\n",
              "      <td>2016-06-12 00:43:35</td>\n",
              "      <td>2016-06-12 00:54:38</td>\n",
              "      <td>1</td>\n",
              "      <td>-73.980415</td>\n",
              "      <td>40.738564</td>\n",
              "      <td>-73.999481</td>\n",
              "      <td>40.731152</td>\n",
              "      <td>N</td>\n",
              "      <td>663</td>\n",
              "    </tr>\n",
              "    <tr>\n",
              "      <th>2</th>\n",
              "      <td>id3858529</td>\n",
              "      <td>2</td>\n",
              "      <td>2016-01-19 11:35:24</td>\n",
              "      <td>2016-01-19 12:10:48</td>\n",
              "      <td>1</td>\n",
              "      <td>-73.979027</td>\n",
              "      <td>40.763939</td>\n",
              "      <td>-74.005333</td>\n",
              "      <td>40.710087</td>\n",
              "      <td>N</td>\n",
              "      <td>2124</td>\n",
              "    </tr>\n",
              "    <tr>\n",
              "      <th>3</th>\n",
              "      <td>id3504673</td>\n",
              "      <td>2</td>\n",
              "      <td>2016-04-06 19:32:31</td>\n",
              "      <td>2016-04-06 19:39:40</td>\n",
              "      <td>1</td>\n",
              "      <td>-74.010040</td>\n",
              "      <td>40.719971</td>\n",
              "      <td>-74.012268</td>\n",
              "      <td>40.706718</td>\n",
              "      <td>N</td>\n",
              "      <td>429</td>\n",
              "    </tr>\n",
              "    <tr>\n",
              "      <th>4</th>\n",
              "      <td>id2181028</td>\n",
              "      <td>2</td>\n",
              "      <td>2016-03-26 13:30:55</td>\n",
              "      <td>2016-03-26 13:38:10</td>\n",
              "      <td>1</td>\n",
              "      <td>-73.973053</td>\n",
              "      <td>40.793209</td>\n",
              "      <td>-73.972923</td>\n",
              "      <td>40.782520</td>\n",
              "      <td>N</td>\n",
              "      <td>435</td>\n",
              "    </tr>\n",
              "  </tbody>\n",
              "</table>\n",
              "</div>"
            ],
            "text/plain": [
              "          id  vendor_id  ... store_and_fwd_flag trip_duration\n",
              "0  id2875421          2  ...                  N           455\n",
              "1  id2377394          1  ...                  N           663\n",
              "2  id3858529          2  ...                  N          2124\n",
              "3  id3504673          2  ...                  N           429\n",
              "4  id2181028          2  ...                  N           435\n",
              "\n",
              "[5 rows x 11 columns]"
            ]
          },
          "metadata": {
            "tags": []
          },
          "execution_count": 3
        }
      ]
    },
    {
      "cell_type": "code",
      "metadata": {
        "id": "inA76FkHRlIa",
        "colab": {
          "base_uri": "https://localhost:8080/",
          "height": 304
        },
        "outputId": "68d4e183-d6ea-46b1-d756-3d7e0ce888de"
      },
      "source": [
        "test.head()"
      ],
      "execution_count": null,
      "outputs": [
        {
          "output_type": "execute_result",
          "data": {
            "text/html": [
              "<div>\n",
              "<style scoped>\n",
              "    .dataframe tbody tr th:only-of-type {\n",
              "        vertical-align: middle;\n",
              "    }\n",
              "\n",
              "    .dataframe tbody tr th {\n",
              "        vertical-align: top;\n",
              "    }\n",
              "\n",
              "    .dataframe thead th {\n",
              "        text-align: right;\n",
              "    }\n",
              "</style>\n",
              "<table border=\"1\" class=\"dataframe\">\n",
              "  <thead>\n",
              "    <tr style=\"text-align: right;\">\n",
              "      <th></th>\n",
              "      <th>id</th>\n",
              "      <th>vendor_id</th>\n",
              "      <th>pickup_datetime</th>\n",
              "      <th>passenger_count</th>\n",
              "      <th>pickup_longitude</th>\n",
              "      <th>pickup_latitude</th>\n",
              "      <th>dropoff_longitude</th>\n",
              "      <th>dropoff_latitude</th>\n",
              "      <th>store_and_fwd_flag</th>\n",
              "    </tr>\n",
              "  </thead>\n",
              "  <tbody>\n",
              "    <tr>\n",
              "      <th>0</th>\n",
              "      <td>id3004672</td>\n",
              "      <td>1</td>\n",
              "      <td>2016-06-30 23:59:58</td>\n",
              "      <td>1</td>\n",
              "      <td>-73.988129</td>\n",
              "      <td>40.732029</td>\n",
              "      <td>-73.990173</td>\n",
              "      <td>40.756680</td>\n",
              "      <td>N</td>\n",
              "    </tr>\n",
              "    <tr>\n",
              "      <th>1</th>\n",
              "      <td>id3505355</td>\n",
              "      <td>1</td>\n",
              "      <td>2016-06-30 23:59:53</td>\n",
              "      <td>1</td>\n",
              "      <td>-73.964203</td>\n",
              "      <td>40.679993</td>\n",
              "      <td>-73.959808</td>\n",
              "      <td>40.655403</td>\n",
              "      <td>N</td>\n",
              "    </tr>\n",
              "    <tr>\n",
              "      <th>2</th>\n",
              "      <td>id1217141</td>\n",
              "      <td>1</td>\n",
              "      <td>2016-06-30 23:59:47</td>\n",
              "      <td>1</td>\n",
              "      <td>-73.997437</td>\n",
              "      <td>40.737583</td>\n",
              "      <td>-73.986160</td>\n",
              "      <td>40.729523</td>\n",
              "      <td>N</td>\n",
              "    </tr>\n",
              "    <tr>\n",
              "      <th>3</th>\n",
              "      <td>id2150126</td>\n",
              "      <td>2</td>\n",
              "      <td>2016-06-30 23:59:41</td>\n",
              "      <td>1</td>\n",
              "      <td>-73.956070</td>\n",
              "      <td>40.771900</td>\n",
              "      <td>-73.986427</td>\n",
              "      <td>40.730469</td>\n",
              "      <td>N</td>\n",
              "    </tr>\n",
              "    <tr>\n",
              "      <th>4</th>\n",
              "      <td>id1598245</td>\n",
              "      <td>1</td>\n",
              "      <td>2016-06-30 23:59:33</td>\n",
              "      <td>1</td>\n",
              "      <td>-73.970215</td>\n",
              "      <td>40.761475</td>\n",
              "      <td>-73.961510</td>\n",
              "      <td>40.755890</td>\n",
              "      <td>N</td>\n",
              "    </tr>\n",
              "  </tbody>\n",
              "</table>\n",
              "</div>"
            ],
            "text/plain": [
              "          id  vendor_id  ... dropoff_latitude  store_and_fwd_flag\n",
              "0  id3004672          1  ...        40.756680                   N\n",
              "1  id3505355          1  ...        40.655403                   N\n",
              "2  id1217141          1  ...        40.729523                   N\n",
              "3  id2150126          2  ...        40.730469                   N\n",
              "4  id1598245          1  ...        40.755890                   N\n",
              "\n",
              "[5 rows x 9 columns]"
            ]
          },
          "metadata": {
            "tags": []
          },
          "execution_count": 4
        }
      ]
    },
    {
      "cell_type": "code",
      "metadata": {
        "id": "Rz4tqeMgSa_L",
        "colab": {
          "base_uri": "https://localhost:8080/",
          "height": 199
        },
        "outputId": "fdb5ecbf-6cf9-4004-81d6-e53ab3073bf7"
      },
      "source": [
        "submission.head()"
      ],
      "execution_count": null,
      "outputs": [
        {
          "output_type": "execute_result",
          "data": {
            "text/html": [
              "<div>\n",
              "<style scoped>\n",
              "    .dataframe tbody tr th:only-of-type {\n",
              "        vertical-align: middle;\n",
              "    }\n",
              "\n",
              "    .dataframe tbody tr th {\n",
              "        vertical-align: top;\n",
              "    }\n",
              "\n",
              "    .dataframe thead th {\n",
              "        text-align: right;\n",
              "    }\n",
              "</style>\n",
              "<table border=\"1\" class=\"dataframe\">\n",
              "  <thead>\n",
              "    <tr style=\"text-align: right;\">\n",
              "      <th></th>\n",
              "      <th>id</th>\n",
              "      <th>trip_duration</th>\n",
              "    </tr>\n",
              "  </thead>\n",
              "  <tbody>\n",
              "    <tr>\n",
              "      <th>0</th>\n",
              "      <td>id3004672</td>\n",
              "      <td>959</td>\n",
              "    </tr>\n",
              "    <tr>\n",
              "      <th>1</th>\n",
              "      <td>id3505355</td>\n",
              "      <td>959</td>\n",
              "    </tr>\n",
              "    <tr>\n",
              "      <th>2</th>\n",
              "      <td>id1217141</td>\n",
              "      <td>959</td>\n",
              "    </tr>\n",
              "    <tr>\n",
              "      <th>3</th>\n",
              "      <td>id2150126</td>\n",
              "      <td>959</td>\n",
              "    </tr>\n",
              "    <tr>\n",
              "      <th>4</th>\n",
              "      <td>id1598245</td>\n",
              "      <td>959</td>\n",
              "    </tr>\n",
              "  </tbody>\n",
              "</table>\n",
              "</div>"
            ],
            "text/plain": [
              "          id  trip_duration\n",
              "0  id3004672            959\n",
              "1  id3505355            959\n",
              "2  id1217141            959\n",
              "3  id2150126            959\n",
              "4  id1598245            959"
            ]
          },
          "metadata": {
            "tags": []
          },
          "execution_count": 5
        }
      ]
    },
    {
      "cell_type": "code",
      "metadata": {
        "id": "ar6l2Yb1SdIz",
        "colab": {
          "base_uri": "https://localhost:8080/",
          "height": 193
        },
        "outputId": "6998e26d-cc39-4bc7-84fa-6d3fcd2ada78"
      },
      "source": [
        "print(train.columns)\n",
        "print('='*70)\n",
        "print(test.columns)"
      ],
      "execution_count": null,
      "outputs": [
        {
          "output_type": "stream",
          "text": [
            "Index(['id', 'vendor_id', 'pickup_datetime', 'dropoff_datetime',\n",
            "       'passenger_count', 'pickup_longitude', 'pickup_latitude',\n",
            "       'dropoff_longitude', 'dropoff_latitude', 'store_and_fwd_flag',\n",
            "       'trip_duration'],\n",
            "      dtype='object')\n",
            "======================================================================\n",
            "Index(['id', 'vendor_id', 'pickup_datetime', 'passenger_count',\n",
            "       'pickup_longitude', 'pickup_latitude', 'dropoff_longitude',\n",
            "       'dropoff_latitude', 'store_and_fwd_flag'],\n",
            "      dtype='object')\n"
          ],
          "name": "stdout"
        }
      ]
    },
    {
      "cell_type": "code",
      "metadata": {
        "id": "xDbOnaOLTCNY",
        "colab": {
          "base_uri": "https://localhost:8080/",
          "height": 105
        },
        "outputId": "8e5960c6-5cd5-4de3-fab9-02506aad2d9b"
      },
      "source": [
        "train.info(verbose = False)"
      ],
      "execution_count": null,
      "outputs": [
        {
          "output_type": "stream",
          "text": [
            "<class 'pandas.core.frame.DataFrame'>\n",
            "RangeIndex: 1458644 entries, 0 to 1458643\n",
            "Columns: 11 entries, id to trip_duration\n",
            "dtypes: float64(4), int64(3), object(4)\n",
            "memory usage: 122.4+ MB\n"
          ],
          "name": "stdout"
        }
      ]
    },
    {
      "cell_type": "code",
      "metadata": {
        "id": "DwDn3qEnTRXv",
        "colab": {
          "base_uri": "https://localhost:8080/",
          "height": 310
        },
        "outputId": "a3d3c4d2-747a-4993-dc09-d9f23a96cb64"
      },
      "source": [
        "train.describe()"
      ],
      "execution_count": null,
      "outputs": [
        {
          "output_type": "execute_result",
          "data": {
            "text/html": [
              "<div>\n",
              "<style scoped>\n",
              "    .dataframe tbody tr th:only-of-type {\n",
              "        vertical-align: middle;\n",
              "    }\n",
              "\n",
              "    .dataframe tbody tr th {\n",
              "        vertical-align: top;\n",
              "    }\n",
              "\n",
              "    .dataframe thead th {\n",
              "        text-align: right;\n",
              "    }\n",
              "</style>\n",
              "<table border=\"1\" class=\"dataframe\">\n",
              "  <thead>\n",
              "    <tr style=\"text-align: right;\">\n",
              "      <th></th>\n",
              "      <th>vendor_id</th>\n",
              "      <th>passenger_count</th>\n",
              "      <th>pickup_longitude</th>\n",
              "      <th>pickup_latitude</th>\n",
              "      <th>dropoff_longitude</th>\n",
              "      <th>dropoff_latitude</th>\n",
              "      <th>trip_duration</th>\n",
              "    </tr>\n",
              "  </thead>\n",
              "  <tbody>\n",
              "    <tr>\n",
              "      <th>count</th>\n",
              "      <td>1.458644e+06</td>\n",
              "      <td>1.458644e+06</td>\n",
              "      <td>1.458644e+06</td>\n",
              "      <td>1.458644e+06</td>\n",
              "      <td>1.458644e+06</td>\n",
              "      <td>1.458644e+06</td>\n",
              "      <td>1.458644e+06</td>\n",
              "    </tr>\n",
              "    <tr>\n",
              "      <th>mean</th>\n",
              "      <td>1.534950e+00</td>\n",
              "      <td>1.664530e+00</td>\n",
              "      <td>-7.397349e+01</td>\n",
              "      <td>4.075092e+01</td>\n",
              "      <td>-7.397342e+01</td>\n",
              "      <td>4.075180e+01</td>\n",
              "      <td>9.594923e+02</td>\n",
              "    </tr>\n",
              "    <tr>\n",
              "      <th>std</th>\n",
              "      <td>4.987772e-01</td>\n",
              "      <td>1.314242e+00</td>\n",
              "      <td>7.090186e-02</td>\n",
              "      <td>3.288119e-02</td>\n",
              "      <td>7.064327e-02</td>\n",
              "      <td>3.589056e-02</td>\n",
              "      <td>5.237432e+03</td>\n",
              "    </tr>\n",
              "    <tr>\n",
              "      <th>min</th>\n",
              "      <td>1.000000e+00</td>\n",
              "      <td>0.000000e+00</td>\n",
              "      <td>-1.219333e+02</td>\n",
              "      <td>3.435970e+01</td>\n",
              "      <td>-1.219333e+02</td>\n",
              "      <td>3.218114e+01</td>\n",
              "      <td>1.000000e+00</td>\n",
              "    </tr>\n",
              "    <tr>\n",
              "      <th>25%</th>\n",
              "      <td>1.000000e+00</td>\n",
              "      <td>1.000000e+00</td>\n",
              "      <td>-7.399187e+01</td>\n",
              "      <td>4.073735e+01</td>\n",
              "      <td>-7.399133e+01</td>\n",
              "      <td>4.073588e+01</td>\n",
              "      <td>3.970000e+02</td>\n",
              "    </tr>\n",
              "    <tr>\n",
              "      <th>50%</th>\n",
              "      <td>2.000000e+00</td>\n",
              "      <td>1.000000e+00</td>\n",
              "      <td>-7.398174e+01</td>\n",
              "      <td>4.075410e+01</td>\n",
              "      <td>-7.397975e+01</td>\n",
              "      <td>4.075452e+01</td>\n",
              "      <td>6.620000e+02</td>\n",
              "    </tr>\n",
              "    <tr>\n",
              "      <th>75%</th>\n",
              "      <td>2.000000e+00</td>\n",
              "      <td>2.000000e+00</td>\n",
              "      <td>-7.396733e+01</td>\n",
              "      <td>4.076836e+01</td>\n",
              "      <td>-7.396301e+01</td>\n",
              "      <td>4.076981e+01</td>\n",
              "      <td>1.075000e+03</td>\n",
              "    </tr>\n",
              "    <tr>\n",
              "      <th>max</th>\n",
              "      <td>2.000000e+00</td>\n",
              "      <td>9.000000e+00</td>\n",
              "      <td>-6.133553e+01</td>\n",
              "      <td>5.188108e+01</td>\n",
              "      <td>-6.133553e+01</td>\n",
              "      <td>4.392103e+01</td>\n",
              "      <td>3.526282e+06</td>\n",
              "    </tr>\n",
              "  </tbody>\n",
              "</table>\n",
              "</div>"
            ],
            "text/plain": [
              "          vendor_id  passenger_count  ...  dropoff_latitude  trip_duration\n",
              "count  1.458644e+06     1.458644e+06  ...      1.458644e+06   1.458644e+06\n",
              "mean   1.534950e+00     1.664530e+00  ...      4.075180e+01   9.594923e+02\n",
              "std    4.987772e-01     1.314242e+00  ...      3.589056e-02   5.237432e+03\n",
              "min    1.000000e+00     0.000000e+00  ...      3.218114e+01   1.000000e+00\n",
              "25%    1.000000e+00     1.000000e+00  ...      4.073588e+01   3.970000e+02\n",
              "50%    2.000000e+00     1.000000e+00  ...      4.075452e+01   6.620000e+02\n",
              "75%    2.000000e+00     2.000000e+00  ...      4.076981e+01   1.075000e+03\n",
              "max    2.000000e+00     9.000000e+00  ...      4.392103e+01   3.526282e+06\n",
              "\n",
              "[8 rows x 7 columns]"
            ]
          },
          "metadata": {
            "tags": []
          },
          "execution_count": 8
        }
      ]
    },
    {
      "cell_type": "code",
      "metadata": {
        "id": "CKxVyUJtUfsX",
        "colab": {
          "base_uri": "https://localhost:8080/",
          "height": 52
        },
        "outputId": "56b66e3d-7cd0-4b5b-cbc4-0c9b0c6f43b6"
      },
      "source": [
        "print(train.shape)\n",
        "print(test.shape)"
      ],
      "execution_count": null,
      "outputs": [
        {
          "output_type": "stream",
          "text": [
            "(1458644, 11)\n",
            "(625134, 9)\n"
          ],
          "name": "stdout"
        }
      ]
    },
    {
      "cell_type": "code",
      "metadata": {
        "id": "N5K1AWx1UR-i",
        "colab": {
          "base_uri": "https://localhost:8080/",
          "height": 228
        },
        "outputId": "6f026dd3-08ba-4c17-d0c4-f24a1114c760"
      },
      "source": [
        "train['trip_duration'].value_counts() #"
      ],
      "execution_count": null,
      "outputs": [
        {
          "output_type": "execute_result",
          "data": {
            "text/plain": [
              "368      1624\n",
              "408      1584\n",
              "348      1582\n",
              "367      1581\n",
              "358      1577\n",
              "         ... \n",
              "85305       1\n",
              "83256       1\n",
              "83884       1\n",
              "6419        1\n",
              "8522        1\n",
              "Name: trip_duration, Length: 7417, dtype: int64"
            ]
          },
          "metadata": {
            "tags": []
          },
          "execution_count": 10
        }
      ]
    },
    {
      "cell_type": "code",
      "metadata": {
        "id": "3nftG1fFeSQL",
        "colab": {
          "base_uri": "https://localhost:8080/",
          "height": 245
        },
        "outputId": "b2306ed5-72dc-47ba-da80-5a4816b41937"
      },
      "source": [
        "print(train.isnull().sum())\n",
        "print(train.isnull().sum().sum())"
      ],
      "execution_count": null,
      "outputs": [
        {
          "output_type": "stream",
          "text": [
            "id                    0\n",
            "vendor_id             0\n",
            "pickup_datetime       0\n",
            "dropoff_datetime      0\n",
            "passenger_count       0\n",
            "pickup_longitude      0\n",
            "pickup_latitude       0\n",
            "dropoff_longitude     0\n",
            "dropoff_latitude      0\n",
            "store_and_fwd_flag    0\n",
            "trip_duration         0\n",
            "dtype: int64\n",
            "0\n"
          ],
          "name": "stdout"
        }
      ]
    },
    {
      "cell_type": "code",
      "metadata": {
        "id": "J4LoOG0xVLnq",
        "colab": {
          "base_uri": "https://localhost:8080/",
          "height": 401
        },
        "outputId": "7fa69e8f-2ad2-48ca-fc8b-f3119b5a9f33"
      },
      "source": [
        "plt.subplots(figsize=(30,15))\n",
        "long = train.groupby(['trip_duration'])['id'].count()\n",
        "sns.barplot(x=long.index,y=long.values)"
      ],
      "execution_count": null,
      "outputs": [
        {
          "output_type": "execute_result",
          "data": {
            "text/plain": [
              "<matplotlib.axes._subplots.AxesSubplot at 0x7fb96d299908>"
            ]
          },
          "metadata": {
            "tags": []
          },
          "execution_count": 12
        },
        {
          "output_type": "display_data",
          "data": {
            "image/png": "[encoded data removed]",
            "text/plain": [
              "<Figure size 2160x1080 with 1 Axes>"
            ]
          },
          "metadata": {
            "tags": [],
            "needs_background": "light"
          }
        }
      ]
    },
    {
      "cell_type": "code",
      "metadata": {
        "id": "nbGVjl-DkXQC",
        "colab": {
          "base_uri": "https://localhost:8080/",
          "height": 444
        },
        "outputId": "2710b4b2-8cab-47ca-bd54-998d37a3d775"
      },
      "source": [
        "plt.figure(figsize=(12,7))\n",
        "long = train['passenger_count'].value_counts()\n",
        "sns.barplot(long.index, long.values)\n",
        "plt.title('passenger count')\n",
        "plt.show()"
      ],
      "execution_count": null,
      "outputs": [
        {
          "output_type": "display_data",
          "data": {
            "image/png": "[encoded data removed]",
            "text/plain": [
              "<Figure size 864x504 with 1 Axes>"
            ]
          },
          "metadata": {
            "tags": [],
            "needs_background": "light"
          }
        }
      ]
    },
    {
      "cell_type": "code",
      "metadata": {
        "id": "IrnMHFcWTmLi",
        "colab": {
          "base_uri": "https://localhost:8080/",
          "height": 283
        },
        "outputId": "60cc4963-d3b5-4942-e278-b84b702800a5"
      },
      "source": [
        "# outlier 이상치 확인\n",
        "plt.subplots(figsize=(18,6))\n",
        "plt.title('outlier')\n",
        "train.boxplot();"
      ],
      "execution_count": null,
      "outputs": [
        {
          "output_type": "display_data",
          "data": {
            "image/png": "[encoded data removed]",
            "text/plain": [
              "<Figure size 1296x432 with 1 Axes>"
            ]
          },
          "metadata": {
            "tags": [],
            "needs_background": "light"
          }
        }
      ]
    },
    {
      "cell_type": "code",
      "metadata": {
        "id": "HgbC-dwCdvxv"
      },
      "source": [
        "# 이상치 찾기 - trip_duration 컬럼만 이상치가 존재한다.\n",
        "# 이상치 공식 - outlier = 1.5 * IQR - 25% outlier = 1.5 * IQR + 75%\n",
        "Q1 = np.percentile(train['trip_duration'],25)\n",
        "Q3 = np.percentile(train['trip_duration'],75)\n",
        "IQR = Q3-Q1\n",
        "outlier1 = 1.5*IQR-Q1\n",
        "outlier2 = 1.5*IQR+Q3"
      ],
      "execution_count": null,
      "outputs": []
    },
    {
      "cell_type": "code",
      "metadata": {
        "id": "OZ8nGOkRfbW6",
        "colab": {
          "base_uri": "https://localhost:8080/",
          "height": 52
        },
        "outputId": "51f369a2-5f42-4dc8-aa5b-2834e9c6c595"
      },
      "source": [
        "print(outlier1) # 작은 이상치\n",
        "print(outlier2) # 큰 이상치"
      ],
      "execution_count": null,
      "outputs": [
        {
          "output_type": "stream",
          "text": [
            "620.0\n",
            "2092.0\n"
          ],
          "name": "stdout"
        }
      ]
    },
    {
      "cell_type": "code",
      "metadata": {
        "id": "ZXGKvTp7UO4y",
        "colab": {
          "base_uri": "https://localhost:8080/",
          "height": 304
        },
        "outputId": "c4ceb155-d971-4c8f-ee83-d06486757261"
      },
      "source": [
        "train = train[(train['trip_duration']<2092)] # 이상치부분은 잘라내고 설정\n",
        "# train = train[(train.trip_duration < 5000)] \n",
        "train.head()"
      ],
      "execution_count": null,
      "outputs": [
        {
          "output_type": "execute_result",
          "data": {
            "text/html": [
              "<div>\n",
              "<style scoped>\n",
              "    .dataframe tbody tr th:only-of-type {\n",
              "        vertical-align: middle;\n",
              "    }\n",
              "\n",
              "    .dataframe tbody tr th {\n",
              "        vertical-align: top;\n",
              "    }\n",
              "\n",
              "    .dataframe thead th {\n",
              "        text-align: right;\n",
              "    }\n",
              "</style>\n",
              "<table border=\"1\" class=\"dataframe\">\n",
              "  <thead>\n",
              "    <tr style=\"text-align: right;\">\n",
              "      <th></th>\n",
              "      <th>id</th>\n",
              "      <th>vendor_id</th>\n",
              "      <th>pickup_datetime</th>\n",
              "      <th>dropoff_datetime</th>\n",
              "      <th>passenger_count</th>\n",
              "      <th>pickup_longitude</th>\n",
              "      <th>pickup_latitude</th>\n",
              "      <th>dropoff_longitude</th>\n",
              "      <th>dropoff_latitude</th>\n",
              "      <th>store_and_fwd_flag</th>\n",
              "      <th>trip_duration</th>\n",
              "    </tr>\n",
              "  </thead>\n",
              "  <tbody>\n",
              "    <tr>\n",
              "      <th>0</th>\n",
              "      <td>id2875421</td>\n",
              "      <td>2</td>\n",
              "      <td>2016-03-14 17:24:55</td>\n",
              "      <td>2016-03-14 17:32:30</td>\n",
              "      <td>1</td>\n",
              "      <td>-73.982155</td>\n",
              "      <td>40.767937</td>\n",
              "      <td>-73.964630</td>\n",
              "      <td>40.765602</td>\n",
              "      <td>N</td>\n",
              "      <td>455</td>\n",
              "    </tr>\n",
              "    <tr>\n",
              "      <th>1</th>\n",
              "      <td>id2377394</td>\n",
              "      <td>1</td>\n",
              "      <td>2016-06-12 00:43:35</td>\n",
              "      <td>2016-06-12 00:54:38</td>\n",
              "      <td>1</td>\n",
              "      <td>-73.980415</td>\n",
              "      <td>40.738564</td>\n",
              "      <td>-73.999481</td>\n",
              "      <td>40.731152</td>\n",
              "      <td>N</td>\n",
              "      <td>663</td>\n",
              "    </tr>\n",
              "    <tr>\n",
              "      <th>2</th>\n",
              "      <td>id3858529</td>\n",
              "      <td>2</td>\n",
              "      <td>2016-01-19 11:35:24</td>\n",
              "      <td>2016-01-19 12:10:48</td>\n",
              "      <td>1</td>\n",
              "      <td>-73.979027</td>\n",
              "      <td>40.763939</td>\n",
              "      <td>-74.005333</td>\n",
              "      <td>40.710087</td>\n",
              "      <td>N</td>\n",
              "      <td>2124</td>\n",
              "    </tr>\n",
              "    <tr>\n",
              "      <th>3</th>\n",
              "      <td>id3504673</td>\n",
              "      <td>2</td>\n",
              "      <td>2016-04-06 19:32:31</td>\n",
              "      <td>2016-04-06 19:39:40</td>\n",
              "      <td>1</td>\n",
              "      <td>-74.010040</td>\n",
              "      <td>40.719971</td>\n",
              "      <td>-74.012268</td>\n",
              "      <td>40.706718</td>\n",
              "      <td>N</td>\n",
              "      <td>429</td>\n",
              "    </tr>\n",
              "    <tr>\n",
              "      <th>4</th>\n",
              "      <td>id2181028</td>\n",
              "      <td>2</td>\n",
              "      <td>2016-03-26 13:30:55</td>\n",
              "      <td>2016-03-26 13:38:10</td>\n",
              "      <td>1</td>\n",
              "      <td>-73.973053</td>\n",
              "      <td>40.793209</td>\n",
              "      <td>-73.972923</td>\n",
              "      <td>40.782520</td>\n",
              "      <td>N</td>\n",
              "      <td>435</td>\n",
              "    </tr>\n",
              "  </tbody>\n",
              "</table>\n",
              "</div>"
            ],
            "text/plain": [
              "          id  vendor_id  ... store_and_fwd_flag trip_duration\n",
              "0  id2875421          2  ...                  N           455\n",
              "1  id2377394          1  ...                  N           663\n",
              "2  id3858529          2  ...                  N          2124\n",
              "3  id3504673          2  ...                  N           429\n",
              "4  id2181028          2  ...                  N           435\n",
              "\n",
              "[5 rows x 11 columns]"
            ]
          },
          "metadata": {
            "tags": []
          },
          "execution_count": 17
        }
      ]
    },
    {
      "cell_type": "code",
      "metadata": {
        "id": "eMSdxiKLhoFB"
      },
      "source": [
        "train[\"pickup_datetime\"] = pd.to_datetime(train.pickup_datetime)\n",
        "test[\"pickup_datetime\"] = pd.to_datetime(test.pickup_datetime)"
      ],
      "execution_count": null,
      "outputs": []
    },
    {
      "cell_type": "code",
      "metadata": {
        "id": "bQi6hijqhruF",
        "colab": {
          "base_uri": "https://localhost:8080/",
          "height": 228
        },
        "outputId": "ec5c2749-b3f3-4390-ca76-04039656d1e4"
      },
      "source": [
        "train['pickup_datetime']"
      ],
      "execution_count": null,
      "outputs": [
        {
          "output_type": "execute_result",
          "data": {
            "text/plain": [
              "0         2016-03-14 17:24:55\n",
              "1         2016-06-12 00:43:35\n",
              "2         2016-01-19 11:35:24\n",
              "3         2016-04-06 19:32:31\n",
              "4         2016-03-26 13:30:55\n",
              "                  ...        \n",
              "1458639   2016-04-08 13:31:04\n",
              "1458640   2016-01-10 07:35:15\n",
              "1458641   2016-04-22 06:57:41\n",
              "1458642   2016-01-05 15:56:26\n",
              "1458643   2016-04-05 14:44:25\n",
              "Name: pickup_datetime, Length: 1454870, dtype: datetime64[ns]"
            ]
          },
          "metadata": {
            "tags": []
          },
          "execution_count": 19
        }
      ]
    },
    {
      "cell_type": "code",
      "metadata": {
        "id": "n4jmRFLnhucw",
        "colab": {
          "base_uri": "https://localhost:8080/",
          "height": 228
        },
        "outputId": "11cd470b-bec5-49ee-ccda-95f0da1565e7"
      },
      "source": [
        "test['pickup_datetime']"
      ],
      "execution_count": null,
      "outputs": [
        {
          "output_type": "execute_result",
          "data": {
            "text/plain": [
              "0        2016-06-30 23:59:58\n",
              "1        2016-06-30 23:59:53\n",
              "2        2016-06-30 23:59:47\n",
              "3        2016-06-30 23:59:41\n",
              "4        2016-06-30 23:59:33\n",
              "                 ...        \n",
              "625129   2016-01-01 00:02:52\n",
              "625130   2016-01-01 00:01:52\n",
              "625131   2016-01-01 00:01:24\n",
              "625132   2016-01-01 00:00:28\n",
              "625133   2016-01-01 00:00:22\n",
              "Name: pickup_datetime, Length: 625134, dtype: datetime64[ns]"
            ]
          },
          "metadata": {
            "tags": []
          },
          "execution_count": 20
        }
      ]
    },
    {
      "cell_type": "code",
      "metadata": {
        "id": "j4cqY-fAhxLx"
      },
      "source": [
        "train['week'] = train.pickup_datetime.dt.week #주\n",
        "train['weekday'] = train.pickup_datetime.dt.weekday #주일\n",
        "train['hour'] = train.pickup_datetime.dt.hour #시간\n",
        "test['week'] = test.pickup_datetime.dt.week\n",
        "test['weekday'] = test.pickup_datetime.dt.weekday\n",
        "test['hour'] = test.pickup_datetime.dt.hour\n",
        "\n",
        "train['month'] = train.pickup_datetime.dt.month #달\n",
        "test['month'] = test.pickup_datetime.dt.month"
      ],
      "execution_count": null,
      "outputs": []
    },
    {
      "cell_type": "code",
      "metadata": {
        "id": "0XLVsTFqrk4S",
        "colab": {
          "base_uri": "https://localhost:8080/",
          "height": 211
        },
        "outputId": "0729bcc3-c4f1-408f-988f-b8be5ad82ec0"
      },
      "source": [
        "'''\n",
        "# 실험용\n",
        "# week,weekday,hour 이외에 다른것 테스트\n",
        "\n",
        "train_ex = train\n",
        "test_ex = test\n",
        "\n",
        "train_ex['time'] = train_ex.pickup_datetime.dt.time\n",
        "#train_ex['second'] = train_ex.pickup_datetime.dt.second\n",
        "#train_ex['minute'] = train_ex.pickup_datetime.dt.minute\n",
        "test_ex['time'] = test_ex.pickup_datetime.dt.time\n",
        "#test_ex['second'] = test_ex.pickup_datetime.dt.second\n",
        "#test_ex['minute'] = test_ex.pickup_datetime.dt.minute\n",
        "train_ex['month'] = train_ex.pickup_datetime.dt.month\n",
        "test_ex['month'] = test_ex.pickup_datetime.dt.month\n",
        "\n",
        "train_ex['quarter '] = train_ex.pickup_datetime.dt.quarter \n",
        "train_ex['weekofyear'] = train_ex.pickup_datetime.dt.weekofyear\n",
        "train_ex['dayofyear'] = train_ex.pickup_datetime.dt.dayofyear\n",
        "test_ex['quarter '] = test_ex.pickup_datetime.dt.quarter \n",
        "test_ex['weekofyear'] = test_ex.pickup_datetime.dt.weekofyear\n",
        "test_ex['dayofyear'] = test_ex.pickup_datetime.dt.dayofyear\n",
        "train_ex['days_in_month'] = train_ex.pickup_datetime.dt.days_in_month\n",
        "test_ex['days_in_month'] = test_ex.pickup_datetime.dt.days_in_month\n",
        "\n",
        "corr = train_ex.corr()\n",
        "plt.subplots(figsize=(20,7))\n",
        "cmap = sns.diverging_palette(220, 10, as_cmap=True) # 히트맵 스타일\n",
        "sns.heatmap(corr, cmap=cmap, vmax=.3, center=0,square=True, linewidths=.7, cbar_kws={\"shrink\": .5})\n",
        "plt.show()\n",
        "'''"
      ],
      "execution_count": null,
      "outputs": [
        {
          "output_type": "execute_result",
          "data": {
            "application/vnd.google.colaboratory.intrinsic+json": {
              "type": "string"
            },
            "text/plain": [
              "'\\n# 실험용\\n# week,weekday,hour 이외에 다른것 테스트\\n\\ntrain_ex = train\\ntest_ex = test\\n\\ntrain_ex[\\'time\\'] = train_ex.pickup_datetime.dt.time\\n#train_ex[\\'second\\'] = train_ex.pickup_datetime.dt.second\\n#train_ex[\\'minute\\'] = train_ex.pickup_datetime.dt.minute\\ntest_ex[\\'time\\'] = test_ex.pickup_datetime.dt.time\\n#test_ex[\\'second\\'] = test_ex.pickup_datetime.dt.second\\n#test_ex[\\'minute\\'] = test_ex.pickup_datetime.dt.minute\\ntrain_ex[\\'month\\'] = train_ex.pickup_datetime.dt.month\\ntest_ex[\\'month\\'] = test_ex.pickup_datetime.dt.month\\n\\ntrain_ex[\\'quarter \\'] = train_ex.pickup_datetime.dt.quarter \\ntrain_ex[\\'weekofyear\\'] = train_ex.pickup_datetime.dt.weekofyear\\ntrain_ex[\\'dayofyear\\'] = train_ex.pickup_datetime.dt.dayofyear\\ntest_ex[\\'quarter \\'] = test_ex.pickup_datetime.dt.quarter \\ntest_ex[\\'weekofyear\\'] = test_ex.pickup_datetime.dt.weekofyear\\ntest_ex[\\'dayofyear\\'] = test_ex.pickup_datetime.dt.dayofyear\\ntrain_ex[\\'days_in_month\\'] = train_ex.pickup_datetime.dt.days_in_month\\ntest_ex[\\'days_in_month\\'] = test_ex.pickup_datetime.dt.days_in_month\\n\\ncorr = train_ex.corr()\\nplt.subplots(figsize=(20,7))\\ncmap = sns.diverging_palette(220, 10, as_cmap=True) # 히트맵 스타일\\nsns.heatmap(corr, cmap=cmap, vmax=.3, center=0,square=True, linewidths=.7, cbar_kws={\"shrink\": .5})\\nplt.show()\\n'"
            ]
          },
          "metadata": {
            "tags": []
          },
          "execution_count": 22
        }
      ]
    },
    {
      "cell_type": "code",
      "metadata": {
        "id": "yWnKNqPFlEAw",
        "colab": {
          "base_uri": "https://localhost:8080/",
          "height": 537
        },
        "outputId": "d232c634-8aaf-4488-ac92-34607e0df199"
      },
      "source": [
        "v1 = plt.figure(figsize=(15,5))\n",
        "sns.countplot(x='week', data=train)\n",
        "plt.show()\n",
        "\n",
        "v2 = plt.figure(figsize=(15,5))\n",
        "sns.countplot(x='week', data=test)\n",
        "plt.show()"
      ],
      "execution_count": null,
      "outputs": [
        {
          "output_type": "display_data",
          "data": {
            "image/png": "[encoded data removed]",
            "text/plain": [
              "<Figure size 1080x360 with 1 Axes>"
            ]
          },
          "metadata": {
            "tags": [],
            "needs_background": "light"
          }
        },
        {
          "output_type": "display_data",
          "data": {
            "image/png": "[encoded data removed]",
            "text/plain": [
              "<Figure size 1080x360 with 1 Axes>"
            ]
          },
          "metadata": {
            "tags": [],
            "needs_background": "light"
          }
        }
      ]
    },
    {
      "cell_type": "code",
      "metadata": {
        "id": "7Zoj-shKl5al",
        "colab": {
          "base_uri": "https://localhost:8080/",
          "height": 534
        },
        "outputId": "341e894b-bd87-4794-f5fb-fa2e8a5682ec"
      },
      "source": [
        "v1 = plt.figure(figsize=(15,5))\n",
        "days = [i for i in range(7)]\n",
        "sns.countplot(x='weekday', data=train)\n",
        "plt.xticks(days, ('Monday', 'Tuesday', 'Wednesday', 'Thursday', 'Friday', 'Saturday', 'Sunday'))\n",
        "plt.show()\n",
        "\n",
        "v2 = plt.figure(figsize=(15,5))\n",
        "days = [i for i in range(7)]\n",
        "sns.countplot(x='weekday', data=test)\n",
        "plt.xticks(days, ('Monday', 'Tuesday', 'Wednesday', 'Thursday', 'Friday', 'Saturday', 'Sunday'))\n",
        "plt.show()"
      ],
      "execution_count": null,
      "outputs": [
        {
          "output_type": "display_data",
          "data": {
            "image/png": "[encoded data removed]",
            "text/plain": [
              "<Figure size 1080x360 with 1 Axes>"
            ]
          },
          "metadata": {
            "tags": [],
            "needs_background": "light"
          }
        },
        {
          "output_type": "display_data",
          "data": {
            "image/png": "[encoded data removed]",
            "text/plain": [
              "<Figure size 1080x360 with 1 Axes>"
            ]
          },
          "metadata": {
            "tags": [],
            "needs_background": "light"
          }
        }
      ]
    },
    {
      "cell_type": "code",
      "metadata": {
        "id": "3mIL05LFl_bY",
        "colab": {
          "base_uri": "https://localhost:8080/",
          "height": 537
        },
        "outputId": "cb7eb981-ab12-4c80-befb-3336eb6e23ce"
      },
      "source": [
        "v1 = plt.figure(figsize=(15,5))\n",
        "sns.countplot(x='hour', data=train)\n",
        "plt.show()\n",
        "\n",
        "v2 =plt.figure(figsize=(15,5))\n",
        "sns.countplot(x='hour', data=test)\n",
        "plt.show()"
      ],
      "execution_count": null,
      "outputs": [
        {
          "output_type": "display_data",
          "data": {
            "image/png": "[encoded data removed]",
            "text/plain": [
              "<Figure size 1080x360 with 1 Axes>"
            ]
          },
          "metadata": {
            "tags": [],
            "needs_background": "light"
          }
        },
        {
          "output_type": "display_data",
          "data": {
            "image/png": "[encoded data removed]",
            "text/plain": [
              "<Figure size 1080x360 with 1 Axes>"
            ]
          },
          "metadata": {
            "tags": [],
            "needs_background": "light"
          }
        }
      ]
    },
    {
      "cell_type": "code",
      "metadata": {
        "id": "1_wvvt0CTlxM",
        "colab": {
          "base_uri": "https://localhost:8080/",
          "height": 534
        },
        "outputId": "b3c9be3d-382c-4146-b019-7ab2b027979b"
      },
      "source": [
        "v1 = plt.figure(figsize=(15,5))\n",
        "sns.countplot(x='month', data=train)\n",
        "plt.show()\n",
        "\n",
        "v2 =plt.figure(figsize=(15,5))\n",
        "sns.countplot(x='month', data=test)\n",
        "plt.show()"
      ],
      "execution_count": null,
      "outputs": [
        {
          "output_type": "display_data",
          "data": {
            "image/png": "[encoded data removed]",
            "text/plain": [
              "<Figure size 1080x360 with 1 Axes>"
            ]
          },
          "metadata": {
            "tags": [],
            "needs_background": "light"
          }
        },
        {
          "output_type": "display_data",
          "data": {
            "image/png": "[encoded data removed]",
            "text/plain": [
              "<Figure size 1080x360 with 1 Axes>"
            ]
          },
          "metadata": {
            "tags": [],
            "needs_background": "light"
          }
        }
      ]
    },
    {
      "cell_type": "code",
      "metadata": {
        "id": "Dy6Iofs9MW0p",
        "colab": {
          "base_uri": "https://localhost:8080/",
          "height": 283
        },
        "outputId": "764c376e-3d80-4673-af7d-ed914b01e73a"
      },
      "source": [
        "fig, ax = plt.subplots(ncols=2, sharex=True, sharey=True)\n",
        "long_border = (-74.1, -73.75)\n",
        "lat_border = (40.6, 40.9)\n",
        "plt.ylim(lat_border)\n",
        "plt.xlim(long_border)\n",
        "plt.xlabel('Longitude')\n",
        "plt.ylabel('Latitude')\n",
        "ax[0].scatter(train.pickup_longitude,train.pickup_latitude,color='blue',s=1,alpha=0.1)\n",
        "ax[1].scatter(test.pickup_longitude,test.pickup_latitude,color='green',s=1,alpha=0.1)\n",
        "plt.show()"
      ],
      "execution_count": null,
      "outputs": [
        {
          "output_type": "display_data",
          "data": {
            "image/png": "[encoded data removed]",
            "text/plain": [
              "<Figure size 432x288 with 2 Axes>"
            ]
          },
          "metadata": {
            "tags": [],
            "needs_background": "light"
          }
        }
      ]
    },
    {
      "cell_type": "code",
      "metadata": {
        "id": "brMVcPd8UGUF",
        "colab": {
          "base_uri": "https://localhost:8080/",
          "height": 228
        },
        "outputId": "713bd8ec-22ce-4da6-a4eb-66dd93271a25"
      },
      "source": [
        "train.pickup_longitude.value_counts()"
      ],
      "execution_count": null,
      "outputs": [
        {
          "output_type": "execute_result",
          "data": {
            "text/plain": [
              "-73.982201    633\n",
              "-73.982140    603\n",
              "-73.982101    585\n",
              "-73.982117    584\n",
              "-73.982224    582\n",
              "             ... \n",
              "-73.885712      1\n",
              "-73.891502      1\n",
              "-73.865181      1\n",
              "-73.861656      1\n",
              "-73.792320      1\n",
              "Name: pickup_longitude, Length: 22989, dtype: int64"
            ]
          },
          "metadata": {
            "tags": []
          },
          "execution_count": 28
        }
      ]
    },
    {
      "cell_type": "code",
      "metadata": {
        "id": "z9IBVG0fWohR"
      },
      "source": [
        "# train = train[train['pickup_longitude']>73.95]"
      ],
      "execution_count": null,
      "outputs": []
    },
    {
      "cell_type": "code",
      "metadata": {
        "id": "vNDYiYvyUKTq",
        "colab": {
          "base_uri": "https://localhost:8080/",
          "height": 228
        },
        "outputId": "8f889345-8201-4cad-96dd-46e00f8c8e83"
      },
      "source": [
        "train.pickup_latitude.value_counts()"
      ],
      "execution_count": null,
      "outputs": [
        {
          "output_type": "execute_result",
          "data": {
            "text/plain": [
              "40.774101    412\n",
              "40.774090    410\n",
              "40.774120    408\n",
              "40.774109    391\n",
              "40.774078    389\n",
              "            ... \n",
              "40.661869      1\n",
              "40.661961      1\n",
              "40.661797      1\n",
              "40.661804      1\n",
              "40.694256      1\n",
              "Name: pickup_latitude, Length: 45192, dtype: int64"
            ]
          },
          "metadata": {
            "tags": []
          },
          "execution_count": 29
        }
      ]
    },
    {
      "cell_type": "code",
      "metadata": {
        "id": "XRdg7zVRXHgw"
      },
      "source": [
        "# train = train[train['pickup_longitude']>40.77]"
      ],
      "execution_count": null,
      "outputs": []
    },
    {
      "cell_type": "code",
      "metadata": {
        "id": "QjVq97XpTD5p",
        "colab": {
          "base_uri": "https://localhost:8080/",
          "height": 210
        },
        "outputId": "c6df629a-1317-4bfc-d9f5-2e206a88cd88"
      },
      "source": [
        "long # 0은 필요없음"
      ],
      "execution_count": null,
      "outputs": [
        {
          "output_type": "execute_result",
          "data": {
            "text/plain": [
              "1    1033540\n",
              "2     210318\n",
              "5      78088\n",
              "3      59896\n",
              "6      48333\n",
              "4      28404\n",
              "0         60\n",
              "7          3\n",
              "9          1\n",
              "8          1\n",
              "Name: passenger_count, dtype: int64"
            ]
          },
          "metadata": {
            "tags": []
          },
          "execution_count": 34
        }
      ]
    },
    {
      "cell_type": "code",
      "metadata": {
        "id": "ebVeUjMRTPZO"
      },
      "source": [
        "train = train[(train.passenger_count > 0)] # 지우기 완료"
      ],
      "execution_count": null,
      "outputs": []
    },
    {
      "cell_type": "code",
      "metadata": {
        "id": "9yZqNuu1muBM",
        "colab": {
          "base_uri": "https://localhost:8080/",
          "height": 506
        },
        "outputId": "f3fc2ab3-ba17-4c7c-c1a7-aecee9fec36b"
      },
      "source": [
        "corr = train.corr()\n",
        "plt.subplots(figsize=(12,7))\n",
        "cmap = sns.diverging_palette(220, 10, as_cmap=True) # 히트맵 스타일\n",
        "sns.heatmap(corr, cmap=cmap, vmax=.8, center=0,square=True, annot =True, linewidths=0.1, cbar_kws={\"shrink\": 0.5})\n",
        "plt.show()"
      ],
      "execution_count": null,
      "outputs": [
        {
          "output_type": "display_data",
          "data": {
            "image/png": "[encoded data removed]",
            "text/plain": [
              "<Figure size 864x504 with 2 Axes>"
            ]
          },
          "metadata": {
            "tags": [],
            "needs_background": "light"
          }
        }
      ]
    },
    {
      "cell_type": "code",
      "metadata": {
        "id": "CpmztNK7Xf1v",
        "colab": {
          "base_uri": "https://localhost:8080/",
          "height": 193
        },
        "outputId": "fddf8af5-d938-40f8-c61f-93e196d2f598"
      },
      "source": [
        "train.columns,test.columns"
      ],
      "execution_count": null,
      "outputs": [
        {
          "output_type": "execute_result",
          "data": {
            "text/plain": [
              "(Index(['id', 'vendor_id', 'pickup_datetime', 'dropoff_datetime',\n",
              "        'passenger_count', 'pickup_longitude', 'pickup_latitude',\n",
              "        'dropoff_longitude', 'dropoff_latitude', 'store_and_fwd_flag',\n",
              "        'trip_duration', 'week', 'weekday', 'hour', 'month'],\n",
              "       dtype='object'),\n",
              " Index(['id', 'vendor_id', 'pickup_datetime', 'passenger_count',\n",
              "        'pickup_longitude', 'pickup_latitude', 'dropoff_longitude',\n",
              "        'dropoff_latitude', 'store_and_fwd_flag', 'week', 'weekday', 'hour',\n",
              "        'month'],\n",
              "       dtype='object'))"
            ]
          },
          "metadata": {
            "tags": []
          },
          "execution_count": 37
        }
      ]
    },
    {
      "cell_type": "code",
      "metadata": {
        "id": "1dnTpJ-iW_ZJ",
        "colab": {
          "base_uri": "https://localhost:8080/",
          "height": 34
        },
        "outputId": "f2b8e12a-cab7-4d69-9d4c-82ff1109091e"
      },
      "source": [
        "X_train = train.loc[:,['month','weekday','hour','week','passenger_count','pickup_longitude','pickup_latitude','dropoff_longitude','dropoff_latitude']]\n",
        "X_test = test.loc[:,['month','weekday','hour','week','passenger_count','pickup_longitude','pickup_latitude','dropoff_longitude','dropoff_latitude']]\n",
        "y_train = train['trip_duration'] \n",
        "X_train.shape, y_train.shape"
      ],
      "execution_count": null,
      "outputs": [
        {
          "output_type": "execute_result",
          "data": {
            "text/plain": [
              "((1454811, 9), (1454811,))"
            ]
          },
          "metadata": {
            "tags": []
          },
          "execution_count": 38
        }
      ]
    },
    {
      "cell_type": "code",
      "metadata": {
        "id": "WJs37XN4XGet"
      },
      "source": [
        "import xgboost as xgb\n",
        "from xgboost.sklearn import XGBRegressor"
      ],
      "execution_count": null,
      "outputs": []
    },
    {
      "cell_type": "code",
      "metadata": {
        "id": "UC9Roh3RYhbC",
        "colab": {
          "base_uri": "https://localhost:8080/",
          "height": 140
        },
        "outputId": "f648d01f-d524-4c33-d3d8-bb2dca5f10ee"
      },
      "source": [
        "xgb_model = xgb.XGBRegressor( max_depth=15, learning_rate=0.1, n_estimators=700, silent=True, objective='reg:linear', booster='gbtree', n_jobs=1, nthread=None, gamma=0, min_child_weight=1, max_delta_step=0, subsample=1, colsample_bytree=1, colsample_bylevel=1, reg_alpha=0, reg_lambda=1, scale_pos_weight=1, base_score=0.5, random_state=0, seed=None, missing=None, importance_type='gain', )\n",
        "xgb_model.fit(X_train, y_train)"
      ],
      "execution_count": null,
      "outputs": [
        {
          "output_type": "execute_result",
          "data": {
            "text/plain": [
              "XGBRegressor(base_score=0.5, booster='gbtree', colsample_bylevel=1,\n",
              "             colsample_bynode=1, colsample_bytree=1, gamma=0,\n",
              "             importance_type='gain', learning_rate=0.1, max_delta_step=0,\n",
              "             max_depth=15, min_child_weight=1, missing=None, n_estimators=700,\n",
              "             n_jobs=1, nthread=None, objective='reg:linear', random_state=0,\n",
              "             reg_alpha=0, reg_lambda=1, scale_pos_weight=1, seed=None,\n",
              "             silent=True, subsample=1, verbosity=1)"
            ]
          },
          "metadata": {
            "tags": []
          },
          "execution_count": 40
        }
      ]
    },
    {
      "cell_type": "code",
      "metadata": {
        "id": "qP5YxUczYiwq"
      },
      "source": [
        "y_test_pred = xgb_model.predict(X_test)"
      ],
      "execution_count": null,
      "outputs": []
    },
    {
      "cell_type": "code",
      "metadata": {
        "id": "yUH-tmc9YkYW",
        "colab": {
          "base_uri": "https://localhost:8080/",
          "height": 199
        },
        "outputId": "7c56b045-43f0-45b0-e63b-e5f9a35b5ce3"
      },
      "source": [
        "submission['trip_duration'] = y_test_pred\n",
        "submission.head()"
      ],
      "execution_count": null,
      "outputs": [
        {
          "output_type": "execute_result",
          "data": {
            "text/html": [
              "<div>\n",
              "<style scoped>\n",
              "    .dataframe tbody tr th:only-of-type {\n",
              "        vertical-align: middle;\n",
              "    }\n",
              "\n",
              "    .dataframe tbody tr th {\n",
              "        vertical-align: top;\n",
              "    }\n",
              "\n",
              "    .dataframe thead th {\n",
              "        text-align: right;\n",
              "    }\n",
              "</style>\n",
              "<table border=\"1\" class=\"dataframe\">\n",
              "  <thead>\n",
              "    <tr style=\"text-align: right;\">\n",
              "      <th></th>\n",
              "      <th>id</th>\n",
              "      <th>trip_duration</th>\n",
              "    </tr>\n",
              "  </thead>\n",
              "  <tbody>\n",
              "    <tr>\n",
              "      <th>0</th>\n",
              "      <td>id3004672</td>\n",
              "      <td>722.973999</td>\n",
              "    </tr>\n",
              "    <tr>\n",
              "      <th>1</th>\n",
              "      <td>id3505355</td>\n",
              "      <td>675.554504</td>\n",
              "    </tr>\n",
              "    <tr>\n",
              "      <th>2</th>\n",
              "      <td>id1217141</td>\n",
              "      <td>412.948944</td>\n",
              "    </tr>\n",
              "    <tr>\n",
              "      <th>3</th>\n",
              "      <td>id2150126</td>\n",
              "      <td>1000.767334</td>\n",
              "    </tr>\n",
              "    <tr>\n",
              "      <th>4</th>\n",
              "      <td>id1598245</td>\n",
              "      <td>375.195160</td>\n",
              "    </tr>\n",
              "  </tbody>\n",
              "</table>\n",
              "</div>"
            ],
            "text/plain": [
              "          id  trip_duration\n",
              "0  id3004672     722.973999\n",
              "1  id3505355     675.554504\n",
              "2  id1217141     412.948944\n",
              "3  id2150126    1000.767334\n",
              "4  id1598245     375.195160"
            ]
          },
          "metadata": {
            "tags": []
          },
          "execution_count": 42
        }
      ]
    },
    {
      "cell_type": "code",
      "metadata": {
        "id": "OPKGFliWYl4p"
      },
      "source": [
        "submission.to_csv(\"submission.csv\", index=False)"
      ],
      "execution_count": null,
      "outputs": []
    },
    {
      "cell_type": "markdown",
      "metadata": {
        "id": "sIs1IkkQHZYk"
      },
      "source": [
        "https://www.kaggle.com/c/nyc-taxi-trip-duration/submissions"
      ]
    },
    {
      "cell_type": "code",
      "metadata": {
        "id": "1-pxIRa8H4l0"
      },
      "source": [
        ""
      ],
      "execution_count": null,
      "outputs": []
    }
  ]
}