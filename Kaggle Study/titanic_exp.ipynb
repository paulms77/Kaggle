{
  "nbformat": 4,
  "nbformat_minor": 0,
  "metadata": {
    "colab": {
      "name": "titanic_exp",
      "provenance": [],
      "collapsed_sections": []
    },
    "kernelspec": {
      "name": "python3",
      "display_name": "Python 3"
    }
  },
  "cells": [
    {
      "cell_type": "code",
      "metadata": {
        "id": "c0OK3i6K3ZRp",
        "colab": {
          "base_uri": "https://localhost:8080/",
          "height": 398
        },
        "outputId": "c9113b46-4cad-450c-dba7-b573e2ef61cd"
      },
      "source": [
        "import numpy as np\n",
        "import pandas as pd\n",
        "import matplotlib.pyplot as plt\n",
        "import seaborn as sns\n",
        "import pylab as pl\n",
        "%matplotlib inline\n",
        "\n",
        "titanic_train = pd.read_csv(\"train.csv\")\n",
        "titanic_train.head()"
      ],
      "execution_count": null,
      "outputs": [
        {
          "output_type": "stream",
          "text": [
            "/usr/local/lib/python3.6/dist-packages/statsmodels/tools/_testing.py:19: FutureWarning: pandas.util.testing is deprecated. Use the functions in the public API at pandas.testing instead.\n",
            "  import pandas.util.testing as tm\n"
          ],
          "name": "stderr"
        },
        {
          "output_type": "execute_result",
          "data": {
            "text/html": [
              "<div>\n",
              "<style scoped>\n",
              "    .dataframe tbody tr th:only-of-type {\n",
              "        vertical-align: middle;\n",
              "    }\n",
              "\n",
              "    .dataframe tbody tr th {\n",
              "        vertical-align: top;\n",
              "    }\n",
              "\n",
              "    .dataframe thead th {\n",
              "        text-align: right;\n",
              "    }\n",
              "</style>\n",
              "<table border=\"1\" class=\"dataframe\">\n",
              "  <thead>\n",
              "    <tr style=\"text-align: right;\">\n",
              "      <th></th>\n",
              "      <th>PassengerId</th>\n",
              "      <th>Survived</th>\n",
              "      <th>Pclass</th>\n",
              "      <th>Name</th>\n",
              "      <th>Sex</th>\n",
              "      <th>Age</th>\n",
              "      <th>SibSp</th>\n",
              "      <th>Parch</th>\n",
              "      <th>Ticket</th>\n",
              "      <th>Fare</th>\n",
              "      <th>Cabin</th>\n",
              "      <th>Embarked</th>\n",
              "    </tr>\n",
              "  </thead>\n",
              "  <tbody>\n",
              "    <tr>\n",
              "      <th>0</th>\n",
              "      <td>1</td>\n",
              "      <td>0</td>\n",
              "      <td>3</td>\n",
              "      <td>Braund, Mr. Owen Harris</td>\n",
              "      <td>male</td>\n",
              "      <td>22.0</td>\n",
              "      <td>1</td>\n",
              "      <td>0</td>\n",
              "      <td>A/5 21171</td>\n",
              "      <td>7.2500</td>\n",
              "      <td>NaN</td>\n",
              "      <td>S</td>\n",
              "    </tr>\n",
              "    <tr>\n",
              "      <th>1</th>\n",
              "      <td>2</td>\n",
              "      <td>1</td>\n",
              "      <td>1</td>\n",
              "      <td>Cumings, Mrs. John Bradley (Florence Briggs Th...</td>\n",
              "      <td>female</td>\n",
              "      <td>38.0</td>\n",
              "      <td>1</td>\n",
              "      <td>0</td>\n",
              "      <td>PC 17599</td>\n",
              "      <td>71.2833</td>\n",
              "      <td>C85</td>\n",
              "      <td>C</td>\n",
              "    </tr>\n",
              "    <tr>\n",
              "      <th>2</th>\n",
              "      <td>3</td>\n",
              "      <td>1</td>\n",
              "      <td>3</td>\n",
              "      <td>Heikkinen, Miss. Laina</td>\n",
              "      <td>female</td>\n",
              "      <td>26.0</td>\n",
              "      <td>0</td>\n",
              "      <td>0</td>\n",
              "      <td>STON/O2. 3101282</td>\n",
              "      <td>7.9250</td>\n",
              "      <td>NaN</td>\n",
              "      <td>S</td>\n",
              "    </tr>\n",
              "    <tr>\n",
              "      <th>3</th>\n",
              "      <td>4</td>\n",
              "      <td>1</td>\n",
              "      <td>1</td>\n",
              "      <td>Futrelle, Mrs. Jacques Heath (Lily May Peel)</td>\n",
              "      <td>female</td>\n",
              "      <td>35.0</td>\n",
              "      <td>1</td>\n",
              "      <td>0</td>\n",
              "      <td>113803</td>\n",
              "      <td>53.1000</td>\n",
              "      <td>C123</td>\n",
              "      <td>S</td>\n",
              "    </tr>\n",
              "    <tr>\n",
              "      <th>4</th>\n",
              "      <td>5</td>\n",
              "      <td>0</td>\n",
              "      <td>3</td>\n",
              "      <td>Allen, Mr. William Henry</td>\n",
              "      <td>male</td>\n",
              "      <td>35.0</td>\n",
              "      <td>0</td>\n",
              "      <td>0</td>\n",
              "      <td>373450</td>\n",
              "      <td>8.0500</td>\n",
              "      <td>NaN</td>\n",
              "      <td>S</td>\n",
              "    </tr>\n",
              "  </tbody>\n",
              "</table>\n",
              "</div>"
            ],
            "text/plain": [
              "   PassengerId  Survived  Pclass  ...     Fare Cabin  Embarked\n",
              "0            1         0       3  ...   7.2500   NaN         S\n",
              "1            2         1       1  ...  71.2833   C85         C\n",
              "2            3         1       3  ...   7.9250   NaN         S\n",
              "3            4         1       1  ...  53.1000  C123         S\n",
              "4            5         0       3  ...   8.0500   NaN         S\n",
              "\n",
              "[5 rows x 12 columns]"
            ]
          },
          "metadata": {
            "tags": []
          },
          "execution_count": 1
        }
      ]
    },
    {
      "cell_type": "code",
      "metadata": {
        "id": "Iiy0MP314EPD",
        "colab": {
          "base_uri": "https://localhost:8080/",
          "height": 237
        },
        "outputId": "eae7388d-1438-4797-8ba4-0c37f0a24856"
      },
      "source": [
        "titanic_test = pd.read_csv('test.csv')\n",
        "titanic_test.head()"
      ],
      "execution_count": null,
      "outputs": [
        {
          "output_type": "execute_result",
          "data": {
            "text/html": [
              "<div>\n",
              "<style scoped>\n",
              "    .dataframe tbody tr th:only-of-type {\n",
              "        vertical-align: middle;\n",
              "    }\n",
              "\n",
              "    .dataframe tbody tr th {\n",
              "        vertical-align: top;\n",
              "    }\n",
              "\n",
              "    .dataframe thead th {\n",
              "        text-align: right;\n",
              "    }\n",
              "</style>\n",
              "<table border=\"1\" class=\"dataframe\">\n",
              "  <thead>\n",
              "    <tr style=\"text-align: right;\">\n",
              "      <th></th>\n",
              "      <th>PassengerId</th>\n",
              "      <th>Pclass</th>\n",
              "      <th>Name</th>\n",
              "      <th>Sex</th>\n",
              "      <th>Age</th>\n",
              "      <th>SibSp</th>\n",
              "      <th>Parch</th>\n",
              "      <th>Ticket</th>\n",
              "      <th>Fare</th>\n",
              "      <th>Cabin</th>\n",
              "      <th>Embarked</th>\n",
              "    </tr>\n",
              "  </thead>\n",
              "  <tbody>\n",
              "    <tr>\n",
              "      <th>0</th>\n",
              "      <td>892</td>\n",
              "      <td>3</td>\n",
              "      <td>Kelly, Mr. James</td>\n",
              "      <td>male</td>\n",
              "      <td>34.5</td>\n",
              "      <td>0</td>\n",
              "      <td>0</td>\n",
              "      <td>330911</td>\n",
              "      <td>7.8292</td>\n",
              "      <td>NaN</td>\n",
              "      <td>Q</td>\n",
              "    </tr>\n",
              "    <tr>\n",
              "      <th>1</th>\n",
              "      <td>893</td>\n",
              "      <td>3</td>\n",
              "      <td>Wilkes, Mrs. James (Ellen Needs)</td>\n",
              "      <td>female</td>\n",
              "      <td>47.0</td>\n",
              "      <td>1</td>\n",
              "      <td>0</td>\n",
              "      <td>363272</td>\n",
              "      <td>7.0000</td>\n",
              "      <td>NaN</td>\n",
              "      <td>S</td>\n",
              "    </tr>\n",
              "    <tr>\n",
              "      <th>2</th>\n",
              "      <td>894</td>\n",
              "      <td>2</td>\n",
              "      <td>Myles, Mr. Thomas Francis</td>\n",
              "      <td>male</td>\n",
              "      <td>62.0</td>\n",
              "      <td>0</td>\n",
              "      <td>0</td>\n",
              "      <td>240276</td>\n",
              "      <td>9.6875</td>\n",
              "      <td>NaN</td>\n",
              "      <td>Q</td>\n",
              "    </tr>\n",
              "    <tr>\n",
              "      <th>3</th>\n",
              "      <td>895</td>\n",
              "      <td>3</td>\n",
              "      <td>Wirz, Mr. Albert</td>\n",
              "      <td>male</td>\n",
              "      <td>27.0</td>\n",
              "      <td>0</td>\n",
              "      <td>0</td>\n",
              "      <td>315154</td>\n",
              "      <td>8.6625</td>\n",
              "      <td>NaN</td>\n",
              "      <td>S</td>\n",
              "    </tr>\n",
              "    <tr>\n",
              "      <th>4</th>\n",
              "      <td>896</td>\n",
              "      <td>3</td>\n",
              "      <td>Hirvonen, Mrs. Alexander (Helga E Lindqvist)</td>\n",
              "      <td>female</td>\n",
              "      <td>22.0</td>\n",
              "      <td>1</td>\n",
              "      <td>1</td>\n",
              "      <td>3101298</td>\n",
              "      <td>12.2875</td>\n",
              "      <td>NaN</td>\n",
              "      <td>S</td>\n",
              "    </tr>\n",
              "  </tbody>\n",
              "</table>\n",
              "</div>"
            ],
            "text/plain": [
              "   PassengerId  Pclass  ... Cabin Embarked\n",
              "0          892       3  ...   NaN        Q\n",
              "1          893       3  ...   NaN        S\n",
              "2          894       2  ...   NaN        Q\n",
              "3          895       3  ...   NaN        S\n",
              "4          896       3  ...   NaN        S\n",
              "\n",
              "[5 rows x 11 columns]"
            ]
          },
          "metadata": {
            "tags": []
          },
          "execution_count": 2
        }
      ]
    },
    {
      "cell_type": "code",
      "metadata": {
        "id": "NXEtAqej4KO7",
        "colab": {
          "base_uri": "https://localhost:8080/",
          "height": 372
        },
        "outputId": "f5fdee5c-f2e5-4ab5-9b3d-af126c5207d4"
      },
      "source": [
        "titanic_train.info()"
      ],
      "execution_count": null,
      "outputs": [
        {
          "output_type": "stream",
          "text": [
            "<class 'pandas.core.frame.DataFrame'>\n",
            "RangeIndex: 891 entries, 0 to 890\n",
            "Data columns (total 12 columns):\n",
            " #   Column       Non-Null Count  Dtype  \n",
            "---  ------       --------------  -----  \n",
            " 0   PassengerId  891 non-null    int64  \n",
            " 1   Survived     891 non-null    int64  \n",
            " 2   Pclass       891 non-null    int64  \n",
            " 3   Name         891 non-null    object \n",
            " 4   Sex          891 non-null    object \n",
            " 5   Age          714 non-null    float64\n",
            " 6   SibSp        891 non-null    int64  \n",
            " 7   Parch        891 non-null    int64  \n",
            " 8   Ticket       891 non-null    object \n",
            " 9   Fare         891 non-null    float64\n",
            " 10  Cabin        204 non-null    object \n",
            " 11  Embarked     889 non-null    object \n",
            "dtypes: float64(2), int64(5), object(5)\n",
            "memory usage: 83.7+ KB\n"
          ],
          "name": "stdout"
        }
      ]
    },
    {
      "cell_type": "code",
      "metadata": {
        "id": "wVOUW-u94T7r",
        "colab": {
          "base_uri": "https://localhost:8080/",
          "height": 353
        },
        "outputId": "8600956d-f047-4074-ce3f-e86aef021f73"
      },
      "source": [
        "titanic_test.info()"
      ],
      "execution_count": null,
      "outputs": [
        {
          "output_type": "stream",
          "text": [
            "<class 'pandas.core.frame.DataFrame'>\n",
            "RangeIndex: 418 entries, 0 to 417\n",
            "Data columns (total 11 columns):\n",
            " #   Column       Non-Null Count  Dtype  \n",
            "---  ------       --------------  -----  \n",
            " 0   PassengerId  418 non-null    int64  \n",
            " 1   Pclass       418 non-null    int64  \n",
            " 2   Name         418 non-null    object \n",
            " 3   Sex          418 non-null    object \n",
            " 4   Age          332 non-null    float64\n",
            " 5   SibSp        418 non-null    int64  \n",
            " 6   Parch        418 non-null    int64  \n",
            " 7   Ticket       418 non-null    object \n",
            " 8   Fare         417 non-null    float64\n",
            " 9   Cabin        91 non-null     object \n",
            " 10  Embarked     418 non-null    object \n",
            "dtypes: float64(2), int64(4), object(5)\n",
            "memory usage: 36.0+ KB\n"
          ],
          "name": "stdout"
        }
      ]
    },
    {
      "cell_type": "code",
      "metadata": {
        "id": "i6uuZwVy4Wgq",
        "colab": {
          "base_uri": "https://localhost:8080/",
          "height": 36
        },
        "outputId": "e8f88f0c-3143-4aa9-d8f6-08c7f46e7603"
      },
      "source": [
        "titanic_train.shape"
      ],
      "execution_count": null,
      "outputs": [
        {
          "output_type": "execute_result",
          "data": {
            "text/plain": [
              "(891, 12)"
            ]
          },
          "metadata": {
            "tags": []
          },
          "execution_count": 5
        }
      ]
    },
    {
      "cell_type": "code",
      "metadata": {
        "id": "6dph2rQZ5FrX",
        "colab": {
          "base_uri": "https://localhost:8080/",
          "height": 73
        },
        "outputId": "5500e119-9e99-461e-ead6-f50e0577751d"
      },
      "source": [
        "titanic_train.columns"
      ],
      "execution_count": null,
      "outputs": [
        {
          "output_type": "execute_result",
          "data": {
            "text/plain": [
              "Index(['PassengerId', 'Survived', 'Pclass', 'Name', 'Sex', 'Age', 'SibSp',\n",
              "       'Parch', 'Ticket', 'Fare', 'Cabin', 'Embarked'],\n",
              "      dtype='object')"
            ]
          },
          "metadata": {
            "tags": []
          },
          "execution_count": 6
        }
      ]
    },
    {
      "cell_type": "code",
      "metadata": {
        "id": "RsMrGYTweGsk",
        "colab": {
          "base_uri": "https://localhost:8080/",
          "height": 36
        },
        "outputId": "4b7c9125-4e8a-4e20-fe6a-5403b93efc8f"
      },
      "source": [
        "titanic_test.shape"
      ],
      "execution_count": null,
      "outputs": [
        {
          "output_type": "execute_result",
          "data": {
            "text/plain": [
              "(418, 11)"
            ]
          },
          "metadata": {
            "tags": []
          },
          "execution_count": 7
        }
      ]
    },
    {
      "cell_type": "markdown",
      "metadata": {
        "id": "s8H9QWEI5U0U"
      },
      "source": [
        "Pclass 선실등급별 생존여부"
      ]
    },
    {
      "cell_type": "code",
      "metadata": {
        "id": "YxQxQB4m5ZJ-",
        "colab": {
          "base_uri": "https://localhost:8080/",
          "height": 92
        },
        "outputId": "2c65ab8b-520f-499d-9e1f-cae8d325fee0"
      },
      "source": [
        "titanic_train['Pclass'].value_counts()"
      ],
      "execution_count": null,
      "outputs": [
        {
          "output_type": "execute_result",
          "data": {
            "text/plain": [
              "3    491\n",
              "1    216\n",
              "2    184\n",
              "Name: Pclass, dtype: int64"
            ]
          },
          "metadata": {
            "tags": []
          },
          "execution_count": 8
        }
      ]
    },
    {
      "cell_type": "code",
      "metadata": {
        "id": "kurm1onE5dzW",
        "colab": {
          "base_uri": "https://localhost:8080/",
          "height": 279
        },
        "outputId": "c5b0a0b8-3edf-4d9f-8f30-da43dc06498f"
      },
      "source": [
        "print(titanic_train.groupby(['Pclass','Sex','Survived'])['Survived'].count())"
      ],
      "execution_count": null,
      "outputs": [
        {
          "output_type": "stream",
          "text": [
            "Pclass  Sex     Survived\n",
            "1       female  0             3\n",
            "                1            91\n",
            "        male    0            77\n",
            "                1            45\n",
            "2       female  0             6\n",
            "                1            70\n",
            "        male    0            91\n",
            "                1            17\n",
            "3       female  0            72\n",
            "                1            72\n",
            "        male    0           300\n",
            "                1            47\n",
            "Name: Survived, dtype: int64\n"
          ],
          "name": "stdout"
        }
      ]
    },
    {
      "cell_type": "code",
      "metadata": {
        "id": "ks2hoYih57z5",
        "colab": {
          "base_uri": "https://localhost:8080/",
          "height": 279
        },
        "outputId": "35bdd8df-8e8e-453e-fcff-9058eae4c504"
      },
      "source": [
        "sns.barplot(x='Pclass',y='Survived',data=titanic_train) #선실등급이 1등급일수록 생존률이 높음 (1->2->3)\n",
        "plt.show()"
      ],
      "execution_count": null,
      "outputs": [
        {
          "output_type": "display_data",
          "data": {
            "image/png": "[encoded data removed]",
            "text/plain": [
              "<Figure size 432x288 with 1 Axes>"
            ]
          },
          "metadata": {
            "tags": [],
            "needs_background": "light"
          }
        }
      ]
    },
    {
      "cell_type": "code",
      "metadata": {
        "id": "wV0PnuxR7Qsj",
        "colab": {
          "base_uri": "https://localhost:8080/",
          "height": 129
        },
        "outputId": "4ba2f90f-04ac-4f0f-fa5f-3d4cabcd4ea7"
      },
      "source": [
        "titanic_train.groupby(['Sex','Survived'])['Survived'].count() "
      ],
      "execution_count": null,
      "outputs": [
        {
          "output_type": "execute_result",
          "data": {
            "text/plain": [
              "Sex     Survived\n",
              "female  0            81\n",
              "        1           233\n",
              "male    0           468\n",
              "        1           109\n",
              "Name: Survived, dtype: int64"
            ]
          },
          "metadata": {
            "tags": []
          },
          "execution_count": 11
        }
      ]
    },
    {
      "cell_type": "code",
      "metadata": {
        "id": "JTT9XbIk7_2U",
        "colab": {
          "base_uri": "https://localhost:8080/",
          "height": 279
        },
        "outputId": "de30ac28-5f6f-43ab-8e60-d2a87a2c3478"
      },
      "source": [
        "sns.barplot(x='Sex',y='Survived',data=titanic_train) #여자가 남자보다 생존률이 높음\n",
        "plt.show()"
      ],
      "execution_count": null,
      "outputs": [
        {
          "output_type": "display_data",
          "data": {
            "image/png": "[encoded data removed]",
            "text/plain": [
              "<Figure size 432x288 with 1 Axes>"
            ]
          },
          "metadata": {
            "tags": [],
            "needs_background": "light"
          }
        }
      ]
    },
    {
      "cell_type": "code",
      "metadata": {
        "id": "JxO6LlWQ86LC",
        "colab": {
          "base_uri": "https://localhost:8080/",
          "height": 560
        },
        "outputId": "cbe16623-46a4-4265-e48f-734706054a4a"
      },
      "source": [
        "# 성별 별 Pclass 별 생존여부\n",
        "pl.figure(1)\n",
        "sns.barplot(x='Pclass',y='Survived',hue='Sex',data=titanic_train)\n",
        "pl.figure(2)\n",
        "sns.barplot(x='Sex',y='Survived',hue='Pclass',data=titanic_train)\n",
        "pl.show"
      ],
      "execution_count": null,
      "outputs": [
        {
          "output_type": "execute_result",
          "data": {
            "text/plain": [
              "<function matplotlib.pyplot.show>"
            ]
          },
          "metadata": {
            "tags": []
          },
          "execution_count": 13
        },
        {
          "output_type": "display_data",
          "data": {
            "image/png": "[encoded data removed]",
            "text/plain": [
              "<Figure size 432x288 with 1 Axes>"
            ]
          },
          "metadata": {
            "tags": [],
            "needs_background": "light"
          }
        },
        {
          "output_type": "display_data",
          "data": {
            "image/png": "[encoded data removed]",
            "text/plain": [
              "<Figure size 432x288 with 1 Axes>"
            ]
          },
          "metadata": {
            "tags": [],
            "needs_background": "light"
          }
        }
      ]
    },
    {
      "cell_type": "markdown",
      "metadata": {
        "id": "AzJXYgbN-qyu"
      },
      "source": [
        "Name 별 생존여부"
      ]
    },
    {
      "cell_type": "code",
      "metadata": {
        "id": "C1WkAOiR9JJU"
      },
      "source": [
        "combine = [titanic_train,titanic_test]\n",
        "for titanic_set in combine:\n",
        "  titanic_set['Title'] = titanic_set['Name'].str.extract('([A-Za-z]+)\\.',expand=False)"
      ],
      "execution_count": null,
      "outputs": []
    },
    {
      "cell_type": "code",
      "metadata": {
        "id": "PEBMh5Mp_e6p",
        "colab": {
          "base_uri": "https://localhost:8080/",
          "height": 353
        },
        "outputId": "d421d429-c4eb-4ffa-8580-617bf6215468"
      },
      "source": [
        "titanic_train['Title'].value_counts()"
      ],
      "execution_count": null,
      "outputs": [
        {
          "output_type": "execute_result",
          "data": {
            "text/plain": [
              "Mr          517\n",
              "Miss        182\n",
              "Mrs         125\n",
              "Master       40\n",
              "Dr            7\n",
              "Rev           6\n",
              "Col           2\n",
              "Major         2\n",
              "Mlle          2\n",
              "Lady          1\n",
              "Ms            1\n",
              "Jonkheer      1\n",
              "Mme           1\n",
              "Don           1\n",
              "Sir           1\n",
              "Countess      1\n",
              "Capt          1\n",
              "Name: Title, dtype: int64"
            ]
          },
          "metadata": {
            "tags": []
          },
          "execution_count": 15
        }
      ]
    },
    {
      "cell_type": "code",
      "metadata": {
        "id": "w5fDL8t1rx2E",
        "colab": {
          "base_uri": "https://localhost:8080/",
          "height": 204
        },
        "outputId": "d2b20e29-7d7d-4d61-aa5d-047fff05d1b6"
      },
      "source": [
        "titanic_test['Title'].value_counts()"
      ],
      "execution_count": null,
      "outputs": [
        {
          "output_type": "execute_result",
          "data": {
            "text/plain": [
              "Mr        240\n",
              "Miss       78\n",
              "Mrs        72\n",
              "Master     21\n",
              "Col         2\n",
              "Rev         2\n",
              "Dona        1\n",
              "Ms          1\n",
              "Dr          1\n",
              "Name: Title, dtype: int64"
            ]
          },
          "metadata": {
            "tags": []
          },
          "execution_count": 16
        }
      ]
    },
    {
      "cell_type": "code",
      "metadata": {
        "id": "D_pQqEJd_mMW",
        "colab": {
          "base_uri": "https://localhost:8080/",
          "height": 499
        },
        "outputId": "649447b3-679d-4bde-cd22-626188124863"
      },
      "source": [
        "Titanic_mapping = {\"Mr\":0,\"Miss\":1,\"Mrs\":2,\"Master\":3,\"Dr\":3,\"Rev\":3,\"Major\":3,\"Mile\":3,\"Col\":3,\"Mme\":3,\"Capt\":3,\"Don\":3,\"Countess\":3,\"Sir\":3,\"Lady\":3,\"Jonkheer\":3,\"Ms\":3,'Done':3}\n",
        "for titanic_set in combine:\n",
        "  titanic_set['Title_num'] = titanic_set['Title'].map(Titanic_mapping)\n",
        "\n",
        "titanic_train.head()"
      ],
      "execution_count": null,
      "outputs": [
        {
          "output_type": "execute_result",
          "data": {
            "text/html": [
              "<div>\n",
              "<style scoped>\n",
              "    .dataframe tbody tr th:only-of-type {\n",
              "        vertical-align: middle;\n",
              "    }\n",
              "\n",
              "    .dataframe tbody tr th {\n",
              "        vertical-align: top;\n",
              "    }\n",
              "\n",
              "    .dataframe thead th {\n",
              "        text-align: right;\n",
              "    }\n",
              "</style>\n",
              "<table border=\"1\" class=\"dataframe\">\n",
              "  <thead>\n",
              "    <tr style=\"text-align: right;\">\n",
              "      <th></th>\n",
              "      <th>PassengerId</th>\n",
              "      <th>Survived</th>\n",
              "      <th>Pclass</th>\n",
              "      <th>Name</th>\n",
              "      <th>Sex</th>\n",
              "      <th>Age</th>\n",
              "      <th>SibSp</th>\n",
              "      <th>Parch</th>\n",
              "      <th>Ticket</th>\n",
              "      <th>Fare</th>\n",
              "      <th>Cabin</th>\n",
              "      <th>Embarked</th>\n",
              "      <th>Title</th>\n",
              "      <th>Title_num</th>\n",
              "    </tr>\n",
              "  </thead>\n",
              "  <tbody>\n",
              "    <tr>\n",
              "      <th>0</th>\n",
              "      <td>1</td>\n",
              "      <td>0</td>\n",
              "      <td>3</td>\n",
              "      <td>Braund, Mr. Owen Harris</td>\n",
              "      <td>male</td>\n",
              "      <td>22.0</td>\n",
              "      <td>1</td>\n",
              "      <td>0</td>\n",
              "      <td>A/5 21171</td>\n",
              "      <td>7.2500</td>\n",
              "      <td>NaN</td>\n",
              "      <td>S</td>\n",
              "      <td>Mr</td>\n",
              "      <td>0.0</td>\n",
              "    </tr>\n",
              "    <tr>\n",
              "      <th>1</th>\n",
              "      <td>2</td>\n",
              "      <td>1</td>\n",
              "      <td>1</td>\n",
              "      <td>Cumings, Mrs. John Bradley (Florence Briggs Th...</td>\n",
              "      <td>female</td>\n",
              "      <td>38.0</td>\n",
              "      <td>1</td>\n",
              "      <td>0</td>\n",
              "      <td>PC 17599</td>\n",
              "      <td>71.2833</td>\n",
              "      <td>C85</td>\n",
              "      <td>C</td>\n",
              "      <td>Mrs</td>\n",
              "      <td>2.0</td>\n",
              "    </tr>\n",
              "    <tr>\n",
              "      <th>2</th>\n",
              "      <td>3</td>\n",
              "      <td>1</td>\n",
              "      <td>3</td>\n",
              "      <td>Heikkinen, Miss. Laina</td>\n",
              "      <td>female</td>\n",
              "      <td>26.0</td>\n",
              "      <td>0</td>\n",
              "      <td>0</td>\n",
              "      <td>STON/O2. 3101282</td>\n",
              "      <td>7.9250</td>\n",
              "      <td>NaN</td>\n",
              "      <td>S</td>\n",
              "      <td>Miss</td>\n",
              "      <td>1.0</td>\n",
              "    </tr>\n",
              "    <tr>\n",
              "      <th>3</th>\n",
              "      <td>4</td>\n",
              "      <td>1</td>\n",
              "      <td>1</td>\n",
              "      <td>Futrelle, Mrs. Jacques Heath (Lily May Peel)</td>\n",
              "      <td>female</td>\n",
              "      <td>35.0</td>\n",
              "      <td>1</td>\n",
              "      <td>0</td>\n",
              "      <td>113803</td>\n",
              "      <td>53.1000</td>\n",
              "      <td>C123</td>\n",
              "      <td>S</td>\n",
              "      <td>Mrs</td>\n",
              "      <td>2.0</td>\n",
              "    </tr>\n",
              "    <tr>\n",
              "      <th>4</th>\n",
              "      <td>5</td>\n",
              "      <td>0</td>\n",
              "      <td>3</td>\n",
              "      <td>Allen, Mr. William Henry</td>\n",
              "      <td>male</td>\n",
              "      <td>35.0</td>\n",
              "      <td>0</td>\n",
              "      <td>0</td>\n",
              "      <td>373450</td>\n",
              "      <td>8.0500</td>\n",
              "      <td>NaN</td>\n",
              "      <td>S</td>\n",
              "      <td>Mr</td>\n",
              "      <td>0.0</td>\n",
              "    </tr>\n",
              "  </tbody>\n",
              "</table>\n",
              "</div>"
            ],
            "text/plain": [
              "   PassengerId  Survived  Pclass  ... Embarked Title  Title_num\n",
              "0            1         0       3  ...        S    Mr        0.0\n",
              "1            2         1       1  ...        C   Mrs        2.0\n",
              "2            3         1       3  ...        S  Miss        1.0\n",
              "3            4         1       1  ...        S   Mrs        2.0\n",
              "4            5         0       3  ...        S    Mr        0.0\n",
              "\n",
              "[5 rows x 14 columns]"
            ]
          },
          "metadata": {
            "tags": []
          },
          "execution_count": 17
        }
      ]
    },
    {
      "cell_type": "code",
      "metadata": {
        "id": "h0psCcbpSonu"
      },
      "source": [
        "titanic_train.drop('Title', axis=1, inplace=True)\n",
        "titanic_test.drop('Title', axis=1, inplace=True)"
      ],
      "execution_count": null,
      "outputs": []
    },
    {
      "cell_type": "code",
      "metadata": {
        "id": "lOhVQQdjBCek",
        "colab": {
          "base_uri": "https://localhost:8080/",
          "height": 279
        },
        "outputId": "6f93ac62-1603-4532-8523-63dcb1552c34"
      },
      "source": [
        "sns.barplot(x=\"Survived\",y='Sex',hue='Title_num',data=titanic_train) #이름을 통하여 상대적으로 남자가 생존률이 낮고 3의 경우 분포가 적기때문에 생존률이 크게 나온걸 알수있다.\n",
        "plt.show()"
      ],
      "execution_count": null,
      "outputs": [
        {
          "output_type": "display_data",
          "data": {
            "image/png": "[encoded data removed]",
            "text/plain": [
              "<Figure size 432x288 with 1 Axes>"
            ]
          },
          "metadata": {
            "tags": [],
            "needs_background": "light"
          }
        }
      ]
    },
    {
      "cell_type": "code",
      "metadata": {
        "id": "N7eUsX2GEfBY",
        "colab": {
          "base_uri": "https://localhost:8080/",
          "height": 36
        },
        "outputId": "5f57ce8b-12cf-44d1-97ad-cfe07c2f84cf"
      },
      "source": [
        "titanic_train['Title_num'].isnull().sum()"
      ],
      "execution_count": null,
      "outputs": [
        {
          "output_type": "execute_result",
          "data": {
            "text/plain": [
              "2"
            ]
          },
          "metadata": {
            "tags": []
          },
          "execution_count": 20
        }
      ]
    },
    {
      "cell_type": "code",
      "metadata": {
        "id": "5U7BRosxFsrB",
        "colab": {
          "base_uri": "https://localhost:8080/",
          "height": 36
        },
        "outputId": "dcca46cb-55c9-41ca-91cb-cfcb891059af"
      },
      "source": [
        "titanic_train['Title_num'].fillna(1.0,inplace=True)\n",
        "print(titanic_train['Title_num'].isnull().sum())"
      ],
      "execution_count": null,
      "outputs": [
        {
          "output_type": "stream",
          "text": [
            "0\n"
          ],
          "name": "stdout"
        }
      ]
    },
    {
      "cell_type": "code",
      "metadata": {
        "id": "ENcJu2SZuXbE"
      },
      "source": [
        "#sex_mapping = {\"male\" : 0 , \"female\" : 1}\n",
        "#for dataset in combine:\n",
        "    #dataset['Sex']= dataset['Sex'].map(sex_mapping)"
      ],
      "execution_count": null,
      "outputs": []
    },
    {
      "cell_type": "markdown",
      "metadata": {
        "id": "qF1QPT4VEDUF"
      },
      "source": [
        "Age,Cabin,Embarked null값 처리"
      ]
    },
    {
      "cell_type": "code",
      "metadata": {
        "id": "Yaawv-bXEKYL",
        "colab": {
          "base_uri": "https://localhost:8080/",
          "height": 297
        },
        "outputId": "bf2704cf-3a72-48cc-8f8d-f4ec7bb75cf6"
      },
      "source": [
        "print(titanic_train.isnull().sum())\n",
        "print(titanic_train.isnull().sum().sum())"
      ],
      "execution_count": null,
      "outputs": [
        {
          "output_type": "stream",
          "text": [
            "PassengerId      0\n",
            "Survived         0\n",
            "Pclass           0\n",
            "Name             0\n",
            "Sex              0\n",
            "Age            177\n",
            "SibSp            0\n",
            "Parch            0\n",
            "Ticket           0\n",
            "Fare             0\n",
            "Cabin          687\n",
            "Embarked         2\n",
            "Title_num        0\n",
            "dtype: int64\n",
            "866\n"
          ],
          "name": "stdout"
        }
      ]
    },
    {
      "cell_type": "code",
      "metadata": {
        "id": "hw-UtFfW0KVi",
        "colab": {
          "base_uri": "https://localhost:8080/",
          "height": 279
        },
        "outputId": "1bca7e2b-57a2-45d0-ff13-c1d1eaaf3e2a"
      },
      "source": [
        "print(titanic_test.isnull().sum())\n",
        "print(titanic_test.isnull().sum().sum())"
      ],
      "execution_count": null,
      "outputs": [
        {
          "output_type": "stream",
          "text": [
            "PassengerId      0\n",
            "Pclass           0\n",
            "Name             0\n",
            "Sex              0\n",
            "Age             86\n",
            "SibSp            0\n",
            "Parch            0\n",
            "Ticket           0\n",
            "Fare             1\n",
            "Cabin          327\n",
            "Embarked         0\n",
            "Title_num        1\n",
            "dtype: int64\n",
            "415\n"
          ],
          "name": "stdout"
        }
      ]
    },
    {
      "cell_type": "code",
      "metadata": {
        "id": "CHU2HMEzEKgG"
      },
      "source": [
        "titanic_train['Age'].fillna(titanic_train.groupby('Title_num')['Age'].transform('median'),inplace=True)#각 타이틀 별 나이의 평균(중간값)으로 결측치 처리\n",
        "titanic_train['Cabin'].fillna('N',inplace=True)\n",
        "titanic_train['Embarked'].fillna(titanic_train['Embarked'].mode()[0],inplace=True)\n",
        "\n",
        "titanic_test['Age'].fillna(titanic_test.groupby('Title_num')['Age'].transform('median'),inplace=True)#각 타이틀 별 나이의 평균(중간값)으로 결측치 처리\n",
        "titanic_test['Cabin'].fillna('N',inplace=True)\n",
        "titanic_test['Title_num'].fillna(3,inplace=True)\n",
        "titanic_test['Fare'].fillna(titanic_test['Fare'].mode()[0],inplace=True)"
      ],
      "execution_count": null,
      "outputs": []
    },
    {
      "cell_type": "code",
      "metadata": {
        "id": "c3U3TgChKq30",
        "colab": {
          "base_uri": "https://localhost:8080/",
          "height": 297
        },
        "outputId": "34261fd5-58c8-4b7e-e5d7-460a862f01c1"
      },
      "source": [
        "print(titanic_train.isnull().sum())\n",
        "print(titanic_train.isnull().sum().sum())"
      ],
      "execution_count": null,
      "outputs": [
        {
          "output_type": "stream",
          "text": [
            "PassengerId    0\n",
            "Survived       0\n",
            "Pclass         0\n",
            "Name           0\n",
            "Sex            0\n",
            "Age            0\n",
            "SibSp          0\n",
            "Parch          0\n",
            "Ticket         0\n",
            "Fare           0\n",
            "Cabin          0\n",
            "Embarked       0\n",
            "Title_num      0\n",
            "dtype: int64\n",
            "0\n"
          ],
          "name": "stdout"
        }
      ]
    },
    {
      "cell_type": "code",
      "metadata": {
        "id": "6zhhIu4Prb8I",
        "colab": {
          "base_uri": "https://localhost:8080/",
          "height": 279
        },
        "outputId": "a7a3f67a-055b-4a1f-c091-8d95d7c4950a"
      },
      "source": [
        "print(titanic_test.isnull().sum())\n",
        "print(titanic_test.isnull().sum().sum())"
      ],
      "execution_count": null,
      "outputs": [
        {
          "output_type": "stream",
          "text": [
            "PassengerId    0\n",
            "Pclass         0\n",
            "Name           0\n",
            "Sex            0\n",
            "Age            0\n",
            "SibSp          0\n",
            "Parch          0\n",
            "Ticket         0\n",
            "Fare           0\n",
            "Cabin          0\n",
            "Embarked       0\n",
            "Title_num      0\n",
            "dtype: int64\n",
            "0\n"
          ],
          "name": "stdout"
        }
      ]
    },
    {
      "cell_type": "code",
      "metadata": {
        "id": "FpJF6Jr-K5EY",
        "colab": {
          "base_uri": "https://localhost:8080/",
          "height": 213
        },
        "outputId": "05b34d24-f2fd-4e98-bfb1-0b30bf800fcc"
      },
      "source": [
        "facet = sns.FacetGrid(titanic_train,hue='Survived',aspect=4)\n",
        "facet.map(sns.kdeplot,'Age',shade=True)\n",
        "facet.set(xlim=(0,titanic_train['Age'].max()))\n",
        "facet.add_legend()\n",
        "plt.show()"
      ],
      "execution_count": null,
      "outputs": [
        {
          "output_type": "display_data",
          "data": {
            "image/png": "[encoded data removed]",
            "text/plain": [
              "<Figure size 915.875x216 with 1 Axes>"
            ]
          },
          "metadata": {
            "tags": [],
            "needs_background": "light"
          }
        }
      ]
    },
    {
      "cell_type": "markdown",
      "metadata": {
        "id": "nFZRI5LTL2Yn"
      },
      "source": [
        "Age 카테고리 나누기"
      ]
    },
    {
      "cell_type": "code",
      "metadata": {
        "id": "Vs2zkgygLfvR"
      },
      "source": [
        "titanic_train['Age_cat'] = pd.cut(titanic_train['Age'].astype(int),5)\n",
        "titanic_test['Age_cat'] = pd.cut(titanic_train['Age'].astype(int),5)"
      ],
      "execution_count": null,
      "outputs": []
    },
    {
      "cell_type": "code",
      "metadata": {
        "id": "H3e8uEcOMOKR",
        "colab": {
          "base_uri": "https://localhost:8080/",
          "height": 408
        },
        "outputId": "d3018303-bbc6-4d19-b2fe-b8490d5e1c58"
      },
      "source": [
        "plt.figure(figsize=(10,6))\n",
        "\n",
        "sns.barplot(x='Age_cat', y = 'Survived', hue='Sex', data=titanic_train)"
      ],
      "execution_count": null,
      "outputs": [
        {
          "output_type": "execute_result",
          "data": {
            "text/plain": [
              "<matplotlib.axes._subplots.AxesSubplot at 0x7fe17f97f358>"
            ]
          },
          "metadata": {
            "tags": []
          },
          "execution_count": 30
        },
        {
          "output_type": "display_data",
          "data": {
            "image/png": "[encoded data removed]",
            "text/plain": [
              "<Figure size 720x432 with 1 Axes>"
            ]
          },
          "metadata": {
            "tags": [],
            "needs_background": "light"
          }
        }
      ]
    },
    {
      "cell_type": "markdown",
      "metadata": {
        "id": "hKZE5r51OSJR"
      },
      "source": [
        "Cabin 전처리"
      ]
    },
    {
      "cell_type": "code",
      "metadata": {
        "id": "RxGGfdX8NT7P",
        "colab": {
          "base_uri": "https://localhost:8080/",
          "height": 241
        },
        "outputId": "cae66df2-4a10-4c4a-e99f-ed16d9975c44"
      },
      "source": [
        "titanic_train['Cabin'].value_counts()"
      ],
      "execution_count": null,
      "outputs": [
        {
          "output_type": "execute_result",
          "data": {
            "text/plain": [
              "N              687\n",
              "G6               4\n",
              "C23 C25 C27      4\n",
              "B96 B98          4\n",
              "C22 C26          3\n",
              "              ... \n",
              "C82              1\n",
              "A24              1\n",
              "A32              1\n",
              "F G63            1\n",
              "C46              1\n",
              "Name: Cabin, Length: 148, dtype: int64"
            ]
          },
          "metadata": {
            "tags": []
          },
          "execution_count": 31
        }
      ]
    },
    {
      "cell_type": "code",
      "metadata": {
        "id": "Is2y5pZUOed3"
      },
      "source": [
        "for titanic_set in combine:\n",
        "  titanic_set['Cabin'] = titanic_set['Cabin'].str[:1]"
      ],
      "execution_count": null,
      "outputs": []
    },
    {
      "cell_type": "code",
      "metadata": {
        "id": "AAAW9wqhO_qc",
        "colab": {
          "base_uri": "https://localhost:8080/",
          "height": 204
        },
        "outputId": "e359c39f-7bb9-4e05-f1cc-5515ec8a8d94"
      },
      "source": [
        "print(titanic_train['Cabin'].value_counts())"
      ],
      "execution_count": null,
      "outputs": [
        {
          "output_type": "stream",
          "text": [
            "N    687\n",
            "C     59\n",
            "B     47\n",
            "D     33\n",
            "E     32\n",
            "A     15\n",
            "F     13\n",
            "G      4\n",
            "T      1\n",
            "Name: Cabin, dtype: int64\n"
          ],
          "name": "stdout"
        }
      ]
    },
    {
      "cell_type": "markdown",
      "metadata": {
        "id": "8FCeGtl96423"
      },
      "source": [
        "sibsp 별 생존여부\n",
        "parch 별 생존여부"
      ]
    },
    {
      "cell_type": "code",
      "metadata": {
        "id": "_8IKlVy-64Sx",
        "colab": {
          "base_uri": "https://localhost:8080/",
          "height": 167
        },
        "outputId": "52fbc4c6-8782-4bbe-d93e-8e057aecf344"
      },
      "source": [
        "titanic_train['SibSp'].value_counts()"
      ],
      "execution_count": null,
      "outputs": [
        {
          "output_type": "execute_result",
          "data": {
            "text/plain": [
              "0    608\n",
              "1    209\n",
              "2     28\n",
              "4     18\n",
              "3     16\n",
              "8      7\n",
              "5      5\n",
              "Name: SibSp, dtype: int64"
            ]
          },
          "metadata": {
            "tags": []
          },
          "execution_count": 34
        }
      ]
    },
    {
      "cell_type": "code",
      "metadata": {
        "id": "9EwCsDZ_63rM",
        "colab": {
          "base_uri": "https://localhost:8080/",
          "height": 167
        },
        "outputId": "4de473c9-0601-42f8-f3b0-bed51bc47315"
      },
      "source": [
        "titanic_train['Parch'].value_counts()"
      ],
      "execution_count": null,
      "outputs": [
        {
          "output_type": "execute_result",
          "data": {
            "text/plain": [
              "0    678\n",
              "1    118\n",
              "2     80\n",
              "5      5\n",
              "3      5\n",
              "4      4\n",
              "6      1\n",
              "Name: Parch, dtype: int64"
            ]
          },
          "metadata": {
            "tags": []
          },
          "execution_count": 35
        }
      ]
    },
    {
      "cell_type": "code",
      "metadata": {
        "id": "i3peYbaM8SQX"
      },
      "source": [
        "titanic_train['Family_size'] = titanic_train['SibSp']+titanic_train['Parch']+1\n",
        "titanic_test['Family_size'] = titanic_test['SibSp']+titanic_test['Parch']+1"
      ],
      "execution_count": null,
      "outputs": []
    },
    {
      "cell_type": "code",
      "metadata": {
        "id": "vPy2vEtp_1tW",
        "colab": {
          "base_uri": "https://localhost:8080/",
          "height": 353
        },
        "outputId": "5d86f891-2931-47b3-f49a-00c81a50081b"
      },
      "source": [
        "titanic_train.groupby(['Family_size','Survived'])['Survived'].value_counts()"
      ],
      "execution_count": null,
      "outputs": [
        {
          "output_type": "execute_result",
          "data": {
            "text/plain": [
              "Family_size  Survived  Survived\n",
              "1            0         0           374\n",
              "             1         1           163\n",
              "2            0         0            72\n",
              "             1         1            89\n",
              "3            0         0            43\n",
              "             1         1            59\n",
              "4            0         0             8\n",
              "             1         1            21\n",
              "5            0         0            12\n",
              "             1         1             3\n",
              "6            0         0            19\n",
              "             1         1             3\n",
              "7            0         0             8\n",
              "             1         1             4\n",
              "8            0         0             6\n",
              "11           0         0             7\n",
              "Name: Survived, dtype: int64"
            ]
          },
          "metadata": {
            "tags": []
          },
          "execution_count": 37
        }
      ]
    },
    {
      "cell_type": "code",
      "metadata": {
        "id": "wIeltt_zP-Z3",
        "colab": {
          "base_uri": "https://localhost:8080/",
          "height": 204
        },
        "outputId": "7db94e1a-7617-4ecc-923e-0780a009a97e"
      },
      "source": [
        "titanic_train['Family_size'].value_counts()"
      ],
      "execution_count": null,
      "outputs": [
        {
          "output_type": "execute_result",
          "data": {
            "text/plain": [
              "1     537\n",
              "2     161\n",
              "3     102\n",
              "4      29\n",
              "6      22\n",
              "5      15\n",
              "7      12\n",
              "11      7\n",
              "8       6\n",
              "Name: Family_size, dtype: int64"
            ]
          },
          "metadata": {
            "tags": []
          },
          "execution_count": 38
        }
      ]
    },
    {
      "cell_type": "code",
      "metadata": {
        "id": "hgksIVae7kIX",
        "colab": {
          "base_uri": "https://localhost:8080/",
          "height": 231
        },
        "outputId": "9a99a402-4742-41ea-82d2-f4250f959efa"
      },
      "source": [
        "facet = sns.FacetGrid(titanic_train,hue='Survived',aspect=4)\n",
        "facet.map(sns.kdeplot,'Family_size',shade=True)\n",
        "facet.set(xlim=(0,titanic_train['Family_size'].max()))\n",
        "facet.add_legend()\n",
        "plt.xlim(0)"
      ],
      "execution_count": null,
      "outputs": [
        {
          "output_type": "execute_result",
          "data": {
            "text/plain": [
              "(0.0, 11.0)"
            ]
          },
          "metadata": {
            "tags": []
          },
          "execution_count": 39
        },
        {
          "output_type": "display_data",
          "data": {
            "image/png": "[encoded data removed]",
            "text/plain": [
              "<Figure size 915.875x216 with 1 Axes>"
            ]
          },
          "metadata": {
            "tags": [],
            "needs_background": "light"
          }
        }
      ]
    },
    {
      "cell_type": "code",
      "metadata": {
        "id": "6xwMjZjSFiZI",
        "colab": {
          "base_uri": "https://localhost:8080/",
          "height": 279
        },
        "outputId": "fafe4f23-3bf0-4eb2-bf3b-7fd09156b0e0"
      },
      "source": [
        "sns.barplot(x='Survived',y='Sex',hue='Family_size',data=titanic_train)\n",
        "plt.show()"
      ],
      "execution_count": null,
      "outputs": [
        {
          "output_type": "display_data",
          "data": {
            "image/png": "[encoded data removed]",
            "text/plain": [
              "<Figure size 432x288 with 1 Axes>"
            ]
          },
          "metadata": {
            "tags": [],
            "needs_background": "light"
          }
        }
      ]
    },
    {
      "cell_type": "code",
      "metadata": {
        "id": "dnDkSOhUH3aN",
        "colab": {
          "base_uri": "https://localhost:8080/",
          "height": 241
        },
        "outputId": "9b05a7fc-1dac-41e5-ab88-0984e7101e97"
      },
      "source": [
        "titanic_train['Survived']"
      ],
      "execution_count": null,
      "outputs": [
        {
          "output_type": "execute_result",
          "data": {
            "text/plain": [
              "0      0\n",
              "1      1\n",
              "2      1\n",
              "3      1\n",
              "4      0\n",
              "      ..\n",
              "886    0\n",
              "887    1\n",
              "888    0\n",
              "889    1\n",
              "890    0\n",
              "Name: Survived, Length: 891, dtype: int64"
            ]
          },
          "metadata": {
            "tags": []
          },
          "execution_count": 41
        }
      ]
    },
    {
      "cell_type": "markdown",
      "metadata": {
        "id": "lhiDscoDSa0t"
      },
      "source": [
        "Fare (요금) 별 생존여부"
      ]
    },
    {
      "cell_type": "code",
      "metadata": {
        "id": "y9adBn1IVkYg",
        "colab": {
          "base_uri": "https://localhost:8080/",
          "height": 241
        },
        "outputId": "ed5556c0-45bd-4537-feed-8799e7715ff9"
      },
      "source": [
        "titanic_train['Fare'].value_counts().sort_index(ascending=False)"
      ],
      "execution_count": null,
      "outputs": [
        {
          "output_type": "execute_result",
          "data": {
            "text/plain": [
              "512.3292     3\n",
              "263.0000     4\n",
              "262.3750     2\n",
              "247.5208     2\n",
              "227.5250     4\n",
              "            ..\n",
              "6.4375       1\n",
              "6.2375       1\n",
              "5.0000       1\n",
              "4.0125       1\n",
              "0.0000      15\n",
              "Name: Fare, Length: 248, dtype: int64"
            ]
          },
          "metadata": {
            "tags": []
          },
          "execution_count": 42
        }
      ]
    },
    {
      "cell_type": "code",
      "metadata": {
        "id": "92Iv2CUojgDG",
        "colab": {
          "base_uri": "https://localhost:8080/",
          "height": 241
        },
        "outputId": "cebdf766-e941-4ff2-add0-addd56e459bb"
      },
      "source": [
        "print(titanic_train['Fare'].astype(int))"
      ],
      "execution_count": null,
      "outputs": [
        {
          "output_type": "stream",
          "text": [
            "0       7\n",
            "1      71\n",
            "2       7\n",
            "3      53\n",
            "4       8\n",
            "       ..\n",
            "886    13\n",
            "887    30\n",
            "888    23\n",
            "889    30\n",
            "890     7\n",
            "Name: Fare, Length: 891, dtype: int64\n"
          ],
          "name": "stdout"
        }
      ]
    },
    {
      "cell_type": "code",
      "metadata": {
        "id": "VTciI6vAgyUF",
        "colab": {
          "base_uri": "https://localhost:8080/",
          "height": 36
        },
        "outputId": "c48bea00-f583-4123-e4b2-72fb46c5afd7"
      },
      "source": [
        "titanic_train['Fare'].mean()"
      ],
      "execution_count": null,
      "outputs": [
        {
          "output_type": "execute_result",
          "data": {
            "text/plain": [
              "32.2042079685746"
            ]
          },
          "metadata": {
            "tags": []
          },
          "execution_count": 44
        }
      ]
    },
    {
      "cell_type": "code",
      "metadata": {
        "id": "DoSEtY6YVFI2",
        "colab": {
          "base_uri": "https://localhost:8080/",
          "height": 36
        },
        "outputId": "3fb34408-5d4f-41fb-cfa0-f6c2609b6533"
      },
      "source": [
        "titanic_train['Fare_cat'] = pd.qcut(titanic_train['Fare'],4,labels =[1,2,3,4])\n",
        "titanic_test['Fare_cat'] = pd.qcut(titanic_test['Fare'],4,labels =[1,2,3,4])\n",
        "titanic_train = titanic_train.drop(['PassengerId','Fare','Name','Ticket','Age','SibSp','Parch'],axis=1)\n",
        "titanic_test = titanic_test.drop(['PassengerId','Fare','Name','Ticket','Age','SibSp','Parch'],axis=1)\n",
        "\n",
        "print(titanic_train.shape)"
      ],
      "execution_count": null,
      "outputs": [
        {
          "output_type": "stream",
          "text": [
            "(891, 9)\n"
          ],
          "name": "stdout"
        }
      ]
    },
    {
      "cell_type": "code",
      "metadata": {
        "id": "yON0yoXJSf7M",
        "colab": {
          "base_uri": "https://localhost:8080/",
          "height": 280
        },
        "outputId": "8a42117d-5d0f-4563-e8d8-3cf17f5d8bfa"
      },
      "source": [
        "sns.barplot(x='Fare_cat',y='Survived',hue='Sex',data=titanic_train)\n",
        "plt.show()"
      ],
      "execution_count": null,
      "outputs": [
        {
          "output_type": "display_data",
          "data": {
            "image/png": "[encoded data removed]",
            "text/plain": [
              "<Figure size 432x288 with 1 Axes>"
            ]
          },
          "metadata": {
            "tags": [],
            "needs_background": "light"
          }
        }
      ]
    },
    {
      "cell_type": "code",
      "metadata": {
        "id": "A2AbOSOHdKVa",
        "colab": {
          "base_uri": "https://localhost:8080/",
          "height": 111
        },
        "outputId": "fde865d7-dc6e-45bd-ea59-1c9ff8fdbc73"
      },
      "source": [
        "titanic_train['Fare_cat'].value_counts()"
      ],
      "execution_count": null,
      "outputs": [
        {
          "output_type": "execute_result",
          "data": {
            "text/plain": [
              "2    224\n",
              "1    223\n",
              "4    222\n",
              "3    222\n",
              "Name: Fare_cat, dtype: int64"
            ]
          },
          "metadata": {
            "tags": []
          },
          "execution_count": 47
        }
      ]
    },
    {
      "cell_type": "markdown",
      "metadata": {
        "id": "CqLW_x1mDh3-"
      },
      "source": [
        "모델 생성"
      ]
    },
    {
      "cell_type": "code",
      "metadata": {
        "id": "DmGdOIrlWSss"
      },
      "source": [
        "from sklearn import preprocessing\n",
        "\n",
        "#label Encoding\n",
        "def encode_features(df):\n",
        "    features = ['Cabin','Sex','Embarked','Title_num','Age_cat','Fare_cat','Family_size']\n",
        "    for feature in features:\n",
        "        le = preprocessing.LabelEncoder()\n",
        "        le = le.fit(df[feature])\n",
        "        df[feature] = le.transform(df[feature])\n",
        "    return df\n",
        "\n",
        "titanic_df = encode_features(titanic_train)\n",
        "titanic_df\n",
        "titanic_test = encode_features(titanic_test)"
      ],
      "execution_count": null,
      "outputs": []
    },
    {
      "cell_type": "code",
      "metadata": {
        "id": "bAoduudPhpK-",
        "colab": {
          "base_uri": "https://localhost:8080/",
          "height": 202
        },
        "outputId": "82eba058-206e-44cf-9751-f71303f12e29"
      },
      "source": [
        "y_titanic_df = titanic_df['Survived']\n",
        "X_titanic_df= titanic_df.drop('Survived',axis=1)\n",
        "\n",
        "X_titanic_df.head()"
      ],
      "execution_count": null,
      "outputs": [
        {
          "output_type": "execute_result",
          "data": {
            "text/html": [
              "<div>\n",
              "<style scoped>\n",
              "    .dataframe tbody tr th:only-of-type {\n",
              "        vertical-align: middle;\n",
              "    }\n",
              "\n",
              "    .dataframe tbody tr th {\n",
              "        vertical-align: top;\n",
              "    }\n",
              "\n",
              "    .dataframe thead th {\n",
              "        text-align: right;\n",
              "    }\n",
              "</style>\n",
              "<table border=\"1\" class=\"dataframe\">\n",
              "  <thead>\n",
              "    <tr style=\"text-align: right;\">\n",
              "      <th></th>\n",
              "      <th>Pclass</th>\n",
              "      <th>Sex</th>\n",
              "      <th>Cabin</th>\n",
              "      <th>Embarked</th>\n",
              "      <th>Title_num</th>\n",
              "      <th>Age_cat</th>\n",
              "      <th>Family_size</th>\n",
              "      <th>Fare_cat</th>\n",
              "    </tr>\n",
              "  </thead>\n",
              "  <tbody>\n",
              "    <tr>\n",
              "      <th>0</th>\n",
              "      <td>3</td>\n",
              "      <td>1</td>\n",
              "      <td>7</td>\n",
              "      <td>2</td>\n",
              "      <td>0</td>\n",
              "      <td>1</td>\n",
              "      <td>1</td>\n",
              "      <td>0</td>\n",
              "    </tr>\n",
              "    <tr>\n",
              "      <th>1</th>\n",
              "      <td>1</td>\n",
              "      <td>0</td>\n",
              "      <td>2</td>\n",
              "      <td>0</td>\n",
              "      <td>2</td>\n",
              "      <td>2</td>\n",
              "      <td>1</td>\n",
              "      <td>3</td>\n",
              "    </tr>\n",
              "    <tr>\n",
              "      <th>2</th>\n",
              "      <td>3</td>\n",
              "      <td>0</td>\n",
              "      <td>7</td>\n",
              "      <td>2</td>\n",
              "      <td>1</td>\n",
              "      <td>1</td>\n",
              "      <td>0</td>\n",
              "      <td>1</td>\n",
              "    </tr>\n",
              "    <tr>\n",
              "      <th>3</th>\n",
              "      <td>1</td>\n",
              "      <td>0</td>\n",
              "      <td>2</td>\n",
              "      <td>2</td>\n",
              "      <td>2</td>\n",
              "      <td>2</td>\n",
              "      <td>1</td>\n",
              "      <td>3</td>\n",
              "    </tr>\n",
              "    <tr>\n",
              "      <th>4</th>\n",
              "      <td>3</td>\n",
              "      <td>1</td>\n",
              "      <td>7</td>\n",
              "      <td>2</td>\n",
              "      <td>0</td>\n",
              "      <td>2</td>\n",
              "      <td>0</td>\n",
              "      <td>1</td>\n",
              "    </tr>\n",
              "  </tbody>\n",
              "</table>\n",
              "</div>"
            ],
            "text/plain": [
              "   Pclass  Sex  Cabin  Embarked  Title_num  Age_cat  Family_size  Fare_cat\n",
              "0       3    1      7         2          0        1            1         0\n",
              "1       1    0      2         0          2        2            1         3\n",
              "2       3    0      7         2          1        1            0         1\n",
              "3       1    0      2         2          2        2            1         3\n",
              "4       3    1      7         2          0        2            0         1"
            ]
          },
          "metadata": {
            "tags": []
          },
          "execution_count": 49
        }
      ]
    },
    {
      "cell_type": "markdown",
      "metadata": {
        "id": "k5gR8L2kV5Li"
      },
      "source": [
        "예측모델 생성 및 결과 제출"
      ]
    },
    {
      "cell_type": "code",
      "metadata": {
        "id": "9nBLAihgly_d"
      },
      "source": [
        "from sklearn.model_selection import train_test_split\n",
        "\n",
        "X_train, X_test, y_train, y_test=train_test_split(X_titanic_df, y_titanic_df,test_size=0.2, random_state=11)"
      ],
      "execution_count": null,
      "outputs": []
    },
    {
      "cell_type": "code",
      "metadata": {
        "id": "uvo4WQJaFV2W",
        "colab": {
          "base_uri": "https://localhost:8080/",
          "height": 92
        },
        "outputId": "18eababc-2c22-4470-d414-443c50dfd5d7"
      },
      "source": [
        "from sklearn.tree import DecisionTreeClassifier\n",
        "from sklearn.ensemble import RandomForestClassifier\n",
        "from sklearn.linear_model import LogisticRegression\n",
        "from sklearn.metrics import accuracy_score\n",
        "from sklearn.svm import SVC\n",
        "\n",
        "dt_clf = DecisionTreeClassifier(random_state=11)\n",
        "rf_clf = RandomForestClassifier(random_state=11)\n",
        "lr_clf = LogisticRegression(max_iter=300)\n",
        "svc_clf = SVC()\n",
        "\n",
        "dt_clf.fit(X_train , y_train)\n",
        "dt_pred = dt_clf.predict(X_test)\n",
        "print('DecisionTreeClassifier 정확도: {0:.4f}'.format(accuracy_score(y_test, dt_pred)))\n",
        "\n",
        "rf_clf.fit(X_train , y_train)\n",
        "rf_pred = rf_clf.predict(X_test)\n",
        "print('RandomForestClassifier 정확도:{0:.4f}'.format(accuracy_score(y_test, rf_pred)))\n",
        "\n",
        "lr_clf.fit(X_train , y_train)\n",
        "lr_pred = lr_clf.predict(X_test)\n",
        "print('LogisticRegression 정확도: {0:.4f}'.format(accuracy_score(y_test, lr_pred)))\n",
        "\n",
        "svc_clf.fit(X_train , y_train)\n",
        "svc_pred = svc_clf.predict(X_test)\n",
        "print('svc_clf 정확도: {0:.4f}'.format(accuracy_score(y_test, svc_pred)))"
      ],
      "execution_count": null,
      "outputs": [
        {
          "output_type": "stream",
          "text": [
            "DecisionTreeClassifier 정확도: 0.8380\n",
            "RandomForestClassifier 정확도:0.8492\n",
            "LogisticRegression 정확도: 0.8771\n",
            "svc_clf 정확도: 0.8547\n"
          ],
          "name": "stdout"
        }
      ]
    },
    {
      "cell_type": "code",
      "metadata": {
        "id": "FnAdu25wJTIo",
        "colab": {
          "base_uri": "https://localhost:8080/",
          "height": 129
        },
        "outputId": "011deb91-d7c6-4030-b605-292cf08b5e8f"
      },
      "source": [
        "from sklearn.model_selection import KFold\n",
        "\n",
        "def exec_kfold(clf, folds=5):\n",
        "    kfold = KFold(n_splits=folds)\n",
        "    scores = []\n",
        "    \n",
        "    for iter_count , (train_index, test_index) in enumerate(kfold.split(X_titanic_df)):\n",
        "        X_train, X_test = X_titanic_df.values[train_index], X_titanic_df.values[test_index]\n",
        "        y_train, y_test = y_titanic_df.values[train_index], y_titanic_df.values[test_index]\n",
        "        \n",
        "        clf.fit(X_train, y_train) \n",
        "        predictions = clf.predict(X_test)\n",
        "        accuracy = accuracy_score(y_test, predictions)\n",
        "        scores.append(accuracy)\n",
        "        print(\"교차 검증 {0} 정확도: {1:.4f}\".format(iter_count, accuracy))     \n",
        "    \n",
        "    mean_score = np.mean(scores)\n",
        "    print(\"평균 정확도: {0:.4f}\".format(mean_score)) \n",
        "\n",
        "exec_kfold(dt_clf , folds=5) "
      ],
      "execution_count": null,
      "outputs": [
        {
          "output_type": "stream",
          "text": [
            "교차 검증 0 정확도: 0.7877\n",
            "교차 검증 1 정확도: 0.8034\n",
            "교차 검증 2 정확도: 0.8146\n",
            "교차 검증 3 정확도: 0.8034\n",
            "교차 검증 4 정확도: 0.8539\n",
            "평균 정확도: 0.8126\n"
          ],
          "name": "stdout"
        }
      ]
    },
    {
      "cell_type": "code",
      "metadata": {
        "id": "R1XeAm2EJS8i",
        "colab": {
          "base_uri": "https://localhost:8080/",
          "height": 129
        },
        "outputId": "26041b5d-f6af-4129-992e-fb1a758adebd"
      },
      "source": [
        "from sklearn.model_selection import cross_val_score\n",
        "\n",
        "scores = cross_val_score(dt_clf, X_titanic_df , y_titanic_df , cv=5)\n",
        "for iter_count,accuracy in enumerate(scores):\n",
        "    print(\"교차 검증 {0} 정확도: {1:.4f}\".format(iter_count, accuracy))\n",
        "\n",
        "print(\"평균 정확도: {0:.4f}\".format(np.mean(scores)))"
      ],
      "execution_count": null,
      "outputs": [
        {
          "output_type": "stream",
          "text": [
            "교차 검증 0 정확도: 0.8156\n",
            "교차 검증 1 정확도: 0.7809\n",
            "교차 검증 2 정확도: 0.8258\n",
            "교차 검증 3 정확도: 0.8090\n",
            "교차 검증 4 정확도: 0.8483\n",
            "평균 정확도: 0.8159\n"
          ],
          "name": "stdout"
        }
      ]
    },
    {
      "cell_type": "code",
      "metadata": {
        "id": "KW56114QJV_A",
        "colab": {
          "base_uri": "https://localhost:8080/",
          "height": 73
        },
        "outputId": "b8eacb16-8f5e-452a-8577-fc5190225713"
      },
      "source": [
        "from sklearn.model_selection import GridSearchCV\n",
        "\n",
        "parameters = {'max_depth':[2,3,5,10],\n",
        "             'min_samples_split':[2,3,5], 'min_samples_leaf':[1,5,8]}\n",
        "\n",
        "grid_dclf = GridSearchCV(dt_clf , param_grid=parameters , scoring='accuracy' , cv=5)\n",
        "grid_dclf.fit(X_train , y_train)\n",
        "\n",
        "print('best_params_ : ',grid_dclf.best_params_)\n",
        "print('best_score_: ', grid_dclf.best_score_)\n",
        "\n",
        "best_dclf = grid_dclf.best_estimator_\n",
        "pred = best_dclf.predict(X_test)\n",
        "print('accuracy: ', accuracy_score(y_test , pred))"
      ],
      "execution_count": null,
      "outputs": [
        {
          "output_type": "stream",
          "text": [
            "best_params_ :  {'max_depth': 5, 'min_samples_leaf': 8, 'min_samples_split': 2}\n",
            "best_score_:  0.8061853639318428\n",
            "accuracy:  0.8770949720670391\n"
          ],
          "name": "stdout"
        }
      ]
    },
    {
      "cell_type": "code",
      "metadata": {
        "id": "UjHSh6R77E_E",
        "colab": {
          "base_uri": "https://localhost:8080/",
          "height": 55
        },
        "outputId": "9b848a73-4f73-4aa6-e43b-b3bb6e4d86f5"
      },
      "source": [
        "from sklearn.ensemble import GradientBoostingClassifier\n",
        "import time\n",
        "import warnings\n",
        "warnings.filterwarnings('ignore')\n",
        "\n",
        "# GBM 수행 시간 측정을 위함. 시작 시간 설정.\n",
        "start_time = time.time()\n",
        "\n",
        "gb_clf = GradientBoostingClassifier()\n",
        "gb_clf.fit(X_train , y_train)\n",
        "gb_pred = gb_clf.predict(X_test)\n",
        "gb_accuracy = accuracy_score(y_test, gb_pred)\n",
        "\n",
        "print('GBM 정확도: {0:.4f}'.format(gb_accuracy))\n",
        "print(\"GBM 수행 시간: {0:.1f} 초 \".format(time.time() - start_time))"
      ],
      "execution_count": null,
      "outputs": [
        {
          "output_type": "stream",
          "text": [
            "GBM 정확도: 0.8771\n",
            "GBM 수행 시간: 0.1 초 \n"
          ],
          "name": "stdout"
        }
      ]
    },
    {
      "cell_type": "code",
      "metadata": {
        "id": "pFtLw0jw8wXe"
      },
      "source": [
        "from sklearn.metrics import confusion_matrix, accuracy_score\n",
        "from sklearn.metrics import precision_score, recall_score\n",
        "from sklearn.metrics import f1_score, roc_auc_score\n",
        "\n",
        "# 수정된 get_clf_eval() 함수 \n",
        "def get_clf_eval(y_test, pred=None, pred_proba=None):\n",
        "    confusion = confusion_matrix( y_test, pred)\n",
        "    accuracy = accuracy_score(y_test , pred)\n",
        "    precision = precision_score(y_test , pred)\n",
        "    recall = recall_score(y_test , pred)\n",
        "    f1 = f1_score(y_test,pred)\n",
        "    # ROC-AUC 추가 \n",
        "    roc_auc = roc_auc_score(y_test, pred_proba)\n",
        "    print('오차 행렬')\n",
        "    print(confusion)\n",
        "    # ROC-AUC print 추가\n",
        "    print('정확도: {0:.4f}, 정밀도: {1:.4f}, 재현율: {2:.4f},\\\n",
        "    F1: {3:.4f}, AUC:{4:.4f}'.format(accuracy, precision, recall, f1, roc_auc))"
      ],
      "execution_count": null,
      "outputs": []
    },
    {
      "cell_type": "code",
      "metadata": {
        "id": "F4LH8k2x8ygS",
        "colab": {
          "base_uri": "https://localhost:8080/",
          "height": 1000
        },
        "outputId": "4bcd0544-909c-4e78-b614-4458eb607fd9"
      },
      "source": [
        "# 사이킷런 래퍼 XGBoost 클래스인 XGBClassifier 임포트\n",
        "from xgboost import XGBClassifier\n",
        "\n",
        "evals = [(X_test, y_test)]\n",
        "\n",
        "xgb_wrapper = XGBClassifier(n_estimators=400, learning_rate=0.1, max_depth=3)\n",
        "xgb_wrapper.fit(X_train , y_train,  early_stopping_rounds=400,eval_set=evals, eval_metric=\"logloss\",  verbose=True)\n",
        "\n",
        "w_preds = xgb_wrapper.predict(X_test)\n",
        "w_pred_proba = xgb_wrapper.predict_proba(X_test)[:, 1]"
      ],
      "execution_count": null,
      "outputs": [
        {
          "output_type": "stream",
          "text": [
            "[0]\tvalidation_0-logloss:0.643399\n",
            "Will train until validation_0-logloss hasn't improved in 400 rounds.\n",
            "[1]\tvalidation_0-logloss:0.602906\n",
            "[2]\tvalidation_0-logloss:0.568271\n",
            "[3]\tvalidation_0-logloss:0.538974\n",
            "[4]\tvalidation_0-logloss:0.514\n",
            "[5]\tvalidation_0-logloss:0.493242\n",
            "[6]\tvalidation_0-logloss:0.474829\n",
            "[7]\tvalidation_0-logloss:0.459351\n",
            "[8]\tvalidation_0-logloss:0.445592\n",
            "[9]\tvalidation_0-logloss:0.434193\n",
            "[10]\tvalidation_0-logloss:0.423848\n",
            "[11]\tvalidation_0-logloss:0.414975\n",
            "[12]\tvalidation_0-logloss:0.407801\n",
            "[13]\tvalidation_0-logloss:0.401289\n",
            "[14]\tvalidation_0-logloss:0.396007\n",
            "[15]\tvalidation_0-logloss:0.391512\n",
            "[16]\tvalidation_0-logloss:0.386384\n",
            "[17]\tvalidation_0-logloss:0.383379\n",
            "[18]\tvalidation_0-logloss:0.381062\n",
            "[19]\tvalidation_0-logloss:0.376456\n",
            "[20]\tvalidation_0-logloss:0.37457\n",
            "[21]\tvalidation_0-logloss:0.370887\n",
            "[22]\tvalidation_0-logloss:0.369303\n",
            "[23]\tvalidation_0-logloss:0.367063\n",
            "[24]\tvalidation_0-logloss:0.364772\n",
            "[25]\tvalidation_0-logloss:0.363056\n",
            "[26]\tvalidation_0-logloss:0.360728\n",
            "[27]\tvalidation_0-logloss:0.358987\n",
            "[28]\tvalidation_0-logloss:0.357718\n",
            "[29]\tvalidation_0-logloss:0.357394\n",
            "[30]\tvalidation_0-logloss:0.355259\n",
            "[31]\tvalidation_0-logloss:0.353483\n",
            "[32]\tvalidation_0-logloss:0.35163\n",
            "[33]\tvalidation_0-logloss:0.350711\n",
            "[34]\tvalidation_0-logloss:0.350162\n",
            "[35]\tvalidation_0-logloss:0.349356\n",
            "[36]\tvalidation_0-logloss:0.3477\n",
            "[37]\tvalidation_0-logloss:0.347608\n",
            "[38]\tvalidation_0-logloss:0.346165\n",
            "[39]\tvalidation_0-logloss:0.345656\n",
            "[40]\tvalidation_0-logloss:0.34444\n",
            "[41]\tvalidation_0-logloss:0.344431\n",
            "[42]\tvalidation_0-logloss:0.343135\n",
            "[43]\tvalidation_0-logloss:0.342913\n",
            "[44]\tvalidation_0-logloss:0.342504\n",
            "[45]\tvalidation_0-logloss:0.342379\n",
            "[46]\tvalidation_0-logloss:0.341299\n",
            "[47]\tvalidation_0-logloss:0.341013\n",
            "[48]\tvalidation_0-logloss:0.341072\n",
            "[49]\tvalidation_0-logloss:0.340644\n",
            "[50]\tvalidation_0-logloss:0.339859\n",
            "[51]\tvalidation_0-logloss:0.339486\n",
            "[52]\tvalidation_0-logloss:0.338746\n",
            "[53]\tvalidation_0-logloss:0.338442\n",
            "[54]\tvalidation_0-logloss:0.338283\n",
            "[55]\tvalidation_0-logloss:0.337989\n",
            "[56]\tvalidation_0-logloss:0.337082\n",
            "[57]\tvalidation_0-logloss:0.336971\n",
            "[58]\tvalidation_0-logloss:0.336356\n",
            "[59]\tvalidation_0-logloss:0.336391\n",
            "[60]\tvalidation_0-logloss:0.33579\n",
            "[61]\tvalidation_0-logloss:0.335655\n",
            "[62]\tvalidation_0-logloss:0.335559\n",
            "[63]\tvalidation_0-logloss:0.335595\n",
            "[64]\tvalidation_0-logloss:0.335376\n",
            "[65]\tvalidation_0-logloss:0.335009\n",
            "[66]\tvalidation_0-logloss:0.335106\n",
            "[67]\tvalidation_0-logloss:0.335147\n",
            "[68]\tvalidation_0-logloss:0.335197\n",
            "[69]\tvalidation_0-logloss:0.334907\n",
            "[70]\tvalidation_0-logloss:0.335291\n",
            "[71]\tvalidation_0-logloss:0.33493\n",
            "[72]\tvalidation_0-logloss:0.335052\n",
            "[73]\tvalidation_0-logloss:0.334985\n",
            "[74]\tvalidation_0-logloss:0.335183\n",
            "[75]\tvalidation_0-logloss:0.335102\n",
            "[76]\tvalidation_0-logloss:0.335043\n",
            "[77]\tvalidation_0-logloss:0.33534\n",
            "[78]\tvalidation_0-logloss:0.335531\n",
            "[79]\tvalidation_0-logloss:0.335887\n",
            "[80]\tvalidation_0-logloss:0.336026\n",
            "[81]\tvalidation_0-logloss:0.33603\n",
            "[82]\tvalidation_0-logloss:0.336319\n",
            "[83]\tvalidation_0-logloss:0.336144\n",
            "[84]\tvalidation_0-logloss:0.335994\n",
            "[85]\tvalidation_0-logloss:0.336029\n",
            "[86]\tvalidation_0-logloss:0.336463\n",
            "[87]\tvalidation_0-logloss:0.336425\n",
            "[88]\tvalidation_0-logloss:0.336675\n",
            "[89]\tvalidation_0-logloss:0.336988\n",
            "[90]\tvalidation_0-logloss:0.337229\n",
            "[91]\tvalidation_0-logloss:0.337091\n",
            "[92]\tvalidation_0-logloss:0.337257\n",
            "[93]\tvalidation_0-logloss:0.337328\n",
            "[94]\tvalidation_0-logloss:0.337395\n",
            "[95]\tvalidation_0-logloss:0.337661\n",
            "[96]\tvalidation_0-logloss:0.337972\n",
            "[97]\tvalidation_0-logloss:0.337997\n",
            "[98]\tvalidation_0-logloss:0.338101\n",
            "[99]\tvalidation_0-logloss:0.338371\n",
            "[100]\tvalidation_0-logloss:0.338481\n",
            "[101]\tvalidation_0-logloss:0.338349\n",
            "[102]\tvalidation_0-logloss:0.337836\n",
            "[103]\tvalidation_0-logloss:0.337931\n",
            "[104]\tvalidation_0-logloss:0.338207\n",
            "[105]\tvalidation_0-logloss:0.338433\n",
            "[106]\tvalidation_0-logloss:0.338323\n",
            "[107]\tvalidation_0-logloss:0.338548\n",
            "[108]\tvalidation_0-logloss:0.338895\n",
            "[109]\tvalidation_0-logloss:0.33901\n",
            "[110]\tvalidation_0-logloss:0.338506\n",
            "[111]\tvalidation_0-logloss:0.338718\n",
            "[112]\tvalidation_0-logloss:0.339096\n",
            "[113]\tvalidation_0-logloss:0.339088\n",
            "[114]\tvalidation_0-logloss:0.339217\n",
            "[115]\tvalidation_0-logloss:0.339419\n",
            "[116]\tvalidation_0-logloss:0.33944\n",
            "[117]\tvalidation_0-logloss:0.339758\n",
            "[118]\tvalidation_0-logloss:0.339965\n",
            "[119]\tvalidation_0-logloss:0.339972\n",
            "[120]\tvalidation_0-logloss:0.339974\n",
            "[121]\tvalidation_0-logloss:0.340172\n",
            "[122]\tvalidation_0-logloss:0.340367\n",
            "[123]\tvalidation_0-logloss:0.340756\n",
            "[124]\tvalidation_0-logloss:0.340932\n",
            "[125]\tvalidation_0-logloss:0.341168\n",
            "[126]\tvalidation_0-logloss:0.341188\n",
            "[127]\tvalidation_0-logloss:0.341375\n",
            "[128]\tvalidation_0-logloss:0.341661\n",
            "[129]\tvalidation_0-logloss:0.342079\n",
            "[130]\tvalidation_0-logloss:0.342315\n",
            "[131]\tvalidation_0-logloss:0.342553\n",
            "[132]\tvalidation_0-logloss:0.342446\n",
            "[133]\tvalidation_0-logloss:0.34269\n",
            "[134]\tvalidation_0-logloss:0.342844\n",
            "[135]\tvalidation_0-logloss:0.342812\n",
            "[136]\tvalidation_0-logloss:0.343174\n",
            "[137]\tvalidation_0-logloss:0.343448\n",
            "[138]\tvalidation_0-logloss:0.343352\n",
            "[139]\tvalidation_0-logloss:0.34327\n",
            "[140]\tvalidation_0-logloss:0.343199\n",
            "[141]\tvalidation_0-logloss:0.343549\n",
            "[142]\tvalidation_0-logloss:0.343495\n",
            "[143]\tvalidation_0-logloss:0.343423\n",
            "[144]\tvalidation_0-logloss:0.343626\n",
            "[145]\tvalidation_0-logloss:0.343212\n",
            "[146]\tvalidation_0-logloss:0.343588\n",
            "[147]\tvalidation_0-logloss:0.343402\n",
            "[148]\tvalidation_0-logloss:0.343607\n",
            "[149]\tvalidation_0-logloss:0.343834\n",
            "[150]\tvalidation_0-logloss:0.34414\n",
            "[151]\tvalidation_0-logloss:0.344351\n",
            "[152]\tvalidation_0-logloss:0.344477\n",
            "[153]\tvalidation_0-logloss:0.344142\n",
            "[154]\tvalidation_0-logloss:0.344275\n",
            "[155]\tvalidation_0-logloss:0.34441\n",
            "[156]\tvalidation_0-logloss:0.344699\n",
            "[157]\tvalidation_0-logloss:0.345075\n",
            "[158]\tvalidation_0-logloss:0.345357\n",
            "[159]\tvalidation_0-logloss:0.34548\n",
            "[160]\tvalidation_0-logloss:0.345786\n",
            "[161]\tvalidation_0-logloss:0.345832\n",
            "[162]\tvalidation_0-logloss:0.345896\n",
            "[163]\tvalidation_0-logloss:0.346049\n",
            "[164]\tvalidation_0-logloss:0.346149\n",
            "[165]\tvalidation_0-logloss:0.34608\n",
            "[166]\tvalidation_0-logloss:0.345904\n",
            "[167]\tvalidation_0-logloss:0.345649\n",
            "[168]\tvalidation_0-logloss:0.345891\n",
            "[169]\tvalidation_0-logloss:0.345922\n",
            "[170]\tvalidation_0-logloss:0.345819\n",
            "[171]\tvalidation_0-logloss:0.345999\n",
            "[172]\tvalidation_0-logloss:0.346114\n",
            "[173]\tvalidation_0-logloss:0.346225\n",
            "[174]\tvalidation_0-logloss:0.346064\n",
            "[175]\tvalidation_0-logloss:0.34606\n",
            "[176]\tvalidation_0-logloss:0.346162\n",
            "[177]\tvalidation_0-logloss:0.346459\n",
            "[178]\tvalidation_0-logloss:0.346794\n",
            "[179]\tvalidation_0-logloss:0.346664\n",
            "[180]\tvalidation_0-logloss:0.34668\n",
            "[181]\tvalidation_0-logloss:0.346577\n",
            "[182]\tvalidation_0-logloss:0.346529\n",
            "[183]\tvalidation_0-logloss:0.346804\n",
            "[184]\tvalidation_0-logloss:0.347046\n",
            "[185]\tvalidation_0-logloss:0.347043\n",
            "[186]\tvalidation_0-logloss:0.346923\n",
            "[187]\tvalidation_0-logloss:0.347216\n",
            "[188]\tvalidation_0-logloss:0.347372\n",
            "[189]\tvalidation_0-logloss:0.347672\n",
            "[190]\tvalidation_0-logloss:0.347545\n",
            "[191]\tvalidation_0-logloss:0.347712\n",
            "[192]\tvalidation_0-logloss:0.347616\n",
            "[193]\tvalidation_0-logloss:0.347709\n",
            "[194]\tvalidation_0-logloss:0.347773\n",
            "[195]\tvalidation_0-logloss:0.347686\n",
            "[196]\tvalidation_0-logloss:0.347804\n",
            "[197]\tvalidation_0-logloss:0.347707\n",
            "[198]\tvalidation_0-logloss:0.347886\n",
            "[199]\tvalidation_0-logloss:0.348058\n",
            "[200]\tvalidation_0-logloss:0.348124\n",
            "[201]\tvalidation_0-logloss:0.347856\n",
            "[202]\tvalidation_0-logloss:0.347804\n",
            "[203]\tvalidation_0-logloss:0.347202\n",
            "[204]\tvalidation_0-logloss:0.347194\n",
            "[205]\tvalidation_0-logloss:0.347097\n",
            "[206]\tvalidation_0-logloss:0.347276\n",
            "[207]\tvalidation_0-logloss:0.347369\n",
            "[208]\tvalidation_0-logloss:0.347111\n",
            "[209]\tvalidation_0-logloss:0.347061\n",
            "[210]\tvalidation_0-logloss:0.347187\n",
            "[211]\tvalidation_0-logloss:0.346697\n",
            "[212]\tvalidation_0-logloss:0.346642\n",
            "[213]\tvalidation_0-logloss:0.346561\n",
            "[214]\tvalidation_0-logloss:0.346562\n",
            "[215]\tvalidation_0-logloss:0.346396\n",
            "[216]\tvalidation_0-logloss:0.346412\n",
            "[217]\tvalidation_0-logloss:0.34642\n",
            "[218]\tvalidation_0-logloss:0.346541\n",
            "[219]\tvalidation_0-logloss:0.346591\n",
            "[220]\tvalidation_0-logloss:0.347291\n",
            "[221]\tvalidation_0-logloss:0.347301\n",
            "[222]\tvalidation_0-logloss:0.347421\n",
            "[223]\tvalidation_0-logloss:0.347233\n",
            "[224]\tvalidation_0-logloss:0.347158\n",
            "[225]\tvalidation_0-logloss:0.347525\n",
            "[226]\tvalidation_0-logloss:0.347685\n",
            "[227]\tvalidation_0-logloss:0.347908\n",
            "[228]\tvalidation_0-logloss:0.348174\n",
            "[229]\tvalidation_0-logloss:0.348278\n",
            "[230]\tvalidation_0-logloss:0.348274\n",
            "[231]\tvalidation_0-logloss:0.348464\n",
            "[232]\tvalidation_0-logloss:0.348404\n",
            "[233]\tvalidation_0-logloss:0.348408\n",
            "[234]\tvalidation_0-logloss:0.348595\n",
            "[235]\tvalidation_0-logloss:0.348755\n",
            "[236]\tvalidation_0-logloss:0.348742\n",
            "[237]\tvalidation_0-logloss:0.348539\n",
            "[238]\tvalidation_0-logloss:0.348495\n",
            "[239]\tvalidation_0-logloss:0.348424\n",
            "[240]\tvalidation_0-logloss:0.348625\n",
            "[241]\tvalidation_0-logloss:0.348571\n",
            "[242]\tvalidation_0-logloss:0.348566\n",
            "[243]\tvalidation_0-logloss:0.348489\n",
            "[244]\tvalidation_0-logloss:0.348579\n",
            "[245]\tvalidation_0-logloss:0.348493\n",
            "[246]\tvalidation_0-logloss:0.348609\n",
            "[247]\tvalidation_0-logloss:0.348363\n",
            "[248]\tvalidation_0-logloss:0.348332\n",
            "[249]\tvalidation_0-logloss:0.348423\n",
            "[250]\tvalidation_0-logloss:0.34842\n",
            "[251]\tvalidation_0-logloss:0.348041\n",
            "[252]\tvalidation_0-logloss:0.348414\n",
            "[253]\tvalidation_0-logloss:0.348431\n",
            "[254]\tvalidation_0-logloss:0.348359\n",
            "[255]\tvalidation_0-logloss:0.348537\n",
            "[256]\tvalidation_0-logloss:0.348561\n",
            "[257]\tvalidation_0-logloss:0.348397\n",
            "[258]\tvalidation_0-logloss:0.348502\n",
            "[259]\tvalidation_0-logloss:0.348242\n",
            "[260]\tvalidation_0-logloss:0.348679\n",
            "[261]\tvalidation_0-logloss:0.348721\n",
            "[262]\tvalidation_0-logloss:0.348773\n",
            "[263]\tvalidation_0-logloss:0.348793\n",
            "[264]\tvalidation_0-logloss:0.348877\n",
            "[265]\tvalidation_0-logloss:0.348647\n",
            "[266]\tvalidation_0-logloss:0.3488\n",
            "[267]\tvalidation_0-logloss:0.348747\n",
            "[268]\tvalidation_0-logloss:0.348844\n",
            "[269]\tvalidation_0-logloss:0.348898\n",
            "[270]\tvalidation_0-logloss:0.349003\n",
            "[271]\tvalidation_0-logloss:0.348977\n",
            "[272]\tvalidation_0-logloss:0.348942\n",
            "[273]\tvalidation_0-logloss:0.349097\n",
            "[274]\tvalidation_0-logloss:0.349129\n",
            "[275]\tvalidation_0-logloss:0.349588\n",
            "[276]\tvalidation_0-logloss:0.349417\n",
            "[277]\tvalidation_0-logloss:0.349442\n",
            "[278]\tvalidation_0-logloss:0.349432\n",
            "[279]\tvalidation_0-logloss:0.349345\n",
            "[280]\tvalidation_0-logloss:0.349324\n",
            "[281]\tvalidation_0-logloss:0.349552\n",
            "[282]\tvalidation_0-logloss:0.349225\n",
            "[283]\tvalidation_0-logloss:0.34945\n",
            "[284]\tvalidation_0-logloss:0.349527\n",
            "[285]\tvalidation_0-logloss:0.349739\n",
            "[286]\tvalidation_0-logloss:0.349905\n",
            "[287]\tvalidation_0-logloss:0.349794\n",
            "[288]\tvalidation_0-logloss:0.350057\n",
            "[289]\tvalidation_0-logloss:0.350205\n",
            "[290]\tvalidation_0-logloss:0.350347\n",
            "[291]\tvalidation_0-logloss:0.350366\n",
            "[292]\tvalidation_0-logloss:0.350488\n",
            "[293]\tvalidation_0-logloss:0.350735\n",
            "[294]\tvalidation_0-logloss:0.350768\n",
            "[295]\tvalidation_0-logloss:0.35075\n",
            "[296]\tvalidation_0-logloss:0.350738\n",
            "[297]\tvalidation_0-logloss:0.350728\n",
            "[298]\tvalidation_0-logloss:0.350997\n",
            "[299]\tvalidation_0-logloss:0.351401\n",
            "[300]\tvalidation_0-logloss:0.351386\n",
            "[301]\tvalidation_0-logloss:0.351524\n",
            "[302]\tvalidation_0-logloss:0.351588\n",
            "[303]\tvalidation_0-logloss:0.351829\n",
            "[304]\tvalidation_0-logloss:0.352351\n",
            "[305]\tvalidation_0-logloss:0.352328\n",
            "[306]\tvalidation_0-logloss:0.352358\n",
            "[307]\tvalidation_0-logloss:0.352869\n",
            "[308]\tvalidation_0-logloss:0.352808\n",
            "[309]\tvalidation_0-logloss:0.352944\n",
            "[310]\tvalidation_0-logloss:0.353092\n",
            "[311]\tvalidation_0-logloss:0.353588\n",
            "[312]\tvalidation_0-logloss:0.353644\n",
            "[313]\tvalidation_0-logloss:0.354116\n",
            "[314]\tvalidation_0-logloss:0.3541\n",
            "[315]\tvalidation_0-logloss:0.354022\n",
            "[316]\tvalidation_0-logloss:0.354039\n",
            "[317]\tvalidation_0-logloss:0.353837\n",
            "[318]\tvalidation_0-logloss:0.353777\n",
            "[319]\tvalidation_0-logloss:0.35396\n",
            "[320]\tvalidation_0-logloss:0.35425\n",
            "[321]\tvalidation_0-logloss:0.354707\n",
            "[322]\tvalidation_0-logloss:0.354771\n",
            "[323]\tvalidation_0-logloss:0.354607\n",
            "[324]\tvalidation_0-logloss:0.354432\n",
            "[325]\tvalidation_0-logloss:0.354173\n",
            "[326]\tvalidation_0-logloss:0.354513\n",
            "[327]\tvalidation_0-logloss:0.354397\n",
            "[328]\tvalidation_0-logloss:0.354592\n",
            "[329]\tvalidation_0-logloss:0.354545\n",
            "[330]\tvalidation_0-logloss:0.354694\n",
            "[331]\tvalidation_0-logloss:0.355073\n",
            "[332]\tvalidation_0-logloss:0.355423\n",
            "[333]\tvalidation_0-logloss:0.355632\n",
            "[334]\tvalidation_0-logloss:0.355653\n",
            "[335]\tvalidation_0-logloss:0.355522\n",
            "[336]\tvalidation_0-logloss:0.355648\n",
            "[337]\tvalidation_0-logloss:0.35572\n",
            "[338]\tvalidation_0-logloss:0.355779\n",
            "[339]\tvalidation_0-logloss:0.356225\n",
            "[340]\tvalidation_0-logloss:0.356122\n",
            "[341]\tvalidation_0-logloss:0.356061\n",
            "[342]\tvalidation_0-logloss:0.356365\n",
            "[343]\tvalidation_0-logloss:0.35671\n",
            "[344]\tvalidation_0-logloss:0.357016\n",
            "[345]\tvalidation_0-logloss:0.357435\n",
            "[346]\tvalidation_0-logloss:0.357354\n",
            "[347]\tvalidation_0-logloss:0.357188\n",
            "[348]\tvalidation_0-logloss:0.357097\n",
            "[349]\tvalidation_0-logloss:0.357181\n",
            "[350]\tvalidation_0-logloss:0.357573\n",
            "[351]\tvalidation_0-logloss:0.357792\n",
            "[352]\tvalidation_0-logloss:0.358115\n",
            "[353]\tvalidation_0-logloss:0.358133\n",
            "[354]\tvalidation_0-logloss:0.358183\n",
            "[355]\tvalidation_0-logloss:0.358193\n",
            "[356]\tvalidation_0-logloss:0.358306\n",
            "[357]\tvalidation_0-logloss:0.358323\n",
            "[358]\tvalidation_0-logloss:0.358467\n",
            "[359]\tvalidation_0-logloss:0.358775\n",
            "[360]\tvalidation_0-logloss:0.359089\n",
            "[361]\tvalidation_0-logloss:0.359098\n",
            "[362]\tvalidation_0-logloss:0.358983\n",
            "[363]\tvalidation_0-logloss:0.359048\n",
            "[364]\tvalidation_0-logloss:0.358965\n",
            "[365]\tvalidation_0-logloss:0.358816\n",
            "[366]\tvalidation_0-logloss:0.35876\n",
            "[367]\tvalidation_0-logloss:0.358613\n",
            "[368]\tvalidation_0-logloss:0.358559\n",
            "[369]\tvalidation_0-logloss:0.358662\n",
            "[370]\tvalidation_0-logloss:0.358755\n",
            "[371]\tvalidation_0-logloss:0.358603\n",
            "[372]\tvalidation_0-logloss:0.358347\n",
            "[373]\tvalidation_0-logloss:0.358373\n",
            "[374]\tvalidation_0-logloss:0.358418\n",
            "[375]\tvalidation_0-logloss:0.358527\n",
            "[376]\tvalidation_0-logloss:0.358616\n",
            "[377]\tvalidation_0-logloss:0.358833\n",
            "[378]\tvalidation_0-logloss:0.358745\n",
            "[379]\tvalidation_0-logloss:0.359031\n",
            "[380]\tvalidation_0-logloss:0.359033\n",
            "[381]\tvalidation_0-logloss:0.358953\n",
            "[382]\tvalidation_0-logloss:0.359323\n",
            "[383]\tvalidation_0-logloss:0.359277\n",
            "[384]\tvalidation_0-logloss:0.359297\n",
            "[385]\tvalidation_0-logloss:0.359348\n",
            "[386]\tvalidation_0-logloss:0.359461\n",
            "[387]\tvalidation_0-logloss:0.359547\n",
            "[388]\tvalidation_0-logloss:0.359551\n",
            "[389]\tvalidation_0-logloss:0.359557\n",
            "[390]\tvalidation_0-logloss:0.35966\n",
            "[391]\tvalidation_0-logloss:0.359648\n",
            "[392]\tvalidation_0-logloss:0.359655\n",
            "[393]\tvalidation_0-logloss:0.359712\n",
            "[394]\tvalidation_0-logloss:0.359691\n",
            "[395]\tvalidation_0-logloss:0.359611\n",
            "[396]\tvalidation_0-logloss:0.359707\n",
            "[397]\tvalidation_0-logloss:0.359653\n",
            "[398]\tvalidation_0-logloss:0.359594\n",
            "[399]\tvalidation_0-logloss:0.359494\n"
          ],
          "name": "stdout"
        }
      ]
    },
    {
      "cell_type": "code",
      "metadata": {
        "id": "f7ScHFV585Kj",
        "colab": {
          "base_uri": "https://localhost:8080/",
          "height": 92
        },
        "outputId": "f3d3846e-b1bb-4e0d-c0a7-6b88121bc104"
      },
      "source": [
        "get_clf_eval(y_test , w_preds, w_pred_proba)"
      ],
      "execution_count": null,
      "outputs": [
        {
          "output_type": "stream",
          "text": [
            "오차 행렬\n",
            "[[110   8]\n",
            " [ 13  48]]\n",
            "정확도: 0.8827, 정밀도: 0.8571, 재현율: 0.7869,    F1: 0.8205, AUC:0.9071\n"
          ],
          "name": "stdout"
        }
      ]
    },
    {
      "cell_type": "code",
      "metadata": {
        "id": "ZpWn9oHt87eJ",
        "colab": {
          "base_uri": "https://localhost:8080/",
          "height": 1000
        },
        "outputId": "9dfb7ab9-aa7d-4781-ee65-c2c9e5887c8a"
      },
      "source": [
        "from xgboost import XGBClassifier\n",
        "\n",
        "xgb_wrapper = XGBClassifier(n_estimators=400, learning_rate=0.1, max_depth=3)\n",
        "\n",
        "evals = [(X_test, y_test)]\n",
        "xgb_wrapper.fit(X_train, y_train, early_stopping_rounds=10, eval_metric=\"logloss\", \n",
        "                eval_set=evals, verbose=True)\n",
        "\n",
        "ws100_preds = xgb_wrapper.predict(X_test)\n",
        "ws100_pred_proba = xgb_wrapper.predict_proba(X_test)[:, 1]"
      ],
      "execution_count": null,
      "outputs": [
        {
          "output_type": "stream",
          "text": [
            "[0]\tvalidation_0-logloss:0.643399\n",
            "Will train until validation_0-logloss hasn't improved in 10 rounds.\n",
            "[1]\tvalidation_0-logloss:0.602906\n",
            "[2]\tvalidation_0-logloss:0.568271\n",
            "[3]\tvalidation_0-logloss:0.538974\n",
            "[4]\tvalidation_0-logloss:0.514\n",
            "[5]\tvalidation_0-logloss:0.493242\n",
            "[6]\tvalidation_0-logloss:0.474829\n",
            "[7]\tvalidation_0-logloss:0.459351\n",
            "[8]\tvalidation_0-logloss:0.445592\n",
            "[9]\tvalidation_0-logloss:0.434193\n",
            "[10]\tvalidation_0-logloss:0.423848\n",
            "[11]\tvalidation_0-logloss:0.414975\n",
            "[12]\tvalidation_0-logloss:0.407801\n",
            "[13]\tvalidation_0-logloss:0.401289\n",
            "[14]\tvalidation_0-logloss:0.396007\n",
            "[15]\tvalidation_0-logloss:0.391512\n",
            "[16]\tvalidation_0-logloss:0.386384\n",
            "[17]\tvalidation_0-logloss:0.383379\n",
            "[18]\tvalidation_0-logloss:0.381062\n",
            "[19]\tvalidation_0-logloss:0.376456\n",
            "[20]\tvalidation_0-logloss:0.37457\n",
            "[21]\tvalidation_0-logloss:0.370887\n",
            "[22]\tvalidation_0-logloss:0.369303\n",
            "[23]\tvalidation_0-logloss:0.367063\n",
            "[24]\tvalidation_0-logloss:0.364772\n",
            "[25]\tvalidation_0-logloss:0.363056\n",
            "[26]\tvalidation_0-logloss:0.360728\n",
            "[27]\tvalidation_0-logloss:0.358987\n",
            "[28]\tvalidation_0-logloss:0.357718\n",
            "[29]\tvalidation_0-logloss:0.357394\n",
            "[30]\tvalidation_0-logloss:0.355259\n",
            "[31]\tvalidation_0-logloss:0.353483\n",
            "[32]\tvalidation_0-logloss:0.35163\n",
            "[33]\tvalidation_0-logloss:0.350711\n",
            "[34]\tvalidation_0-logloss:0.350162\n",
            "[35]\tvalidation_0-logloss:0.349356\n",
            "[36]\tvalidation_0-logloss:0.3477\n",
            "[37]\tvalidation_0-logloss:0.347608\n",
            "[38]\tvalidation_0-logloss:0.346165\n",
            "[39]\tvalidation_0-logloss:0.345656\n",
            "[40]\tvalidation_0-logloss:0.34444\n",
            "[41]\tvalidation_0-logloss:0.344431\n",
            "[42]\tvalidation_0-logloss:0.343135\n",
            "[43]\tvalidation_0-logloss:0.342913\n",
            "[44]\tvalidation_0-logloss:0.342504\n",
            "[45]\tvalidation_0-logloss:0.342379\n",
            "[46]\tvalidation_0-logloss:0.341299\n",
            "[47]\tvalidation_0-logloss:0.341013\n",
            "[48]\tvalidation_0-logloss:0.341072\n",
            "[49]\tvalidation_0-logloss:0.340644\n",
            "[50]\tvalidation_0-logloss:0.339859\n",
            "[51]\tvalidation_0-logloss:0.339486\n",
            "[52]\tvalidation_0-logloss:0.338746\n",
            "[53]\tvalidation_0-logloss:0.338442\n",
            "[54]\tvalidation_0-logloss:0.338283\n",
            "[55]\tvalidation_0-logloss:0.337989\n",
            "[56]\tvalidation_0-logloss:0.337082\n",
            "[57]\tvalidation_0-logloss:0.336971\n",
            "[58]\tvalidation_0-logloss:0.336356\n",
            "[59]\tvalidation_0-logloss:0.336391\n",
            "[60]\tvalidation_0-logloss:0.33579\n",
            "[61]\tvalidation_0-logloss:0.335655\n",
            "[62]\tvalidation_0-logloss:0.335559\n",
            "[63]\tvalidation_0-logloss:0.335595\n",
            "[64]\tvalidation_0-logloss:0.335376\n",
            "[65]\tvalidation_0-logloss:0.335009\n",
            "[66]\tvalidation_0-logloss:0.335106\n",
            "[67]\tvalidation_0-logloss:0.335147\n",
            "[68]\tvalidation_0-logloss:0.335197\n",
            "[69]\tvalidation_0-logloss:0.334907\n",
            "[70]\tvalidation_0-logloss:0.335291\n",
            "[71]\tvalidation_0-logloss:0.33493\n",
            "[72]\tvalidation_0-logloss:0.335052\n",
            "[73]\tvalidation_0-logloss:0.334985\n",
            "[74]\tvalidation_0-logloss:0.335183\n",
            "[75]\tvalidation_0-logloss:0.335102\n",
            "[76]\tvalidation_0-logloss:0.335043\n",
            "[77]\tvalidation_0-logloss:0.33534\n",
            "[78]\tvalidation_0-logloss:0.335531\n",
            "[79]\tvalidation_0-logloss:0.335887\n",
            "Stopping. Best iteration:\n",
            "[69]\tvalidation_0-logloss:0.334907\n",
            "\n"
          ],
          "name": "stdout"
        }
      ]
    },
    {
      "cell_type": "code",
      "metadata": {
        "id": "G4GpjLfX9Poy",
        "colab": {
          "base_uri": "https://localhost:8080/",
          "height": 1000
        },
        "outputId": "ae05a1bb-1873-4db0-d5f9-ebfd6e160310"
      },
      "source": [
        "import lightgbm\n",
        "# LightGBM의 파이썬 패키지인 lightgbm에서 LGBMClassifier 임포트\n",
        "from lightgbm import LGBMClassifier\n",
        "\n",
        "import pandas as pd\n",
        "import numpy as np\n",
        "\n",
        "from sklearn.datasets import load_breast_cancer\n",
        "from sklearn.model_selection import train_test_split\n",
        "\n",
        "# 앞서 XGBoost와 동일하게 n_estimators는 400 설정. \n",
        "lgbm_wrapper = LGBMClassifier(n_estimators=400)\n",
        "\n",
        "# LightGBM도 XGBoost와 동일하게 조기 중단 수행 가능. \n",
        "evals = [(X_test, y_test)]\n",
        "lgbm_wrapper.fit(X_train, y_train, early_stopping_rounds=100, eval_metric=\"logloss\", \n",
        "                 eval_set=evals, verbose=True)\n",
        "\n",
        "preds = lgbm_wrapper.predict(X_test)\n",
        "pred_proba = lgbm_wrapper.predict_proba(X_test)[:, 1]"
      ],
      "execution_count": null,
      "outputs": [
        {
          "output_type": "stream",
          "text": [
            "[1]\tvalid_0's binary_logloss: 0.601077\tvalid_0's binary_logloss: 0.601077\n",
            "Training until validation scores don't improve for 100 rounds.\n",
            "[2]\tvalid_0's binary_logloss: 0.566887\tvalid_0's binary_logloss: 0.566887\n",
            "[3]\tvalid_0's binary_logloss: 0.538183\tvalid_0's binary_logloss: 0.538183\n",
            "[4]\tvalid_0's binary_logloss: 0.511515\tvalid_0's binary_logloss: 0.511515\n",
            "[5]\tvalid_0's binary_logloss: 0.489168\tvalid_0's binary_logloss: 0.489168\n",
            "[6]\tvalid_0's binary_logloss: 0.470152\tvalid_0's binary_logloss: 0.470152\n",
            "[7]\tvalid_0's binary_logloss: 0.453582\tvalid_0's binary_logloss: 0.453582\n",
            "[8]\tvalid_0's binary_logloss: 0.440052\tvalid_0's binary_logloss: 0.440052\n",
            "[9]\tvalid_0's binary_logloss: 0.427732\tvalid_0's binary_logloss: 0.427732\n",
            "[10]\tvalid_0's binary_logloss: 0.41726\tvalid_0's binary_logloss: 0.41726\n",
            "[11]\tvalid_0's binary_logloss: 0.407982\tvalid_0's binary_logloss: 0.407982\n",
            "[12]\tvalid_0's binary_logloss: 0.400206\tvalid_0's binary_logloss: 0.400206\n",
            "[13]\tvalid_0's binary_logloss: 0.393244\tvalid_0's binary_logloss: 0.393244\n",
            "[14]\tvalid_0's binary_logloss: 0.387179\tvalid_0's binary_logloss: 0.387179\n",
            "[15]\tvalid_0's binary_logloss: 0.380892\tvalid_0's binary_logloss: 0.380892\n",
            "[16]\tvalid_0's binary_logloss: 0.376722\tvalid_0's binary_logloss: 0.376722\n",
            "[17]\tvalid_0's binary_logloss: 0.371452\tvalid_0's binary_logloss: 0.371452\n",
            "[18]\tvalid_0's binary_logloss: 0.367501\tvalid_0's binary_logloss: 0.367501\n",
            "[19]\tvalid_0's binary_logloss: 0.362951\tvalid_0's binary_logloss: 0.362951\n",
            "[20]\tvalid_0's binary_logloss: 0.35897\tvalid_0's binary_logloss: 0.35897\n",
            "[21]\tvalid_0's binary_logloss: 0.355272\tvalid_0's binary_logloss: 0.355272\n",
            "[22]\tvalid_0's binary_logloss: 0.352859\tvalid_0's binary_logloss: 0.352859\n",
            "[23]\tvalid_0's binary_logloss: 0.351174\tvalid_0's binary_logloss: 0.351174\n",
            "[24]\tvalid_0's binary_logloss: 0.349464\tvalid_0's binary_logloss: 0.349464\n",
            "[25]\tvalid_0's binary_logloss: 0.348036\tvalid_0's binary_logloss: 0.348036\n",
            "[26]\tvalid_0's binary_logloss: 0.34715\tvalid_0's binary_logloss: 0.34715\n",
            "[27]\tvalid_0's binary_logloss: 0.3455\tvalid_0's binary_logloss: 0.3455\n",
            "[28]\tvalid_0's binary_logloss: 0.344586\tvalid_0's binary_logloss: 0.344586\n",
            "[29]\tvalid_0's binary_logloss: 0.343081\tvalid_0's binary_logloss: 0.343081\n",
            "[30]\tvalid_0's binary_logloss: 0.341979\tvalid_0's binary_logloss: 0.341979\n",
            "[31]\tvalid_0's binary_logloss: 0.340638\tvalid_0's binary_logloss: 0.340638\n",
            "[32]\tvalid_0's binary_logloss: 0.339939\tvalid_0's binary_logloss: 0.339939\n",
            "[33]\tvalid_0's binary_logloss: 0.339691\tvalid_0's binary_logloss: 0.339691\n",
            "[34]\tvalid_0's binary_logloss: 0.340013\tvalid_0's binary_logloss: 0.340013\n",
            "[35]\tvalid_0's binary_logloss: 0.339913\tvalid_0's binary_logloss: 0.339913\n",
            "[36]\tvalid_0's binary_logloss: 0.340134\tvalid_0's binary_logloss: 0.340134\n",
            "[37]\tvalid_0's binary_logloss: 0.339718\tvalid_0's binary_logloss: 0.339718\n",
            "[38]\tvalid_0's binary_logloss: 0.339936\tvalid_0's binary_logloss: 0.339936\n",
            "[39]\tvalid_0's binary_logloss: 0.340294\tvalid_0's binary_logloss: 0.340294\n",
            "[40]\tvalid_0's binary_logloss: 0.340711\tvalid_0's binary_logloss: 0.340711\n",
            "[41]\tvalid_0's binary_logloss: 0.340113\tvalid_0's binary_logloss: 0.340113\n",
            "[42]\tvalid_0's binary_logloss: 0.340727\tvalid_0's binary_logloss: 0.340727\n",
            "[43]\tvalid_0's binary_logloss: 0.341267\tvalid_0's binary_logloss: 0.341267\n",
            "[44]\tvalid_0's binary_logloss: 0.341719\tvalid_0's binary_logloss: 0.341719\n",
            "[45]\tvalid_0's binary_logloss: 0.34227\tvalid_0's binary_logloss: 0.34227\n",
            "[46]\tvalid_0's binary_logloss: 0.342639\tvalid_0's binary_logloss: 0.342639\n",
            "[47]\tvalid_0's binary_logloss: 0.341734\tvalid_0's binary_logloss: 0.341734\n",
            "[48]\tvalid_0's binary_logloss: 0.341274\tvalid_0's binary_logloss: 0.341274\n",
            "[49]\tvalid_0's binary_logloss: 0.342056\tvalid_0's binary_logloss: 0.342056\n",
            "[50]\tvalid_0's binary_logloss: 0.342375\tvalid_0's binary_logloss: 0.342375\n",
            "[51]\tvalid_0's binary_logloss: 0.342031\tvalid_0's binary_logloss: 0.342031\n",
            "[52]\tvalid_0's binary_logloss: 0.343924\tvalid_0's binary_logloss: 0.343924\n",
            "[53]\tvalid_0's binary_logloss: 0.344461\tvalid_0's binary_logloss: 0.344461\n",
            "[54]\tvalid_0's binary_logloss: 0.34448\tvalid_0's binary_logloss: 0.34448\n",
            "[55]\tvalid_0's binary_logloss: 0.344446\tvalid_0's binary_logloss: 0.344446\n",
            "[56]\tvalid_0's binary_logloss: 0.344887\tvalid_0's binary_logloss: 0.344887\n",
            "[57]\tvalid_0's binary_logloss: 0.345344\tvalid_0's binary_logloss: 0.345344\n",
            "[58]\tvalid_0's binary_logloss: 0.345633\tvalid_0's binary_logloss: 0.345633\n",
            "[59]\tvalid_0's binary_logloss: 0.346129\tvalid_0's binary_logloss: 0.346129\n",
            "[60]\tvalid_0's binary_logloss: 0.346369\tvalid_0's binary_logloss: 0.346369\n",
            "[61]\tvalid_0's binary_logloss: 0.347022\tvalid_0's binary_logloss: 0.347022\n",
            "[62]\tvalid_0's binary_logloss: 0.347342\tvalid_0's binary_logloss: 0.347342\n",
            "[63]\tvalid_0's binary_logloss: 0.347539\tvalid_0's binary_logloss: 0.347539\n",
            "[64]\tvalid_0's binary_logloss: 0.346547\tvalid_0's binary_logloss: 0.346547\n",
            "[65]\tvalid_0's binary_logloss: 0.34625\tvalid_0's binary_logloss: 0.34625\n",
            "[66]\tvalid_0's binary_logloss: 0.346786\tvalid_0's binary_logloss: 0.346786\n",
            "[67]\tvalid_0's binary_logloss: 0.348519\tvalid_0's binary_logloss: 0.348519\n",
            "[68]\tvalid_0's binary_logloss: 0.350014\tvalid_0's binary_logloss: 0.350014\n",
            "[69]\tvalid_0's binary_logloss: 0.350369\tvalid_0's binary_logloss: 0.350369\n",
            "[70]\tvalid_0's binary_logloss: 0.350907\tvalid_0's binary_logloss: 0.350907\n",
            "[71]\tvalid_0's binary_logloss: 0.352048\tvalid_0's binary_logloss: 0.352048\n",
            "[72]\tvalid_0's binary_logloss: 0.351992\tvalid_0's binary_logloss: 0.351992\n",
            "[73]\tvalid_0's binary_logloss: 0.351702\tvalid_0's binary_logloss: 0.351702\n",
            "[74]\tvalid_0's binary_logloss: 0.351637\tvalid_0's binary_logloss: 0.351637\n",
            "[75]\tvalid_0's binary_logloss: 0.35215\tvalid_0's binary_logloss: 0.35215\n",
            "[76]\tvalid_0's binary_logloss: 0.352969\tvalid_0's binary_logloss: 0.352969\n",
            "[77]\tvalid_0's binary_logloss: 0.352753\tvalid_0's binary_logloss: 0.352753\n",
            "[78]\tvalid_0's binary_logloss: 0.353631\tvalid_0's binary_logloss: 0.353631\n",
            "[79]\tvalid_0's binary_logloss: 0.352915\tvalid_0's binary_logloss: 0.352915\n",
            "[80]\tvalid_0's binary_logloss: 0.355379\tvalid_0's binary_logloss: 0.355379\n",
            "[81]\tvalid_0's binary_logloss: 0.357671\tvalid_0's binary_logloss: 0.357671\n",
            "[82]\tvalid_0's binary_logloss: 0.358915\tvalid_0's binary_logloss: 0.358915\n",
            "[83]\tvalid_0's binary_logloss: 0.358877\tvalid_0's binary_logloss: 0.358877\n",
            "[84]\tvalid_0's binary_logloss: 0.359079\tvalid_0's binary_logloss: 0.359079\n",
            "[85]\tvalid_0's binary_logloss: 0.35913\tvalid_0's binary_logloss: 0.35913\n",
            "[86]\tvalid_0's binary_logloss: 0.359264\tvalid_0's binary_logloss: 0.359264\n",
            "[87]\tvalid_0's binary_logloss: 0.359455\tvalid_0's binary_logloss: 0.359455\n",
            "[88]\tvalid_0's binary_logloss: 0.359322\tvalid_0's binary_logloss: 0.359322\n",
            "[89]\tvalid_0's binary_logloss: 0.359798\tvalid_0's binary_logloss: 0.359798\n",
            "[90]\tvalid_0's binary_logloss: 0.360534\tvalid_0's binary_logloss: 0.360534\n",
            "[91]\tvalid_0's binary_logloss: 0.36075\tvalid_0's binary_logloss: 0.36075\n",
            "[92]\tvalid_0's binary_logloss: 0.361082\tvalid_0's binary_logloss: 0.361082\n",
            "[93]\tvalid_0's binary_logloss: 0.362433\tvalid_0's binary_logloss: 0.362433\n",
            "[94]\tvalid_0's binary_logloss: 0.362474\tvalid_0's binary_logloss: 0.362474\n",
            "[95]\tvalid_0's binary_logloss: 0.362733\tvalid_0's binary_logloss: 0.362733\n",
            "[96]\tvalid_0's binary_logloss: 0.362813\tvalid_0's binary_logloss: 0.362813\n",
            "[97]\tvalid_0's binary_logloss: 0.36306\tvalid_0's binary_logloss: 0.36306\n",
            "[98]\tvalid_0's binary_logloss: 0.363578\tvalid_0's binary_logloss: 0.363578\n",
            "[99]\tvalid_0's binary_logloss: 0.363587\tvalid_0's binary_logloss: 0.363587\n",
            "[100]\tvalid_0's binary_logloss: 0.364071\tvalid_0's binary_logloss: 0.364071\n",
            "[101]\tvalid_0's binary_logloss: 0.364682\tvalid_0's binary_logloss: 0.364682\n",
            "[102]\tvalid_0's binary_logloss: 0.364875\tvalid_0's binary_logloss: 0.364875\n",
            "[103]\tvalid_0's binary_logloss: 0.365395\tvalid_0's binary_logloss: 0.365395\n",
            "[104]\tvalid_0's binary_logloss: 0.364898\tvalid_0's binary_logloss: 0.364898\n",
            "[105]\tvalid_0's binary_logloss: 0.364561\tvalid_0's binary_logloss: 0.364561\n",
            "[106]\tvalid_0's binary_logloss: 0.364547\tvalid_0's binary_logloss: 0.364547\n",
            "[107]\tvalid_0's binary_logloss: 0.364915\tvalid_0's binary_logloss: 0.364915\n",
            "[108]\tvalid_0's binary_logloss: 0.36483\tvalid_0's binary_logloss: 0.36483\n",
            "[109]\tvalid_0's binary_logloss: 0.365377\tvalid_0's binary_logloss: 0.365377\n",
            "[110]\tvalid_0's binary_logloss: 0.365154\tvalid_0's binary_logloss: 0.365154\n",
            "[111]\tvalid_0's binary_logloss: 0.367101\tvalid_0's binary_logloss: 0.367101\n",
            "[112]\tvalid_0's binary_logloss: 0.3677\tvalid_0's binary_logloss: 0.3677\n",
            "[113]\tvalid_0's binary_logloss: 0.367541\tvalid_0's binary_logloss: 0.367541\n",
            "[114]\tvalid_0's binary_logloss: 0.367543\tvalid_0's binary_logloss: 0.367543\n",
            "[115]\tvalid_0's binary_logloss: 0.368556\tvalid_0's binary_logloss: 0.368556\n",
            "[116]\tvalid_0's binary_logloss: 0.369453\tvalid_0's binary_logloss: 0.369453\n",
            "[117]\tvalid_0's binary_logloss: 0.36925\tvalid_0's binary_logloss: 0.36925\n",
            "[118]\tvalid_0's binary_logloss: 0.370591\tvalid_0's binary_logloss: 0.370591\n",
            "[119]\tvalid_0's binary_logloss: 0.37082\tvalid_0's binary_logloss: 0.37082\n",
            "[120]\tvalid_0's binary_logloss: 0.370782\tvalid_0's binary_logloss: 0.370782\n",
            "[121]\tvalid_0's binary_logloss: 0.370597\tvalid_0's binary_logloss: 0.370597\n",
            "[122]\tvalid_0's binary_logloss: 0.370723\tvalid_0's binary_logloss: 0.370723\n",
            "[123]\tvalid_0's binary_logloss: 0.370593\tvalid_0's binary_logloss: 0.370593\n",
            "[124]\tvalid_0's binary_logloss: 0.370964\tvalid_0's binary_logloss: 0.370964\n",
            "[125]\tvalid_0's binary_logloss: 0.37115\tvalid_0's binary_logloss: 0.37115\n",
            "[126]\tvalid_0's binary_logloss: 0.370897\tvalid_0's binary_logloss: 0.370897\n",
            "[127]\tvalid_0's binary_logloss: 0.37141\tvalid_0's binary_logloss: 0.37141\n",
            "[128]\tvalid_0's binary_logloss: 0.371623\tvalid_0's binary_logloss: 0.371623\n",
            "[129]\tvalid_0's binary_logloss: 0.371159\tvalid_0's binary_logloss: 0.371159\n",
            "[130]\tvalid_0's binary_logloss: 0.372721\tvalid_0's binary_logloss: 0.372721\n",
            "[131]\tvalid_0's binary_logloss: 0.373306\tvalid_0's binary_logloss: 0.373306\n",
            "[132]\tvalid_0's binary_logloss: 0.373029\tvalid_0's binary_logloss: 0.373029\n",
            "[133]\tvalid_0's binary_logloss: 0.373993\tvalid_0's binary_logloss: 0.373993\n",
            "Early stopping, best iteration is:\n",
            "[33]\tvalid_0's binary_logloss: 0.339691\tvalid_0's binary_logloss: 0.339691\n"
          ],
          "name": "stdout"
        }
      ]
    },
    {
      "cell_type": "code",
      "metadata": {
        "id": "pfxM5yx18-KM",
        "colab": {
          "base_uri": "https://localhost:8080/",
          "height": 92
        },
        "outputId": "147ecda4-124f-47d9-f99c-93d215cb3d2a"
      },
      "source": [
        "get_clf_eval(y_test , ws100_preds, ws100_pred_proba) # XGBClassifier"
      ],
      "execution_count": null,
      "outputs": [
        {
          "output_type": "stream",
          "text": [
            "오차 행렬\n",
            "[[110   8]\n",
            " [ 13  48]]\n",
            "정확도: 0.8827, 정밀도: 0.8571, 재현율: 0.7869,    F1: 0.8205, AUC:0.9071\n"
          ],
          "name": "stdout"
        }
      ]
    },
    {
      "cell_type": "code",
      "metadata": {
        "id": "y1ii5VgR9gkq",
        "colab": {
          "base_uri": "https://localhost:8080/",
          "height": 92
        },
        "outputId": "f3054ee6-bb21-4e7d-94c0-8b76d7cc4a45"
      },
      "source": [
        "get_clf_eval(y_test, preds, pred_proba) # LightGBM"
      ],
      "execution_count": null,
      "outputs": [
        {
          "output_type": "stream",
          "text": [
            "오차 행렬\n",
            "[[110   8]\n",
            " [ 13  48]]\n",
            "정확도: 0.8827, 정밀도: 0.8571, 재현율: 0.7869,    F1: 0.8205, AUC:0.9046\n"
          ],
          "name": "stdout"
        }
      ]
    },
    {
      "cell_type": "code",
      "metadata": {
        "id": "Wwg3ioLym6Xe",
        "colab": {
          "base_uri": "https://localhost:8080/",
          "height": 92
        },
        "outputId": "313e1827-9e6e-4646-de75-6ed9900737aa"
      },
      "source": [
        "svc_clf.fit(X_train , y_train)"
      ],
      "execution_count": null,
      "outputs": [
        {
          "output_type": "execute_result",
          "data": {
            "text/plain": [
              "SVC(C=1.0, break_ties=False, cache_size=200, class_weight=None, coef0=0.0,\n",
              "    decision_function_shape='ovr', degree=3, gamma='scale', kernel='rbf',\n",
              "    max_iter=-1, probability=False, random_state=None, shrinking=True,\n",
              "    tol=0.001, verbose=False)"
            ]
          },
          "metadata": {
            "tags": []
          },
          "execution_count": 66
        }
      ]
    },
    {
      "cell_type": "code",
      "metadata": {
        "id": "d7cxt3NRwOmH",
        "colab": {
          "base_uri": "https://localhost:8080/",
          "height": 415
        },
        "outputId": "318259b2-03ce-4aab-85a3-65a1b1c95ca5"
      },
      "source": [
        "titanic_train"
      ],
      "execution_count": null,
      "outputs": [
        {
          "output_type": "execute_result",
          "data": {
            "text/html": [
              "<div>\n",
              "<style scoped>\n",
              "    .dataframe tbody tr th:only-of-type {\n",
              "        vertical-align: middle;\n",
              "    }\n",
              "\n",
              "    .dataframe tbody tr th {\n",
              "        vertical-align: top;\n",
              "    }\n",
              "\n",
              "    .dataframe thead th {\n",
              "        text-align: right;\n",
              "    }\n",
              "</style>\n",
              "<table border=\"1\" class=\"dataframe\">\n",
              "  <thead>\n",
              "    <tr style=\"text-align: right;\">\n",
              "      <th></th>\n",
              "      <th>Survived</th>\n",
              "      <th>Pclass</th>\n",
              "      <th>Sex</th>\n",
              "      <th>Cabin</th>\n",
              "      <th>Embarked</th>\n",
              "      <th>Title_num</th>\n",
              "      <th>Age_cat</th>\n",
              "      <th>Family_size</th>\n",
              "      <th>Fare_cat</th>\n",
              "    </tr>\n",
              "  </thead>\n",
              "  <tbody>\n",
              "    <tr>\n",
              "      <th>0</th>\n",
              "      <td>0</td>\n",
              "      <td>3</td>\n",
              "      <td>1</td>\n",
              "      <td>7</td>\n",
              "      <td>2</td>\n",
              "      <td>0</td>\n",
              "      <td>1</td>\n",
              "      <td>1</td>\n",
              "      <td>0</td>\n",
              "    </tr>\n",
              "    <tr>\n",
              "      <th>1</th>\n",
              "      <td>1</td>\n",
              "      <td>1</td>\n",
              "      <td>0</td>\n",
              "      <td>2</td>\n",
              "      <td>0</td>\n",
              "      <td>2</td>\n",
              "      <td>2</td>\n",
              "      <td>1</td>\n",
              "      <td>3</td>\n",
              "    </tr>\n",
              "    <tr>\n",
              "      <th>2</th>\n",
              "      <td>1</td>\n",
              "      <td>3</td>\n",
              "      <td>0</td>\n",
              "      <td>7</td>\n",
              "      <td>2</td>\n",
              "      <td>1</td>\n",
              "      <td>1</td>\n",
              "      <td>0</td>\n",
              "      <td>1</td>\n",
              "    </tr>\n",
              "    <tr>\n",
              "      <th>3</th>\n",
              "      <td>1</td>\n",
              "      <td>1</td>\n",
              "      <td>0</td>\n",
              "      <td>2</td>\n",
              "      <td>2</td>\n",
              "      <td>2</td>\n",
              "      <td>2</td>\n",
              "      <td>1</td>\n",
              "      <td>3</td>\n",
              "    </tr>\n",
              "    <tr>\n",
              "      <th>4</th>\n",
              "      <td>0</td>\n",
              "      <td>3</td>\n",
              "      <td>1</td>\n",
              "      <td>7</td>\n",
              "      <td>2</td>\n",
              "      <td>0</td>\n",
              "      <td>2</td>\n",
              "      <td>0</td>\n",
              "      <td>1</td>\n",
              "    </tr>\n",
              "    <tr>\n",
              "      <th>...</th>\n",
              "      <td>...</td>\n",
              "      <td>...</td>\n",
              "      <td>...</td>\n",
              "      <td>...</td>\n",
              "      <td>...</td>\n",
              "      <td>...</td>\n",
              "      <td>...</td>\n",
              "      <td>...</td>\n",
              "      <td>...</td>\n",
              "    </tr>\n",
              "    <tr>\n",
              "      <th>886</th>\n",
              "      <td>0</td>\n",
              "      <td>2</td>\n",
              "      <td>1</td>\n",
              "      <td>7</td>\n",
              "      <td>2</td>\n",
              "      <td>3</td>\n",
              "      <td>1</td>\n",
              "      <td>0</td>\n",
              "      <td>1</td>\n",
              "    </tr>\n",
              "    <tr>\n",
              "      <th>887</th>\n",
              "      <td>1</td>\n",
              "      <td>1</td>\n",
              "      <td>0</td>\n",
              "      <td>1</td>\n",
              "      <td>2</td>\n",
              "      <td>1</td>\n",
              "      <td>1</td>\n",
              "      <td>0</td>\n",
              "      <td>2</td>\n",
              "    </tr>\n",
              "    <tr>\n",
              "      <th>888</th>\n",
              "      <td>0</td>\n",
              "      <td>3</td>\n",
              "      <td>0</td>\n",
              "      <td>7</td>\n",
              "      <td>2</td>\n",
              "      <td>1</td>\n",
              "      <td>1</td>\n",
              "      <td>3</td>\n",
              "      <td>2</td>\n",
              "    </tr>\n",
              "    <tr>\n",
              "      <th>889</th>\n",
              "      <td>1</td>\n",
              "      <td>1</td>\n",
              "      <td>1</td>\n",
              "      <td>2</td>\n",
              "      <td>0</td>\n",
              "      <td>0</td>\n",
              "      <td>1</td>\n",
              "      <td>0</td>\n",
              "      <td>2</td>\n",
              "    </tr>\n",
              "    <tr>\n",
              "      <th>890</th>\n",
              "      <td>0</td>\n",
              "      <td>3</td>\n",
              "      <td>1</td>\n",
              "      <td>7</td>\n",
              "      <td>1</td>\n",
              "      <td>0</td>\n",
              "      <td>1</td>\n",
              "      <td>0</td>\n",
              "      <td>0</td>\n",
              "    </tr>\n",
              "  </tbody>\n",
              "</table>\n",
              "<p>891 rows × 9 columns</p>\n",
              "</div>"
            ],
            "text/plain": [
              "     Survived  Pclass  Sex  Cabin  ...  Title_num  Age_cat  Family_size  Fare_cat\n",
              "0           0       3    1      7  ...          0        1            1         0\n",
              "1           1       1    0      2  ...          2        2            1         3\n",
              "2           1       3    0      7  ...          1        1            0         1\n",
              "3           1       1    0      2  ...          2        2            1         3\n",
              "4           0       3    1      7  ...          0        2            0         1\n",
              "..        ...     ...  ...    ...  ...        ...      ...          ...       ...\n",
              "886         0       2    1      7  ...          3        1            0         1\n",
              "887         1       1    0      1  ...          1        1            0         2\n",
              "888         0       3    0      7  ...          1        1            3         2\n",
              "889         1       1    1      2  ...          0        1            0         2\n",
              "890         0       3    1      7  ...          0        1            0         0\n",
              "\n",
              "[891 rows x 9 columns]"
            ]
          },
          "metadata": {
            "tags": []
          },
          "execution_count": 67
        }
      ]
    },
    {
      "cell_type": "code",
      "metadata": {
        "id": "EywZEy8bnWMx",
        "colab": {
          "base_uri": "https://localhost:8080/",
          "height": 415
        },
        "outputId": "0fb847d2-8826-4435-d739-d153d9e7cca9"
      },
      "source": [
        "titanic_test"
      ],
      "execution_count": null,
      "outputs": [
        {
          "output_type": "execute_result",
          "data": {
            "text/html": [
              "<div>\n",
              "<style scoped>\n",
              "    .dataframe tbody tr th:only-of-type {\n",
              "        vertical-align: middle;\n",
              "    }\n",
              "\n",
              "    .dataframe tbody tr th {\n",
              "        vertical-align: top;\n",
              "    }\n",
              "\n",
              "    .dataframe thead th {\n",
              "        text-align: right;\n",
              "    }\n",
              "</style>\n",
              "<table border=\"1\" class=\"dataframe\">\n",
              "  <thead>\n",
              "    <tr style=\"text-align: right;\">\n",
              "      <th></th>\n",
              "      <th>Pclass</th>\n",
              "      <th>Sex</th>\n",
              "      <th>Cabin</th>\n",
              "      <th>Embarked</th>\n",
              "      <th>Title_num</th>\n",
              "      <th>Age_cat</th>\n",
              "      <th>Family_size</th>\n",
              "      <th>Fare_cat</th>\n",
              "    </tr>\n",
              "  </thead>\n",
              "  <tbody>\n",
              "    <tr>\n",
              "      <th>0</th>\n",
              "      <td>3</td>\n",
              "      <td>1</td>\n",
              "      <td>7</td>\n",
              "      <td>1</td>\n",
              "      <td>0</td>\n",
              "      <td>1</td>\n",
              "      <td>0</td>\n",
              "      <td>0</td>\n",
              "    </tr>\n",
              "    <tr>\n",
              "      <th>1</th>\n",
              "      <td>3</td>\n",
              "      <td>0</td>\n",
              "      <td>7</td>\n",
              "      <td>2</td>\n",
              "      <td>2</td>\n",
              "      <td>2</td>\n",
              "      <td>1</td>\n",
              "      <td>0</td>\n",
              "    </tr>\n",
              "    <tr>\n",
              "      <th>2</th>\n",
              "      <td>2</td>\n",
              "      <td>1</td>\n",
              "      <td>7</td>\n",
              "      <td>1</td>\n",
              "      <td>0</td>\n",
              "      <td>1</td>\n",
              "      <td>0</td>\n",
              "      <td>1</td>\n",
              "    </tr>\n",
              "    <tr>\n",
              "      <th>3</th>\n",
              "      <td>3</td>\n",
              "      <td>1</td>\n",
              "      <td>7</td>\n",
              "      <td>2</td>\n",
              "      <td>0</td>\n",
              "      <td>2</td>\n",
              "      <td>0</td>\n",
              "      <td>1</td>\n",
              "    </tr>\n",
              "    <tr>\n",
              "      <th>4</th>\n",
              "      <td>3</td>\n",
              "      <td>0</td>\n",
              "      <td>7</td>\n",
              "      <td>2</td>\n",
              "      <td>2</td>\n",
              "      <td>2</td>\n",
              "      <td>2</td>\n",
              "      <td>1</td>\n",
              "    </tr>\n",
              "    <tr>\n",
              "      <th>...</th>\n",
              "      <td>...</td>\n",
              "      <td>...</td>\n",
              "      <td>...</td>\n",
              "      <td>...</td>\n",
              "      <td>...</td>\n",
              "      <td>...</td>\n",
              "      <td>...</td>\n",
              "      <td>...</td>\n",
              "    </tr>\n",
              "    <tr>\n",
              "      <th>413</th>\n",
              "      <td>3</td>\n",
              "      <td>1</td>\n",
              "      <td>7</td>\n",
              "      <td>2</td>\n",
              "      <td>0</td>\n",
              "      <td>1</td>\n",
              "      <td>0</td>\n",
              "      <td>1</td>\n",
              "    </tr>\n",
              "    <tr>\n",
              "      <th>414</th>\n",
              "      <td>1</td>\n",
              "      <td>0</td>\n",
              "      <td>2</td>\n",
              "      <td>0</td>\n",
              "      <td>3</td>\n",
              "      <td>2</td>\n",
              "      <td>0</td>\n",
              "      <td>3</td>\n",
              "    </tr>\n",
              "    <tr>\n",
              "      <th>415</th>\n",
              "      <td>3</td>\n",
              "      <td>1</td>\n",
              "      <td>7</td>\n",
              "      <td>2</td>\n",
              "      <td>0</td>\n",
              "      <td>2</td>\n",
              "      <td>0</td>\n",
              "      <td>0</td>\n",
              "    </tr>\n",
              "    <tr>\n",
              "      <th>416</th>\n",
              "      <td>3</td>\n",
              "      <td>1</td>\n",
              "      <td>7</td>\n",
              "      <td>2</td>\n",
              "      <td>0</td>\n",
              "      <td>2</td>\n",
              "      <td>0</td>\n",
              "      <td>1</td>\n",
              "    </tr>\n",
              "    <tr>\n",
              "      <th>417</th>\n",
              "      <td>3</td>\n",
              "      <td>1</td>\n",
              "      <td>7</td>\n",
              "      <td>0</td>\n",
              "      <td>3</td>\n",
              "      <td>1</td>\n",
              "      <td>2</td>\n",
              "      <td>2</td>\n",
              "    </tr>\n",
              "  </tbody>\n",
              "</table>\n",
              "<p>418 rows × 8 columns</p>\n",
              "</div>"
            ],
            "text/plain": [
              "     Pclass  Sex  Cabin  Embarked  Title_num  Age_cat  Family_size  Fare_cat\n",
              "0         3    1      7         1          0        1            0         0\n",
              "1         3    0      7         2          2        2            1         0\n",
              "2         2    1      7         1          0        1            0         1\n",
              "3         3    1      7         2          0        2            0         1\n",
              "4         3    0      7         2          2        2            2         1\n",
              "..      ...  ...    ...       ...        ...      ...          ...       ...\n",
              "413       3    1      7         2          0        1            0         1\n",
              "414       1    0      2         0          3        2            0         3\n",
              "415       3    1      7         2          0        2            0         0\n",
              "416       3    1      7         2          0        2            0         1\n",
              "417       3    1      7         0          3        1            2         2\n",
              "\n",
              "[418 rows x 8 columns]"
            ]
          },
          "metadata": {
            "tags": []
          },
          "execution_count": 68
        }
      ]
    },
    {
      "cell_type": "code",
      "metadata": {
        "id": "T2bvi6t1ljST"
      },
      "source": [
        "prediction = svc_clf.predict(titanic_test)"
      ],
      "execution_count": null,
      "outputs": []
    },
    {
      "cell_type": "code",
      "metadata": {
        "id": "uCYicZkW_VTa"
      },
      "source": [
        "test_Passenger = pd.read_csv('test.csv')\n",
        "submission = pd.DataFrame({\"PassengerId\":test_Passenger[\"PassengerId\"], \"Survived\" : prediction})\n",
        "submission.to_csv('submission(svc).csv', index=False)"
      ],
      "execution_count": null,
      "outputs": []
    },
    {
      "cell_type": "code",
      "metadata": {
        "id": "o7sbREYO4DVg",
        "colab": {
          "base_uri": "https://localhost:8080/",
          "height": 297
        },
        "outputId": "9dc3e87e-5c8e-444e-e58d-ccf1d5fa8ecb"
      },
      "source": [
        "submission = pd.read_csv('gender_submission.csv')\n",
        "print(submission)\n",
        "print(submission.shape)"
      ],
      "execution_count": null,
      "outputs": [
        {
          "output_type": "stream",
          "text": [
            "     PassengerId  Survived\n",
            "0            892         0\n",
            "1            893         1\n",
            "2            894         0\n",
            "3            895         0\n",
            "4            896         1\n",
            "..           ...       ...\n",
            "413         1305         0\n",
            "414         1306         1\n",
            "415         1307         0\n",
            "416         1308         0\n",
            "417         1309         0\n",
            "\n",
            "[418 rows x 2 columns]\n",
            "(418, 2)\n"
          ],
          "name": "stdout"
        }
      ]
    },
    {
      "cell_type": "code",
      "metadata": {
        "id": "tim3g5I3636U"
      },
      "source": [
        ""
      ],
      "execution_count": null,
      "outputs": []
    }
  ]
}